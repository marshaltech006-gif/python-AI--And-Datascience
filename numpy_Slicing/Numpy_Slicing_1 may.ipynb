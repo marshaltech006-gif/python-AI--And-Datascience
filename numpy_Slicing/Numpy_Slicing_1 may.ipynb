{
 "cells": [
  {
   "cell_type": "markdown",
   "id": "53165dd8-6de4-4629-909a-a4a03efdc878",
   "metadata": {},
   "source": [
    "Slicing in matrix\n",
    "--------------------\n"
   ]
  },
  {
   "cell_type": "code",
   "execution_count": 1,
   "id": "3c82f926-d806-4be2-b302-989a9bf32f66",
   "metadata": {},
   "outputs": [],
   "source": [
    "import numpy as np\n"
   ]
  },
  {
   "cell_type": "code",
   "execution_count": 2,
   "id": "a6a3f2ba-2a70-4575-85d8-325c721d362e",
   "metadata": {},
   "outputs": [],
   "source": [
    "b=np.random.randint(10,20,(5,4))"
   ]
  },
  {
   "cell_type": "code",
   "execution_count": 3,
   "id": "74ff227b-1427-416a-a139-de445b10fee0",
   "metadata": {},
   "outputs": [
    {
     "data": {
      "text/plain": [
       "array([[12, 10, 11, 12],\n",
       "       [18, 16, 15, 14],\n",
       "       [19, 16, 16, 13],\n",
       "       [14, 16, 13, 15],\n",
       "       [10, 19, 10, 14]])"
      ]
     },
     "execution_count": 3,
     "metadata": {},
     "output_type": "execute_result"
    }
   ],
   "source": [
    "b"
   ]
  },
  {
   "cell_type": "code",
   "execution_count": 4,
   "id": "394b79fd-8f8f-4c25-9247-be44973a8b51",
   "metadata": {},
   "outputs": [
    {
     "data": {
      "text/plain": [
       "numpy.ndarray"
      ]
     },
     "execution_count": 4,
     "metadata": {},
     "output_type": "execute_result"
    }
   ],
   "source": [
    "type(b)"
   ]
  },
  {
   "cell_type": "code",
   "execution_count": 5,
   "id": "aa04e6fe-0826-468a-8d8a-0f6791d48a67",
   "metadata": {},
   "outputs": [
    {
     "data": {
      "text/plain": [
       "array([[12, 10, 11, 12],\n",
       "       [18, 16, 15, 14],\n",
       "       [19, 16, 16, 13],\n",
       "       [14, 16, 13, 15],\n",
       "       [10, 19, 10, 14]])"
      ]
     },
     "execution_count": 5,
     "metadata": {},
     "output_type": "execute_result"
    }
   ],
   "source": [
    "b[:]"
   ]
  },
  {
   "cell_type": "code",
   "execution_count": 6,
   "id": "d988b8a3-d3f1-4753-9f56-0c1bfce4c8bc",
   "metadata": {},
   "outputs": [
    {
     "data": {
      "text/plain": [
       "array([[18, 16, 15, 14],\n",
       "       [19, 16, 16, 13]])"
      ]
     },
     "execution_count": 6,
     "metadata": {},
     "output_type": "execute_result"
    }
   ],
   "source": [
    "b[1:3]"
   ]
  },
  {
   "cell_type": "code",
   "execution_count": 7,
   "id": "dfa25647-d117-4389-b558-8da9f76a531d",
   "metadata": {},
   "outputs": [
    {
     "data": {
      "text/plain": [
       "15"
      ]
     },
     "execution_count": 7,
     "metadata": {},
     "output_type": "execute_result"
    }
   ],
   "source": [
    "b[1,2]"
   ]
  },
  {
   "cell_type": "code",
   "execution_count": 8,
   "id": "6c9ad2c6-abbc-49ee-9d6f-b9f8877887f3",
   "metadata": {},
   "outputs": [
    {
     "data": {
      "text/plain": [
       "array([[12, 10, 11, 12],\n",
       "       [18, 16, 15, 14],\n",
       "       [19, 16, 16, 13],\n",
       "       [14, 16, 13, 15],\n",
       "       [10, 19, 10, 14]])"
      ]
     },
     "execution_count": 8,
     "metadata": {},
     "output_type": "execute_result"
    }
   ],
   "source": [
    "b"
   ]
  },
  {
   "cell_type": "code",
   "execution_count": 9,
   "id": "e7cb024d-4db6-4601-b61f-73bcb1ac5c36",
   "metadata": {},
   "outputs": [
    {
     "data": {
      "text/plain": [
       "14"
      ]
     },
     "execution_count": 9,
     "metadata": {},
     "output_type": "execute_result"
    }
   ],
   "source": [
    "b[1,3]\n"
   ]
  },
  {
   "cell_type": "code",
   "execution_count": 10,
   "id": "a50964f6-af43-4bcc-8b22-8ce78ec0cad0",
   "metadata": {},
   "outputs": [
    {
     "data": {
      "text/plain": [
       "14"
      ]
     },
     "execution_count": 10,
     "metadata": {},
     "output_type": "execute_result"
    }
   ],
   "source": [
    "b[1,-1]"
   ]
  },
  {
   "cell_type": "code",
   "execution_count": 11,
   "id": "e8109635-2e54-4d0d-83f4-06b3843f50e6",
   "metadata": {},
   "outputs": [
    {
     "data": {
      "text/plain": [
       "array([[19, 16, 16, 13]])"
      ]
     },
     "execution_count": 11,
     "metadata": {},
     "output_type": "execute_result"
    }
   ],
   "source": [
    "b[2:3]"
   ]
  },
  {
   "cell_type": "code",
   "execution_count": 12,
   "id": "f94ead02-98d3-48e4-983e-273f166e319f",
   "metadata": {},
   "outputs": [
    {
     "data": {
      "text/plain": [
       "array([[12, 10, 11, 12],\n",
       "       [18, 16, 15, 14],\n",
       "       [19, 16, 16, 13],\n",
       "       [14, 16, 13, 15],\n",
       "       [10, 19, 10, 14]])"
      ]
     },
     "execution_count": 12,
     "metadata": {},
     "output_type": "execute_result"
    }
   ],
   "source": [
    "b"
   ]
  },
  {
   "cell_type": "code",
   "execution_count": 13,
   "id": "778f4a0b-61f1-426a-9182-9c2c8f2b2827",
   "metadata": {},
   "outputs": [
    {
     "data": {
      "text/plain": [
       "11"
      ]
     },
     "execution_count": 13,
     "metadata": {},
     "output_type": "execute_result"
    }
   ],
   "source": [
    "b[0,-2]\n"
   ]
  },
  {
   "cell_type": "code",
   "execution_count": 14,
   "id": "62c82095-07cd-4793-8568-1296a987e251",
   "metadata": {},
   "outputs": [
    {
     "data": {
      "text/plain": [
       "array([[12, 10, 11, 12],\n",
       "       [18, 16, 15, 14],\n",
       "       [19, 16, 16, 13]])"
      ]
     },
     "execution_count": 14,
     "metadata": {},
     "output_type": "execute_result"
    }
   ],
   "source": [
    "b[0:-2]"
   ]
  },
  {
   "cell_type": "code",
   "execution_count": 15,
   "id": "8c7cc4fd-36b2-47d8-a8a5-cf828826c3ce",
   "metadata": {},
   "outputs": [
    {
     "data": {
      "text/plain": [
       "array([[12, 10, 11, 12],\n",
       "       [18, 16, 15, 14],\n",
       "       [19, 16, 16, 13],\n",
       "       [14, 16, 13, 15],\n",
       "       [10, 19, 10, 14]])"
      ]
     },
     "execution_count": 15,
     "metadata": {},
     "output_type": "execute_result"
    }
   ],
   "source": [
    "b"
   ]
  },
  {
   "cell_type": "code",
   "execution_count": 16,
   "id": "6351c8ef-5d61-483c-81ad-f2b874a34ef2",
   "metadata": {},
   "outputs": [
    {
     "data": {
      "text/plain": [
       "11"
      ]
     },
     "execution_count": 16,
     "metadata": {},
     "output_type": "execute_result"
    }
   ],
   "source": [
    "b[0,2]"
   ]
  },
  {
   "cell_type": "code",
   "execution_count": 17,
   "id": "349bd862-9c57-401e-9b99-0c01d166e223",
   "metadata": {},
   "outputs": [
    {
     "data": {
      "text/plain": [
       "10"
      ]
     },
     "execution_count": 17,
     "metadata": {},
     "output_type": "execute_result"
    }
   ],
   "source": [
    "b[-5,-3]\n"
   ]
  },
  {
   "cell_type": "code",
   "execution_count": 18,
   "id": "b60a060b-3d9f-4b1e-a3e7-23297329a851",
   "metadata": {},
   "outputs": [
    {
     "data": {
      "text/plain": [
       "array([[12, 10, 11, 12],\n",
       "       [18, 16, 15, 14],\n",
       "       [19, 16, 16, 13],\n",
       "       [14, 16, 13, 15],\n",
       "       [10, 19, 10, 14]])"
      ]
     },
     "execution_count": 18,
     "metadata": {},
     "output_type": "execute_result"
    }
   ],
   "source": [
    "b"
   ]
  },
  {
   "cell_type": "code",
   "execution_count": 19,
   "id": "9013c71a-ffa4-4c1f-a76c-e3deed114733",
   "metadata": {},
   "outputs": [
    {
     "data": {
      "text/plain": [
       "15"
      ]
     },
     "execution_count": 19,
     "metadata": {},
     "output_type": "execute_result"
    }
   ],
   "source": [
    "b[-4,2]"
   ]
  },
  {
   "cell_type": "markdown",
   "id": "013ee745-a21e-40aa-814f-c83e724bf394",
   "metadata": {},
   "source": [
    "operation\n",
    "-----"
   ]
  },
  {
   "cell_type": "code",
   "execution_count": 24,
   "id": "61fdeea7-cd06-4b72-8626-bc75c2a75d5f",
   "metadata": {},
   "outputs": [
    {
     "data": {
      "text/plain": [
       "array([10, 18, 19, 13, 15, 12, 11, 10, 13, 14, 18, 12, 18, 17, 11, 17, 16,\n",
       "       14, 15, 11])"
      ]
     },
     "execution_count": 24,
     "metadata": {},
     "output_type": "execute_result"
    }
   ],
   "source": [
    "a=np.random.randint(10,20,20)\n",
    "a"
   ]
  },
  {
   "cell_type": "code",
   "execution_count": 22,
   "id": "428fd914-5f77-48a1-b3d4-3da93b1c228f",
   "metadata": {},
   "outputs": [
    {
     "data": {
      "text/plain": [
       "'__main__'"
      ]
     },
     "execution_count": 22,
     "metadata": {},
     "output_type": "execute_result"
    }
   ],
   "source": [
    "__name__"
   ]
  },
  {
   "cell_type": "code",
   "execution_count": 29,
   "id": "fc234345-5415-4f88-9c55-75425ec11c7b",
   "metadata": {},
   "outputs": [
    {
     "data": {
      "text/plain": [
       "array([[48, 78,  5, 42, 69, 51, 41, 77, 55, 52],\n",
       "       [ 6, 41, 56, 91, 12, 28, 40, 88,  5, 52],\n",
       "       [24, 80, 54, 54, 88, 51, 14, 90, 44, 55],\n",
       "       [66, 20, 32, 82, 73, 31, 84,  6, 60, 58],\n",
       "       [90, 35, 59, 31, 53,  5, 54, 13, 13, 13],\n",
       "       [33, 88, 38, 37, 33, 31, 85, 89, 94, 93],\n",
       "       [ 8, 47,  6, 77, 96, 11, 28, 52, 28, 20],\n",
       "       [30, 54, 12, 35, 40, 28, 99, 78, 97, 79],\n",
       "       [95,  0, 63, 81, 80, 71, 46, 50, 95, 30],\n",
       "       [80, 44, 73,  2, 10, 76, 17, 51, 68, 59]])"
      ]
     },
     "execution_count": 29,
     "metadata": {},
     "output_type": "execute_result"
    }
   ],
   "source": [
    "arr2=np.random.randint(0,100,(10,10))\n",
    "arr2"
   ]
  },
  {
   "cell_type": "code",
   "execution_count": 30,
   "id": "05bfedee-e181-441a-a90d-f2e44cdebdf7",
   "metadata": {},
   "outputs": [
    {
     "data": {
      "text/plain": [
       "array([41, 40, 14, 84, 54, 85, 28, 99, 46, 17])"
      ]
     },
     "execution_count": 30,
     "metadata": {},
     "output_type": "execute_result"
    }
   ],
   "source": [
    "arr2[:,6]# print Coulum"
   ]
  },
  {
   "cell_type": "code",
   "execution_count": 31,
   "id": "59073329-66df-4f7f-8b7a-6616736d35e0",
   "metadata": {},
   "outputs": [
    {
     "data": {
      "text/plain": [
       "array([ 8, 47,  6, 77, 96, 11, 28, 52, 28, 20])"
      ]
     },
     "execution_count": 31,
     "metadata": {},
     "output_type": "execute_result"
    }
   ],
   "source": [
    "arr2[6,:]"
   ]
  },
  {
   "cell_type": "code",
   "execution_count": 32,
   "id": "04feb6f7-2146-45c7-8ac4-9ddcec340a8d",
   "metadata": {},
   "outputs": [
    {
     "data": {
      "text/plain": [
       "array([ 8, 47,  6, 77, 96, 11, 28, 52, 28, 20])"
      ]
     },
     "execution_count": 32,
     "metadata": {},
     "output_type": "execute_result"
    }
   ],
   "source": [
    "arr2[6]"
   ]
  },
  {
   "cell_type": "code",
   "execution_count": null,
   "id": "aa5c3935-c282-4367-85e9-d1a68325f98c",
   "metadata": {},
   "outputs": [],
   "source": []
  }
 ],
 "metadata": {
  "kernelspec": {
   "display_name": "Python 3 (ipykernel)",
   "language": "python",
   "name": "python3"
  },
  "language_info": {
   "codemirror_mode": {
    "name": "ipython",
    "version": 3
   },
   "file_extension": ".py",
   "mimetype": "text/x-python",
   "name": "python",
   "nbconvert_exporter": "python",
   "pygments_lexer": "ipython3",
   "version": "3.12.7"
  }
 },
 "nbformat": 4,
 "nbformat_minor": 5
}
