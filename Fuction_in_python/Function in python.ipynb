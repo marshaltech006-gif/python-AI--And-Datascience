{
 "cells": [
  {
   "cell_type": "code",
   "execution_count": 1,
   "id": "701a191e-dfdc-49fc-a57e-3a5df2ff0572",
   "metadata": {},
   "outputs": [],
   "source": [
    "def greet():# here we just define the function \n",
    "    print('good eveining')# print the statement "
   ]
  },
  {
   "cell_type": "code",
   "execution_count": 2,
   "id": "7dbf8526-8ea6-42a4-8a84-12699c087218",
   "metadata": {},
   "outputs": [
    {
     "name": "stdout",
     "output_type": "stream",
     "text": [
      "good eveining\n"
     ]
    }
   ],
   "source": [
    "def greet():# here we just define the function \n",
    "    print('good eveining')# print the statement \n",
    "greet()"
   ]
  },
  {
   "cell_type": "code",
   "execution_count": 5,
   "id": "fcb2b3cb-2b5f-4f0f-875d-2204c4ca7717",
   "metadata": {},
   "outputs": [
    {
     "name": "stdout",
     "output_type": "stream",
     "text": [
      "good eveining\n",
      "good eveining\n",
      "good eveining\n"
     ]
    }
   ],
   "source": [
    "# to print 3 time \n",
    "def greet():# here we just define the function \n",
    "    print('good eveining')# print the statement \n",
    "greet()\n",
    "def greet():# here we just define the function \n",
    "    print('good eveining')# print the statement \n",
    "greet()\n",
    "def greet():# here we just define the function \n",
    "    print('good eveining')# print the statement \n",
    "greet()"
   ]
  },
  {
   "cell_type": "code",
   "execution_count": 7,
   "id": "7316644c-1b7f-4764-9038-b840d0b9a412",
   "metadata": {},
   "outputs": [
    {
     "name": "stdout",
     "output_type": "stream",
     "text": [
      "good eveining\n",
      "\n",
      "good eveining\n",
      "\n",
      "good eveining\n",
      "\n",
      "good eveining\n"
     ]
    }
   ],
   "source": [
    "def greet():# here we just define the function \n",
    "    print('good eveining')# print the statement \n",
    "greet()\n",
    "print()\n",
    "greet()\n",
    "print()\n",
    "greet()\n",
    "print()\n",
    "greet()"
   ]
  },
  {
   "cell_type": "code",
   "execution_count": 8,
   "id": "fbe1b070-963f-4896-856a-6eb794ed6d87",
   "metadata": {},
   "outputs": [
    {
     "name": "stdout",
     "output_type": "stream",
     "text": [
      "11\n"
     ]
    }
   ],
   "source": [
    "def add(x,y):\n",
    "    c=x+y\n",
    "    print(c)\n",
    "\n",
    "add(5,6)"
   ]
  },
  {
   "cell_type": "code",
   "execution_count": 9,
   "id": "e97fa95e-3037-47df-8a66-2c1bba3f2c29",
   "metadata": {},
   "outputs": [
    {
     "ename": "TypeError",
     "evalue": "add() takes 1 positional argument but 2 were given",
     "output_type": "error",
     "traceback": [
      "\u001b[31m---------------------------------------------------------------------------\u001b[39m",
      "\u001b[31mTypeError\u001b[39m                                 Traceback (most recent call last)",
      "\u001b[36mCell\u001b[39m\u001b[36m \u001b[39m\u001b[32mIn[9]\u001b[39m\u001b[32m, line 5\u001b[39m\n\u001b[32m      2\u001b[39m     c=x+y\n\u001b[32m      3\u001b[39m     \u001b[38;5;28mprint\u001b[39m(c)\n\u001b[32m----> \u001b[39m\u001b[32m5\u001b[39m \u001b[43madd\u001b[49m\u001b[43m(\u001b[49m\u001b[32;43m5\u001b[39;49m\u001b[43m,\u001b[49m\u001b[32;43m6\u001b[39;49m\u001b[43m)\u001b[49m\n",
      "\u001b[31mTypeError\u001b[39m: add() takes 1 positional argument but 2 were given"
     ]
    }
   ],
   "source": [
    "def add(x):\n",
    "    c=x+y\n",
    "    print(c)\n",
    "\n",
    "add(5,6)"
   ]
  },
  {
   "cell_type": "code",
   "execution_count": 10,
   "id": "a70defeb-f505-4a43-a8ba-3748d0bf88ab",
   "metadata": {},
   "outputs": [
    {
     "ename": "TypeError",
     "evalue": "add() missing 1 required positional argument: 'z'",
     "output_type": "error",
     "traceback": [
      "\u001b[31m---------------------------------------------------------------------------\u001b[39m",
      "\u001b[31mTypeError\u001b[39m                                 Traceback (most recent call last)",
      "\u001b[36mCell\u001b[39m\u001b[36m \u001b[39m\u001b[32mIn[10]\u001b[39m\u001b[32m, line 5\u001b[39m\n\u001b[32m      2\u001b[39m     c=x+y\n\u001b[32m      3\u001b[39m     \u001b[38;5;28mprint\u001b[39m(c)\n\u001b[32m----> \u001b[39m\u001b[32m5\u001b[39m \u001b[43madd\u001b[49m\u001b[43m(\u001b[49m\u001b[32;43m5\u001b[39;49m\u001b[43m,\u001b[49m\u001b[32;43m6\u001b[39;49m\u001b[43m)\u001b[49m\n",
      "\u001b[31mTypeError\u001b[39m: add() missing 1 required positional argument: 'z'"
     ]
    }
   ],
   "source": [
    "def add(x,y,z):\n",
    "    c=x+y\n",
    "    print(c)\n",
    "\n",
    "add(5,6)"
   ]
  },
  {
   "cell_type": "code",
   "execution_count": 11,
   "id": "221bd0cb-9ed1-441c-93d8-3d5d2e602b3f",
   "metadata": {},
   "outputs": [
    {
     "ename": "TypeError",
     "evalue": "add() takes 2 positional arguments but 3 were given",
     "output_type": "error",
     "traceback": [
      "\u001b[31m---------------------------------------------------------------------------\u001b[39m",
      "\u001b[31mTypeError\u001b[39m                                 Traceback (most recent call last)",
      "\u001b[36mCell\u001b[39m\u001b[36m \u001b[39m\u001b[32mIn[11]\u001b[39m\u001b[32m, line 5\u001b[39m\n\u001b[32m      2\u001b[39m     c=x+y\n\u001b[32m      3\u001b[39m     \u001b[38;5;28mprint\u001b[39m(c)\n\u001b[32m----> \u001b[39m\u001b[32m5\u001b[39m \u001b[43madd\u001b[49m\u001b[43m(\u001b[49m\u001b[32;43m5\u001b[39;49m\u001b[43m,\u001b[49m\u001b[32;43m6\u001b[39;49m\u001b[43m,\u001b[49m\u001b[32;43m7\u001b[39;49m\u001b[43m)\u001b[49m\n",
      "\u001b[31mTypeError\u001b[39m: add() takes 2 positional arguments but 3 were given"
     ]
    }
   ],
   "source": [
    "def add(x,y):\n",
    "    c=x+y\n",
    "    print(c)\n",
    "\n",
    "add(5,6,7)"
   ]
  },
  {
   "cell_type": "code",
   "execution_count": 13,
   "id": "f56acc85-ab62-4a41-b671-2fb6ba3687b3",
   "metadata": {},
   "outputs": [
    {
     "name": "stdout",
     "output_type": "stream",
     "text": [
      "good eveining\n",
      "\n",
      "11\n"
     ]
    }
   ],
   "source": [
    "def greet():\n",
    "    print('good eveining')\n",
    "greet()\n",
    "print()\n",
    "def add(x,y):\n",
    "    c=x+y\n",
    "    print(c)\n",
    "\n",
    "add(5,6)"
   ]
  },
  {
   "cell_type": "code",
   "execution_count": 14,
   "id": "dee129f6-79ce-4839-bfd6-05b4b0111310",
   "metadata": {},
   "outputs": [
    {
     "name": "stdout",
     "output_type": "stream",
     "text": [
      "good eveining\n",
      "\n",
      "11\n"
     ]
    }
   ],
   "source": [
    "# standard way to write \n",
    "def greet():\n",
    "    print('good eveining')\n",
    "def add(x,y):\n",
    "    c=x+y\n",
    "    print(c)\n",
    "    \n",
    "greet()\n",
    "print()\n",
    "add(5,6)"
   ]
  },
  {
   "cell_type": "code",
   "execution_count": 16,
   "id": "27ede411-54a7-4568-9010-5dab43e10302",
   "metadata": {},
   "outputs": [
    {
     "name": "stdout",
     "output_type": "stream",
     "text": [
      "good eveining\n",
      "\n",
      "11\n",
      "-1\n"
     ]
    }
   ],
   "source": [
    "def greet():\n",
    "    print('good eveining')\n",
    "def add(x,y):\n",
    "    c=x+y\n",
    "    print(c)\n",
    "def sub(x,y):\n",
    "     c=x-y\n",
    "     print(c)   \n",
    "greet()\n",
    "print()\n",
    "add(5,6)\n",
    "sub(5,6)"
   ]
  },
  {
   "cell_type": "code",
   "execution_count": 17,
   "id": "7e962c68-cf4b-459d-933e-267cb5e7f3ad",
   "metadata": {},
   "outputs": [
    {
     "data": {
      "text/plain": [
       "11"
      ]
     },
     "execution_count": 17,
     "metadata": {},
     "output_type": "execute_result"
    }
   ],
   "source": [
    "def add(x,y):\n",
    "    c=x+y\n",
    "    return c\n",
    "add(5,6) "
   ]
  },
  {
   "cell_type": "code",
   "execution_count": 19,
   "id": "de15dd55-f86c-40e7-9d62-1d578a0ac128",
   "metadata": {},
   "outputs": [
    {
     "data": {
      "text/plain": [
       "10"
      ]
     },
     "execution_count": 19,
     "metadata": {},
     "output_type": "execute_result"
    }
   ],
   "source": [
    "def add(x,y):\n",
    "    c=x+y\n",
    "    return c\n",
    "def sub(x,y):\n",
    "     d=x-y\n",
    "     return d\n",
    "add(20,10)\n",
    "sub(20,10)"
   ]
  },
  {
   "cell_type": "code",
   "execution_count": 20,
   "id": "3886d83a-0f10-4b8a-9be2-03cac9b180a9",
   "metadata": {},
   "outputs": [
    {
     "name": "stdout",
     "output_type": "stream",
     "text": [
      "30\n",
      "10\n"
     ]
    }
   ],
   "source": [
    "def add(x,y):\n",
    "    c=x+y\n",
    "    return c\n",
    "def sub(x,y):\n",
    "     d=x-y\n",
    "     return d\n",
    "print(add(20,10))\n",
    "print(sub(20,10))"
   ]
  },
  {
   "cell_type": "code",
   "execution_count": 23,
   "id": "3f8f0f2d-2628-45ce-b5e2-49f9152e0792",
   "metadata": {},
   "outputs": [
    {
     "name": "stdout",
     "output_type": "stream",
     "text": [
      "(30, 10)\n"
     ]
    }
   ],
   "source": [
    "def add_sub(x,y):\n",
    "    c=x+y\n",
    "    d=x-y\n",
    "    return c,d\n",
    "print(add_sub(20,10))\n",
    "    "
   ]
  },
  {
   "cell_type": "code",
   "execution_count": 24,
   "id": "49978f90-0259-4663-b428-b3466358864e",
   "metadata": {},
   "outputs": [
    {
     "name": "stdout",
     "output_type": "stream",
     "text": [
      "(30, 10)\n",
      "<class 'tuple'>\n"
     ]
    }
   ],
   "source": [
    "def add_sub(x,y):\n",
    "    c=x+y\n",
    "    d=x-y\n",
    "    return c,d\n",
    "print(add_sub(20,10))\n",
    "result=add_sub(20,10)\n",
    "print(type(result))"
   ]
  },
  {
   "cell_type": "code",
   "execution_count": 30,
   "id": "6ab530ea-cfa6-4078-9ba3-ca9cc7e18b80",
   "metadata": {},
   "outputs": [
    {
     "name": "stdout",
     "output_type": "stream",
     "text": [
      "<class 'int'>\n",
      "<class 'int'>\n",
      "30\n",
      "10\n"
     ]
    }
   ],
   "source": [
    "def add_sub(x,y):\n",
    "    c=x+y\n",
    "    d=x-y\n",
    "    return c,d\n",
    "\n",
    "result1,result2=add_sub(20,10)\n",
    "\n",
    "\n",
    "print(type(result1))\n",
    "print(type(result2))\n",
    "print(result1)\n",
    "print(result2)"
   ]
  },
  {
   "cell_type": "code",
   "execution_count": 51,
   "id": "20282732-090e-4fa3-8bdd-b298822503fe",
   "metadata": {},
   "outputs": [
    {
     "name": "stdout",
     "output_type": "stream",
     "text": [
      "(30, -10)\n",
      "(30, -10)\n",
      "<class 'tuple'>\n",
      "<class 'tuple'>\n"
     ]
    }
   ],
   "source": [
    "def add_sun(x,y):\n",
    "    c=x+y\n",
    "    d=x-y\n",
    "    return c,d\n",
    "\n",
    "result=add_sub(10,20)\n",
    "result1=add_sub(10,20)\n",
    "print(result)\n",
    "print(result1)\n",
    "print(type(result))\n",
    "print(type(result1))\n",
    "\n"
   ]
  },
  {
   "cell_type": "markdown",
   "id": "2f3fd665-f255-4cd8-ba87-49934230ade2",
   "metadata": {},
   "source": [
    "# function has main two concept \n",
    "# without arg\n",
    "# with arg\n",
    "          - this is define in 2 part \n",
    "          - 1 formal arg\n",
    "          -2. Actual arg\n",
    "          - this is devide in 4 part \n",
    "          -possitional arg\n",
    "          -keyword\n",
    "          -default\n",
    "          -variable\n",
    "          "
   ]
  },
  {
   "cell_type": "code",
   "execution_count": 31,
   "id": "7989a088-e686-4524-b8a4-6e38d0e8e5bc",
   "metadata": {},
   "outputs": [
    {
     "data": {
      "text/plain": [
       "8"
      ]
     },
     "execution_count": 31,
     "metadata": {},
     "output_type": "execute_result"
    }
   ],
   "source": [
    "def update(x):\n",
    "    x=8\n",
    "    return x\n",
    "update(10)"
   ]
  },
  {
   "cell_type": "code",
   "execution_count": 32,
   "id": "f03e92d3-75a2-4202-908c-1ea9c3541907",
   "metadata": {},
   "outputs": [
    {
     "name": "stdout",
     "output_type": "stream",
     "text": [
      "8\n",
      "10\n"
     ]
    }
   ],
   "source": [
    "def update(x):\n",
    "    x=8\n",
    "    return x\n",
    "a=10\n",
    "\n",
    "print(update(a))\n",
    "print(a)"
   ]
  },
  {
   "cell_type": "code",
   "execution_count": 52,
   "id": "a85cc2f9-b26a-4de2-86eb-31edd1c35bf9",
   "metadata": {},
   "outputs": [
    {
     "data": {
      "text/plain": [
       "9"
      ]
     },
     "execution_count": 52,
     "metadata": {},
     "output_type": "execute_result"
    }
   ],
   "source": [
    "def add(x,y): # x& y is called formal argument \n",
    "    c=x+y\n",
    "    return c\n",
    "\n",
    "add(4,5)# 4 and 5 is called Actual arguments"
   ]
  },
  {
   "cell_type": "markdown",
   "id": "950552b7-a16f-4cad-bb56-0a858eb80561",
   "metadata": {},
   "source": [
    "# positional argument"
   ]
  },
  {
   "cell_type": "code",
   "execution_count": 54,
   "id": "3db9a40e-7ab3-4044-88d0-3e002ec3630f",
   "metadata": {},
   "outputs": [
    {
     "data": {
      "text/plain": [
       "9"
      ]
     },
     "execution_count": 54,
     "metadata": {},
     "output_type": "execute_result"
    }
   ],
   "source": [
    "\n",
    "def add(x,y): # x& y is called formal argument \n",
    "    c=x+y\n",
    "    return c\n",
    "\n",
    "add(4,5)# 4 and 5 is called Actual arguments"
   ]
  },
  {
   "cell_type": "code",
   "execution_count": 53,
   "id": "f788be0c-305b-440d-ac8b-0a1bfef47a4b",
   "metadata": {},
   "outputs": [
    {
     "ename": "TypeError",
     "evalue": "add() missing 1 required positional argument: 'y'",
     "output_type": "error",
     "traceback": [
      "\u001b[31m---------------------------------------------------------------------------\u001b[39m",
      "\u001b[31mTypeError\u001b[39m                                 Traceback (most recent call last)",
      "\u001b[36mCell\u001b[39m\u001b[36m \u001b[39m\u001b[32mIn[53]\u001b[39m\u001b[32m, line 6\u001b[39m\n\u001b[32m      3\u001b[39m     c=x+y\n\u001b[32m      4\u001b[39m     \u001b[38;5;28;01mreturn\u001b[39;00m c\n\u001b[32m----> \u001b[39m\u001b[32m6\u001b[39m \u001b[43madd\u001b[49m\u001b[43m(\u001b[49m\u001b[32;43m4\u001b[39;49m\u001b[43m)\u001b[49m\n",
      "\u001b[31mTypeError\u001b[39m: add() missing 1 required positional argument: 'y'"
     ]
    }
   ],
   "source": [
    "#positional arg\n",
    "def add(x,y): # x& y is called formal argument \n",
    "    c=x+y\n",
    "    return c\n",
    "\n",
    "add(4)"
   ]
  },
  {
   "cell_type": "code",
   "execution_count": 38,
   "id": "3df82b07-d6ef-4414-a4b2-b644068e320d",
   "metadata": {},
   "outputs": [
    {
     "ename": "TypeError",
     "evalue": "add() takes 1 positional argument but 2 were given",
     "output_type": "error",
     "traceback": [
      "\u001b[31m---------------------------------------------------------------------------\u001b[39m",
      "\u001b[31mTypeError\u001b[39m                                 Traceback (most recent call last)",
      "\u001b[36mCell\u001b[39m\u001b[36m \u001b[39m\u001b[32mIn[38]\u001b[39m\u001b[32m, line 5\u001b[39m\n\u001b[32m      2\u001b[39m     c=x+y\n\u001b[32m      3\u001b[39m     \u001b[38;5;28;01mreturn\u001b[39;00m c\n\u001b[32m----> \u001b[39m\u001b[32m5\u001b[39m \u001b[43madd\u001b[49m\u001b[43m(\u001b[49m\u001b[32;43m4\u001b[39;49m\u001b[43m,\u001b[49m\u001b[32;43m5\u001b[39;49m\u001b[43m)\u001b[49m\n",
      "\u001b[31mTypeError\u001b[39m: add() takes 1 positional argument but 2 were given"
     ]
    }
   ],
   "source": [
    "def add(x): # x& y is called formal argument \n",
    "    c=x+y\n",
    "    return c\n",
    "\n",
    "add(4,5)"
   ]
  },
  {
   "cell_type": "code",
   "execution_count": 39,
   "id": "e9874b07-5951-49ac-948a-f941fe7c8693",
   "metadata": {},
   "outputs": [
    {
     "name": "stdout",
     "output_type": "stream",
     "text": [
      "nit\n",
      "22\n"
     ]
    }
   ],
   "source": [
    "def person(name,age):\n",
    "    print(name)\n",
    "    print(age)\n",
    "\n",
    "person('nit',22)"
   ]
  },
  {
   "cell_type": "code",
   "execution_count": 40,
   "id": "89daf1f6-28b4-4f2c-9f79-d8233e514d26",
   "metadata": {},
   "outputs": [
    {
     "name": "stdout",
     "output_type": "stream",
     "text": [
      "22\n",
      "nit\n"
     ]
    }
   ],
   "source": [
    "def person(name,age):\n",
    "    print(name)\n",
    "    print(age)\n",
    "\n",
    "person(22,'nit')"
   ]
  },
  {
   "cell_type": "code",
   "execution_count": 55,
   "id": "3c79ceb8-9891-4dd2-947a-005ec9b1f311",
   "metadata": {},
   "outputs": [
    {
     "name": "stdout",
     "output_type": "stream",
     "text": [
      "22\n"
     ]
    },
    {
     "ename": "TypeError",
     "evalue": "can only concatenate str (not \"int\") to str",
     "output_type": "error",
     "traceback": [
      "\u001b[31m---------------------------------------------------------------------------\u001b[39m",
      "\u001b[31mTypeError\u001b[39m                                 Traceback (most recent call last)",
      "\u001b[36mCell\u001b[39m\u001b[36m \u001b[39m\u001b[32mIn[55]\u001b[39m\u001b[32m, line 5\u001b[39m\n\u001b[32m      2\u001b[39m     \u001b[38;5;28mprint\u001b[39m(name)\n\u001b[32m      3\u001b[39m     \u001b[38;5;28mprint\u001b[39m(age+\u001b[32m1\u001b[39m)\n\u001b[32m----> \u001b[39m\u001b[32m5\u001b[39m \u001b[43mperson\u001b[49m\u001b[43m(\u001b[49m\u001b[32;43m22\u001b[39;49m\u001b[43m,\u001b[49m\u001b[33;43m'\u001b[39;49m\u001b[33;43mnit\u001b[39;49m\u001b[33;43m'\u001b[39;49m\u001b[43m)\u001b[49m\n",
      "\u001b[36mCell\u001b[39m\u001b[36m \u001b[39m\u001b[32mIn[55]\u001b[39m\u001b[32m, line 3\u001b[39m, in \u001b[36mperson\u001b[39m\u001b[34m(name, age)\u001b[39m\n\u001b[32m      1\u001b[39m \u001b[38;5;28;01mdef\u001b[39;00m\u001b[38;5;250m \u001b[39m\u001b[34mperson\u001b[39m(name,age):\n\u001b[32m      2\u001b[39m     \u001b[38;5;28mprint\u001b[39m(name)\n\u001b[32m----> \u001b[39m\u001b[32m3\u001b[39m     \u001b[38;5;28mprint\u001b[39m(\u001b[43mage\u001b[49m\u001b[43m+\u001b[49m\u001b[32;43m1\u001b[39;49m)\n",
      "\u001b[31mTypeError\u001b[39m: can only concatenate str (not \"int\") to str"
     ]
    }
   ],
   "source": [
    "def person(name,age):\n",
    "    print(name)\n",
    "    print(age+1)\n",
    "\n",
    "person(22,'nit')"
   ]
  },
  {
   "cell_type": "markdown",
   "id": "d9430f28-960b-4650-ac16-d9a852467d23",
   "metadata": {},
   "source": [
    "# keyword arggument"
   ]
  },
  {
   "cell_type": "code",
   "execution_count": 56,
   "id": "364ef430-4527-4cb4-9ba5-7677d19ed97b",
   "metadata": {},
   "outputs": [
    {
     "name": "stdout",
     "output_type": "stream",
     "text": [
      "nit\n",
      "23\n"
     ]
    }
   ],
   "source": [
    "\n",
    "def person(name,age):\n",
    "    print(name)\n",
    "    print(age+1)\n",
    "\n",
    "person(age=22,name='nit')"
   ]
  },
  {
   "cell_type": "code",
   "execution_count": 57,
   "id": "ffa3782d-6538-480f-934b-890fd935eab1",
   "metadata": {},
   "outputs": [
    {
     "ename": "TypeError",
     "evalue": "person() missing 1 required positional argument: 'salary'",
     "output_type": "error",
     "traceback": [
      "\u001b[31m---------------------------------------------------------------------------\u001b[39m",
      "\u001b[31mTypeError\u001b[39m                                 Traceback (most recent call last)",
      "\u001b[36mCell\u001b[39m\u001b[36m \u001b[39m\u001b[32mIn[57]\u001b[39m\u001b[32m, line 5\u001b[39m\n\u001b[32m      2\u001b[39m     \u001b[38;5;28mprint\u001b[39m(name)\n\u001b[32m      3\u001b[39m     \u001b[38;5;28mprint\u001b[39m(age+\u001b[32m1\u001b[39m)\n\u001b[32m----> \u001b[39m\u001b[32m5\u001b[39m \u001b[43mperson\u001b[49m\u001b[43m(\u001b[49m\u001b[43mage\u001b[49m\u001b[43m=\u001b[49m\u001b[32;43m22\u001b[39;49m\u001b[43m,\u001b[49m\u001b[43mname\u001b[49m\u001b[43m=\u001b[49m\u001b[33;43m'\u001b[39;49m\u001b[33;43mnit\u001b[39;49m\u001b[33;43m'\u001b[39;49m\u001b[43m)\u001b[49m\n",
      "\u001b[31mTypeError\u001b[39m: person() missing 1 required positional argument: 'salary'"
     ]
    }
   ],
   "source": [
    "def person(name,age,salary):\n",
    "    print(name)\n",
    "    print(age+1)\n",
    "\n",
    "person(age=22,name='nit')"
   ]
  },
  {
   "cell_type": "code",
   "execution_count": 58,
   "id": "30a78df8-1c6f-45bf-b7a9-9ca4c9a5322c",
   "metadata": {},
   "outputs": [],
   "source": [
    "#default Argument"
   ]
  },
  {
   "cell_type": "code",
   "execution_count": 59,
   "id": "8d380d21-d93c-4692-bb36-bf304c99e98a",
   "metadata": {},
   "outputs": [
    {
     "name": "stdout",
     "output_type": "stream",
     "text": [
      "nit\n",
      "20\n",
      "21\n"
     ]
    }
   ],
   "source": [
    "def person(name, age, age2):\n",
    "    print(name)\n",
    "    print(age)\n",
    "    print(age2)\n",
    "    \n",
    "person(age = 20,  name = 'nit', age2 = 21) \n",
    "\n",
    "#this is called keyword arguments"
   ]
  },
  {
   "cell_type": "code",
   "execution_count": 61,
   "id": "3c55a0f9-0177-4a14-9501-47ac9eda7a14",
   "metadata": {},
   "outputs": [
    {
     "ename": "TypeError",
     "evalue": "person() missing 1 required positional argument: 'age'",
     "output_type": "error",
     "traceback": [
      "\u001b[31m---------------------------------------------------------------------------\u001b[39m",
      "\u001b[31mTypeError\u001b[39m                                 Traceback (most recent call last)",
      "\u001b[36mCell\u001b[39m\u001b[36m \u001b[39m\u001b[32mIn[61]\u001b[39m\u001b[32m, line 5\u001b[39m\n\u001b[32m      2\u001b[39m     \u001b[38;5;28mprint\u001b[39m(name)\n\u001b[32m      3\u001b[39m     \u001b[38;5;28mprint\u001b[39m(age)\n\u001b[32m----> \u001b[39m\u001b[32m5\u001b[39m \u001b[43mperson\u001b[49m\u001b[43m(\u001b[49m\u001b[33;43m'\u001b[39;49m\u001b[33;43mnit\u001b[39;49m\u001b[33;43m'\u001b[39;49m\u001b[43m)\u001b[49m\n",
      "\u001b[31mTypeError\u001b[39m: person() missing 1 required positional argument: 'age'"
     ]
    }
   ],
   "source": [
    "def person(name,age):\n",
    "    print(name)\n",
    "    print(age)\n",
    "\n",
    "person('nit')"
   ]
  },
  {
   "cell_type": "code",
   "execution_count": null,
   "id": "83126776-0a2a-4138-880f-9602580c1669",
   "metadata": {},
   "outputs": [],
   "source": [
    "def person(name,age=18):\n",
    "    print(name)\n",
    "    print(age)\n",
    "\n",
    "person('nit')"
   ]
  }
 ],
 "metadata": {
  "kernelspec": {
   "display_name": "Python 3 (ipykernel)",
   "language": "python",
   "name": "python3"
  },
  "language_info": {
   "codemirror_mode": {
    "name": "ipython",
    "version": 3
   },
   "file_extension": ".py",
   "mimetype": "text/x-python",
   "name": "python",
   "nbconvert_exporter": "python",
   "pygments_lexer": "ipython3",
   "version": "3.12.7"
  }
 },
 "nbformat": 4,
 "nbformat_minor": 5
}
