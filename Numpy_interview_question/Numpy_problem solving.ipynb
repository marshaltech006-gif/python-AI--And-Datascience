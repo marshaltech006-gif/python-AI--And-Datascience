{
 "cells": [
  {
   "cell_type": "code",
   "execution_count": 1,
   "id": "a0ee0c6a",
   "metadata": {},
   "outputs": [],
   "source": [
    "# 1. Convert a multidimensional array to 1D array.\n",
    "#the conversion of a multidimensional array to a 1D array is done using the flatten() method or ravel() method.\n",
    "import numpy as np\n"
   ]
  },
  {
   "cell_type": "code",
   "execution_count": 2,
   "id": "757151b6",
   "metadata": {},
   "outputs": [
    {
     "name": "stdout",
     "output_type": "stream",
     "text": [
      "Original 2D array: [[1 2 3]\n",
      " [4 5 6]\n",
      " [7 8 9]]\n",
      "Flattened array using flatten(): [1 2 3 4 5 6 7 8 9]\n",
      "Flattened array using ravel(): [1 2 3 4 5 6 7 8 9]\n"
     ]
    }
   ],
   "source": [
    "# Create a 2D array\n",
    "array_2d = np.array([[1, 2, 3], [4, 5, 6], [7, 8, 9]])\n",
    "print(\"Original 2D array:\", array_2d)\n",
    "# conversion of a multidimensional array to a 1D array is done using the flatten() method or ravel() method.\n",
    "array_flattened = array_2d.flatten()\n",
    "print(\"Flattened array using flatten():\", array_flattened)\n",
    "#or using ravel() method\n",
    "array_raveled = array_2d.ravel()\n",
    "print(\"Flattened array using ravel():\", array_raveled)"
   ]
  },
  {
   "cell_type": "code",
   "execution_count": null,
   "id": "f77233dc",
   "metadata": {},
   "outputs": [],
   "source": []
  }
 ],
 "metadata": {
  "kernelspec": {
   "display_name": "Python 3",
   "language": "python",
   "name": "python3"
  },
  "language_info": {
   "codemirror_mode": {
    "name": "ipython",
    "version": 3
   },
   "file_extension": ".py",
   "mimetype": "text/x-python",
   "name": "python",
   "nbconvert_exporter": "python",
   "pygments_lexer": "ipython3",
   "version": "3.12.4"
  }
 },
 "nbformat": 4,
 "nbformat_minor": 5
}
