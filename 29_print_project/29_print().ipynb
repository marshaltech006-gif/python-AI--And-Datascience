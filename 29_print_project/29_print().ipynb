{
 "cells": [
  {
   "cell_type": "code",
   "execution_count": 1,
   "id": "2b77bfeb-ca46-4c44-aaec-b6fd0959ccf4",
   "metadata": {},
   "outputs": [],
   "source": [
    "#print is use for answer"
   ]
  },
  {
   "cell_type": "code",
   "execution_count": 2,
   "id": "2109714f-31aa-491d-b266-810b2e659e8b",
   "metadata": {},
   "outputs": [
    {
     "data": {
      "text/plain": [
       "20"
      ]
     },
     "execution_count": 2,
     "metadata": {},
     "output_type": "execute_result"
    }
   ],
   "source": [
    "a=10\n",
    "b=20\n",
    "a\n",
    "b"
   ]
  },
  {
   "cell_type": "code",
   "execution_count": 3,
   "id": "75c610af-d0fa-47a2-9d8f-9f2f6dc43963",
   "metadata": {},
   "outputs": [
    {
     "name": "stdout",
     "output_type": "stream",
     "text": [
      "10\n",
      "10 20\n",
      "python\n",
      "10 20 python\n"
     ]
    }
   ],
   "source": [
    " print(10)\n",
    "print(10,20)\n",
    "print('python')\n",
    "print(10,20,'python')\n",
    "      "
   ]
  },
  {
   "cell_type": "code",
   "execution_count": 4,
   "id": "66521d92-9d95-4921-bf2e-0160f624962d",
   "metadata": {},
   "outputs": [
    {
     "name": "stdout",
     "output_type": "stream",
     "text": [
      "50\n"
     ]
    }
   ],
   "source": [
    "num1=20\n",
    "num2=30\n",
    "add=num1+num2\n",
    "print(add)"
   ]
  },
  {
   "cell_type": "markdown",
   "id": "9724c005-90c6-4e31-923c-21a3abd79c2a",
   "metadata": {},
   "source": [
    "**print result with string**\n",
    "-----------------------------------"
   ]
  },
  {
   "cell_type": "code",
   "execution_count": 5,
   "id": "fd282ecd-4fd8-4029-a93c-fbd380f259e0",
   "metadata": {},
   "outputs": [
    {
     "name": "stdout",
     "output_type": "stream",
     "text": [
      "The Addition of 20 and 30 is= 50\n"
     ]
    }
   ],
   "source": [
    "num1=20\n",
    "num2=30\n",
    "add=num1+num2\n",
    "print('The Addition of',num1,'and',num2,'is=',add)"
   ]
  },
  {
   "cell_type": "code",
   "execution_count": 7,
   "id": "0dcae0f1-0245-4c25-adf4-e5d0372d8dd3",
   "metadata": {},
   "outputs": [],
   "source": [
    "name='Python'\n",
    "age=20\n",
    "city='hyd'\n",
    "#hellow my name is python and i am 10 year old from hydrabad"
   ]
  },
  {
   "cell_type": "code",
   "execution_count": 10,
   "id": "1a45330d-899b-4911-b8ec-09ae78a1c26c",
   "metadata": {},
   "outputs": [
    {
     "name": "stdout",
     "output_type": "stream",
     "text": [
      "My name is Python and i am 20 year old from  hyd\n"
     ]
    }
   ],
   "source": [
    "print('My name is',name,'and i am',age,'year old from ',city)"
   ]
  },
  {
   "cell_type": "markdown",
   "id": "00b808ca-806f-4763-959e-a59ffa22ac57",
   "metadata": {},
   "source": [
    "**Print Format Method**\n",
    "------------------------------------"
   ]
  },
  {
   "cell_type": "code",
   "execution_count": 11,
   "id": "04863946-42d7-4825-b922-6b0280b9003a",
   "metadata": {},
   "outputs": [
    {
     "name": "stdout",
     "output_type": "stream",
     "text": [
      "The addition of 20 and 30 =50\n"
     ]
    }
   ],
   "source": [
    "num1=20\n",
    "num2=30\n",
    "add=num1+num2\n",
    "print('The addition of {} and {} ={}'.format(num1,num2,add))"
   ]
  },
  {
   "cell_type": "code",
   "execution_count": 12,
   "id": "2fc27a96-aae5-4788-89e0-97d4ad203b2d",
   "metadata": {},
   "outputs": [],
   "source": [
    "name='Python'\n",
    "age=20\n",
    "city='hyd'\n",
    "#hellow my name is python and i am 10 year old from hydrabad"
   ]
  },
  {
   "cell_type": "code",
   "execution_count": 14,
   "id": "0b8e33d2-e600-4d71-917b-1f1d810be5ac",
   "metadata": {},
   "outputs": [
    {
     "name": "stdout",
     "output_type": "stream",
     "text": [
      "My name is Python and i am 20 year old from hyd\n"
     ]
    }
   ],
   "source": [
    "print('My name is {} and i am {} year old from {}'.format(name,age,city))"
   ]
  },
  {
   "cell_type": "code",
   "execution_count": 16,
   "id": "8a9228b0-3f13-4a87-a462-54d2b6558d46",
   "metadata": {},
   "outputs": [
    {
     "name": "stdout",
     "output_type": "stream",
     "text": [
      "The avrage of 100, 25, and 333 is= 152.66666666666666 or 152.67\n"
     ]
    }
   ],
   "source": [
    "num1=100\n",
    "num2=25 \n",
    "num3=333\n",
    "avg=(num1+num2+num3)/3 # or we can use avg=round(num1+num2+num3)/3,2)\n",
    "avg1=round((num1+num2+num3)/3,2)\n",
    "# The avrage of num1,num2,num3 is = avg\n",
    "print('The avrage of {}, {}, and {} is= {} or {}'.format(num1,num2,num3, avg,avg1)) # here we can use round(avg,2) also"
   ]
  },
  {
   "cell_type": "markdown",
   "id": "d242fd49-7687-4494-ae2c-57b30c6be44c",
   "metadata": {},
   "source": [
    "**We can Apply F-string also which is good practice to define**\n",
    "-------------------------------------------------------------"
   ]
  },
  {
   "cell_type": "code",
   "execution_count": 21,
   "id": "ab048f2a-b04b-439c-bca8-5c62e0784a96",
   "metadata": {},
   "outputs": [
    {
     "name": "stdout",
     "output_type": "stream",
     "text": [
      "sum of 20 and 30 = 50\n"
     ]
    }
   ],
   "source": [
    "num1=20\n",
    "num2=30\n",
    "add=num1+num2\n",
    "print(f'sum of {num1} and {num2} = {add}')\n"
   ]
  },
  {
   "cell_type": "code",
   "execution_count": 22,
   "id": "5f07b77f-698d-44eb-9ad0-f1fc24f8f76a",
   "metadata": {},
   "outputs": [
    {
     "name": "stdout",
     "output_type": "stream",
     "text": [
      "My name is Python and i am 20 year old from hyd\n"
     ]
    }
   ],
   "source": [
    "name='Python'\n",
    "age=20\n",
    "city='hyd'\n",
    "#hellow my name is python and i am 10 year old from hydrabad\n",
    "print(f'My name is {name} and i am {age} year old from {city}')"
   ]
  },
  {
   "cell_type": "markdown",
   "id": "b177f52c-abba-4ef3-9c9d-00808b041526",
   "metadata": {},
   "source": [
    "**let combine All**"
   ]
  },
  {
   "cell_type": "code",
   "execution_count": 23,
   "id": "2ee98ee2-da2d-4cee-a83a-71681fa7a071",
   "metadata": {},
   "outputs": [
    {
     "name": "stdout",
     "output_type": "stream",
     "text": [
      "The addition of 10 and 20 is= 30\n",
      "The addition of 10 and 20 is= 30\n",
      "The addition of 10 and 20 is= 30\n"
     ]
    }
   ],
   "source": [
    "num1=10\n",
    "num2=20\n",
    "add = num1+ num2\n",
    "print('The addition of',num1,'and',num2,'is=',add)\n",
    "print('The addition of {} and {} is= {}'.format(num1,num2,add)) \n",
    "print(f'The addition of {num1} and {num2} is= {add}')"
   ]
  },
  {
   "cell_type": "markdown",
   "id": "ddb5e884-59e6-4915-8dfe-ec93243b7698",
   "metadata": {},
   "source": [
    "**end Statement**\n",
    "---------------------"
   ]
  },
  {
   "cell_type": "code",
   "execution_count": 25,
   "id": "04d42fe8-1975-479e-aebd-d1f8f8fd56f0",
   "metadata": {},
   "outputs": [
    {
     "name": "stdout",
     "output_type": "stream",
     "text": [
      "hello\n",
      "good morning\n"
     ]
    }
   ],
   "source": [
    "print('hello')\n",
    "print('good morning')"
   ]
  },
  {
   "cell_type": "code",
   "execution_count": 28,
   "id": "ede29481-6a5a-4d1f-863d-85acee441105",
   "metadata": {},
   "outputs": [
    {
     "name": "stdout",
     "output_type": "stream",
     "text": [
      "hello good morning\n"
     ]
    }
   ],
   "source": [
    "print('hello',end=' ')##Here we will use end statement that joint line from end of one string to starting of other string\n",
    "print('good morning')"
   ]
  },
  {
   "cell_type": "markdown",
   "id": "5f1ee0ac-61d3-4868-a360-830eed7eb329",
   "metadata": {},
   "source": [
    "**Seprator**\n",
    "-------------------------\n",
    ".here one print statement only we use\n",
    "----------------------------------------\n",
    ".inside one print statement we have multipal values\n",
    "-----------------------------------------------------\n",
    ".we want to seperate these multipal values with anything\n",
    "--------"
   ]
  },
  {
   "cell_type": "code",
   "execution_count": 29,
   "id": "a8f9ac2d-d55a-42c8-bdbc-4adfec127c16",
   "metadata": {},
   "outputs": [
    {
     "name": "stdout",
     "output_type": "stream",
     "text": [
      "hello--World--how are you\n"
     ]
    }
   ],
   "source": [
    "print('hello','World','how are you',sep='--')"
   ]
  },
  {
   "cell_type": "code",
   "execution_count": 31,
   "id": "9986e4b3-8230-45ed-9af3-5c8ffd302a73",
   "metadata": {},
   "outputs": [
    {
     "name": "stdout",
     "output_type": "stream",
     "text": [
      "hello&hai&how are you\n"
     ]
    }
   ],
   "source": [
    "print('hello','hai','how are you',sep='&')"
   ]
  },
  {
   "cell_type": "code",
   "execution_count": 32,
   "id": "f4f03d14-0528-4413-b87c-eb61f0308a91",
   "metadata": {},
   "outputs": [
    {
     "name": "stdout",
     "output_type": "stream",
     "text": [
      "hello  World  how are you\n"
     ]
    }
   ],
   "source": [
    "print('hello','World','how are you',sep='  ')"
   ]
  },
  {
   "cell_type": "code",
   "execution_count": 33,
   "id": "dd9fa527-5a30-4e1a-b7c0-d33ee12e6983",
   "metadata": {},
   "outputs": [
    {
     "name": "stdout",
     "output_type": "stream",
     "text": [
      "3 .\n"
     ]
    }
   ],
   "source": [
    "print(3,'.') # . is far from 3 so here we will use sep method"
   ]
  },
  {
   "cell_type": "code",
   "execution_count": 36,
   "id": "bcd90b44-bf22-448b-a47d-d567fa0c903c",
   "metadata": {},
   "outputs": [
    {
     "name": "stdout",
     "output_type": "stream",
     "text": [
      "3.\n"
     ]
    }
   ],
   "source": [
    "print(3,'.',sep='') # see now space setteld(also use to remove space B/W words)"
   ]
  },
  {
   "cell_type": "code",
   "execution_count": null,
   "id": "dc267183-6112-4523-8c69-7d123118ed9f",
   "metadata": {},
   "outputs": [],
   "source": [
    " print(1,2,end=' ') print(3,'.',sep='') # will print 1 2 3."
   ]
  }
 ],
 "metadata": {
  "kernelspec": {
   "display_name": "Python 3 (ipykernel)",
   "language": "python",
   "name": "python3"
  },
  "language_info": {
   "codemirror_mode": {
    "name": "ipython",
    "version": 3
   },
   "file_extension": ".py",
   "mimetype": "text/x-python",
   "name": "python",
   "nbconvert_exporter": "python",
   "pygments_lexer": "ipython3",
   "version": "3.12.7"
  }
 },
 "nbformat": 4,
 "nbformat_minor": 5
}
