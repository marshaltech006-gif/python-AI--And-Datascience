{
 "cells": [
  {
   "cell_type": "markdown",
   "id": "9a2d4a5d-dad7-4f0a-ae38-0f8a2d47609a",
   "metadata": {},
   "source": [
    "**Manipulating String**\n",
    "  ----------------------\n"
   ]
  },
  {
   "cell_type": "markdown",
   "id": "326ed730-064b-4601-b07a-3b3e5506d6d9",
   "metadata": {},
   "source": [
    "**Escape characters**"
   ]
  },
  {
   "cell_type": "code",
   "execution_count": 1,
   "id": "fd2262dd-282c-4d06-bfba-efa5cfe30d86",
   "metadata": {},
   "outputs": [],
   "source": [
    "#An escape character is created by typing a backslash `\\` followed by the character youwant to insert."
   ]
  },
  {
   "cell_type": "markdown",
   "id": "1dbe0319-2e82-43a6-80b4-3faf39ce07f4",
   "metadata": {},
   "source": [
    "Escape character       \n",
    "-------------------\n",
    "`\\'`      Single quote\n",
    "\n",
    "`\\\"`      Double quote\n",
    "\n",
    "`\\t`      Tab\n",
    "\n",
    "`\\n`      Newline (line break)\n",
    "\n",
    "`\\\\`      Backslash\n",
    "\n",
    "`\\b`      Backspace\n",
    "\n",
    "`\\ooo`    Octal value\n",
    "\n",
    "`\\r`     Carriage Return"
   ]
  },
  {
   "cell_type": "code",
   "execution_count": 3,
   "id": "e6d285bb-176b-41e5-9920-80affd528954",
   "metadata": {},
   "outputs": [
    {
     "name": "stdout",
     "output_type": "stream",
     "text": [
      "hello there!\n",
      "How are you?\n",
      "I'm good\n"
     ]
    }
   ],
   "source": [
    "print(\"hello there!\\nHow are you?\\nI\\'m good\") ## use of newline and single code "
   ]
  },
  {
   "cell_type": "markdown",
   "id": "05393910-32cc-4e0d-bf47-ab58c5ecc22a",
   "metadata": {},
   "source": [
    "**RAW String**\n",
    "------------------"
   ]
  },
  {
   "cell_type": "markdown",
   "id": "6d168e86-7499-4778-8101-036b64169d0b",
   "metadata": {},
   "source": [
    "**A raw string entirely ignores all escape characters and prints any backslash that appearsin the string.**"
   ]
  },
  {
   "cell_type": "code",
   "execution_count": 5,
   "id": "5486619f-d782-4a86-b5e0-666595295e59",
   "metadata": {},
   "outputs": [
    {
     "name": "stdout",
     "output_type": "stream",
     "text": [
      "Hello there!\\nHow are you?\\nI\\'m good.\n"
     ]
    }
   ],
   "source": [
    "print(r\"Hello there!\\nHow are you?\\nI\\'m good.\")# Raw String is mostly used for the regular expression"
   ]
  },
  {
   "cell_type": "markdown",
   "id": "27916b03-16ab-4936-a576-4159040bd202",
   "metadata": {},
   "source": [
    "Multiline Strings\n",
    "---------------------"
   ]
  },
  {
   "cell_type": "code",
   "execution_count": 7,
   "id": "2b3c0c78-b5c0-4747-bfe5-ee3aab2cbfe8",
   "metadata": {},
   "outputs": [
    {
     "data": {
      "text/plain": [
       "\"Dear Alice,\\n...\\n... Eve's cat has been arrested for catnapping,\\n... cat burglary, \\nand extortion\\n...\\n... Sincerely,\\n... Bob\""
      ]
     },
     "execution_count": 7,
     "metadata": {},
     "output_type": "execute_result"
    }
   ],
   "source": [
    "\n",
    "print\n",
    "(\n",
    "\n",
    "\"\"\"Dear Alice,\n",
    "...\n",
    "... Eve's cat has been arrested for catnapping,\n",
    "... cat burglary, \n",
    "and extortion\n",
    "...\n",
    "... Sincerely,\n",
    "... Bob\"\"\"\n",
    ")"
   ]
  },
  {
   "cell_type": "markdown",
   "id": "2a69383f-b04e-47bb-b0cd-1593be2afb6b",
   "metadata": {},
   "source": [
    "Indexing and Slicing strings\n",
    "----------------------------"
   ]
  },
  {
   "cell_type": "code",
   "execution_count": 8,
   "id": "d8e5e71b-e444-4591-8f20-fdf5fb1e1a75",
   "metadata": {},
   "outputs": [],
   "source": [
    "spam='Hello world!'"
   ]
  },
  {
   "cell_type": "code",
   "execution_count": 9,
   "id": "db6d9029-9563-415d-a9a9-1bba1e22faae",
   "metadata": {},
   "outputs": [
    {
     "data": {
      "text/plain": [
       "'H'"
      ]
     },
     "execution_count": 9,
     "metadata": {},
     "output_type": "execute_result"
    }
   ],
   "source": [
    "spam[0]"
   ]
  },
  {
   "cell_type": "code",
   "execution_count": 10,
   "id": "559fa3f7-f115-4314-9d68-5a89e94f0c9a",
   "metadata": {},
   "outputs": [
    {
     "data": {
      "text/plain": [
       "'o'"
      ]
     },
     "execution_count": 10,
     "metadata": {},
     "output_type": "execute_result"
    }
   ],
   "source": [
    "spam[4]\n"
   ]
  },
  {
   "cell_type": "code",
   "execution_count": 11,
   "id": "016ad087-b42c-48e1-b5b5-197266fb42a9",
   "metadata": {},
   "outputs": [
    {
     "data": {
      "text/plain": [
       "'!'"
      ]
     },
     "execution_count": 11,
     "metadata": {},
     "output_type": "execute_result"
    }
   ],
   "source": [
    "spam[-1]\n"
   ]
  },
  {
   "cell_type": "code",
   "execution_count": 12,
   "id": "0c981541-4b2c-4012-b926-d39746199f58",
   "metadata": {},
   "outputs": [
    {
     "data": {
      "text/plain": [
       "'Hello'"
      ]
     },
     "execution_count": 12,
     "metadata": {},
     "output_type": "execute_result"
    }
   ],
   "source": [
    "# Slicing \n",
    "spam[0:5]"
   ]
  },
  {
   "cell_type": "code",
   "execution_count": 13,
   "id": "48025b77-02c4-495e-98bf-a67d6c94de76",
   "metadata": {},
   "outputs": [
    {
     "data": {
      "text/plain": [
       "'world'"
      ]
     },
     "execution_count": 13,
     "metadata": {},
     "output_type": "execute_result"
    }
   ],
   "source": [
    "spam[6:-1]"
   ]
  },
  {
   "cell_type": "code",
   "execution_count": 15,
   "id": "320a28c9-4c41-493d-86ac-5686402b6795",
   "metadata": {},
   "outputs": [
    {
     "data": {
      "text/plain": [
       "'Hello world'"
      ]
     },
     "execution_count": 15,
     "metadata": {},
     "output_type": "execute_result"
    }
   ],
   "source": [
    "spam[:-1]"
   ]
  },
  {
   "cell_type": "code",
   "execution_count": 16,
   "id": "dafa30e8-e830-4fce-aae7-1eb15608a123",
   "metadata": {},
   "outputs": [
    {
     "data": {
      "text/plain": [
       "'!dlrow olleH'"
      ]
     },
     "execution_count": 16,
     "metadata": {},
     "output_type": "execute_result"
    }
   ],
   "source": [
    "spam[::-1] # reverse the string"
   ]
  },
  {
   "cell_type": "code",
   "execution_count": 17,
   "id": "c2d5a07f-b500-4986-bcfc-8c85178925ab",
   "metadata": {},
   "outputs": [
    {
     "data": {
      "text/plain": [
       "True"
      ]
     },
     "execution_count": 17,
     "metadata": {},
     "output_type": "execute_result"
    }
   ],
   "source": [
    "## there is in and not operator \n",
    "'Hello' in 'Hello world'"
   ]
  },
  {
   "cell_type": "code",
   "execution_count": 19,
   "id": "a5eb7f91-e253-4711-9c63-955a2a549b88",
   "metadata": {},
   "outputs": [
    {
     "data": {
      "text/plain": [
       "True"
      ]
     },
     "execution_count": 19,
     "metadata": {},
     "output_type": "execute_result"
    }
   ],
   "source": [
    "'Hello'in'Hello'"
   ]
  },
  {
   "cell_type": "code",
   "execution_count": 20,
   "id": "51d7e29d-02c8-4726-9606-222533cd7d43",
   "metadata": {},
   "outputs": [
    {
     "data": {
      "text/plain": [
       "False"
      ]
     },
     "execution_count": 20,
     "metadata": {},
     "output_type": "execute_result"
    }
   ],
   "source": [
    "'cats' not in 'cats world'"
   ]
  },
  {
   "cell_type": "markdown",
   "id": "885fc3ce-ec50-4413-b629-c7940321cc9f",
   "metadata": {},
   "source": [
    "upper(), lower() and title()\n",
    "-------------------"
   ]
  },
  {
   "cell_type": "code",
   "execution_count": 31,
   "id": "56e61a04-1ba6-4a23-8172-bf62eb266d5f",
   "metadata": {},
   "outputs": [],
   "source": [
    "greet='Hello world!'"
   ]
  },
  {
   "cell_type": "code",
   "execution_count": 32,
   "id": "15ad087b-b5c2-4366-a5fd-a65bd302be69",
   "metadata": {},
   "outputs": [
    {
     "data": {
      "text/plain": [
       "'HELLO WORLD!'"
      ]
     },
     "execution_count": 32,
     "metadata": {},
     "output_type": "execute_result"
    }
   ],
   "source": [
    "greet.upper()"
   ]
  },
  {
   "cell_type": "code",
   "execution_count": 35,
   "id": "66b03d69-f9fa-48c9-bb53-de2bb43626c8",
   "metadata": {},
   "outputs": [
    {
     "data": {
      "text/plain": [
       "'hello world!'"
      ]
     },
     "execution_count": 35,
     "metadata": {},
     "output_type": "execute_result"
    }
   ],
   "source": [
    "greet.lower()"
   ]
  },
  {
   "cell_type": "code",
   "execution_count": 36,
   "id": "609b2352-d748-403a-81fc-7e441b0d5850",
   "metadata": {},
   "outputs": [
    {
     "data": {
      "text/plain": [
       "'Hello World!'"
      ]
     },
     "execution_count": 36,
     "metadata": {},
     "output_type": "execute_result"
    }
   ],
   "source": [
    "greet.title()"
   ]
  },
  {
   "cell_type": "markdown",
   "id": "3fa2d14e-6888-4eef-8e4c-a7fdbf14ea56",
   "metadata": {},
   "source": [
    "## isupper() and islower() methods ##\n",
    "-------------------------------------"
   ]
  },
  {
   "cell_type": "code",
   "execution_count": 38,
   "id": "0a6c92e1-5156-4542-90c5-2ecefbeb5eb3",
   "metadata": {},
   "outputs": [
    {
     "data": {
      "text/plain": [
       "False"
      ]
     },
     "execution_count": 38,
     "metadata": {},
     "output_type": "execute_result"
    }
   ],
   "source": [
    "greet.isupper()"
   ]
  },
  {
   "cell_type": "code",
   "execution_count": 39,
   "id": "b19cd6db-0c97-440a-af38-3f02d7dfc131",
   "metadata": {},
   "outputs": [
    {
     "data": {
      "text/plain": [
       "False"
      ]
     },
     "execution_count": 39,
     "metadata": {},
     "output_type": "execute_result"
    }
   ],
   "source": [
    "greet.islower()"
   ]
  },
  {
   "cell_type": "code",
   "execution_count": 40,
   "id": "6f6ad606-ec30-49cf-b6dd-6ba86d01b690",
   "metadata": {},
   "outputs": [
    {
     "data": {
      "text/plain": [
       "True"
      ]
     },
     "execution_count": 40,
     "metadata": {},
     "output_type": "execute_result"
    }
   ],
   "source": [
    "'HELLO'.isupper()"
   ]
  },
  {
   "cell_type": "markdown",
   "id": "2523f909-73d9-431f-b717-c3b3d5a042f6",
   "metadata": {},
   "source": [
    "The isX string methods\n",
    "-----------------"
   ]
  },
  {
   "cell_type": "markdown",
   "id": "7ae38a1c-0cd8-4623-9605-247e5e600305",
   "metadata": {},
   "source": [
    "**isalpha()   → Returns `True` if the string consists only of letters.  \n",
    "isalnum()   → Returns `True` if the string consists only of letters and numbers.  \n",
    "isdecimal() → Returns `True` if the string consists only of numbers.  \n",
    "isspace()   → Returns `True` if the string consists only of spaces, tabs, and new-lines.  \n",
    "istitle()   → Returns `True` if the string consists only of words that begin with an uppercase letter followed by only lowercase characters.** \n"
   ]
  },
  {
   "cell_type": "markdown",
   "id": "e01bc83a-9a98-4ee8-b4c4-9579816d0a30",
   "metadata": {},
   "source": [
    "startswith() and endswith()\n",
    "-"
   ]
  },
  {
   "cell_type": "code",
   "execution_count": 41,
   "id": "600beeed-cc8e-4e7f-b6bb-f020b1ddea22",
   "metadata": {},
   "outputs": [
    {
     "data": {
      "text/plain": [
       "True"
      ]
     },
     "execution_count": 41,
     "metadata": {},
     "output_type": "execute_result"
    }
   ],
   "source": [
    "'Hello World'.startswith('Hello')"
   ]
  },
  {
   "cell_type": "code",
   "execution_count": 42,
   "id": "96455855-8f6f-4750-ac20-b549b2dbbbe2",
   "metadata": {},
   "outputs": [
    {
     "data": {
      "text/plain": [
       "True"
      ]
     },
     "execution_count": 42,
     "metadata": {},
     "output_type": "execute_result"
    }
   ],
   "source": [
    "'Hello World'.endswith('World')"
   ]
  },
  {
   "cell_type": "code",
   "execution_count": 44,
   "id": "7de701e8-040e-412e-a645-c900a3ac3a6a",
   "metadata": {},
   "outputs": [
    {
     "data": {
      "text/plain": [
       "False"
      ]
     },
     "execution_count": 44,
     "metadata": {},
     "output_type": "execute_result"
    }
   ],
   "source": [
    "'abc123'.startswith('abcdef')"
   ]
  },
  {
   "cell_type": "markdown",
   "id": "761e24d4-a03b-4fb1-9432-f527021a60de",
   "metadata": {},
   "source": [
    "join() and split()\n",
    "----------------------\n",
    "**Join**"
   ]
  },
  {
   "cell_type": "code",
   "execution_count": 46,
   "id": "0f3a4f48-c969-4d77-b222-16b2d039de66",
   "metadata": {},
   "outputs": [
    {
     "data": {
      "text/plain": [
       "'helloRupesh'"
      ]
     },
     "execution_count": 46,
     "metadata": {},
     "output_type": "execute_result"
    }
   ],
   "source": [
    "''.join(['hello','Rupesh'])"
   ]
  },
  {
   "cell_type": "code",
   "execution_count": 48,
   "id": "c01ab489-adb8-453f-8348-e8dcb0e63663",
   "metadata": {},
   "outputs": [
    {
     "data": {
      "text/plain": [
       "'Hello Rupesh'"
      ]
     },
     "execution_count": 48,
     "metadata": {},
     "output_type": "execute_result"
    }
   ],
   "source": [
    "' '.join(['Hello','Rupesh'])"
   ]
  },
  {
   "cell_type": "code",
   "execution_count": 49,
   "id": "9ffe6604-e97b-43e3-a4db-e55249c352a1",
   "metadata": {},
   "outputs": [
    {
     "data": {
      "text/plain": [
       "'Hello-Rupesh'"
      ]
     },
     "execution_count": 49,
     "metadata": {},
     "output_type": "execute_result"
    }
   ],
   "source": [
    "'-'.join(['Hello','Rupesh'])"
   ]
  },
  {
   "cell_type": "code",
   "execution_count": 52,
   "id": "8e29852a-f7e3-425d-b2ae-284e6c52889b",
   "metadata": {},
   "outputs": [
    {
     "data": {
      "text/plain": [
       "['H', 'llo-Rup', 'sh']"
      ]
     },
     "execution_count": 52,
     "metadata": {},
     "output_type": "execute_result"
    }
   ],
   "source": [
    "'Hello-Rupesh'.split('e')"
   ]
  },
  {
   "cell_type": "markdown",
   "id": "9bf795d1-e9a2-4491-b3e0-3be1ed21d107",
   "metadata": {},
   "source": [
    "Justifying text with rjust(), ljust() and center()\n",
    "-"
   ]
  },
  {
   "cell_type": "code",
   "execution_count": 59,
   "id": "f649656e-ddd3-49b3-b064-90087373032b",
   "metadata": {},
   "outputs": [
    {
     "data": {
      "text/plain": [
       "'  hello   '"
      ]
     },
     "execution_count": 59,
     "metadata": {},
     "output_type": "execute_result"
    }
   ],
   "source": [
    "'hello'.center(10)"
   ]
  },
  {
   "cell_type": "code",
   "execution_count": 60,
   "id": "2446ce16-a100-4a3c-ac80-aa3949771a86",
   "metadata": {},
   "outputs": [
    {
     "data": {
      "text/plain": [
       "'     hello'"
      ]
     },
     "execution_count": 60,
     "metadata": {},
     "output_type": "execute_result"
    }
   ],
   "source": [
    "'hello'.rjust(10)"
   ]
  },
  {
   "cell_type": "code",
   "execution_count": 61,
   "id": "c3cbee4c-4075-49e3-8682-47a089dfbe21",
   "metadata": {},
   "outputs": [
    {
     "data": {
      "text/plain": [
       "'hello     '"
      ]
     },
     "execution_count": 61,
     "metadata": {},
     "output_type": "execute_result"
    }
   ],
   "source": [
    "'hello'.ljust(10)"
   ]
  },
  {
   "cell_type": "code",
   "execution_count": 62,
   "id": "66109cc3-dc9c-49c9-be7f-b1a36298e8b2",
   "metadata": {},
   "outputs": [
    {
     "data": {
      "text/plain": [
       "'--hello---'"
      ]
     },
     "execution_count": 62,
     "metadata": {},
     "output_type": "execute_result"
    }
   ],
   "source": [
    "'hello'.center(10,'-')"
   ]
  },
  {
   "cell_type": "code",
   "execution_count": 63,
   "id": "291086e7-e90f-4e92-9438-3a24e8459042",
   "metadata": {},
   "outputs": [
    {
     "data": {
      "text/plain": [
       "'&&hello&&&'"
      ]
     },
     "execution_count": 63,
     "metadata": {},
     "output_type": "execute_result"
    }
   ],
   "source": [
    "'hello'.center(10,'&')"
   ]
  },
  {
   "cell_type": "code",
   "execution_count": 64,
   "id": "7d4c15b9-b122-4d2b-81bb-e7b0a5c63f7d",
   "metadata": {},
   "outputs": [
    {
     "data": {
      "text/plain": [
       "'hello@@@@@'"
      ]
     },
     "execution_count": 64,
     "metadata": {},
     "output_type": "execute_result"
    }
   ],
   "source": [
    "'hello'.ljust(10,'@')"
   ]
  },
  {
   "cell_type": "code",
   "execution_count": 65,
   "id": "f03f3e89-5625-43c3-b945-898ab62afd98",
   "metadata": {},
   "outputs": [
    {
     "data": {
      "text/plain": [
       "'=====hello'"
      ]
     },
     "execution_count": 65,
     "metadata": {},
     "output_type": "execute_result"
    }
   ],
   "source": [
    "'hello'.rjust(10,'=')"
   ]
  },
  {
   "cell_type": "markdown",
   "id": "3e1f0106-0004-4a86-abca-22390f806f56",
   "metadata": {},
   "source": [
    "Removing whitespace with strip(), rstrip(), and lstrip()\n",
    "--------------"
   ]
  },
  {
   "cell_type": "code",
   "execution_count": 66,
   "id": "ba96fce1-5e6e-4c71-87d0-5308ededbc31",
   "metadata": {},
   "outputs": [
    {
     "data": {
      "text/plain": [
       "'this is ram'"
      ]
     },
     "execution_count": 66,
     "metadata": {},
     "output_type": "execute_result"
    }
   ],
   "source": [
    "# this means removal of white space from the given string \n",
    "Smap=\"     this is ram    \"\n",
    "Smap.strip()"
   ]
  },
  {
   "cell_type": "code",
   "execution_count": 68,
   "id": "de1e372f-fe82-4df3-91e7-0c9cc24b00bd",
   "metadata": {},
   "outputs": [
    {
     "data": {
      "text/plain": [
       "'this is ram    '"
      ]
     },
     "execution_count": 68,
     "metadata": {},
     "output_type": "execute_result"
    }
   ],
   "source": [
    "Smap.lstrip()"
   ]
  },
  {
   "cell_type": "code",
   "execution_count": 70,
   "id": "2235a93c-4fdf-4084-b8f1-ef52441b9ace",
   "metadata": {},
   "outputs": [
    {
     "data": {
      "text/plain": [
       "'     this is ram'"
      ]
     },
     "execution_count": 70,
     "metadata": {},
     "output_type": "execute_result"
    }
   ],
   "source": [
    "Smap.rstrip()"
   ]
  },
  {
   "cell_type": "code",
   "execution_count": 76,
   "id": "2f450e28-451e-45be-b48b-8a720ac6d993",
   "metadata": {},
   "outputs": [
    {
     "data": {
      "text/plain": [
       "' ho na ho '"
      ]
     },
     "execution_count": 76,
     "metadata": {},
     "output_type": "execute_result"
    }
   ],
   "source": [
    "Spam='kal ho na ho kal'\n",
    "Spam.strip('kal')"
   ]
  },
  {
   "cell_type": "markdown",
   "id": "934cf0e1-b841-4d69-a9ab-b68b2a22c188",
   "metadata": {},
   "source": [
    "**The Count Method**\n",
    "---------------"
   ]
  },
  {
   "cell_type": "code",
   "execution_count": 77,
   "id": "5a3653e3-a29d-42bf-84bf-39ce5a27cc17",
   "metadata": {},
   "outputs": [
    {
     "data": {
      "text/plain": [
       "4"
      ]
     },
     "execution_count": 77,
     "metadata": {},
     "output_type": "execute_result"
    }
   ],
   "source": [
    "H='Ram Ram Ram Rahim Ram'\n",
    "H.count('Ram')"
   ]
  },
  {
   "cell_type": "code",
   "execution_count": 78,
   "id": "39502ceb-2345-40ad-890e-a49970d7bbfe",
   "metadata": {},
   "outputs": [
    {
     "data": {
      "text/plain": [
       "5"
      ]
     },
     "execution_count": 78,
     "metadata": {},
     "output_type": "execute_result"
    }
   ],
   "source": [
    "H.count('R')"
   ]
  },
  {
   "cell_type": "markdown",
   "id": "1ca8dde3-c12c-435f-ae39-759d90091cfa",
   "metadata": {},
   "source": [
    "Replace \n",
    "---"
   ]
  },
  {
   "cell_type": "code",
   "execution_count": null,
   "id": "3c2581fe-77a5-4610-8bce-ba34fde77ed8",
   "metadata": {},
   "outputs": [],
   "source": []
  }
 ],
 "metadata": {
  "kernelspec": {
   "display_name": "Python 3 (ipykernel)",
   "language": "python",
   "name": "python3"
  },
  "language_info": {
   "codemirror_mode": {
    "name": "ipython",
    "version": 3
   },
   "file_extension": ".py",
   "mimetype": "text/x-python",
   "name": "python",
   "nbconvert_exporter": "python",
   "pygments_lexer": "ipython3",
   "version": "3.12.7"
  }
 },
 "nbformat": 4,
 "nbformat_minor": 5
}
