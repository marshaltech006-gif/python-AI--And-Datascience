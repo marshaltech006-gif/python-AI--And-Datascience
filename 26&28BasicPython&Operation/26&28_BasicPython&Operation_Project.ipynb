{
 "cells": [
  {
   "cell_type": "markdown",
   "id": "618af862-0fe7-4acc-9ecd-7cbb4012556a",
   "metadata": {},
   "source": [
    "**Can be merge String by comma ?**\n",
    "-------------------------------\n",
    "Ans :- yes "
   ]
  },
  {
   "cell_type": "markdown",
   "id": "998bf8d7-f902-477c-b365-bfe8973a6c59",
   "metadata": {},
   "source": [
    "**Underscore(_) :- this means this take previous output.**\n",
    "-------------------------------------------------------------\n",
    "note:- Some of the system it maight not work due to IDE version Compaetibility (google cloab will accept)"
   ]
  },
  {
   "cell_type": "markdown",
   "id": "d12636d1-c19a-407c-b652-94a98ea698c6",
   "metadata": {},
   "source": [
    "**To find Help**\n",
    "------------------"
   ]
  },
  {
   "cell_type": "markdown",
   "id": "1ed8770c-f1a3-4823-9644-a80276ac4be6",
   "metadata": {},
   "source": [
    "**Steps to find  help option --> 1.help()|2.topic|3. search as per requirement| 4- then quit by using keyword \"q\"|5. if you want help on any command then help(list)|| help(tuple)**"
   ]
  },
  {
   "cell_type": "code",
   "execution_count": 1,
   "id": "20c9476b-4fd0-499d-8076-8a900e4a8dd0",
   "metadata": {},
   "outputs": [
    {
     "name": "stdout",
     "output_type": "stream",
     "text": [
      "Welcome to Python 3.12's help utility! If this is your first time using\n",
      "Python, you should definitely check out the tutorial at\n",
      "https://docs.python.org/3.12/tutorial/.\n",
      "\n",
      "Enter the name of any module, keyword, or topic to get help on writing\n",
      "Python programs and using Python modules.  To get a list of available\n",
      "modules, keywords, symbols, or topics, enter \"modules\", \"keywords\",\n",
      "\"symbols\", or \"topics\".\n",
      "\n",
      "Each module also comes with a one-line summary of what it does; to list\n",
      "the modules whose name or summary contain a given string such as \"spam\",\n",
      "enter \"modules spam\".\n",
      "\n",
      "To quit this help utility and return to the interpreter,\n",
      "enter \"q\" or \"quit\".\n",
      "\n"
     ]
    },
    {
     "name": "stdin",
     "output_type": "stream",
     "text": [
      "help>  q\n"
     ]
    },
    {
     "name": "stdout",
     "output_type": "stream",
     "text": [
      "\n",
      "You are now leaving help and returning to the Python interpreter.\n",
      "If you want to ask for help on a particular object directly from the\n",
      "interpreter, you can type \"help(object)\".  Executing \"help('string')\"\n",
      "has the same effect as typing a particular string at the help> prompt.\n"
     ]
    }
   ],
   "source": [
    "help()"
   ]
  },
  {
   "cell_type": "code",
   "execution_count": 2,
   "id": "5a8d8663-313b-41f9-97b0-91f1832b6515",
   "metadata": {},
   "outputs": [
    {
     "name": "stdout",
     "output_type": "stream",
     "text": [
      "Help on class list in module builtins:\n",
      "\n",
      "class list(object)\n",
      " |  list(iterable=(), /)\n",
      " |\n",
      " |  Built-in mutable sequence.\n",
      " |\n",
      " |  If no argument is given, the constructor creates a new empty list.\n",
      " |  The argument must be an iterable if specified.\n",
      " |\n",
      " |  Methods defined here:\n",
      " |\n",
      " |  __add__(self, value, /)\n",
      " |      Return self+value.\n",
      " |\n",
      " |  __contains__(self, key, /)\n",
      " |      Return bool(key in self).\n",
      " |\n",
      " |  __delitem__(self, key, /)\n",
      " |      Delete self[key].\n",
      " |\n",
      " |  __eq__(self, value, /)\n",
      " |      Return self==value.\n",
      " |\n",
      " |  __ge__(self, value, /)\n",
      " |      Return self>=value.\n",
      " |\n",
      " |  __getattribute__(self, name, /)\n",
      " |      Return getattr(self, name).\n",
      " |\n",
      " |  __getitem__(self, index, /)\n",
      " |      Return self[index].\n",
      " |\n",
      " |  __gt__(self, value, /)\n",
      " |      Return self>value.\n",
      " |\n",
      " |  __iadd__(self, value, /)\n",
      " |      Implement self+=value.\n",
      " |\n",
      " |  __imul__(self, value, /)\n",
      " |      Implement self*=value.\n",
      " |\n",
      " |  __init__(self, /, *args, **kwargs)\n",
      " |      Initialize self.  See help(type(self)) for accurate signature.\n",
      " |\n",
      " |  __iter__(self, /)\n",
      " |      Implement iter(self).\n",
      " |\n",
      " |  __le__(self, value, /)\n",
      " |      Return self<=value.\n",
      " |\n",
      " |  __len__(self, /)\n",
      " |      Return len(self).\n",
      " |\n",
      " |  __lt__(self, value, /)\n",
      " |      Return self<value.\n",
      " |\n",
      " |  __mul__(self, value, /)\n",
      " |      Return self*value.\n",
      " |\n",
      " |  __ne__(self, value, /)\n",
      " |      Return self!=value.\n",
      " |\n",
      " |  __repr__(self, /)\n",
      " |      Return repr(self).\n",
      " |\n",
      " |  __reversed__(self, /)\n",
      " |      Return a reverse iterator over the list.\n",
      " |\n",
      " |  __rmul__(self, value, /)\n",
      " |      Return value*self.\n",
      " |\n",
      " |  __setitem__(self, key, value, /)\n",
      " |      Set self[key] to value.\n",
      " |\n",
      " |  __sizeof__(self, /)\n",
      " |      Return the size of the list in memory, in bytes.\n",
      " |\n",
      " |  append(self, object, /)\n",
      " |      Append object to the end of the list.\n",
      " |\n",
      " |  clear(self, /)\n",
      " |      Remove all items from list.\n",
      " |\n",
      " |  copy(self, /)\n",
      " |      Return a shallow copy of the list.\n",
      " |\n",
      " |  count(self, value, /)\n",
      " |      Return number of occurrences of value.\n",
      " |\n",
      " |  extend(self, iterable, /)\n",
      " |      Extend list by appending elements from the iterable.\n",
      " |\n",
      " |  index(self, value, start=0, stop=9223372036854775807, /)\n",
      " |      Return first index of value.\n",
      " |\n",
      " |      Raises ValueError if the value is not present.\n",
      " |\n",
      " |  insert(self, index, object, /)\n",
      " |      Insert object before index.\n",
      " |\n",
      " |  pop(self, index=-1, /)\n",
      " |      Remove and return item at index (default last).\n",
      " |\n",
      " |      Raises IndexError if list is empty or index is out of range.\n",
      " |\n",
      " |  remove(self, value, /)\n",
      " |      Remove first occurrence of value.\n",
      " |\n",
      " |      Raises ValueError if the value is not present.\n",
      " |\n",
      " |  reverse(self, /)\n",
      " |      Reverse *IN PLACE*.\n",
      " |\n",
      " |  sort(self, /, *, key=None, reverse=False)\n",
      " |      Sort the list in ascending order and return None.\n",
      " |\n",
      " |      The sort is in-place (i.e. the list itself is modified) and stable (i.e. the\n",
      " |      order of two equal elements is maintained).\n",
      " |\n",
      " |      If a key function is given, apply it once to each list item and sort them,\n",
      " |      ascending or descending, according to their function values.\n",
      " |\n",
      " |      The reverse flag can be set to sort in descending order.\n",
      " |\n",
      " |  ----------------------------------------------------------------------\n",
      " |  Class methods defined here:\n",
      " |\n",
      " |  __class_getitem__(...)\n",
      " |      See PEP 585\n",
      " |\n",
      " |  ----------------------------------------------------------------------\n",
      " |  Static methods defined here:\n",
      " |\n",
      " |  __new__(*args, **kwargs)\n",
      " |      Create and return a new object.  See help(type) for accurate signature.\n",
      " |\n",
      " |  ----------------------------------------------------------------------\n",
      " |  Data and other attributes defined here:\n",
      " |\n",
      " |  __hash__ = None\n",
      "\n"
     ]
    }
   ],
   "source": [
    "help(list)"
   ]
  },
  {
   "cell_type": "code",
   "execution_count": 3,
   "id": "e5576f50-b4ac-4b96-99c7-8e6533ec3d5c",
   "metadata": {},
   "outputs": [
    {
     "name": "stdout",
     "output_type": "stream",
     "text": [
      "Help on class tuple in module builtins:\n",
      "\n",
      "class tuple(object)\n",
      " |  tuple(iterable=(), /)\n",
      " |\n",
      " |  Built-in immutable sequence.\n",
      " |\n",
      " |  If no argument is given, the constructor returns an empty tuple.\n",
      " |  If iterable is specified the tuple is initialized from iterable's items.\n",
      " |\n",
      " |  If the argument is a tuple, the return value is the same object.\n",
      " |\n",
      " |  Built-in subclasses:\n",
      " |      asyncgen_hooks\n",
      " |      UnraisableHookArgs\n",
      " |\n",
      " |  Methods defined here:\n",
      " |\n",
      " |  __add__(self, value, /)\n",
      " |      Return self+value.\n",
      " |\n",
      " |  __contains__(self, key, /)\n",
      " |      Return bool(key in self).\n",
      " |\n",
      " |  __eq__(self, value, /)\n",
      " |      Return self==value.\n",
      " |\n",
      " |  __ge__(self, value, /)\n",
      " |      Return self>=value.\n",
      " |\n",
      " |  __getattribute__(self, name, /)\n",
      " |      Return getattr(self, name).\n",
      " |\n",
      " |  __getitem__(self, key, /)\n",
      " |      Return self[key].\n",
      " |\n",
      " |  __getnewargs__(self, /)\n",
      " |\n",
      " |  __gt__(self, value, /)\n",
      " |      Return self>value.\n",
      " |\n",
      " |  __hash__(self, /)\n",
      " |      Return hash(self).\n",
      " |\n",
      " |  __iter__(self, /)\n",
      " |      Implement iter(self).\n",
      " |\n",
      " |  __le__(self, value, /)\n",
      " |      Return self<=value.\n",
      " |\n",
      " |  __len__(self, /)\n",
      " |      Return len(self).\n",
      " |\n",
      " |  __lt__(self, value, /)\n",
      " |      Return self<value.\n",
      " |\n",
      " |  __mul__(self, value, /)\n",
      " |      Return self*value.\n",
      " |\n",
      " |  __ne__(self, value, /)\n",
      " |      Return self!=value.\n",
      " |\n",
      " |  __repr__(self, /)\n",
      " |      Return repr(self).\n",
      " |\n",
      " |  __rmul__(self, value, /)\n",
      " |      Return value*self.\n",
      " |\n",
      " |  count(self, value, /)\n",
      " |      Return number of occurrences of value.\n",
      " |\n",
      " |  index(self, value, start=0, stop=9223372036854775807, /)\n",
      " |      Return first index of value.\n",
      " |\n",
      " |      Raises ValueError if the value is not present.\n",
      " |\n",
      " |  ----------------------------------------------------------------------\n",
      " |  Class methods defined here:\n",
      " |\n",
      " |  __class_getitem__(...)\n",
      " |      See PEP 585\n",
      " |\n",
      " |  ----------------------------------------------------------------------\n",
      " |  Static methods defined here:\n",
      " |\n",
      " |  __new__(*args, **kwargs)\n",
      " |      Create and return a new object.  See help(type) for accurate signature.\n",
      "\n"
     ]
    }
   ],
   "source": [
    "help(tuple)"
   ]
  },
  {
   "cell_type": "markdown",
   "id": "356ae81d-60d4-478c-8e48-7bb218b9086f",
   "metadata": {},
   "source": [
    "**Introduce to ID()**\n",
    "--------------------------"
   ]
  },
  {
   "cell_type": "code",
   "execution_count": 4,
   "id": "aa837f7a-023d-4570-8001-2711ecc0f101",
   "metadata": {},
   "outputs": [
    {
     "data": {
      "text/plain": [
       "140704812182072"
      ]
     },
     "execution_count": 4,
     "metadata": {},
     "output_type": "execute_result"
    }
   ],
   "source": [
    "#variable Address\n",
    "num=5\n",
    "id(num)"
   ]
  },
  {
   "cell_type": "code",
   "execution_count": 5,
   "id": "97bdecf4-3b43-415e-be5e-ebffd1b54d07",
   "metadata": {},
   "outputs": [
    {
     "data": {
      "text/plain": [
       "2552681689136"
      ]
     },
     "execution_count": 5,
     "metadata": {},
     "output_type": "execute_result"
    }
   ],
   "source": [
    "num='Rupesh'\n",
    "id(num)"
   ]
  },
  {
   "cell_type": "markdown",
   "id": "7fcf2182-5195-41f6-951d-07f12e7232cb",
   "metadata": {},
   "source": [
    "**NOTE:- this means if change the value of same variable name ,so every time address will change (or id)**"
   ]
  },
  {
   "cell_type": "code",
   "execution_count": 6,
   "id": "18a4620f-d70c-49ca-bd1f-6f0cd4094082",
   "metadata": {},
   "outputs": [
    {
     "data": {
      "text/plain": [
       "140704812182232"
      ]
     },
     "execution_count": 6,
     "metadata": {},
     "output_type": "execute_result"
    }
   ],
   "source": [
    "a=10\n",
    "id(a)"
   ]
  },
  {
   "cell_type": "code",
   "execution_count": 7,
   "id": "09d29f35-44f4-4f83-b518-5144d923a112",
   "metadata": {},
   "outputs": [],
   "source": [
    "b=a#thats why python is more memory efficiency"
   ]
  },
  {
   "cell_type": "code",
   "execution_count": 8,
   "id": "b4ab8ecb-c509-423a-be86-ad878c372a97",
   "metadata": {},
   "outputs": [
    {
     "data": {
      "text/plain": [
       "140704812182232"
      ]
     },
     "execution_count": 8,
     "metadata": {},
     "output_type": "execute_result"
    }
   ],
   "source": [
    "id(b)"
   ]
  },
  {
   "cell_type": "code",
   "execution_count": 9,
   "id": "035b02b5-1799-4264-ac8c-e5c0202f0f01",
   "metadata": {},
   "outputs": [
    {
     "data": {
      "text/plain": [
       "140704812182232"
      ]
     },
     "execution_count": 9,
     "metadata": {},
     "output_type": "execute_result"
    }
   ],
   "source": [
    "k=10\n",
    "id(k)"
   ]
  },
  {
   "cell_type": "code",
   "execution_count": 10,
   "id": "22303704-f878-40b6-a70c-b0ea8838b245",
   "metadata": {},
   "outputs": [],
   "source": [
    "a=20 # as we change the value then address will also change "
   ]
  },
  {
   "cell_type": "code",
   "execution_count": 11,
   "id": "68f6c274-7dde-4009-9094-0bc631543274",
   "metadata": {},
   "outputs": [
    {
     "data": {
      "text/plain": [
       "140704812182552"
      ]
     },
     "execution_count": 11,
     "metadata": {},
     "output_type": "execute_result"
    }
   ],
   "source": [
    "id(a)"
   ]
  },
  {
   "cell_type": "code",
   "execution_count": 12,
   "id": "c2eebbe8-65ba-40be-a330-5e4b7b06a0ca",
   "metadata": {},
   "outputs": [
    {
     "data": {
      "text/plain": [
       "140704812182232"
      ]
     },
     "execution_count": 12,
     "metadata": {},
     "output_type": "execute_result"
    }
   ],
   "source": [
    "id(b)"
   ]
  },
  {
   "cell_type": "markdown",
   "id": "cf4d6837-6630-4c6b-bb55-ac78c45e86f9",
   "metadata": {},
   "source": [
    "**What ever the variable we assigned the memory and we not assigned anywhere then we can use as grabage colleaction .|| CONSTANT-this means we cannot change the value -can we make variable as a contant (NOTE:- in python you cannot make variable as constant)**"
   ]
  },
  {
   "cell_type": "code",
   "execution_count": 14,
   "id": "9b4a6a29-2352-4f4d-a403-0217ec521727",
   "metadata": {},
   "outputs": [
    {
     "data": {
      "text/plain": [
       "3.14"
      ]
     },
     "execution_count": 14,
     "metadata": {},
     "output_type": "execute_result"
    }
   ],
   "source": [
    "PI=3.14 # in math this is always constant but python we can change \n",
    "PI"
   ]
  },
  {
   "cell_type": "code",
   "execution_count": 15,
   "id": "db6902ee-9266-4af7-b6ca-6e5877e8b66e",
   "metadata": {},
   "outputs": [
    {
     "data": {
      "text/plain": [
       "3.18"
      ]
     },
     "execution_count": 15,
     "metadata": {},
     "output_type": "execute_result"
    }
   ],
   "source": [
    "PI=3.18\n",
    "PI"
   ]
  },
  {
   "cell_type": "code",
   "execution_count": 16,
   "id": "7b7c598d-5a16-4004-a1dc-173c30979c35",
   "metadata": {},
   "outputs": [
    {
     "data": {
      "text/plain": [
       "float"
      ]
     },
     "execution_count": 16,
     "metadata": {},
     "output_type": "execute_result"
    }
   ],
   "source": [
    "type(PI)"
   ]
  },
  {
   "cell_type": "markdown",
   "id": "95d6867e-5893-490e-9754-94e21ef9aca4",
   "metadata": {},
   "source": [
    "**Range()**\n",
    "---------------\n"
   ]
  },
  {
   "cell_type": "code",
   "execution_count": 19,
   "id": "8975fa51-6b75-4c92-abb5-e217652cd869",
   "metadata": {},
   "outputs": [
    {
     "data": {
      "text/plain": [
       "range(0, 10)"
      ]
     },
     "execution_count": 19,
     "metadata": {},
     "output_type": "execute_result"
    }
   ],
   "source": [
    "r= range(0,10)\n",
    "r"
   ]
  },
  {
   "cell_type": "code",
   "execution_count": 21,
   "id": "35833493-1441-467e-966a-1290ffe423d2",
   "metadata": {},
   "outputs": [
    {
     "data": {
      "text/plain": [
       "[0, 1, 2, 3, 4, 5, 6, 7, 8, 9]"
      ]
     },
     "execution_count": 21,
     "metadata": {},
     "output_type": "execute_result"
    }
   ],
   "source": [
    "## if you want to print the range \n",
    "list(range(0,10))"
   ]
  },
  {
   "cell_type": "code",
   "execution_count": 24,
   "id": "88fee7aa-d268-4fd8-841e-a1bcacf1a798",
   "metadata": {},
   "outputs": [
    {
     "data": {
      "text/plain": [
       "[0, 1, 2, 3, 4, 5, 6, 7, 8, 9]"
      ]
     },
     "execution_count": 24,
     "metadata": {},
     "output_type": "execute_result"
    }
   ],
   "source": [
    "r1=list(r)\n",
    "r1"
   ]
  },
  {
   "cell_type": "code",
   "execution_count": 26,
   "id": "200ef9fc-5b3a-4ae5-9b71-94b9c64f6055",
   "metadata": {},
   "outputs": [],
   "source": [
    "##if you want to print even using range function\n",
    "even_number=list(range(0,10,2))\n",
    "                 "
   ]
  },
  {
   "cell_type": "code",
   "execution_count": 27,
   "id": "a823b097-3a2a-4996-bd75-9af4f317d30b",
   "metadata": {},
   "outputs": [
    {
     "data": {
      "text/plain": [
       "[0, 2, 4, 6, 8]"
      ]
     },
     "execution_count": 27,
     "metadata": {},
     "output_type": "execute_result"
    }
   ],
   "source": [
    "even_number"
   ]
  },
  {
   "cell_type": "code",
   "execution_count": 29,
   "id": "8ec1032e-29eb-4d48-a16d-77c378e3c6a0",
   "metadata": {},
   "outputs": [
    {
     "data": {
      "text/plain": [
       "{1: 'one', 2: 'two', 3: 'three'}"
      ]
     },
     "execution_count": 29,
     "metadata": {},
     "output_type": "execute_result"
    }
   ],
   "source": [
    "d={1:'one',2:'two',3:'three'}\n",
    "d"
   ]
  },
  {
   "cell_type": "code",
   "execution_count": 30,
   "id": "b15b2fad-ac94-41eb-a51b-15833a320713",
   "metadata": {},
   "outputs": [
    {
     "data": {
      "text/plain": [
       "dict"
      ]
     },
     "execution_count": 30,
     "metadata": {},
     "output_type": "execute_result"
    }
   ],
   "source": [
    "type(d)"
   ]
  },
  {
   "cell_type": "code",
   "execution_count": 31,
   "id": "1d200ec2-f783-45d4-9a05-854969808eb3",
   "metadata": {},
   "outputs": [
    {
     "data": {
      "text/plain": [
       "dict_keys([1, 2, 3])"
      ]
     },
     "execution_count": 31,
     "metadata": {},
     "output_type": "execute_result"
    }
   ],
   "source": [
    "d.keys()"
   ]
  },
  {
   "cell_type": "code",
   "execution_count": 33,
   "id": "1b4b0d70-198f-4f12-862e-88b6c5240b31",
   "metadata": {},
   "outputs": [
    {
     "data": {
      "text/plain": [
       "dict_values(['one', 'two', 'three'])"
      ]
     },
     "execution_count": 33,
     "metadata": {},
     "output_type": "execute_result"
    }
   ],
   "source": [
    "d.values()"
   ]
  },
  {
   "cell_type": "code",
   "execution_count": 35,
   "id": "d52c7699-632e-4397-bb74-83b9582dfcbc",
   "metadata": {},
   "outputs": [
    {
     "data": {
      "text/plain": [
       "'two'"
      ]
     },
     "execution_count": 35,
     "metadata": {},
     "output_type": "execute_result"
    }
   ],
   "source": [
    "## how to get particular value \n",
    "d[2]"
   ]
  },
  {
   "cell_type": "code",
   "execution_count": 37,
   "id": "bc36e54e-fc0c-4efe-8a2a-784aca506d0b",
   "metadata": {},
   "outputs": [
    {
     "data": {
      "text/plain": [
       "'two'"
      ]
     },
     "execution_count": 37,
     "metadata": {},
     "output_type": "execute_result"
    }
   ],
   "source": [
    "d.get(2)# other way to get value "
   ]
  },
  {
   "cell_type": "markdown",
   "id": "89c389e8-0ad0-4b10-a181-8a82f77be477",
   "metadata": {},
   "source": [
    "**Operation's in python**\n",
    "----------------------------"
   ]
  },
  {
   "cell_type": "markdown",
   "id": "8b5968ee-dec3-47fd-9a5d-11c8b1e34b8f",
   "metadata": {},
   "source": [
    "## operator's in python\n",
    "\n",
    "1- ARITHMETIC OPERATOR ( + , -, *, /, %, %%, **, ^\n",
    "2- ASSIGNMEN OPERATOR (=)\n",
    "3- RELATIONAL OPERATOR\n",
    "4- LOGICAL OPERATOR\n",
    "5- UNARY OPERATOR"
   ]
  },
  {
   "cell_type": "markdown",
   "id": "a4ed276b-19d8-41a2-b6d8-05194441e6a2",
   "metadata": {},
   "source": [
    "**Arthmatic operation**\n",
    "------------------------"
   ]
  },
  {
   "cell_type": "code",
   "execution_count": 38,
   "id": "c869c2dd-4f0e-415b-a641-20b8de89458b",
   "metadata": {},
   "outputs": [],
   "source": [
    "x1,y1=10,5\n"
   ]
  },
  {
   "cell_type": "code",
   "execution_count": 39,
   "id": "06ec62bc-1865-4681-b2d0-39b0d67d3547",
   "metadata": {},
   "outputs": [
    {
     "data": {
      "text/plain": [
       "15"
      ]
     },
     "execution_count": 39,
     "metadata": {},
     "output_type": "execute_result"
    }
   ],
   "source": [
    "x1  + y1 "
   ]
  },
  {
   "cell_type": "code",
   "execution_count": 40,
   "id": "b6bfe10a-44aa-461f-afaf-f7cc20b3cdaa",
   "metadata": {},
   "outputs": [
    {
     "data": {
      "text/plain": [
       "5"
      ]
     },
     "execution_count": 40,
     "metadata": {},
     "output_type": "execute_result"
    }
   ],
   "source": [
    "x1  - y1 "
   ]
  },
  {
   "cell_type": "code",
   "execution_count": 41,
   "id": "7ac79516-c813-412a-a863-c426296356dc",
   "metadata": {},
   "outputs": [
    {
     "data": {
      "text/plain": [
       "2.0"
      ]
     },
     "execution_count": 41,
     "metadata": {},
     "output_type": "execute_result"
    }
   ],
   "source": [
    "x1  / y1  ##Value in float after devide "
   ]
  },
  {
   "cell_type": "code",
   "execution_count": 42,
   "id": "2dd3311c-6fc1-4cc4-874a-de6655b664aa",
   "metadata": {},
   "outputs": [
    {
     "data": {
      "text/plain": [
       "2"
      ]
     },
     "execution_count": 42,
     "metadata": {},
     "output_type": "execute_result"
    }
   ],
   "source": [
    "x1  // y1  #interger value "
   ]
  },
  {
   "cell_type": "code",
   "execution_count": 43,
   "id": "f330b12b-dcdc-4591-9fef-f137f611a1ae",
   "metadata": {},
   "outputs": [
    {
     "data": {
      "text/plain": [
       "0"
      ]
     },
     "execution_count": 43,
     "metadata": {},
     "output_type": "execute_result"
    }
   ],
   "source": [
    "x1  % y1 ##remender the both value after devide "
   ]
  },
  {
   "cell_type": "code",
   "execution_count": 44,
   "id": "3508f5a5-606e-49b9-b0ff-e0fecbf5360c",
   "metadata": {},
   "outputs": [
    {
     "data": {
      "text/plain": [
       "100000"
      ]
     },
     "execution_count": 44,
     "metadata": {},
     "output_type": "execute_result"
    }
   ],
   "source": [
    "x1**y1 #expontial value "
   ]
  },
  {
   "cell_type": "code",
   "execution_count": 45,
   "id": "4396b143-4703-4dd4-b1fb-0379a7c84165",
   "metadata": {},
   "outputs": [
    {
     "data": {
      "text/plain": [
       "8"
      ]
     },
     "execution_count": 45,
     "metadata": {},
     "output_type": "execute_result"
    }
   ],
   "source": [
    "2**3"
   ]
  },
  {
   "cell_type": "markdown",
   "id": "3e137ce3-c873-4f0a-8288-d04ac4efcb12",
   "metadata": {},
   "source": [
    "**Assignment Operation**\n",
    "------------------------"
   ]
  },
  {
   "cell_type": "code",
   "execution_count": 59,
   "id": "2a891730-e368-467b-b63c-28f6a5a76a8d",
   "metadata": {},
   "outputs": [],
   "source": [
    "x=2\n"
   ]
  },
  {
   "cell_type": "markdown",
   "id": "ec33c210-bb6d-4c66-8323-8500ab2034f4",
   "metadata": {},
   "source": [
    "x=x+2"
   ]
  },
  {
   "cell_type": "code",
   "execution_count": 60,
   "id": "12c23011-533d-4d63-abf7-d1167288e6e0",
   "metadata": {},
   "outputs": [
    {
     "data": {
      "text/plain": [
       "2"
      ]
     },
     "execution_count": 60,
     "metadata": {},
     "output_type": "execute_result"
    }
   ],
   "source": [
    "x"
   ]
  },
  {
   "cell_type": "code",
   "execution_count": 61,
   "id": "f82b75ae-2293-43be-9369-7704ea744563",
   "metadata": {},
   "outputs": [
    {
     "data": {
      "text/plain": [
       "4"
      ]
     },
     "execution_count": 61,
     "metadata": {},
     "output_type": "execute_result"
    }
   ],
   "source": [
    "x+=2\n",
    "x"
   ]
  },
  {
   "cell_type": "code",
   "execution_count": 62,
   "id": "2568c9eb-f32f-442e-a9f3-d5e6426d6308",
   "metadata": {},
   "outputs": [],
   "source": [
    "x*=2"
   ]
  },
  {
   "cell_type": "code",
   "execution_count": 63,
   "id": "a4cda47f-049c-4c6d-9029-6778e2e037a6",
   "metadata": {},
   "outputs": [
    {
     "data": {
      "text/plain": [
       "8"
      ]
     },
     "execution_count": 63,
     "metadata": {},
     "output_type": "execute_result"
    }
   ],
   "source": [
    "x\n"
   ]
  },
  {
   "cell_type": "code",
   "execution_count": 64,
   "id": "e9544df1-47ba-4416-9075-8ba05be23c07",
   "metadata": {},
   "outputs": [],
   "source": [
    "x-=2"
   ]
  },
  {
   "cell_type": "code",
   "execution_count": 65,
   "id": "04b46c85-2c79-42e6-ad16-246bee3f6fe4",
   "metadata": {},
   "outputs": [
    {
     "data": {
      "text/plain": [
       "6"
      ]
     },
     "execution_count": 65,
     "metadata": {},
     "output_type": "execute_result"
    }
   ],
   "source": [
    "x"
   ]
  },
  {
   "cell_type": "code",
   "execution_count": 66,
   "id": "d664ae05-6e60-40af-9602-3db111168ebf",
   "metadata": {},
   "outputs": [],
   "source": [
    "x/=2"
   ]
  },
  {
   "cell_type": "code",
   "execution_count": 67,
   "id": "926182ca-a08d-40b4-a1c2-418c3c61345d",
   "metadata": {},
   "outputs": [
    {
     "data": {
      "text/plain": [
       "3.0"
      ]
     },
     "execution_count": 67,
     "metadata": {},
     "output_type": "execute_result"
    }
   ],
   "source": [
    "x"
   ]
  },
  {
   "cell_type": "code",
   "execution_count": 68,
   "id": "73af3c13-472c-4a2d-a2a2-f3fa4dfbfa6c",
   "metadata": {},
   "outputs": [],
   "source": [
    "a,b=5,6"
   ]
  },
  {
   "cell_type": "code",
   "execution_count": 69,
   "id": "e399e2b0-9d7b-49c8-b438-e5e24a5647c8",
   "metadata": {},
   "outputs": [
    {
     "data": {
      "text/plain": [
       "5"
      ]
     },
     "execution_count": 69,
     "metadata": {},
     "output_type": "execute_result"
    }
   ],
   "source": [
    "a"
   ]
  },
  {
   "cell_type": "code",
   "execution_count": 71,
   "id": "6e6c2bc6-89c5-47c6-86f8-bca44c7d92ea",
   "metadata": {},
   "outputs": [
    {
     "data": {
      "text/plain": [
       "6"
      ]
     },
     "execution_count": 71,
     "metadata": {},
     "output_type": "execute_result"
    }
   ],
   "source": [
    "b"
   ]
  },
  {
   "cell_type": "markdown",
   "id": "9b83a4b2-ad83-4cf2-9ec8-d6fbbeb9b943",
   "metadata": {},
   "source": [
    "**Unary Operation**\n",
    "------------------------\n",
    "here we are appliying unary minus operation (-) on the operand n; the value of m becomes -7, which indicates it as a negative value."
   ]
  },
  {
   "cell_type": "code",
   "execution_count": 74,
   "id": "0b7d86c4-ef98-46f1-81f6-9b6dc6f3de6e",
   "metadata": {},
   "outputs": [],
   "source": [
    "n=7# negattion"
   ]
  },
  {
   "cell_type": "code",
   "execution_count": 75,
   "id": "8d5a62e9-39e7-48ac-94e9-8be6b1f582b1",
   "metadata": {},
   "outputs": [],
   "source": [
    "m = -(n)"
   ]
  },
  {
   "cell_type": "code",
   "execution_count": 76,
   "id": "cfd32df6-3d4b-4be3-904e-a45fd5bda55f",
   "metadata": {},
   "outputs": [
    {
     "data": {
      "text/plain": [
       "-7"
      ]
     },
     "execution_count": 76,
     "metadata": {},
     "output_type": "execute_result"
    }
   ],
   "source": [
    "m"
   ]
  },
  {
   "cell_type": "markdown",
   "id": "53b9f271-56c7-4702-9f99-1060011a51b7",
   "metadata": {},
   "source": [
    "**Relational operator**\n",
    "----------------------------------------\n",
    "we are using this operator for comparing"
   ]
  },
  {
   "cell_type": "code",
   "execution_count": 46,
   "id": "89ab06b4-f861-4e19-878f-a006c8d8463b",
   "metadata": {},
   "outputs": [],
   "source": [
    "a=5\n",
    "b=7"
   ]
  },
  {
   "cell_type": "code",
   "execution_count": 47,
   "id": "bef8a8ae-7ad1-4582-9763-5faca7c0fcb4",
   "metadata": {},
   "outputs": [
    {
     "data": {
      "text/plain": [
       "False"
      ]
     },
     "execution_count": 47,
     "metadata": {},
     "output_type": "execute_result"
    }
   ],
   "source": [
    "a==b"
   ]
  },
  {
   "cell_type": "code",
   "execution_count": 48,
   "id": "ad4f456b-597f-4208-9545-3214551c6393",
   "metadata": {},
   "outputs": [
    {
     "data": {
      "text/plain": [
       "True"
      ]
     },
     "execution_count": 48,
     "metadata": {},
     "output_type": "execute_result"
    }
   ],
   "source": [
    "a<b"
   ]
  },
  {
   "cell_type": "code",
   "execution_count": 49,
   "id": "fe3d3358-328e-439f-9b73-73c83566b3ce",
   "metadata": {},
   "outputs": [
    {
     "data": {
      "text/plain": [
       "False"
      ]
     },
     "execution_count": 49,
     "metadata": {},
     "output_type": "execute_result"
    }
   ],
   "source": [
    "a>b"
   ]
  },
  {
   "cell_type": "markdown",
   "id": "6a669a94-0423-465b-9e7a-440e759f38c4",
   "metadata": {},
   "source": [
    "**NOTE:-a=b# we cannot use = operator that means is assigning**"
   ]
  },
  {
   "cell_type": "code",
   "execution_count": 50,
   "id": "80d2f993-9f4b-4a70-ab96-45a6ab591127",
   "metadata": {},
   "outputs": [
    {
     "data": {
      "text/plain": [
       "False"
      ]
     },
     "execution_count": 50,
     "metadata": {},
     "output_type": "execute_result"
    }
   ],
   "source": [
    "a==b"
   ]
  },
  {
   "cell_type": "code",
   "execution_count": 51,
   "id": "ccd3c68e-4d30-4c8d-b96d-21562acb5ac8",
   "metadata": {},
   "outputs": [],
   "source": [
    "a=10"
   ]
  },
  {
   "cell_type": "code",
   "execution_count": 52,
   "id": "d575cc94-3a21-46d9-81bd-7b1655196cad",
   "metadata": {},
   "outputs": [
    {
     "data": {
      "text/plain": [
       "True"
      ]
     },
     "execution_count": 52,
     "metadata": {},
     "output_type": "execute_result"
    }
   ],
   "source": [
    "a!=b"
   ]
  },
  {
   "cell_type": "code",
   "execution_count": 53,
   "id": "f9c7f851-f75e-4b21-8d2c-5dc7b7c696da",
   "metadata": {},
   "outputs": [],
   "source": [
    "#here if i change b=6\n",
    "b=10"
   ]
  },
  {
   "cell_type": "code",
   "execution_count": 54,
   "id": "7b72dfea-75e1-4632-bf51-9b1a392b0c30",
   "metadata": {},
   "outputs": [
    {
     "data": {
      "text/plain": [
       "True"
      ]
     },
     "execution_count": 54,
     "metadata": {},
     "output_type": "execute_result"
    }
   ],
   "source": [
    "a==b"
   ]
  },
  {
   "cell_type": "code",
   "execution_count": 55,
   "id": "65da38b3-f8ba-44ae-9f8a-a1382aa6a17f",
   "metadata": {},
   "outputs": [
    {
     "data": {
      "text/plain": [
       "True"
      ]
     },
     "execution_count": 55,
     "metadata": {},
     "output_type": "execute_result"
    }
   ],
   "source": [
    "a>=b\n"
   ]
  },
  {
   "cell_type": "code",
   "execution_count": 56,
   "id": "e0d0c429-dfff-4fc0-966f-099a9e909b5a",
   "metadata": {},
   "outputs": [
    {
     "data": {
      "text/plain": [
       "True"
      ]
     },
     "execution_count": 56,
     "metadata": {},
     "output_type": "execute_result"
    }
   ],
   "source": [
    "a<=b"
   ]
  },
  {
   "cell_type": "code",
   "execution_count": 57,
   "id": "fff795ac-0a7e-4c46-85cc-fb088d8de1cf",
   "metadata": {},
   "outputs": [],
   "source": [
    "b=7"
   ]
  },
  {
   "cell_type": "code",
   "execution_count": 58,
   "id": "0aa75fac-41a4-40cb-aa85-d988e3c50822",
   "metadata": {},
   "outputs": [
    {
     "data": {
      "text/plain": [
       "True"
      ]
     },
     "execution_count": 58,
     "metadata": {},
     "output_type": "execute_result"
    }
   ],
   "source": [
    "a!=b"
   ]
  },
  {
   "cell_type": "markdown",
   "id": "02d90b88-0d4c-4e08-9129-6fd1a6c813ac",
   "metadata": {},
   "source": [
    "**Logic Operation**\n",
    "---------------------------\n",
    "  AND,OR,NOT"
   ]
  },
  {
   "cell_type": "code",
   "execution_count": 77,
   "id": "24ad9709-f2af-4e5d-8496-23552a6bc3df",
   "metadata": {},
   "outputs": [],
   "source": [
    "a=5\n",
    "b=4"
   ]
  },
  {
   "cell_type": "code",
   "execution_count": 78,
   "id": "f787326d-3bd8-4d7e-97d9-4c528ba3678b",
   "metadata": {},
   "outputs": [
    {
     "data": {
      "text/plain": [
       "True"
      ]
     },
     "execution_count": 78,
     "metadata": {},
     "output_type": "execute_result"
    }
   ],
   "source": [
    "a<8 and b<5"
   ]
  },
  {
   "cell_type": "code",
   "execution_count": 79,
   "id": "63ee067c-475d-4c0f-a5cc-662fc0e53b88",
   "metadata": {},
   "outputs": [
    {
     "data": {
      "text/plain": [
       "False"
      ]
     },
     "execution_count": 79,
     "metadata": {},
     "output_type": "execute_result"
    }
   ],
   "source": [
    "a<8 and b<2"
   ]
  },
  {
   "cell_type": "code",
   "execution_count": 80,
   "id": "3c22d0ed-4538-4ef8-baf0-926496d0aee4",
   "metadata": {},
   "outputs": [
    {
     "data": {
      "text/plain": [
       "False"
      ]
     },
     "execution_count": 80,
     "metadata": {},
     "output_type": "execute_result"
    }
   ],
   "source": [
    "a>8 and b<2"
   ]
  },
  {
   "cell_type": "code",
   "execution_count": 81,
   "id": "5194ea4f-f000-40c8-bb8a-5fdd96aa1f97",
   "metadata": {},
   "outputs": [
    {
     "data": {
      "text/plain": [
       "False"
      ]
     },
     "execution_count": 81,
     "metadata": {},
     "output_type": "execute_result"
    }
   ],
   "source": [
    "x=False\n",
    "x\n"
   ]
  },
  {
   "cell_type": "code",
   "execution_count": 84,
   "id": "4bbcbaf3-213d-42fd-853e-c1d38af153a2",
   "metadata": {},
   "outputs": [
    {
     "data": {
      "text/plain": [
       "False"
      ]
     },
     "execution_count": 84,
     "metadata": {},
     "output_type": "execute_result"
    }
   ],
   "source": [
    "not x # this can reverse the operation "
   ]
  },
  {
   "cell_type": "code",
   "execution_count": 85,
   "id": "cc794b63-0581-4262-89f0-dd3b86e57b0f",
   "metadata": {},
   "outputs": [
    {
     "data": {
      "text/plain": [
       "True"
      ]
     },
     "execution_count": 85,
     "metadata": {},
     "output_type": "execute_result"
    }
   ],
   "source": [
    "x\n"
   ]
  },
  {
   "cell_type": "code",
   "execution_count": 86,
   "id": "e88f7b19-92ba-4699-8e84-720c958bd56f",
   "metadata": {},
   "outputs": [
    {
     "data": {
      "text/plain": [
       "False"
      ]
     },
     "execution_count": 86,
     "metadata": {},
     "output_type": "execute_result"
    }
   ],
   "source": [
    "not x"
   ]
  },
  {
   "cell_type": "markdown",
   "id": "ca76d32a-04c8-4af9-b830-7f7329f589d3",
   "metadata": {},
   "source": [
    "**## Number system coverstion (bit-binary digit)**\n",
    "-----------------------------------------------------------------\n",
    "binary : base (0-1) --> please divide 15/2 & count in reverse order \n",
    "octal : base (0-7)\n",
    "hexadecimal : base (0-9 & then a-f)\n",
    "when you check ipaddress you will these format --> cmd - ipconfig"
   ]
  },
  {
   "cell_type": "code",
   "execution_count": 87,
   "id": "e903d0cc-04bc-48c7-a922-105549d61922",
   "metadata": {},
   "outputs": [
    {
     "data": {
      "text/plain": [
       "25"
      ]
     },
     "execution_count": 87,
     "metadata": {},
     "output_type": "execute_result"
    }
   ],
   "source": [
    "25"
   ]
  },
  {
   "cell_type": "code",
   "execution_count": 88,
   "id": "24387cb6-6021-4655-a4e1-dc0ef9995281",
   "metadata": {},
   "outputs": [
    {
     "data": {
      "text/plain": [
       "'0b11001'"
      ]
     },
     "execution_count": 88,
     "metadata": {},
     "output_type": "execute_result"
    }
   ],
   "source": [
    "bin(25)"
   ]
  },
  {
   "cell_type": "code",
   "execution_count": 89,
   "id": "211443b5-43ee-4402-b3df-2cf37145241a",
   "metadata": {},
   "outputs": [
    {
     "data": {
      "text/plain": [
       "'0b100011'"
      ]
     },
     "execution_count": 89,
     "metadata": {},
     "output_type": "execute_result"
    }
   ],
   "source": [
    "bin(35)"
   ]
  },
  {
   "cell_type": "code",
   "execution_count": 91,
   "id": "b2f40d96-7df4-48fc-856a-fbfa33f4f521",
   "metadata": {},
   "outputs": [
    {
     "data": {
      "text/plain": [
       "35"
      ]
     },
     "execution_count": 91,
     "metadata": {},
     "output_type": "execute_result"
    }
   ],
   "source": [
    "int(0b100011)"
   ]
  },
  {
   "cell_type": "code",
   "execution_count": 92,
   "id": "d752aadc-0428-4e1b-812b-f7dc768f4f95",
   "metadata": {},
   "outputs": [
    {
     "data": {
      "text/plain": [
       "'0b10100'"
      ]
     },
     "execution_count": 92,
     "metadata": {},
     "output_type": "execute_result"
    }
   ],
   "source": [
    "bin(20)"
   ]
  },
  {
   "cell_type": "code",
   "execution_count": 94,
   "id": "66d86b8a-6072-4416-86e2-7c5646981ba7",
   "metadata": {},
   "outputs": [
    {
     "data": {
      "text/plain": [
       "20"
      ]
     },
     "execution_count": 94,
     "metadata": {},
     "output_type": "execute_result"
    }
   ],
   "source": [
    "int(0b10100)"
   ]
  },
  {
   "cell_type": "code",
   "execution_count": 95,
   "id": "b5018599-48bb-40a1-9365-97d1079c5c46",
   "metadata": {},
   "outputs": [
    {
     "data": {
      "text/plain": [
       "'0o17'"
      ]
     },
     "execution_count": 95,
     "metadata": {},
     "output_type": "execute_result"
    }
   ],
   "source": [
    "oct(15)"
   ]
  },
  {
   "cell_type": "code",
   "execution_count": 96,
   "id": "dbcd65f1-eba1-4c6b-86bd-1244ff35d09f",
   "metadata": {},
   "outputs": [
    {
     "data": {
      "text/plain": [
       "15"
      ]
     },
     "execution_count": 96,
     "metadata": {},
     "output_type": "execute_result"
    }
   ],
   "source": [
    "int(0o17)"
   ]
  },
  {
   "cell_type": "code",
   "execution_count": 97,
   "id": "3e173bd0-3f08-49e0-b1b6-cff4fffa5c73",
   "metadata": {},
   "outputs": [
    {
     "data": {
      "text/plain": [
       "'0x9'"
      ]
     },
     "execution_count": 97,
     "metadata": {},
     "output_type": "execute_result"
    }
   ],
   "source": [
    "hex(9)"
   ]
  },
  {
   "cell_type": "code",
   "execution_count": 98,
   "id": "8df37d80-0cb3-413f-b005-5ca5fedb02dd",
   "metadata": {},
   "outputs": [
    {
     "data": {
      "text/plain": [
       "15"
      ]
     },
     "execution_count": 98,
     "metadata": {},
     "output_type": "execute_result"
    }
   ],
   "source": [
    "0xf"
   ]
  },
  {
   "cell_type": "code",
   "execution_count": 99,
   "id": "7854495c-a8cb-4774-b2f7-2ea3afb10254",
   "metadata": {},
   "outputs": [
    {
     "data": {
      "text/plain": [
       "'0x19'"
      ]
     },
     "execution_count": 99,
     "metadata": {},
     "output_type": "execute_result"
    }
   ],
   "source": [
    "hex(25)"
   ]
  },
  {
   "cell_type": "code",
   "execution_count": 100,
   "id": "24db959d-a8ce-4580-829a-8b101fb5a7ad",
   "metadata": {},
   "outputs": [
    {
     "data": {
      "text/plain": [
       "21"
      ]
     },
     "execution_count": 100,
     "metadata": {},
     "output_type": "execute_result"
    }
   ],
   "source": [
    "0x15"
   ]
  },
  {
   "cell_type": "markdown",
   "id": "26aba4f1-bb54-4157-94ec-e06bedded0ab",
   "metadata": {},
   "source": [
    "**Swap Variable in Python**\n",
    "-------------------------"
   ]
  },
  {
   "cell_type": "code",
   "execution_count": 101,
   "id": "cc80ed6f-a676-47b6-b025-42ed53ba6a0b",
   "metadata": {},
   "outputs": [],
   "source": [
    "## (a,b=5.6) after swaping will get value==>>a,b=6,5"
   ]
  },
  {
   "cell_type": "code",
   "execution_count": 102,
   "id": "729923c4-6dfd-4daf-b553-7e0550385af7",
   "metadata": {},
   "outputs": [],
   "source": [
    "a=5\n",
    "b=6"
   ]
  },
  {
   "cell_type": "code",
   "execution_count": 106,
   "id": "34570d20-af59-4231-9751-10995b82417d",
   "metadata": {},
   "outputs": [],
   "source": [
    "a=b### in this senario we will loss the value 5\n",
    "b=a"
   ]
  },
  {
   "cell_type": "code",
   "execution_count": 107,
   "id": "ad0b7780-ec05-4313-9522-81610cf3cb1e",
   "metadata": {},
   "outputs": [
    {
     "data": {
      "text/plain": [
       "6"
      ]
     },
     "execution_count": 107,
     "metadata": {},
     "output_type": "execute_result"
    }
   ],
   "source": [
    "a\n"
   ]
  },
  {
   "cell_type": "code",
   "execution_count": 108,
   "id": "ddd2bb37-cb04-4229-b29c-7de1e6b86857",
   "metadata": {},
   "outputs": [
    {
     "data": {
      "text/plain": [
       "6"
      ]
     },
     "execution_count": 108,
     "metadata": {},
     "output_type": "execute_result"
    }
   ],
   "source": [
    "b"
   ]
  },
  {
   "cell_type": "code",
   "execution_count": 110,
   "id": "b1c3488b-1828-4708-a4f2-2d26429662ca",
   "metadata": {},
   "outputs": [
    {
     "name": "stdout",
     "output_type": "stream",
     "text": [
      "6\n",
      "6\n"
     ]
    }
   ],
   "source": [
    "a,b=b,a ## here also we loss the value 5\n",
    "print(a)\n",
    "print(b)"
   ]
  },
  {
   "cell_type": "code",
   "execution_count": 113,
   "id": "a2e0e229-422b-43b5-9095-3adce153f231",
   "metadata": {},
   "outputs": [],
   "source": [
    "#we will fullfil the this requirement by creating empty variable by name temp\n",
    "a1=7\n",
    "b1=8\n"
   ]
  },
  {
   "cell_type": "code",
   "execution_count": 116,
   "id": "d86c4c52-986e-4fe9-baf4-702f43867ecd",
   "metadata": {},
   "outputs": [],
   "source": [
    "temp=a1\n",
    "a1=b1\n",
    "b1=temp\n"
   ]
  },
  {
   "cell_type": "code",
   "execution_count": 117,
   "id": "3d0a5785-7872-4473-9cc4-911031893bb7",
   "metadata": {},
   "outputs": [
    {
     "name": "stdout",
     "output_type": "stream",
     "text": [
      "8\n"
     ]
    }
   ],
   "source": [
    "print(a1)"
   ]
  },
  {
   "cell_type": "code",
   "execution_count": 120,
   "id": "e4d4cd80-91bb-4b4f-bb6e-b7dbe29f93df",
   "metadata": {},
   "outputs": [
    {
     "name": "stdout",
     "output_type": "stream",
     "text": [
      "7\n"
     ]
    }
   ],
   "source": [
    "print(b1)"
   ]
  },
  {
   "cell_type": "code",
   "execution_count": 121,
   "id": "44702bc2-72a3-440c-b60b-f7010c0e99c0",
   "metadata": {},
   "outputs": [],
   "source": [
    "a2=5\n",
    "b2=6"
   ]
  },
  {
   "cell_type": "code",
   "execution_count": 122,
   "id": "020e929e-9f58-4e4e-9272-2a2e335eb5d7",
   "metadata": {},
   "outputs": [],
   "source": [
    "## this is called swap variable formula \n",
    "a2=a2+b2 #5+6=11\n",
    "b2=a2-b2 #11-6=5\n",
    "a2=a2-b2 #11-5=6"
   ]
  },
  {
   "cell_type": "code",
   "execution_count": 123,
   "id": "dbb40db8-5a60-4fb9-9a5e-4e832940df20",
   "metadata": {},
   "outputs": [
    {
     "name": "stdout",
     "output_type": "stream",
     "text": [
      "6\n",
      "5\n"
     ]
    }
   ],
   "source": [
    "print(a2)\n",
    "print(b2)"
   ]
  },
  {
   "cell_type": "code",
   "execution_count": 124,
   "id": "44819b59-6d9e-4ba4-97de-3e31399df99f",
   "metadata": {},
   "outputs": [
    {
     "name": "stdout",
     "output_type": "stream",
     "text": [
      "5\n",
      "6\n"
     ]
    }
   ],
   "source": [
    "print(0b101) # 101 is 3 bit \n",
    "print(0b110) # 110 also 3bit "
   ]
  },
  {
   "cell_type": "code",
   "execution_count": 125,
   "id": "85edff7d-5f4d-4823-bbb5-2f17e6995399",
   "metadata": {},
   "outputs": [
    {
     "name": "stdout",
     "output_type": "stream",
     "text": [
      "0b1011\n",
      "11\n"
     ]
    }
   ],
   "source": [
    "#but when we use a2 + b2 then we get 11 that means we will get 4 bit which is 1 bit extra \n",
    "print(bin(11))\n",
    "print(0b1011)\n"
   ]
  },
  {
   "cell_type": "code",
   "execution_count": 126,
   "id": "d7037f7c-1094-4608-8264-f8c1c1bc1231",
   "metadata": {},
   "outputs": [
    {
     "data": {
      "text/plain": [
       "6"
      ]
     },
     "execution_count": 126,
     "metadata": {},
     "output_type": "execute_result"
    }
   ],
   "source": [
    "#there is other way to work using swap variable also which is XOR because it will not waste extra bit \n",
    "a2"
   ]
  },
  {
   "cell_type": "code",
   "execution_count": 127,
   "id": "ab83a2cf-56a2-4d41-9a70-6648747ef87f",
   "metadata": {},
   "outputs": [
    {
     "data": {
      "text/plain": [
       "5"
      ]
     },
     "execution_count": 127,
     "metadata": {},
     "output_type": "execute_result"
    }
   ],
   "source": [
    "b2"
   ]
  },
  {
   "cell_type": "code",
   "execution_count": 135,
   "id": "9989398a-0937-4c77-b441-a36935a4153d",
   "metadata": {},
   "outputs": [],
   "source": [
    "#there is other way to work using swap variable also which is XOR because it will not waste extra bit \n",
    "a2 = a2 ^ b2\n",
    "b2 = a2 ^ b2\n",
    "a2 = a2 ^ b2"
   ]
  },
  {
   "cell_type": "code",
   "execution_count": 136,
   "id": "c4559d15-3de8-4578-9283-008be29ade07",
   "metadata": {},
   "outputs": [
    {
     "name": "stdout",
     "output_type": "stream",
     "text": [
      "5\n"
     ]
    }
   ],
   "source": [
    "print(a2)"
   ]
  },
  {
   "cell_type": "code",
   "execution_count": 137,
   "id": "cfb5ddb0-0a86-4f1d-9168-be72fabf5efd",
   "metadata": {},
   "outputs": [
    {
     "name": "stdout",
     "output_type": "stream",
     "text": [
      "6\n"
     ]
    }
   ],
   "source": [
    "print(b2)"
   ]
  },
  {
   "cell_type": "code",
   "execution_count": 138,
   "id": "45b3fde8-8dd6-4ad2-8299-6838641f6129",
   "metadata": {},
   "outputs": [],
   "source": [
    "a2,b2=b2,a2"
   ]
  },
  {
   "cell_type": "code",
   "execution_count": 139,
   "id": "d2e9e869-7ece-4aba-93e7-52f86e5606eb",
   "metadata": {},
   "outputs": [
    {
     "data": {
      "text/plain": [
       "6"
      ]
     },
     "execution_count": 139,
     "metadata": {},
     "output_type": "execute_result"
    }
   ],
   "source": [
    "a2"
   ]
  },
  {
   "cell_type": "code",
   "execution_count": 140,
   "id": "41959511-04b5-431d-a09a-013651c2f193",
   "metadata": {},
   "outputs": [
    {
     "data": {
      "text/plain": [
       "5"
      ]
     },
     "execution_count": 140,
     "metadata": {},
     "output_type": "execute_result"
    }
   ],
   "source": [
    "b2"
   ]
  },
  {
   "cell_type": "markdown",
   "id": "1eefede2-a5e0-4f90-8e0b-2a4146575e9c",
   "metadata": {},
   "source": [
    "**complement --> you will get this key below esc character**\n",
    "-----------------------------------------------------\n",
    "12 ==> 1100 || \n",
    "first thing we need to understand what is mean by complement. \n",
    "complement means it will do reverse of the binary format i.e. - ~0 it will give you 1 ~1 it will give 0\n",
    "12 binary format is 00001100 ( complement of ~00001100 reverse the number - 11110011 which is (-13)\n",
    "\n",
    " but the question is why we got -13 \n",
    " to understand this concept ( we have concept of 2's complement\n",
    " 2's complement mean (1's complement + 1)\n",
    " in the system we can store +Ve number but how to store -ve number\n",
    " \n",
    " lets understand binary form of 13 - 00001101 + 1 "
   ]
  },
  {
   "cell_type": "code",
   "execution_count": 141,
   "id": "157c5186-6ec0-4ecf-b895-6a1aa728ac51",
   "metadata": {},
   "outputs": [
    {
     "data": {
      "text/plain": [
       "-13"
      ]
     },
     "execution_count": 141,
     "metadata": {},
     "output_type": "execute_result"
    }
   ],
   "source": [
    "# Complement(~) (Tild or Tilde) this mens -(n+1)\n",
    "~12"
   ]
  },
  {
   "cell_type": "code",
   "execution_count": 142,
   "id": "43d0aff5-2a7c-4947-8012-2fc89a8c1ce9",
   "metadata": {},
   "outputs": [
    {
     "data": {
      "text/plain": [
       "-14"
      ]
     },
     "execution_count": 142,
     "metadata": {},
     "output_type": "execute_result"
    }
   ],
   "source": [
    "~13\n"
   ]
  },
  {
   "cell_type": "code",
   "execution_count": 143,
   "id": "fc616630-9c33-420d-8716-f1b9bdfba1e6",
   "metadata": {},
   "outputs": [
    {
     "data": {
      "text/plain": [
       "5"
      ]
     },
     "execution_count": 143,
     "metadata": {},
     "output_type": "execute_result"
    }
   ],
   "source": [
    "~-6"
   ]
  },
  {
   "cell_type": "code",
   "execution_count": 144,
   "id": "cd09f1bc-7b07-4fd2-aa81-ce97289d2401",
   "metadata": {},
   "outputs": [
    {
     "data": {
      "text/plain": [
       "0"
      ]
     },
     "execution_count": 144,
     "metadata": {},
     "output_type": "execute_result"
    }
   ],
   "source": [
    "~-1"
   ]
  },
  {
   "cell_type": "markdown",
   "id": "1487e81d-0e1d-429b-80cd-92b22cc2a704",
   "metadata": {},
   "source": [
    "**bit wise and operator**\n",
    "----------------------------------\n",
    "\n",
    "AND - LOGICAL OPERATOR ||| & - BITWISE AND OPERATOR  \n",
    "(we know that 1 & 1 is 1)\n",
    "12 - 00001100 \n",
    "13 - 00001101\n",
    "when we are add both then then outut we will get as 12 "
   ]
  },
  {
   "cell_type": "code",
   "execution_count": 145,
   "id": "a1c4390a-afdf-4cb6-b49d-3e99ac529330",
   "metadata": {},
   "outputs": [
    {
     "data": {
      "text/plain": [
       "12"
      ]
     },
     "execution_count": 145,
     "metadata": {},
     "output_type": "execute_result"
    }
   ],
   "source": [
    "12&13"
   ]
  },
  {
   "cell_type": "code",
   "execution_count": 146,
   "id": "2fc04870-ecc4-4fc7-859d-81ee6778780d",
   "metadata": {},
   "outputs": [
    {
     "data": {
      "text/plain": [
       "1"
      ]
     },
     "execution_count": 146,
     "metadata": {},
     "output_type": "execute_result"
    }
   ],
   "source": [
    "1&1"
   ]
  },
  {
   "cell_type": "code",
   "execution_count": 147,
   "id": "4590bd58-7283-4f2f-945a-936601c62421",
   "metadata": {},
   "outputs": [
    {
     "data": {
      "text/plain": [
       "1"
      ]
     },
     "execution_count": 147,
     "metadata": {},
     "output_type": "execute_result"
    }
   ],
   "source": [
    "1|0"
   ]
  },
  {
   "cell_type": "code",
   "execution_count": 148,
   "id": "f28f43c2-cc1f-4141-8636-bc17ab39d82c",
   "metadata": {},
   "outputs": [
    {
     "data": {
      "text/plain": [
       "0"
      ]
     },
     "execution_count": 148,
     "metadata": {},
     "output_type": "execute_result"
    }
   ],
   "source": [
    "1&0"
   ]
  },
  {
   "cell_type": "code",
   "execution_count": 149,
   "id": "f2d4dd58-a685-4a83-a035-6cfe687576f8",
   "metadata": {},
   "outputs": [
    {
     "data": {
      "text/plain": [
       "13"
      ]
     },
     "execution_count": 149,
     "metadata": {},
     "output_type": "execute_result"
    }
   ],
   "source": [
    "12|13"
   ]
  },
  {
   "cell_type": "code",
   "execution_count": 150,
   "id": "44cdc9d7-3049-4405-97f5-ea15f5d0cb64",
   "metadata": {},
   "outputs": [
    {
     "data": {
      "text/plain": [
       "32"
      ]
     },
     "execution_count": 150,
     "metadata": {},
     "output_type": "execute_result"
    }
   ],
   "source": [
    "35 & 40 #please do the homework conververt 35,40 to binary format "
   ]
  },
  {
   "cell_type": "code",
   "execution_count": 151,
   "id": "ccec9e9a-1639-4168-b811-1f2bf411b461",
   "metadata": {},
   "outputs": [
    {
     "data": {
      "text/plain": [
       "43"
      ]
     },
     "execution_count": 151,
     "metadata": {},
     "output_type": "execute_result"
    }
   ],
   "source": [
    "35|40"
   ]
  },
  {
   "cell_type": "code",
   "execution_count": 152,
   "id": "6d9fcd0a-67a7-4b36-ace2-60f741d51a95",
   "metadata": {},
   "outputs": [
    {
     "data": {
      "text/plain": [
       "1"
      ]
     },
     "execution_count": 152,
     "metadata": {},
     "output_type": "execute_result"
    }
   ],
   "source": [
    "# in XOR if the both number are different then we will get 1 or else we will get 0\n",
    "\n",
    "12 ^ 13"
   ]
  },
  {
   "cell_type": "code",
   "execution_count": 153,
   "id": "5f198e3e-2d25-47df-9358-46b278e4a014",
   "metadata": {},
   "outputs": [
    {
     "data": {
      "text/plain": [
       "'0b11001'"
      ]
     },
     "execution_count": 153,
     "metadata": {},
     "output_type": "execute_result"
    }
   ],
   "source": [
    "bin(25)"
   ]
  },
  {
   "cell_type": "code",
   "execution_count": 154,
   "id": "233fa0c3-481d-41bc-ab36-b249652b3294",
   "metadata": {},
   "outputs": [
    {
     "data": {
      "text/plain": [
       "'0b11110'"
      ]
     },
     "execution_count": 154,
     "metadata": {},
     "output_type": "execute_result"
    }
   ],
   "source": [
    "bin(30)"
   ]
  },
  {
   "cell_type": "code",
   "execution_count": 155,
   "id": "02fa5ecf-f0cb-4137-bed1-32b97fa3cbb7",
   "metadata": {},
   "outputs": [
    {
     "data": {
      "text/plain": [
       "7"
      ]
     },
     "execution_count": 155,
     "metadata": {},
     "output_type": "execute_result"
    }
   ],
   "source": [
    "int(0b000111)"
   ]
  },
  {
   "cell_type": "markdown",
   "id": "e0206152-dab2-4160-b63c-1a3d9cc9dbe3",
   "metadata": {},
   "source": [
    "**BITWISE LEFT OPERATOR**\n",
    "-------------------------------"
   ]
  },
  {
   "cell_type": "code",
   "execution_count": 156,
   "id": "b1b47d5e-0172-4870-b9f2-009d2d3adccc",
   "metadata": {},
   "outputs": [
    {
     "data": {
      "text/plain": [
       "40"
      ]
     },
     "execution_count": 156,
     "metadata": {},
     "output_type": "execute_result"
    }
   ],
   "source": [
    "\n",
    "#bit wise left operator bydefault you will take 2 zeros ( )\n",
    "#10 binary operator is 1010 | also i can say 1010\n",
    "10<<2"
   ]
  },
  {
   "cell_type": "code",
   "execution_count": 157,
   "id": "358b7031-2b63-4559-8b59-643cb75434e6",
   "metadata": {},
   "outputs": [
    {
     "data": {
      "text/plain": [
       "320"
      ]
     },
     "execution_count": 157,
     "metadata": {},
     "output_type": "execute_result"
    }
   ],
   "source": [
    "20<<4"
   ]
  },
  {
   "cell_type": "markdown",
   "id": "c0689b49-bcdb-408b-be04-6c6c2fc3491c",
   "metadata": {},
   "source": [
    "**BITWISE RIGHTSHIFT OPERATOR**\n",
    "-----------------------------------"
   ]
  },
  {
   "cell_type": "code",
   "execution_count": 158,
   "id": "864b74b4-3e72-43b2-8342-4b9dbc4555b8",
   "metadata": {},
   "outputs": [
    {
     "data": {
      "text/plain": [
       "2"
      ]
     },
     "execution_count": 158,
     "metadata": {},
     "output_type": "execute_result"
    }
   ],
   "source": [
    "10>>2"
   ]
  },
  {
   "cell_type": "code",
   "execution_count": 159,
   "id": "9385fd04-76cc-40a5-8a46-8b10363fffb9",
   "metadata": {},
   "outputs": [
    {
     "data": {
      "text/plain": [
       "'0b101000'"
      ]
     },
     "execution_count": 159,
     "metadata": {},
     "output_type": "execute_result"
    }
   ],
   "source": [
    "bin(40)"
   ]
  },
  {
   "cell_type": "code",
   "execution_count": 160,
   "id": "f34ff5d9-93d1-4297-b65f-83957c93c8e8",
   "metadata": {},
   "outputs": [
    {
     "data": {
      "text/plain": [
       "2"
      ]
     },
     "execution_count": 160,
     "metadata": {},
     "output_type": "execute_result"
    }
   ],
   "source": [
    "40>>4"
   ]
  },
  {
   "cell_type": "markdown",
   "id": "489a5ba8-28b0-4e4e-a990-bc1cd8311d4a",
   "metadata": {},
   "source": [
    "**Import Math module**\n",
    "------------------------"
   ]
  },
  {
   "cell_type": "code",
   "execution_count": 161,
   "id": "99a31fc4-633b-492f-a11a-4723794469e7",
   "metadata": {},
   "outputs": [
    {
     "ename": "NameError",
     "evalue": "name 'sqrt' is not defined",
     "output_type": "error",
     "traceback": [
      "\u001b[1;31m---------------------------------------------------------------------------\u001b[0m",
      "\u001b[1;31mNameError\u001b[0m                                 Traceback (most recent call last)",
      "Cell \u001b[1;32mIn[161], line 1\u001b[0m\n\u001b[1;32m----> 1\u001b[0m x\u001b[38;5;241m=\u001b[39msqrt(\u001b[38;5;241m25\u001b[39m)\n",
      "\u001b[1;31mNameError\u001b[0m: name 'sqrt' is not defined"
     ]
    }
   ],
   "source": [
    "x=sqrt(25)# sqrt is inbuld function this will throw and error"
   ]
  },
  {
   "cell_type": "code",
   "execution_count": 162,
   "id": "881f1954-b6ca-4dc7-8f13-d9ec801e1f60",
   "metadata": {},
   "outputs": [],
   "source": [
    "import math"
   ]
  },
  {
   "cell_type": "code",
   "execution_count": 163,
   "id": "4f1880bd-0a9b-4ba3-b0e8-9a9214fbf2bd",
   "metadata": {},
   "outputs": [],
   "source": [
    "x=math.sqrt(25)"
   ]
  },
  {
   "cell_type": "code",
   "execution_count": 164,
   "id": "f2b96384-da49-45ec-b8eb-6d7985190bef",
   "metadata": {},
   "outputs": [
    {
     "data": {
      "text/plain": [
       "5.0"
      ]
     },
     "execution_count": 164,
     "metadata": {},
     "output_type": "execute_result"
    }
   ],
   "source": [
    "x"
   ]
  },
  {
   "cell_type": "code",
   "execution_count": null,
   "id": "ac08b368-2f64-4505-abe7-7870614cf0a6",
   "metadata": {},
   "outputs": [],
   "source": []
  }
 ],
 "metadata": {
  "kernelspec": {
   "display_name": "Python 3 (ipykernel)",
   "language": "python",
   "name": "python3"
  },
  "language_info": {
   "codemirror_mode": {
    "name": "ipython",
    "version": 3
   },
   "file_extension": ".py",
   "mimetype": "text/x-python",
   "name": "python",
   "nbconvert_exporter": "python",
   "pygments_lexer": "ipython3",
   "version": "3.12.7"
  }
 },
 "nbformat": 4,
 "nbformat_minor": 5
}
