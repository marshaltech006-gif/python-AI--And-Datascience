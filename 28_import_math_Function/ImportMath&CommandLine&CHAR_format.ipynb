{
 "cells": [
  {
   "cell_type": "markdown",
   "id": "8f08cfe2-b674-40e4-9bea-a70435a87440",
   "metadata": {},
   "source": [
    "**Import Math module**\n",
    "--------------------"
   ]
  },
  {
   "cell_type": "code",
   "execution_count": 1,
   "id": "6375b480-3aae-4a8b-816a-aed576dda890",
   "metadata": {},
   "outputs": [
    {
     "ename": "NameError",
     "evalue": "name 'sqrt' is not defined",
     "output_type": "error",
     "traceback": [
      "\u001b[1;31m---------------------------------------------------------------------------\u001b[0m",
      "\u001b[1;31mNameError\u001b[0m                                 Traceback (most recent call last)",
      "Cell \u001b[1;32mIn[1], line 1\u001b[0m\n\u001b[1;32m----> 1\u001b[0m x\u001b[38;5;241m=\u001b[39msqrt(\u001b[38;5;241m25\u001b[39m)\n",
      "\u001b[1;31mNameError\u001b[0m: name 'sqrt' is not defined"
     ]
    }
   ],
   "source": [
    "x=sqrt(25)# sqrt is inbuld function this will throw and error"
   ]
  },
  {
   "cell_type": "code",
   "execution_count": 2,
   "id": "4c07184b-c436-4bd1-8f12-d7be1aedff71",
   "metadata": {},
   "outputs": [],
   "source": [
    "import math"
   ]
  },
  {
   "cell_type": "code",
   "execution_count": 3,
   "id": "0c129567-d20f-41b8-9b52-cb1355ee8dff",
   "metadata": {},
   "outputs": [
    {
     "data": {
      "text/plain": [
       "5.0"
      ]
     },
     "execution_count": 3,
     "metadata": {},
     "output_type": "execute_result"
    }
   ],
   "source": [
    "x=math.sqrt(25)\n",
    "x"
   ]
  },
  {
   "cell_type": "code",
   "execution_count": 4,
   "id": "2700fba7-a199-418f-8c2b-89ba14e1757f",
   "metadata": {},
   "outputs": [
    {
     "data": {
      "text/plain": [
       "3.872983346207417"
      ]
     },
     "execution_count": 4,
     "metadata": {},
     "output_type": "execute_result"
    }
   ],
   "source": [
    "x1 = math.sqrt(15)\n",
    "x1"
   ]
  },
  {
   "cell_type": "code",
   "execution_count": 5,
   "id": "ec6b1a5b-1e50-4fda-9d48-485ae5a2ab80",
   "metadata": {},
   "outputs": [
    {
     "name": "stdout",
     "output_type": "stream",
     "text": [
      "2\n"
     ]
    }
   ],
   "source": [
    "print(math.floor(2.9)) #floor - minimum or least value \n"
   ]
  },
  {
   "cell_type": "code",
   "execution_count": 6,
   "id": "6baf1a4d-79b2-472e-9571-3ad4751993fc",
   "metadata": {},
   "outputs": [
    {
     "name": "stdout",
     "output_type": "stream",
     "text": [
      "3\n"
     ]
    }
   ],
   "source": [
    "print(math.floor(3.89)) #floor - minimum or least value "
   ]
  },
  {
   "cell_type": "code",
   "execution_count": 7,
   "id": "028566d2-b33f-42af-91e9-74f9fc8dccdc",
   "metadata": {},
   "outputs": [
    {
     "name": "stdout",
     "output_type": "stream",
     "text": [
      "3\n"
     ]
    }
   ],
   "source": [
    "print(math.ceil(2.1))"
   ]
  },
  {
   "cell_type": "code",
   "execution_count": 8,
   "id": "be99ead9-8faa-4bc6-9989-a584a4dbec61",
   "metadata": {},
   "outputs": [
    {
     "name": "stdout",
     "output_type": "stream",
     "text": [
      "9.0\n"
     ]
    }
   ],
   "source": [
    "print(math.pow(3,2)) # this means 3 to the power 2"
   ]
  },
  {
   "cell_type": "code",
   "execution_count": 9,
   "id": "abf862a9-af23-4b26-8164-0185c89538f0",
   "metadata": {},
   "outputs": [
    {
     "name": "stdout",
     "output_type": "stream",
     "text": [
      "3.141592653589793\n"
     ]
    }
   ],
   "source": [
    "print(math.pi)# these value will be constant"
   ]
  },
  {
   "cell_type": "code",
   "execution_count": 10,
   "id": "ba684424-10db-4dc3-8702-76e72ebb8f05",
   "metadata": {},
   "outputs": [
    {
     "name": "stdout",
     "output_type": "stream",
     "text": [
      "2.718281828459045\n"
     ]
    }
   ],
   "source": [
    "print(math.e)# these is also constant"
   ]
  },
  {
   "cell_type": "code",
   "execution_count": 11,
   "id": "7a9c45b9-b054-478a-9a9f-062ebc1d317f",
   "metadata": {},
   "outputs": [
    {
     "data": {
      "text/plain": [
       "3.1622776601683795"
      ]
     },
     "execution_count": 11,
     "metadata": {},
     "output_type": "execute_result"
    }
   ],
   "source": [
    "import math as m\n",
    "m.sqrt(10)\n"
   ]
  },
  {
   "cell_type": "code",
   "execution_count": 12,
   "id": "28029fb7-5c54-47bd-a142-287d99d03a5f",
   "metadata": {},
   "outputs": [
    {
     "data": {
      "text/plain": [
       "9.0"
      ]
     },
     "execution_count": 12,
     "metadata": {},
     "output_type": "execute_result"
    }
   ],
   "source": [
    "from math import  sqrt,pow # math has many function if you want to call specific function then you use from \n",
    "pow(3,2)"
   ]
  },
  {
   "cell_type": "code",
   "execution_count": 13,
   "id": "9c4eafd4-67f9-4cd2-aec6-995b92269ed1",
   "metadata": {},
   "outputs": [
    {
     "data": {
      "text/plain": [
       "9"
      ]
     },
     "execution_count": 13,
     "metadata": {},
     "output_type": "execute_result"
    }
   ],
   "source": [
    "round(pow(3,2))"
   ]
  },
  {
   "cell_type": "code",
   "execution_count": 14,
   "id": "2d76d454-a683-4aba-beb1-c904bdbe5ef4",
   "metadata": {},
   "outputs": [
    {
     "data": {
      "text/plain": [
       "3"
      ]
     },
     "execution_count": 14,
     "metadata": {},
     "output_type": "execute_result"
    }
   ],
   "source": [
    "round(m.sqrt(10))\n"
   ]
  },
  {
   "cell_type": "code",
   "execution_count": 15,
   "id": "85579392-d678-44ac-80c9-c7964ee601ed",
   "metadata": {},
   "outputs": [
    {
     "data": {
      "text/plain": [
       "8"
      ]
     },
     "execution_count": 15,
     "metadata": {},
     "output_type": "execute_result"
    }
   ],
   "source": [
    "round(pow(2,3))"
   ]
  },
  {
   "cell_type": "code",
   "execution_count": 16,
   "id": "50c80301-f757-4b64-ad34-5c1d8b5ec459",
   "metadata": {},
   "outputs": [],
   "source": [
    "#help(math) this help to find out the inbuld function define in math"
   ]
  },
  {
   "cell_type": "code",
   "execution_count": 17,
   "id": "00f867b2-6e36-4908-8e0c-d253a3bf5d98",
   "metadata": {},
   "outputs": [],
   "source": [
    "# pycharm run debug\n",
    "# how to install python idle\n",
    "# how to install pycharm & starts working on pycharm"
   ]
  },
  {
   "cell_type": "markdown",
   "id": "269ea6e6-c2de-46b0-a03f-8bc60bf5a8f0",
   "metadata": {},
   "source": [
    "**User input function in python ||command line input**\n",
    "------------------------------------------------------"
   ]
  },
  {
   "cell_type": "code",
   "execution_count": 20,
   "id": "62085807-b1a9-4c63-91d5-d04fe314c02e",
   "metadata": {},
   "outputs": [
    {
     "name": "stdin",
     "output_type": "stream",
     "text": [
      " 12\n"
     ]
    }
   ],
   "source": [
    "x = input()\n"
   ]
  },
  {
   "cell_type": "code",
   "execution_count": 21,
   "id": "1f3a320a-a8b2-49a7-8f32-c16c1ad818c4",
   "metadata": {},
   "outputs": [
    {
     "name": "stdin",
     "output_type": "stream",
     "text": [
      " 14\n"
     ]
    }
   ],
   "source": [
    "y = input()\n"
   ]
  },
  {
   "cell_type": "code",
   "execution_count": 22,
   "id": "e86af25f-39f2-4d2f-af52-a3bcb00e756a",
   "metadata": {},
   "outputs": [],
   "source": [
    "z = x + y"
   ]
  },
  {
   "cell_type": "code",
   "execution_count": 23,
   "id": "224d038d-d15c-44b3-9ff3-5ed2834a6142",
   "metadata": {},
   "outputs": [
    {
     "data": {
      "text/plain": [
       "'1214'"
      ]
     },
     "execution_count": 23,
     "metadata": {},
     "output_type": "execute_result"
    }
   ],
   "source": [
    "z"
   ]
  },
  {
   "cell_type": "code",
   "execution_count": 24,
   "id": "d0933e75-c277-487a-b71f-95b36624c165",
   "metadata": {},
   "outputs": [
    {
     "name": "stdin",
     "output_type": "stream",
     "text": [
      "Enter the 1st number 12\n",
      "Enter the 2nd number 15\n"
     ]
    },
    {
     "name": "stdout",
     "output_type": "stream",
     "text": [
      "1215\n"
     ]
    }
   ],
   "source": [
    "x1 = input('Enter the 1st number') #whenevery you works in input function it always give you string \n",
    "y1 = input('Enter the 2nd number') # it wont understand as arithmetic operator\n",
    "z1 = x1 + y1\n",
    "print(z1)"
   ]
  },
  {
   "cell_type": "code",
   "execution_count": 25,
   "id": "96133131-1cbc-4645-9b4a-fa783ac9cfbb",
   "metadata": {},
   "outputs": [
    {
     "data": {
      "text/plain": [
       "str"
      ]
     },
     "execution_count": 25,
     "metadata": {},
     "output_type": "execute_result"
    }
   ],
   "source": [
    "type(x1)\n",
    "type(y1)"
   ]
  },
  {
   "cell_type": "code",
   "execution_count": 26,
   "id": "e8ea3ee0-847e-454f-a40a-2443831e22bc",
   "metadata": {},
   "outputs": [
    {
     "name": "stdin",
     "output_type": "stream",
     "text": [
      "Enter the 1st number 12\n",
      "Enter the 2nd number 14\n"
     ]
    },
    {
     "name": "stdout",
     "output_type": "stream",
     "text": [
      "26\n"
     ]
    }
   ],
   "source": [
    "x1 = input('Enter the 1st number') #whenevery you works in input function it always give you string \n",
    "a1 = int(x1)\n",
    "y1 = input('Enter the 2nd number') # it wont understand as arithmetic operator\n",
    "b1 = int(y1)\n",
    "z1 = a1 + b1\n",
    "print(z1)\n"
   ]
  },
  {
   "cell_type": "code",
   "execution_count": 27,
   "id": "355a026d-777d-408d-86af-0d6bcd54a7c9",
   "metadata": {},
   "outputs": [],
   "source": [
    "#for the above code notice we are using many lines because fo that wasting some memory spaces as well\n"
   ]
  },
  {
   "cell_type": "code",
   "execution_count": 28,
   "id": "9e8b5ec1-eae1-482c-bb80-59cb95ad9b05",
   "metadata": {},
   "outputs": [
    {
     "name": "stdin",
     "output_type": "stream",
     "text": [
      "Enter the 1st number 2\n",
      "Enter the 2nd number 3\n"
     ]
    },
    {
     "data": {
      "text/plain": [
       "5"
      ]
     },
     "execution_count": 28,
     "metadata": {},
     "output_type": "execute_result"
    }
   ],
   "source": [
    "x2 = int(input('Enter the 1st number'))\n",
    "y2 = int(input('Enter the 2nd number'))\n",
    "z2 = x2 + y2\n",
    "z2"
   ]
  },
  {
   "cell_type": "markdown",
   "id": "63a1ae60-88a0-4426-a251-7b8f79856ebc",
   "metadata": {},
   "source": [
    "**taking input in char formate**\n",
    "-----------------------------------------"
   ]
  },
  {
   "cell_type": "code",
   "execution_count": 29,
   "id": "fb2e8318-37ef-4645-a24a-365dbfc2e28d",
   "metadata": {},
   "outputs": [],
   "source": [
    "#lets take input from the user in char format, but we dont have char format in python"
   ]
  },
  {
   "cell_type": "code",
   "execution_count": 30,
   "id": "ebd6fee3-7ea3-44b4-b2ea-f9d57ff30600",
   "metadata": {},
   "outputs": [
    {
     "name": "stdin",
     "output_type": "stream",
     "text": [
      "enter a char hello\n"
     ]
    },
    {
     "name": "stdout",
     "output_type": "stream",
     "text": [
      "hello\n"
     ]
    }
   ],
   "source": [
    "ch = input('enter a char')\n",
    "print(ch)"
   ]
  },
  {
   "cell_type": "code",
   "execution_count": 31,
   "id": "334b1ca6-38fe-4282-8838-4b11a295ce90",
   "metadata": {},
   "outputs": [
    {
     "name": "stdout",
     "output_type": "stream",
     "text": [
      "h\n"
     ]
    }
   ],
   "source": [
    "print(ch[0])"
   ]
  },
  {
   "cell_type": "code",
   "execution_count": 32,
   "id": "6f69251e-1b56-46af-9e37-723acc110ce7",
   "metadata": {},
   "outputs": [
    {
     "name": "stdout",
     "output_type": "stream",
     "text": [
      "e\n"
     ]
    }
   ],
   "source": [
    "print(ch[1])\n"
   ]
  },
  {
   "cell_type": "code",
   "execution_count": 33,
   "id": "4c0fd8a2-d85d-44b3-bfbf-a9a637d1f2ae",
   "metadata": {},
   "outputs": [
    {
     "name": "stdout",
     "output_type": "stream",
     "text": [
      "l\n"
     ]
    }
   ],
   "source": [
    "print(ch[2])"
   ]
  },
  {
   "cell_type": "code",
   "execution_count": 34,
   "id": "f4e19f53-9ba5-4fb2-a3d6-a83e22a224e2",
   "metadata": {},
   "outputs": [
    {
     "name": "stdout",
     "output_type": "stream",
     "text": [
      "l\n"
     ]
    }
   ],
   "source": [
    "print(ch[3])"
   ]
  },
  {
   "cell_type": "code",
   "execution_count": 35,
   "id": "a72a30fb-e0a7-4ba6-a8a3-7ca1395f0e31",
   "metadata": {},
   "outputs": [
    {
     "name": "stdout",
     "output_type": "stream",
     "text": [
      "o\n"
     ]
    }
   ],
   "source": [
    "print(ch[-1])"
   ]
  },
  {
   "cell_type": "code",
   "execution_count": 37,
   "id": "e55f1a11-595a-4348-920e-d628f5006ba1",
   "metadata": {},
   "outputs": [
    {
     "name": "stdin",
     "output_type": "stream",
     "text": [
      "enter a char rupesh\n"
     ]
    },
    {
     "name": "stdout",
     "output_type": "stream",
     "text": [
      "r\n"
     ]
    }
   ],
   "source": [
    "ch = input('enter a char')[0] # direct way to get the first letter of given value by suing slicing and indexing\n",
    "print(ch)"
   ]
  },
  {
   "cell_type": "code",
   "execution_count": 38,
   "id": "15b91cf6-ec05-4d95-bdd5-e9c5c83d719d",
   "metadata": {},
   "outputs": [
    {
     "name": "stdin",
     "output_type": "stream",
     "text": [
      "enter a char Rupesh\n"
     ]
    },
    {
     "name": "stdout",
     "output_type": "stream",
     "text": [
      "up\n"
     ]
    }
   ],
   "source": [
    "ch = input('enter a char')[1:3]\n",
    "print(ch)"
   ]
  },
  {
   "cell_type": "code",
   "execution_count": 39,
   "id": "9fa3e96b-e0d2-4084-a28e-986e7fbb4ea5",
   "metadata": {},
   "outputs": [
    {
     "name": "stdin",
     "output_type": "stream",
     "text": [
      "enter a char rupesh\n"
     ]
    },
    {
     "name": "stdout",
     "output_type": "stream",
     "text": [
      "rupesh\n"
     ]
    }
   ],
   "source": [
    "ch = input('enter a char')\n",
    "print(ch) # if you enter as 2 + 6 -1 we get output as 2 + 6-1 only "
   ]
  },
  {
   "cell_type": "markdown",
   "id": "5fe37eb7-d1fb-4ffb-8f44-34a58ecbff6a",
   "metadata": {},
   "source": [
    "**EVAL Function using Input**\n",
    "---------------------------------"
   ]
  },
  {
   "cell_type": "code",
   "execution_count": null,
   "id": "495aa07e-9f09-4a5a-a7fe-7b1b2997f0ab",
   "metadata": {},
   "outputs": [],
   "source": []
  }
 ],
 "metadata": {
  "kernelspec": {
   "display_name": "Python 3 (ipykernel)",
   "language": "python",
   "name": "python3"
  },
  "language_info": {
   "codemirror_mode": {
    "name": "ipython",
    "version": 3
   },
   "file_extension": ".py",
   "mimetype": "text/x-python",
   "name": "python",
   "nbconvert_exporter": "python",
   "pygments_lexer": "ipython3",
   "version": "3.12.7"
  }
 },
 "nbformat": 4,
 "nbformat_minor": 5
}
