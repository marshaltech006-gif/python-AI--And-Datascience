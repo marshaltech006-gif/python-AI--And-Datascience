{
 "cells": [
  {
   "cell_type": "markdown",
   "id": "9b07a4fd-6331-4fee-af8c-ce8426e3f3f2",
   "metadata": {},
   "source": [
    "**SET**\n",
    "--------------"
   ]
  },
  {
   "cell_type": "markdown",
   "id": "02c04cf6-48e0-4e6f-9a4a-1f8ae44aa744",
   "metadata": {},
   "source": [
    "**Sets\n",
    "1) Unordered & Unindexed collection of items.\n",
    "2) Set elements are unique. Duplicate elements are not allowed.\n",
    "3) Set elements are immutable (cannot be changed).\n",
    "4) Set itself is mutable. We can add or remove items from it.**"
   ]
  },
  {
   "cell_type": "code",
   "execution_count": 1,
   "id": "ed8cccae-f4b5-463f-8214-a2b5f848900d",
   "metadata": {},
   "outputs": [],
   "source": [
    "myset={1,2,3,4,5} # set the numbers"
   ]
  },
  {
   "cell_type": "code",
   "execution_count": 2,
   "id": "94152bbd-320e-4f73-a8d3-37beb6876dcd",
   "metadata": {},
   "outputs": [
    {
     "data": {
      "text/plain": [
       "{1, 2, 3, 4, 5}"
      ]
     },
     "execution_count": 2,
     "metadata": {},
     "output_type": "execute_result"
    }
   ],
   "source": [
    "myset"
   ]
  },
  {
   "cell_type": "code",
   "execution_count": 3,
   "id": "d2a78ec7-5044-4ffa-aa2a-da63a22dfd87",
   "metadata": {},
   "outputs": [
    {
     "data": {
      "text/plain": [
       "5"
      ]
     },
     "execution_count": 3,
     "metadata": {},
     "output_type": "execute_result"
    }
   ],
   "source": [
    "len(myset)# lenth of the set"
   ]
  },
  {
   "cell_type": "code",
   "execution_count": 4,
   "id": "f4301af8-ea1a-429a-b605-18fae73e33f3",
   "metadata": {},
   "outputs": [],
   "source": [
    "my_set={1,1,2,2,3,4,5}"
   ]
  },
  {
   "cell_type": "code",
   "execution_count": 5,
   "id": "9452aa05-3031-48d3-9119-2e8bda485cf7",
   "metadata": {},
   "outputs": [
    {
     "data": {
      "text/plain": [
       "{1, 2, 3, 4, 5}"
      ]
     },
     "execution_count": 5,
     "metadata": {},
     "output_type": "execute_result"
    }
   ],
   "source": [
    "my_set"
   ]
  },
  {
   "cell_type": "code",
   "execution_count": 6,
   "id": "ed71b6cb-45ff-41fc-a429-6969f15b8d51",
   "metadata": {},
   "outputs": [],
   "source": [
    "myset1={1.79,2.08,3.99,4.56,5.45} #set of the float  numbers "
   ]
  },
  {
   "cell_type": "code",
   "execution_count": 7,
   "id": "e1a0fd89-b837-4693-94f7-8822df40be07",
   "metadata": {},
   "outputs": [
    {
     "data": {
      "text/plain": [
       "{1.79, 2.08, 3.99, 4.56, 5.45}"
      ]
     },
     "execution_count": 7,
     "metadata": {},
     "output_type": "execute_result"
    }
   ],
   "source": [
    "myset1"
   ]
  },
  {
   "cell_type": "code",
   "execution_count": 8,
   "id": "e1952103-ae78-494e-b0d3-94919cdb2739",
   "metadata": {},
   "outputs": [],
   "source": [
    "myset2={'Asif','John','Tyrion'}#set of the Strings"
   ]
  },
  {
   "cell_type": "code",
   "execution_count": 9,
   "id": "d8d3be77-65e7-4f40-aeaf-74e4e4a98319",
   "metadata": {},
   "outputs": [
    {
     "data": {
      "text/plain": [
       "{'Asif', 'John', 'Tyrion'}"
      ]
     },
     "execution_count": 9,
     "metadata": {},
     "output_type": "execute_result"
    }
   ],
   "source": [
    "myset2"
   ]
  },
  {
   "cell_type": "code",
   "execution_count": 10,
   "id": "6de1ef25-0f08-4cde-bc3b-9bf88252e243",
   "metadata": {},
   "outputs": [],
   "source": [
    "myset3={10,20,'HELO',(11,22,33)}# Mix Datatype"
   ]
  },
  {
   "cell_type": "code",
   "execution_count": 11,
   "id": "f5875dc2-9d00-47b7-a637-deb45bfb1bac",
   "metadata": {},
   "outputs": [
    {
     "data": {
      "text/plain": [
       "{(11, 22, 33), 10, 20, 'HELO'}"
      ]
     },
     "execution_count": 11,
     "metadata": {},
     "output_type": "execute_result"
    }
   ],
   "source": [
    "myset3"
   ]
  },
  {
   "cell_type": "code",
   "execution_count": 12,
   "id": "c687ef42-a42b-41ee-8d51-a9479d323aee",
   "metadata": {},
   "outputs": [
    {
     "ename": "TypeError",
     "evalue": "unhashable type: 'list'",
     "output_type": "error",
     "traceback": [
      "\u001b[1;31m---------------------------------------------------------------------------\u001b[0m",
      "\u001b[1;31mTypeError\u001b[0m                                 Traceback (most recent call last)",
      "Cell \u001b[1;32mIn[12], line 1\u001b[0m\n\u001b[1;32m----> 1\u001b[0m myset3 \u001b[38;5;241m=\u001b[39m {\u001b[38;5;241m10\u001b[39m,\u001b[38;5;241m20\u001b[39m, \u001b[38;5;124m\"\u001b[39m\u001b[38;5;124mHola\u001b[39m\u001b[38;5;124m\"\u001b[39m, [\u001b[38;5;241m11\u001b[39m, \u001b[38;5;241m22\u001b[39m, \u001b[38;5;241m32\u001b[39m]}\n",
      "\u001b[1;31mTypeError\u001b[0m: unhashable type: 'list'"
     ]
    }
   ],
   "source": [
    "myset3 = {10,20, \"Hola\", [11, 22, 32]} #x`set doesn't Allow the mutable item list"
   ]
  },
  {
   "cell_type": "code",
   "execution_count": 13,
   "id": "367878fd-f2c6-4166-b909-ac142c5143d1",
   "metadata": {},
   "outputs": [
    {
     "data": {
      "text/plain": [
       "set()"
      ]
     },
     "execution_count": 13,
     "metadata": {},
     "output_type": "execute_result"
    }
   ],
   "source": [
    "myset4=set()\n",
    "myset4"
   ]
  },
  {
   "cell_type": "code",
   "execution_count": 14,
   "id": "fe491491-2fc9-4a56-825f-4247c853b20c",
   "metadata": {},
   "outputs": [],
   "source": [
    "my_set1=(('one','two','three','four'))\n"
   ]
  },
  {
   "cell_type": "code",
   "execution_count": 15,
   "id": "c9bcae46-742e-4cb9-9718-5d798e9056a1",
   "metadata": {},
   "outputs": [
    {
     "data": {
      "text/plain": [
       "('one', 'two', 'three', 'four')"
      ]
     },
     "execution_count": 15,
     "metadata": {},
     "output_type": "execute_result"
    }
   ],
   "source": [
    "my_set1"
   ]
  },
  {
   "cell_type": "code",
   "execution_count": 16,
   "id": "b15ac810-9aa3-4a72-a570-4ace59f1dbed",
   "metadata": {},
   "outputs": [
    {
     "data": {
      "text/plain": [
       "('one', 'two', 'three', 'four')"
      ]
     },
     "execution_count": 16,
     "metadata": {},
     "output_type": "execute_result"
    }
   ],
   "source": [
    "my_set1"
   ]
  },
  {
   "cell_type": "markdown",
   "id": "f1ac1448-60b5-4b2c-a3f5-756d3d9097e5",
   "metadata": {},
   "source": [
    "**Loop Through a set**"
   ]
  },
  {
   "cell_type": "code",
   "execution_count": 17,
   "id": "4c16666a-0152-45be-bd7e-325f39a1eecd",
   "metadata": {},
   "outputs": [
    {
     "data": {
      "text/plain": [
       "{1, 2, 3, 4, 5}"
      ]
     },
     "execution_count": 17,
     "metadata": {},
     "output_type": "execute_result"
    }
   ],
   "source": [
    "myset"
   ]
  },
  {
   "cell_type": "code",
   "execution_count": 18,
   "id": "4737a7c7-ac16-4754-9371-156455a25b3e",
   "metadata": {},
   "outputs": [],
   "source": [
    "myset={'one','two','three','four','five','six','seven','eight'}"
   ]
  },
  {
   "cell_type": "code",
   "execution_count": 19,
   "id": "4311d2fb-ce32-4de7-a452-57be2cec83e3",
   "metadata": {},
   "outputs": [
    {
     "data": {
      "text/plain": [
       "{'eight', 'five', 'four', 'one', 'seven', 'six', 'three', 'two'}"
      ]
     },
     "execution_count": 19,
     "metadata": {},
     "output_type": "execute_result"
    }
   ],
   "source": [
    "myset"
   ]
  },
  {
   "cell_type": "code",
   "execution_count": 20,
   "id": "99191716-55b9-4275-afbe-ed68e752464e",
   "metadata": {},
   "outputs": [
    {
     "name": "stdout",
     "output_type": "stream",
     "text": [
      "three\n",
      "four\n",
      "two\n",
      "seven\n",
      "one\n",
      "six\n",
      "five\n",
      "eight\n"
     ]
    }
   ],
   "source": [
    "for i in myset:\n",
    "    print(i)"
   ]
  },
  {
   "cell_type": "code",
   "execution_count": 21,
   "id": "92361261-f751-47bf-a263-4bd3f04451b2",
   "metadata": {},
   "outputs": [
    {
     "name": "stdout",
     "output_type": "stream",
     "text": [
      "(0, 'three')\n",
      "(1, 'four')\n",
      "(2, 'two')\n",
      "(3, 'seven')\n",
      "(4, 'one')\n",
      "(5, 'six')\n",
      "(6, 'five')\n",
      "(7, 'eight')\n"
     ]
    }
   ],
   "source": [
    "for i in enumerate(myset):\n",
    "    print(i)"
   ]
  },
  {
   "cell_type": "markdown",
   "id": "f86c0daa-bf00-4247-b6d9-9fe65dda98ec",
   "metadata": {},
   "source": [
    "**Set Membership**"
   ]
  },
  {
   "cell_type": "code",
   "execution_count": 22,
   "id": "c9761710-48fb-4d9f-a18e-25d09f6b80a5",
   "metadata": {},
   "outputs": [
    {
     "data": {
      "text/plain": [
       "{'eight', 'five', 'four', 'one', 'seven', 'six', 'three', 'two'}"
      ]
     },
     "execution_count": 22,
     "metadata": {},
     "output_type": "execute_result"
    }
   ],
   "source": [
    "myset"
   ]
  },
  {
   "cell_type": "code",
   "execution_count": 23,
   "id": "ac5cab4e-0f5b-4d04-b99b-196a10ffc186",
   "metadata": {},
   "outputs": [
    {
     "data": {
      "text/plain": [
       "True"
      ]
     },
     "execution_count": 23,
     "metadata": {},
     "output_type": "execute_result"
    }
   ],
   "source": [
    "'one' in myset"
   ]
  },
  {
   "cell_type": "code",
   "execution_count": 24,
   "id": "1e48e22f-d3d2-42d2-a66d-99186a66c89c",
   "metadata": {},
   "outputs": [
    {
     "data": {
      "text/plain": [
       "False"
      ]
     },
     "execution_count": 24,
     "metadata": {},
     "output_type": "execute_result"
    }
   ],
   "source": [
    "'ten' in myset"
   ]
  },
  {
   "cell_type": "code",
   "execution_count": 26,
   "id": "6fb4efb8-6fe3-4039-bcb4-8a51c22c0c96",
   "metadata": {},
   "outputs": [
    {
     "name": "stdout",
     "output_type": "stream",
     "text": [
      "yes this element is available\n"
     ]
    }
   ],
   "source": [
    "if 'three' in myset:\n",
    "    print('yes this element is available')\n",
    "else:\n",
    "    print(\"element is not available \")"
   ]
  },
  {
   "cell_type": "code",
   "execution_count": 27,
   "id": "2dd178c0-ebd8-47d3-9e09-09a12260eabc",
   "metadata": {},
   "outputs": [
    {
     "name": "stdout",
     "output_type": "stream",
     "text": [
      "element us not available\n"
     ]
    }
   ],
   "source": [
    "if 'ten' in myset:\n",
    "    print('yes this element is available')\n",
    "else:\n",
    "    print('element us not available')"
   ]
  },
  {
   "cell_type": "markdown",
   "id": "833af2d7-b900-4d50-8184-d7fc9d6ece63",
   "metadata": {},
   "source": [
    "**Add & Remove Items**\n",
    "--------------------------"
   ]
  },
  {
   "cell_type": "code",
   "execution_count": 28,
   "id": "b14abf9b-fdf1-4acd-9d22-e588d76cb0a8",
   "metadata": {},
   "outputs": [
    {
     "data": {
      "text/plain": [
       "{'eight', 'five', 'four', 'one', 'seven', 'six', 'three', 'two'}"
      ]
     },
     "execution_count": 28,
     "metadata": {},
     "output_type": "execute_result"
    }
   ],
   "source": [
    "myset"
   ]
  },
  {
   "cell_type": "code",
   "execution_count": 29,
   "id": "5185e2ce-40f6-49f1-8bde-8855bb4c618d",
   "metadata": {},
   "outputs": [],
   "source": [
    "myset.add('NINE')"
   ]
  },
  {
   "cell_type": "code",
   "execution_count": 30,
   "id": "6227b529-56fa-42ef-a6e7-3e8be298c025",
   "metadata": {},
   "outputs": [
    {
     "data": {
      "text/plain": [
       "{'NINE', 'eight', 'five', 'four', 'one', 'seven', 'six', 'three', 'two'}"
      ]
     },
     "execution_count": 30,
     "metadata": {},
     "output_type": "execute_result"
    }
   ],
   "source": [
    "myset"
   ]
  },
  {
   "cell_type": "code",
   "execution_count": 31,
   "id": "d3faf5d5-dbdd-469d-b789-db4bab061fdd",
   "metadata": {},
   "outputs": [],
   "source": [
    "myset.update('TEN','ELEVEN','TWELVE')"
   ]
  },
  {
   "cell_type": "code",
   "execution_count": 32,
   "id": "2f3372ca-76e3-48f4-90a1-f11c8651c0eb",
   "metadata": {},
   "outputs": [
    {
     "data": {
      "text/plain": [
       "{'E',\n",
       " 'L',\n",
       " 'N',\n",
       " 'NINE',\n",
       " 'T',\n",
       " 'V',\n",
       " 'W',\n",
       " 'eight',\n",
       " 'five',\n",
       " 'four',\n",
       " 'one',\n",
       " 'seven',\n",
       " 'six',\n",
       " 'three',\n",
       " 'two'}"
      ]
     },
     "execution_count": 32,
     "metadata": {},
     "output_type": "execute_result"
    }
   ],
   "source": [
    "myset"
   ]
  },
  {
   "cell_type": "code",
   "execution_count": 33,
   "id": "ad0ae0d9-df6e-4278-a13b-7b822477b4c5",
   "metadata": {},
   "outputs": [],
   "source": [
    "myset={'NINE', 'eight', 'five', 'four', 'one', 'seven', 'six', 'three', 'two'}\n"
   ]
  },
  {
   "cell_type": "code",
   "execution_count": 34,
   "id": "cb8d7141-869c-41fa-8a76-f96083957283",
   "metadata": {},
   "outputs": [
    {
     "data": {
      "text/plain": [
       "{'NINE', 'eight', 'five', 'four', 'one', 'seven', 'six', 'three', 'two'}"
      ]
     },
     "execution_count": 34,
     "metadata": {},
     "output_type": "execute_result"
    }
   ],
   "source": [
    "myset"
   ]
  },
  {
   "cell_type": "code",
   "execution_count": 36,
   "id": "d23b0b2f-577e-462a-b10a-eb9200f24073",
   "metadata": {},
   "outputs": [],
   "source": [
    "myset.update(['TEN','ELEVEN','TWELVE'])"
   ]
  },
  {
   "cell_type": "code",
   "execution_count": 37,
   "id": "49d794fe-34b4-4f99-afc0-893cffeec37a",
   "metadata": {},
   "outputs": [
    {
     "data": {
      "text/plain": [
       "{'ELEVEN',\n",
       " 'NINE',\n",
       " 'TEN',\n",
       " 'TWELVE',\n",
       " 'eight',\n",
       " 'five',\n",
       " 'four',\n",
       " 'one',\n",
       " 'seven',\n",
       " 'six',\n",
       " 'three',\n",
       " 'two'}"
      ]
     },
     "execution_count": 37,
     "metadata": {},
     "output_type": "execute_result"
    }
   ],
   "source": [
    "myset"
   ]
  },
  {
   "cell_type": "code",
   "execution_count": 38,
   "id": "98bc6c42-8449-463f-85f3-dd0f43e705fd",
   "metadata": {},
   "outputs": [],
   "source": [
    "myset.remove('NINE')"
   ]
  },
  {
   "cell_type": "code",
   "execution_count": 39,
   "id": "e85a7579-b363-4bc0-87c0-69d988e38810",
   "metadata": {},
   "outputs": [
    {
     "data": {
      "text/plain": [
       "{'ELEVEN',\n",
       " 'TEN',\n",
       " 'TWELVE',\n",
       " 'eight',\n",
       " 'five',\n",
       " 'four',\n",
       " 'one',\n",
       " 'seven',\n",
       " 'six',\n",
       " 'three',\n",
       " 'two'}"
      ]
     },
     "execution_count": 39,
     "metadata": {},
     "output_type": "execute_result"
    }
   ],
   "source": [
    "myset"
   ]
  },
  {
   "cell_type": "code",
   "execution_count": 40,
   "id": "6f4960a6-e208-4f82-a5e9-eef88abcf885",
   "metadata": {},
   "outputs": [],
   "source": [
    "myset.discard('TEN')# if valve will be there available in set then remove the item else it will not return any error like remove "
   ]
  },
  {
   "cell_type": "code",
   "execution_count": 41,
   "id": "76e5a81d-5a3c-4f90-8232-384c17fe190e",
   "metadata": {},
   "outputs": [
    {
     "data": {
      "text/plain": [
       "{'ELEVEN',\n",
       " 'TWELVE',\n",
       " 'eight',\n",
       " 'five',\n",
       " 'four',\n",
       " 'one',\n",
       " 'seven',\n",
       " 'six',\n",
       " 'three',\n",
       " 'two'}"
      ]
     },
     "execution_count": 41,
     "metadata": {},
     "output_type": "execute_result"
    }
   ],
   "source": [
    "myset"
   ]
  },
  {
   "cell_type": "code",
   "execution_count": 42,
   "id": "f9335376-18ad-4303-b438-5dc4a8e50a33",
   "metadata": {},
   "outputs": [],
   "source": [
    "myset.clear()"
   ]
  },
  {
   "cell_type": "code",
   "execution_count": 43,
   "id": "15637300-b119-40e8-bcbd-1acad26cab97",
   "metadata": {},
   "outputs": [
    {
     "data": {
      "text/plain": [
       "set()"
      ]
     },
     "execution_count": 43,
     "metadata": {},
     "output_type": "execute_result"
    }
   ],
   "source": [
    "myset"
   ]
  },
  {
   "cell_type": "code",
   "execution_count": 45,
   "id": "38406c2d-27d2-4a0b-b465-30ddae1da9d9",
   "metadata": {},
   "outputs": [
    {
     "ename": "NameError",
     "evalue": "name 'myset' is not defined",
     "output_type": "error",
     "traceback": [
      "\u001b[1;31m---------------------------------------------------------------------------\u001b[0m",
      "\u001b[1;31mNameError\u001b[0m                                 Traceback (most recent call last)",
      "Cell \u001b[1;32mIn[45], line 1\u001b[0m\n\u001b[1;32m----> 1\u001b[0m \u001b[38;5;28;01mdel\u001b[39;00m myset\n",
      "\u001b[1;31mNameError\u001b[0m: name 'myset' is not defined"
     ]
    }
   ],
   "source": [
    "del myset# delete the whole set "
   ]
  },
  {
   "cell_type": "code",
   "execution_count": 46,
   "id": "18d32f70-5623-4504-becb-b6df6d2e4de0",
   "metadata": {},
   "outputs": [
    {
     "ename": "NameError",
     "evalue": "name 'myset' is not defined",
     "output_type": "error",
     "traceback": [
      "\u001b[1;31m---------------------------------------------------------------------------\u001b[0m",
      "\u001b[1;31mNameError\u001b[0m                                 Traceback (most recent call last)",
      "Cell \u001b[1;32mIn[46], line 1\u001b[0m\n\u001b[1;32m----> 1\u001b[0m myset\n",
      "\u001b[1;31mNameError\u001b[0m: name 'myset' is not defined"
     ]
    }
   ],
   "source": [
    "myset\n"
   ]
  },
  {
   "cell_type": "markdown",
   "id": "69cfd988-7722-4dc5-83d3-b084f0e964e0",
   "metadata": {},
   "source": [
    "**Copy SET**"
   ]
  },
  {
   "cell_type": "code",
   "execution_count": 47,
   "id": "367c1a83-82b0-4a97-a69f-f01cf96d63db",
   "metadata": {},
   "outputs": [],
   "source": [
    "myset={'one','two','three','four','five','six','seven','eight'}"
   ]
  },
  {
   "cell_type": "code",
   "execution_count": 48,
   "id": "487abb1c-eb42-4186-b91c-eb7a92b6ee70",
   "metadata": {},
   "outputs": [
    {
     "data": {
      "text/plain": [
       "{'eight', 'five', 'four', 'one', 'seven', 'six', 'three', 'two'}"
      ]
     },
     "execution_count": 48,
     "metadata": {},
     "output_type": "execute_result"
    }
   ],
   "source": [
    "myset"
   ]
  },
  {
   "cell_type": "code",
   "execution_count": 49,
   "id": "27646098-e468-4394-92ef-7415b810a839",
   "metadata": {},
   "outputs": [],
   "source": [
    "myset1=myset"
   ]
  },
  {
   "cell_type": "code",
   "execution_count": 50,
   "id": "ad0673d7-e437-434f-bc0d-435dae033267",
   "metadata": {},
   "outputs": [
    {
     "data": {
      "text/plain": [
       "{'eight', 'five', 'four', 'one', 'seven', 'six', 'three', 'two'}"
      ]
     },
     "execution_count": 50,
     "metadata": {},
     "output_type": "execute_result"
    }
   ],
   "source": [
    "myset1"
   ]
  },
  {
   "cell_type": "code",
   "execution_count": 51,
   "id": "594e0e3e-888a-4389-976b-a820f48fdeb5",
   "metadata": {},
   "outputs": [
    {
     "name": "stdout",
     "output_type": "stream",
     "text": [
      "2022065076960 2022065076960\n"
     ]
    }
   ],
   "source": [
    "print(id(myset1),id(myset))## if equal to will be there then id will be same "
   ]
  },
  {
   "cell_type": "code",
   "execution_count": 52,
   "id": "ac233363-60dc-4737-8e2f-6746139d68d0",
   "metadata": {},
   "outputs": [],
   "source": [
    "my_set=myset.copy()# crete a copy of list"
   ]
  },
  {
   "cell_type": "code",
   "execution_count": 53,
   "id": "00fe558f-3c51-4a9e-9080-5f22890e6947",
   "metadata": {},
   "outputs": [
    {
     "data": {
      "text/plain": [
       "2022083730496"
      ]
     },
     "execution_count": 53,
     "metadata": {},
     "output_type": "execute_result"
    }
   ],
   "source": [
    "id(my_set)"
   ]
  },
  {
   "cell_type": "code",
   "execution_count": 55,
   "id": "ea0e9644-7861-4ca4-9e0d-d0c51af99401",
   "metadata": {},
   "outputs": [],
   "source": [
    "myset.add('nine')"
   ]
  },
  {
   "cell_type": "code",
   "execution_count": 56,
   "id": "48ed55af-9ec0-4563-8e68-272c85d4c005",
   "metadata": {},
   "outputs": [
    {
     "data": {
      "text/plain": [
       "{'eight', 'five', 'four', 'nine', 'one', 'seven', 'six', 'three', 'two'}"
      ]
     },
     "execution_count": 56,
     "metadata": {},
     "output_type": "execute_result"
    }
   ],
   "source": [
    "myset"
   ]
  },
  {
   "cell_type": "code",
   "execution_count": 57,
   "id": "05f604c8-e0d4-4caf-8972-fa8e45e42591",
   "metadata": {},
   "outputs": [
    {
     "data": {
      "text/plain": [
       "{'eight', 'five', 'four', 'nine', 'one', 'seven', 'six', 'three', 'two'}"
      ]
     },
     "execution_count": 57,
     "metadata": {},
     "output_type": "execute_result"
    }
   ],
   "source": [
    "myset1# myset1 will also impact beacuse ID is same for myset1 and myset"
   ]
  },
  {
   "cell_type": "code",
   "execution_count": 58,
   "id": "250fdc5e-0d60-4c76-89be-e779db9bd8ed",
   "metadata": {},
   "outputs": [
    {
     "data": {
      "text/plain": [
       "{'eight', 'five', 'four', 'one', 'seven', 'six', 'three', 'two'}"
      ]
     },
     "execution_count": 58,
     "metadata": {},
     "output_type": "execute_result"
    }
   ],
   "source": [
    "my_set"
   ]
  },
  {
   "cell_type": "markdown",
   "id": "397f7d15-14f3-4776-98dd-7ad9e393df84",
   "metadata": {},
   "source": [
    "**Set Operation**\n",
    "--------------------"
   ]
  },
  {
   "cell_type": "code",
   "execution_count": 59,
   "id": "23107fc1-da4b-4418-8a91-e092e144e44f",
   "metadata": {},
   "outputs": [],
   "source": [
    "A = {1,2,3,4,5}\n",
    "B = {4,5,6,7,8}\n",
    "C = {8,9,10}"
   ]
  },
  {
   "cell_type": "code",
   "execution_count": 60,
   "id": "1d60e1b1-c842-4113-8bec-387fb8fe109a",
   "metadata": {},
   "outputs": [
    {
     "data": {
      "text/plain": [
       "{1, 2, 3, 4, 5, 6, 7, 8}"
      ]
     },
     "execution_count": 60,
     "metadata": {},
     "output_type": "execute_result"
    }
   ],
   "source": [
    "A|B # merge all the Value "
   ]
  },
  {
   "cell_type": "code",
   "execution_count": 62,
   "id": "ea776b4b-5eb8-464e-a9d6-625c065303f3",
   "metadata": {},
   "outputs": [
    {
     "data": {
      "text/plain": [
       "{1, 2, 3, 4, 5, 6, 7, 8}"
      ]
     },
     "execution_count": 62,
     "metadata": {},
     "output_type": "execute_result"
    }
   ],
   "source": [
    "A.union(B)"
   ]
  },
  {
   "cell_type": "code",
   "execution_count": 63,
   "id": "050d86fb-30bc-4ef6-b6da-36ee8c59b217",
   "metadata": {},
   "outputs": [
    {
     "data": {
      "text/plain": [
       "{4, 5, 6, 7, 8, 9, 10}"
      ]
     },
     "execution_count": 63,
     "metadata": {},
     "output_type": "execute_result"
    }
   ],
   "source": [
    "B|C "
   ]
  },
  {
   "cell_type": "code",
   "execution_count": 66,
   "id": "ac048176-9feb-4538-a9e2-cb671e94c602",
   "metadata": {},
   "outputs": [
    {
     "ename": "AttributeError",
     "evalue": "'set' object has no attribute 'Union'",
     "output_type": "error",
     "traceback": [
      "\u001b[1;31m---------------------------------------------------------------------------\u001b[0m",
      "\u001b[1;31mAttributeError\u001b[0m                            Traceback (most recent call last)",
      "Cell \u001b[1;32mIn[66], line 1\u001b[0m\n\u001b[1;32m----> 1\u001b[0m A\u001b[38;5;241m.\u001b[39mUnion(B)\n",
      "\u001b[1;31mAttributeError\u001b[0m: 'set' object has no attribute 'Union'"
     ]
    }
   ],
   "source": [
    "A.Union(B) #Union of A,B,"
   ]
  },
  {
   "cell_type": "code",
   "execution_count": 67,
   "id": "1335ab09-b99f-4c0d-b2d8-6ec241b562af",
   "metadata": {},
   "outputs": [],
   "source": [
    "A = {1,2,3,4,5}\n",
    "B = {4,5,6,7,8}\n",
    "C = {8,9,10}"
   ]
  },
  {
   "cell_type": "code",
   "execution_count": 68,
   "id": "2dd78918-1e07-4bfe-a622-6c7c5036a080",
   "metadata": {},
   "outputs": [
    {
     "data": {
      "text/plain": [
       "{1, 2, 3, 4, 5, 6, 7, 8}"
      ]
     },
     "execution_count": 68,
     "metadata": {},
     "output_type": "execute_result"
    }
   ],
   "source": [
    "A|B \n"
   ]
  },
  {
   "attachments": {
    "b23d59c7-1cc0-4c02-9430-fd2cd0a62ac2.png": {
     "image/png": "[encoded data removed]"
    }
   },
   "cell_type": "markdown",
   "id": "5f0c0220-06ed-4212-8911-ae8878235fb9",
   "metadata": {},
   "source": [
    "![image.png](attachment:b23d59c7-1cc0-4c02-9430-fd2cd0a62ac2.png)"
   ]
  },
  {
   "cell_type": "markdown",
   "id": "08a08234-6337-48cd-b3fc-451910d45866",
   "metadata": {},
   "source": [
    "A.union(B) # Union of A and B"
   ]
  },
  {
   "cell_type": "code",
   "execution_count": 70,
   "id": "b7496224-bdb7-46fc-9a91-e7d83df0dc08",
   "metadata": {},
   "outputs": [
    {
     "data": {
      "text/plain": [
       "{1, 2, 3, 4, 5, 6, 7, 8, 9, 10}"
      ]
     },
     "execution_count": 70,
     "metadata": {},
     "output_type": "execute_result"
    }
   ],
   "source": [
    "A.union(B,C)# Union of A, B and C."
   ]
  },
  {
   "cell_type": "code",
   "execution_count": 71,
   "id": "15af283e-9615-4653-b73a-adcc09b8441f",
   "metadata": {},
   "outputs": [
    {
     "data": {
      "text/plain": [
       "{1, 2, 3, 4, 5, 6, 7, 8, 9, 10}"
      ]
     },
     "execution_count": 71,
     "metadata": {},
     "output_type": "execute_result"
    }
   ],
   "source": [
    "\"\"\"\n",
    "Updates the set calling the update() method with union of A , B & C.\n",
    "For below example Set A will be updated with union of A,B & C. \"\"\"\n",
    "A.update(B,C)\n",
    "A"
   ]
  },
  {
   "attachments": {
    "f9d41202-1e89-4204-8972-d5a3771bf76e.png": {
     "image/png": "[encoded data removed]"
    }
   },
   "cell_type": "markdown",
   "id": "3513395c-16ff-439b-9813-acd167287777",
   "metadata": {},
   "source": [
    "![image.png](attachment:f9d41202-1e89-4204-8972-d5a3771bf76e.png)"
   ]
  },
  {
   "cell_type": "markdown",
   "id": "d09465c8-faa8-49e9-916c-56cdbc7800e4",
   "metadata": {},
   "source": [
    "**Intersection**"
   ]
  },
  {
   "cell_type": "code",
   "execution_count": 72,
   "id": "ef1fa712-0d8a-4815-a66f-f3ff84be93a0",
   "metadata": {},
   "outputs": [],
   "source": [
    "A = {1,2,3,4,5}\n",
    "B = {4,5,6,7,8}"
   ]
  },
  {
   "cell_type": "code",
   "execution_count": 73,
   "id": "9ef70fa3-0941-4786-88f3-0dd060aa35a5",
   "metadata": {},
   "outputs": [
    {
     "data": {
      "text/plain": [
       "{4, 5}"
      ]
     },
     "execution_count": 73,
     "metadata": {},
     "output_type": "execute_result"
    }
   ],
   "source": [
    "A&B ## Intersection of A and B (Common items in both sets)"
   ]
  },
  {
   "cell_type": "code",
   "execution_count": 74,
   "id": "7ba1e98f-14b3-449a-b794-bb82bec90bf4",
   "metadata": {},
   "outputs": [
    {
     "ename": "SyntaxError",
     "evalue": "invalid syntax (3871018507.py, line 1)",
     "output_type": "error",
     "traceback": [
      "\u001b[1;36m  Cell \u001b[1;32mIn[74], line 1\u001b[1;36m\u001b[0m\n\u001b[1;33m    A.intersection(B) Intersection of A and B\u001b[0m\n\u001b[1;37m                      ^\u001b[0m\n\u001b[1;31mSyntaxError\u001b[0m\u001b[1;31m:\u001b[0m invalid syntax\n"
     ]
    }
   ],
   "source": [
    "A.intersection(B) Intersection of A and B"
   ]
  },
  {
   "cell_type": "code",
   "execution_count": 75,
   "id": "6b52358d-a0d7-44d7-8f2f-931a951ede05",
   "metadata": {},
   "outputs": [
    {
     "data": {
      "text/plain": [
       "{4, 5}"
      ]
     },
     "execution_count": 75,
     "metadata": {},
     "output_type": "execute_result"
    }
   ],
   "source": [
    "\"\"\"\n",
    "Updates the set calling the intersection_update() method with the intersection o\n",
    "For below example Set A will be updated with the intersection of A & B. \"\"\"\n",
    "A.intersection_update(B)\n",
    "A"
   ]
  },
  {
   "attachments": {
    "7d3b6b60-9e5a-4a08-9f8a-476aa65cb681.png": {
     "image/png": "[encoded data removed]"
    }
   },
   "cell_type": "markdown",
   "id": "339f1a81-ccf3-45fd-b6e8-b67f39c63b9b",
   "metadata": {},
   "source": [
    "![image.png](attachment:7d3b6b60-9e5a-4a08-9f8a-476aa65cb681.png)"
   ]
  },
  {
   "cell_type": "markdown",
   "id": "b06616fb-85a9-4e02-88d3-5b022a3106ce",
   "metadata": {},
   "source": [
    "**Difference**"
   ]
  },
  {
   "cell_type": "code",
   "execution_count": 76,
   "id": "8510f4a4-24bd-472d-8a22-329da98a52f3",
   "metadata": {},
   "outputs": [],
   "source": [
    "A = {1,2,3,4,5}\n",
    "B = {4,5,6,7,8}"
   ]
  },
  {
   "cell_type": "code",
   "execution_count": 77,
   "id": "1672d470-aafd-43ea-8594-75c135d3d4a2",
   "metadata": {},
   "outputs": [
    {
     "data": {
      "text/plain": [
       "{1, 2, 3}"
      ]
     },
     "execution_count": 77,
     "metadata": {},
     "output_type": "execute_result"
    }
   ],
   "source": [
    "A-B"
   ]
  },
  {
   "cell_type": "code",
   "execution_count": 78,
   "id": "ebe5217b-c330-47c5-a795-4adaa9f6f46f",
   "metadata": {},
   "outputs": [
    {
     "data": {
      "text/plain": [
       "{6, 7, 8}"
      ]
     },
     "execution_count": 78,
     "metadata": {},
     "output_type": "execute_result"
    }
   ],
   "source": [
    "B-A"
   ]
  },
  {
   "cell_type": "code",
   "execution_count": 79,
   "id": "4f4b8d68-7b08-4686-b3f7-db6720f402b9",
   "metadata": {},
   "outputs": [],
   "source": [
    "A = {1,2,3,4,5}\n",
    "B = {4,5,6,7,8}"
   ]
  },
  {
   "cell_type": "code",
   "execution_count": 80,
   "id": "5fd742be-b84f-4512-936f-bb209fd003d7",
   "metadata": {},
   "outputs": [
    {
     "ename": "SyntaxError",
     "evalue": "invalid syntax (2581941086.py, line 1)",
     "output_type": "error",
     "traceback": [
      "\u001b[1;36m  Cell \u001b[1;32mIn[80], line 1\u001b[1;36m\u001b[0m\n\u001b[1;33m    A.\u001b[0m\n\u001b[1;37m      ^\u001b[0m\n\u001b[1;31mSyntaxError\u001b[0m\u001b[1;31m:\u001b[0m invalid syntax\n"
     ]
    }
   ],
   "source": [
    "A."
   ]
  },
  {
   "cell_type": "code",
   "execution_count": 81,
   "id": "9cb3866c-eef9-4053-9129-eec3a8cdcc15",
   "metadata": {},
   "outputs": [
    {
     "data": {
      "text/plain": [
       "{1, 2, 3, 4, 5}"
      ]
     },
     "execution_count": 81,
     "metadata": {},
     "output_type": "execute_result"
    }
   ],
   "source": [
    "A"
   ]
  },
  {
   "cell_type": "code",
   "execution_count": 82,
   "id": "547e48be-1095-4038-9bba-8a99e769f073",
   "metadata": {},
   "outputs": [
    {
     "data": {
      "text/plain": [
       "{4, 5, 6, 7, 8}"
      ]
     },
     "execution_count": 82,
     "metadata": {},
     "output_type": "execute_result"
    }
   ],
   "source": [
    "B"
   ]
  },
  {
   "cell_type": "code",
   "execution_count": 83,
   "id": "3ce26c28-01ea-44b7-8609-7c80bf6124bc",
   "metadata": {},
   "outputs": [],
   "source": [
    "A.intersection_update(B)"
   ]
  },
  {
   "cell_type": "code",
   "execution_count": 84,
   "id": "6df76f72-44b2-4155-b738-376fb7578977",
   "metadata": {},
   "outputs": [
    {
     "data": {
      "text/plain": [
       "{4, 5}"
      ]
     },
     "execution_count": 84,
     "metadata": {},
     "output_type": "execute_result"
    }
   ],
   "source": [
    "A"
   ]
  },
  {
   "cell_type": "code",
   "execution_count": 85,
   "id": "8759806d-1d26-44ca-a9eb-0b6b2a670b30",
   "metadata": {},
   "outputs": [
    {
     "data": {
      "text/plain": [
       "{4, 5}"
      ]
     },
     "execution_count": 85,
     "metadata": {},
     "output_type": "execute_result"
    }
   ],
   "source": [
    "A\n"
   ]
  },
  {
   "cell_type": "code",
   "execution_count": 86,
   "id": "ec70d652-838c-4138-a5b1-8d6d0c6fae57",
   "metadata": {},
   "outputs": [],
   "source": [
    "A = {1,2,3,4,5}\n",
    "B = {6,7,8,9,10}"
   ]
  },
  {
   "cell_type": "code",
   "execution_count": 87,
   "id": "69f0ee2b-01eb-402b-b4da-9827fb14dc87",
   "metadata": {},
   "outputs": [],
   "source": [
    "A.intersection_update(B)"
   ]
  },
  {
   "cell_type": "code",
   "execution_count": 88,
   "id": "458678ac-4b2e-4548-90ad-865a4d071108",
   "metadata": {},
   "outputs": [
    {
     "data": {
      "text/plain": [
       "set()"
      ]
     },
     "execution_count": 88,
     "metadata": {},
     "output_type": "execute_result"
    }
   ],
   "source": [
    "A\n"
   ]
  },
  {
   "cell_type": "code",
   "execution_count": 89,
   "id": "0dfe5bf5-da31-4e60-94ab-8cfba9868235",
   "metadata": {},
   "outputs": [
    {
     "data": {
      "text/plain": [
       "{6, 7, 8, 9, 10}"
      ]
     },
     "execution_count": 89,
     "metadata": {},
     "output_type": "execute_result"
    }
   ],
   "source": [
    "B"
   ]
  },
  {
   "cell_type": "code",
   "execution_count": 92,
   "id": "83638fcc-251c-4a37-acb1-03352fd4b7e6",
   "metadata": {},
   "outputs": [],
   "source": [
    "A = {1,2,3,4,5}\n",
    "B = {4,5,6,7,8}"
   ]
  },
  {
   "cell_type": "code",
   "execution_count": 93,
   "id": "a939c6fa-2dd2-493e-8233-3268c99079a9",
   "metadata": {},
   "outputs": [
    {
     "data": {
      "text/plain": [
       "{4, 5}"
      ]
     },
     "execution_count": 93,
     "metadata": {},
     "output_type": "execute_result"
    }
   ],
   "source": [
    "A.intersection(B)"
   ]
  },
  {
   "cell_type": "code",
   "execution_count": 94,
   "id": "792f9054-5010-45d1-abd4-f696ff9bfb88",
   "metadata": {},
   "outputs": [
    {
     "data": {
      "text/plain": [
       "{1, 2, 3, 4, 5}"
      ]
     },
     "execution_count": 94,
     "metadata": {},
     "output_type": "execute_result"
    }
   ],
   "source": [
    "A"
   ]
  },
  {
   "cell_type": "code",
   "execution_count": 95,
   "id": "fe82222a-0148-48b3-8a7d-e8e00bde4b8b",
   "metadata": {},
   "outputs": [],
   "source": [
    "A = {1,2,3,4,5}\n",
    "B = {4,5,6,7,8}"
   ]
  },
  {
   "cell_type": "code",
   "execution_count": 96,
   "id": "51642265-4366-48ab-928d-7f31370238c1",
   "metadata": {},
   "outputs": [
    {
     "data": {
      "text/plain": [
       "{1, 2, 3}"
      ]
     },
     "execution_count": 96,
     "metadata": {},
     "output_type": "execute_result"
    }
   ],
   "source": [
    "A.difference(B)## This will not modify the original value but Difference_update will modify the original value ."
   ]
  },
  {
   "cell_type": "code",
   "execution_count": 97,
   "id": "a25a54ab-23ef-4155-9f9b-00c89520206e",
   "metadata": {},
   "outputs": [
    {
     "data": {
      "text/plain": [
       "{1, 2, 3, 4, 5}"
      ]
     },
     "execution_count": 97,
     "metadata": {},
     "output_type": "execute_result"
    }
   ],
   "source": [
    "A"
   ]
  },
  {
   "cell_type": "code",
   "execution_count": 98,
   "id": "fcc795b7-4b0d-4c84-996e-bc703c9dabaf",
   "metadata": {},
   "outputs": [
    {
     "data": {
      "text/plain": [
       "{6, 7, 8}"
      ]
     },
     "execution_count": 98,
     "metadata": {},
     "output_type": "execute_result"
    }
   ],
   "source": [
    "B.difference(A)"
   ]
  },
  {
   "cell_type": "markdown",
   "id": "d4a341e5-b80e-49ff-8c8c-8a0831cb4c3d",
   "metadata": {},
   "source": [
    "**Difference_update :- This will modify original value store in original variable "
   ]
  },
  {
   "cell_type": "code",
   "execution_count": 99,
   "id": "6f023e3b-2331-4781-aa3b-cd959c7212de",
   "metadata": {},
   "outputs": [],
   "source": [
    "A = {1,2,3,4,5}\n",
    "B = {4,5,6,7,8}"
   ]
  },
  {
   "cell_type": "code",
   "execution_count": 100,
   "id": "f4d4338f-b69b-4ba3-95f2-8045dbf600b8",
   "metadata": {},
   "outputs": [],
   "source": [
    "A.difference_update(B)(# you can see below this has been modified the original value )"
   ]
  },
  {
   "cell_type": "code",
   "execution_count": 101,
   "id": "1197dba0-17ad-418d-bc0d-5e4414abb91f",
   "metadata": {},
   "outputs": [
    {
     "data": {
      "text/plain": [
       "{1, 2, 3}"
      ]
     },
     "execution_count": 101,
     "metadata": {},
     "output_type": "execute_result"
    }
   ],
   "source": [
    "A"
   ]
  },
  {
   "cell_type": "markdown",
   "id": "abfb3b0f-0705-4935-88b0-13632fbae31b",
   "metadata": {},
   "source": [
    "**Symmetric Difference**\n",
    "--------------------------"
   ]
  },
  {
   "cell_type": "code",
   "execution_count": 102,
   "id": "edee6d9e-3515-427e-b77e-917187c1673c",
   "metadata": {},
   "outputs": [],
   "source": [
    "A = {1,2,3,4,5}\n",
    "B = {4,5,6,7,8}"
   ]
  },
  {
   "cell_type": "code",
   "execution_count": 103,
   "id": "5bba3d5b-3eeb-4a8b-bd31-89eb82389ade",
   "metadata": {},
   "outputs": [
    {
     "data": {
      "text/plain": [
       "{1, 2, 3, 6, 7, 8}"
      ]
     },
     "execution_count": 103,
     "metadata": {},
     "output_type": "execute_result"
    }
   ],
   "source": [
    "A^B#Except Comman value All will print"
   ]
  },
  {
   "cell_type": "code",
   "execution_count": 104,
   "id": "02938347-7a6f-48d1-83fa-2a7357a760a6",
   "metadata": {},
   "outputs": [
    {
     "data": {
      "text/plain": [
       "set"
      ]
     },
     "execution_count": 104,
     "metadata": {},
     "output_type": "execute_result"
    }
   ],
   "source": [
    "type(A^B)"
   ]
  },
  {
   "cell_type": "code",
   "execution_count": 105,
   "id": "7a537876-a2dc-4dd4-b188-865a6ae324f7",
   "metadata": {},
   "outputs": [
    {
     "data": {
      "text/plain": [
       "{1, 2, 3, 6, 7, 8}"
      ]
     },
     "execution_count": 105,
     "metadata": {},
     "output_type": "execute_result"
    }
   ],
   "source": [
    "A.symmetric_difference(B)"
   ]
  },
  {
   "cell_type": "code",
   "execution_count": 108,
   "id": "4c926537-94a9-42f1-8d40-256152e98d9b",
   "metadata": {},
   "outputs": [],
   "source": [
    "A.symmetric_difference_update(B)# here new set has been not created in update it directly change the original value of a variable "
   ]
  },
  {
   "cell_type": "code",
   "execution_count": 109,
   "id": "9ecd9a0e-8cec-4729-a4d3-a0884a701328",
   "metadata": {},
   "outputs": [
    {
     "data": {
      "text/plain": [
       "{1, 2, 3, 4, 5}"
      ]
     },
     "execution_count": 109,
     "metadata": {},
     "output_type": "execute_result"
    }
   ],
   "source": [
    "A\n"
   ]
  },
  {
   "cell_type": "markdown",
   "id": "2566b3ea-f8a7-4c08-9c32-a5ea93a676cb",
   "metadata": {},
   "source": [
    "**Subset ,Superset & Disjoint**\n",
    "--------------------------------\n",
    "\n"
   ]
  },
  {
   "cell_type": "markdown",
   "id": "f0982c8f-25a0-4867-8a06-ff4a17053e79",
   "metadata": {},
   "source": [
    "#Subset(Father),superset(Son),Disjoint(Nabour)##For Hint purpose"
   ]
  },
  {
   "cell_type": "code",
   "execution_count": 111,
   "id": "9173c2f2-dfb5-423f-ad19-672787e532a4",
   "metadata": {},
   "outputs": [],
   "source": [
    "A = {1,2,3,4,5,6,7,8,9}\n",
    "B = {3,4,5,6,7,8}\n",
    "C = {10,20,30,40}"
   ]
  },
  {
   "cell_type": "code",
   "execution_count": 112,
   "id": "b9248556-6559-4941-80a8-8db24d14fb0c",
   "metadata": {},
   "outputs": [
    {
     "data": {
      "text/plain": [
       "True"
      ]
     },
     "execution_count": 112,
     "metadata": {},
     "output_type": "execute_result"
    }
   ],
   "source": [
    "B.issubset(A)"
   ]
  },
  {
   "cell_type": "markdown",
   "id": "f839ba70-abaa-41a5-aa2d-a56b0d192ab3",
   "metadata": {},
   "source": [
    "**Concept\t     Meaning\n",
    "Subset\t    A ⊆ B → A is inside B,\n",
    "Superset\tB ⊇ A → B contains all elements of A,\n",
    "Disjoint\tNo common elements**"
   ]
  },
  {
   "cell_type": "code",
   "execution_count": 113,
   "id": "66fae62a-8a44-44ab-b351-53c36af5b448",
   "metadata": {},
   "outputs": [
    {
     "data": {
      "text/plain": [
       "False"
      ]
     },
     "execution_count": 113,
     "metadata": {},
     "output_type": "execute_result"
    }
   ],
   "source": [
    "A.issubset(B)"
   ]
  },
  {
   "cell_type": "code",
   "execution_count": 115,
   "id": "f77c1ebf-ef45-4d10-aafe-5f82ae6ff1de",
   "metadata": {},
   "outputs": [
    {
     "data": {
      "text/plain": [
       "False"
      ]
     },
     "execution_count": 115,
     "metadata": {},
     "output_type": "execute_result"
    }
   ],
   "source": [
    "C.issubset(A)"
   ]
  },
  {
   "cell_type": "code",
   "execution_count": 116,
   "id": "d7cb0e45-b724-48fb-9dd8-194afabd2728",
   "metadata": {},
   "outputs": [
    {
     "data": {
      "text/plain": [
       "True"
      ]
     },
     "execution_count": 116,
     "metadata": {},
     "output_type": "execute_result"
    }
   ],
   "source": [
    "A.issuperset(B)"
   ]
  },
  {
   "cell_type": "code",
   "execution_count": 117,
   "id": "45fd608d-4b2f-46da-a9bc-b197f7db791e",
   "metadata": {},
   "outputs": [
    {
     "data": {
      "text/plain": [
       "False"
      ]
     },
     "execution_count": 117,
     "metadata": {},
     "output_type": "execute_result"
    }
   ],
   "source": [
    "B.issuperset(A)"
   ]
  },
  {
   "cell_type": "markdown",
   "id": "bdad61b7-e8f7-4ed8-a7ed-99a2436b52ba",
   "metadata": {},
   "source": [
    "Subset means the smaller set is inside the bigger set.\n",
    "\n",
    "Superset means the bigger set contains the smaller set."
   ]
  },
  {
   "cell_type": "code",
   "execution_count": 118,
   "id": "40e61517-ef6a-446c-bc18-a36883512060",
   "metadata": {},
   "outputs": [
    {
     "data": {
      "text/plain": [
       "True"
      ]
     },
     "execution_count": 118,
     "metadata": {},
     "output_type": "execute_result"
    }
   ],
   "source": [
    "A.issuperset(B)#Superset means the bigger set contains the smaller set."
   ]
  },
  {
   "cell_type": "code",
   "execution_count": 119,
   "id": "704da823-ea23-458d-917e-973b762fc76e",
   "metadata": {},
   "outputs": [
    {
     "data": {
      "text/plain": [
       "True"
      ]
     },
     "execution_count": 119,
     "metadata": {},
     "output_type": "execute_result"
    }
   ],
   "source": [
    "A.isdisjoint(C)"
   ]
  },
  {
   "cell_type": "code",
   "execution_count": 120,
   "id": "f8a02f53-80f1-41a8-a914-0a4c38a59466",
   "metadata": {},
   "outputs": [
    {
     "data": {
      "text/plain": [
       "True"
      ]
     },
     "execution_count": 120,
     "metadata": {},
     "output_type": "execute_result"
    }
   ],
   "source": [
    "B.isdisjoint(C)"
   ]
  },
  {
   "cell_type": "markdown",
   "id": "1601a6a0-0fc2-46f7-b28d-4ac911f2467f",
   "metadata": {},
   "source": [
    "**Other Buildin Function**\n",
    "------------------------------"
   ]
  },
  {
   "cell_type": "code",
   "execution_count": 121,
   "id": "2203a44f-f384-485c-933f-28ffbed72a79",
   "metadata": {},
   "outputs": [
    {
     "data": {
      "text/plain": [
       "{1, 2, 3, 4, 5, 6, 7, 8, 9}"
      ]
     },
     "execution_count": 121,
     "metadata": {},
     "output_type": "execute_result"
    }
   ],
   "source": [
    "A\n"
   ]
  },
  {
   "cell_type": "code",
   "execution_count": 123,
   "id": "3d6602f9-804e-4a2f-9dea-1792e9564df9",
   "metadata": {},
   "outputs": [
    {
     "data": {
      "text/plain": [
       "45"
      ]
     },
     "execution_count": 123,
     "metadata": {},
     "output_type": "execute_result"
    }
   ],
   "source": [
    "sum(A)"
   ]
  },
  {
   "cell_type": "code",
   "execution_count": 124,
   "id": "685f4c73-d5c8-4ada-9eb2-96d5eea6fe6e",
   "metadata": {},
   "outputs": [
    {
     "data": {
      "text/plain": [
       "9"
      ]
     },
     "execution_count": 124,
     "metadata": {},
     "output_type": "execute_result"
    }
   ],
   "source": [
    "max(A)"
   ]
  },
  {
   "cell_type": "code",
   "execution_count": 125,
   "id": "ae4bcd69-30f1-4ad6-ace3-a3d2bba34f61",
   "metadata": {},
   "outputs": [
    {
     "data": {
      "text/plain": [
       "1"
      ]
     },
     "execution_count": 125,
     "metadata": {},
     "output_type": "execute_result"
    }
   ],
   "source": [
    "min(A)"
   ]
  },
  {
   "cell_type": "code",
   "execution_count": 126,
   "id": "d567b3ed-a3e5-4c9b-bc55-7b9af00c3165",
   "metadata": {},
   "outputs": [
    {
     "data": {
      "text/plain": [
       "9"
      ]
     },
     "execution_count": 126,
     "metadata": {},
     "output_type": "execute_result"
    }
   ],
   "source": [
    "len(A)"
   ]
  },
  {
   "cell_type": "code",
   "execution_count": 127,
   "id": "cef7e287-4f56-4c63-bd2b-0b43cc78b7f6",
   "metadata": {},
   "outputs": [
    {
     "data": {
      "text/plain": [
       "list[<enumerate object at 0x000001D6CD5CFC90>]"
      ]
     },
     "execution_count": 127,
     "metadata": {},
     "output_type": "execute_result"
    }
   ],
   "source": [
    "list[enumerate(A)]"
   ]
  },
  {
   "cell_type": "code",
   "execution_count": null,
   "id": "63145c41-b526-4b34-aace-1cb90e9c1a18",
   "metadata": {},
   "outputs": [],
   "source": [
    "list(enumerate"
   ]
  }
 ],
 "metadata": {
  "kernelspec": {
   "display_name": "Python 3 (ipykernel)",
   "language": "python",
   "name": "python3"
  },
  "language_info": {
   "codemirror_mode": {
    "name": "ipython",
    "version": 3
   },
   "file_extension": ".py",
   "mimetype": "text/x-python",
   "name": "python",
   "nbconvert_exporter": "python",
   "pygments_lexer": "ipython3",
   "version": "3.12.7"
  }
 },
 "nbformat": 4,
 "nbformat_minor": 5
}
