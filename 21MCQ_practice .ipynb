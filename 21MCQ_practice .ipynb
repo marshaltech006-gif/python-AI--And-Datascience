{
 "cells": [
  {
   "cell_type": "markdown",
   "id": "556944b7-a68b-4d52-b1e9-c7706e13f7d3",
   "metadata": {},
   "source": [
    "**Variable and data type MCQ question**"
   ]
  },
  {
   "cell_type": "code",
   "execution_count": 2,
   "id": "606c8629-aa36-4367-bc93-35eac2e6a23b",
   "metadata": {},
   "outputs": [],
   "source": [
    "#question number 9\n",
    "my_var = 10  # Global variable\n",
    "\n",
    "def modify_variable():\n",
    "    global my_var\n",
    "    my_var = 20  # Modifies the global variable\n",
    "\n",
    "modify_variable()\n",
    "print(my_var)  # Output: 20\n"
   ]
  },
  {
   "cell_type": "code",
   "execution_count": 3,
   "id": "cbf3573f-053b-442f-9544-6beeac0d1965",
   "metadata": {},
   "outputs": [],
   "source": [
    "#Q_12\n",
    "x=5\n",
    "y=2"
   ]
  },
  {
   "cell_type": "code",
   "execution_count": 4,
   "id": "9d88c9f1-5dee-4198-8f5e-e790f611e725",
   "metadata": {},
   "outputs": [
    {
     "name": "stdout",
     "output_type": "stream",
     "text": [
      "True\n"
     ]
    }
   ],
   "source": [
    "var = 2\n",
    "print(2 == 2.0)"
   ]
  },
  {
   "cell_type": "code",
   "execution_count": 5,
   "id": "2adae0a8-e4ab-48f8-b08c-3e39ca7ca7de",
   "metadata": {},
   "outputs": [
    {
     "name": "stdout",
     "output_type": "stream",
     "text": [
      "True "
     ]
    },
    {
     "ename": "ValueError",
     "evalue": "invalid literal for int() with base 10: '4.5'",
     "output_type": "error",
     "traceback": [
      "\u001b[1;31m---------------------------------------------------------------------------\u001b[0m",
      "\u001b[1;31mValueError\u001b[0m                                Traceback (most recent call last)",
      "Cell \u001b[1;32mIn[5], line 2\u001b[0m\n\u001b[0;32m      1\u001b[0m \u001b[38;5;28mprint\u001b[39m(\u001b[38;5;28mstr\u001b[39m(\u001b[38;5;28;01mTrue\u001b[39;00m), end\u001b[38;5;241m=\u001b[39m\u001b[38;5;124m\"\u001b[39m\u001b[38;5;124m \u001b[39m\u001b[38;5;124m\"\u001b[39m)\n\u001b[1;32m----> 2\u001b[0m \u001b[38;5;28mint\u001b[39m(\u001b[38;5;124m\"\u001b[39m\u001b[38;5;124m4.5\u001b[39m\u001b[38;5;124m\"\u001b[39m)\n",
      "\u001b[1;31mValueError\u001b[0m: invalid literal for int() with base 10: '4.5'"
     ]
    }
   ],
   "source": [
    "print(str(True), end=\" \")\n",
    "int(\"4.5\")"
   ]
  },
  {
   "cell_type": "code",
   "execution_count": 6,
   "id": "c496b7b4-2b95-407a-88b0-e89365e43331",
   "metadata": {},
   "outputs": [
    {
     "name": "stdout",
     "output_type": "stream",
     "text": [
      "{1, 3, 4, 5, 6}\n"
     ]
    }
   ],
   "source": [
    "set1 = {1, 5, 6, 4, 3}\n",
    "print(set1)"
   ]
  },
  {
   "cell_type": "code",
   "execution_count": 7,
   "id": "c2e3abcc-92bd-43dd-a3ae-953b7606a86f",
   "metadata": {},
   "outputs": [
    {
     "name": "stdout",
     "output_type": "stream",
     "text": [
      "{1, 3, 4, 5, 6}\n"
     ]
    }
   ],
   "source": [
    "set1 = {1, 5, 6, 4, 3}\n",
    "print(set1)\n"
   ]
  },
  {
   "cell_type": "code",
   "execution_count": 8,
   "id": "fee8876d-fc67-43da-b452-2764547fb0fd",
   "metadata": {},
   "outputs": [
    {
     "name": "stdout",
     "output_type": "stream",
     "text": [
      "{1, 3, 4, 5, 6}\n"
     ]
    }
   ],
   "source": [
    "set1 = {1, 5, 6, 4, 3}\n",
    "print(set1)"
   ]
  },
  {
   "cell_type": "code",
   "execution_count": 14,
   "id": "e91958cb-609f-47c5-862f-d407d43c479c",
   "metadata": {},
   "outputs": [
    {
     "name": "stdout",
     "output_type": "stream",
     "text": [
      "76\n",
      "76\n"
     ]
    }
   ],
   "source": [
    "x = 75\n",
    "def myfunc():\n",
    "    global x\n",
    "    x = x + 1\n",
    "    print(x)\n",
    "myfunc()\n",
    "\n",
    "print(x)\n"
   ]
  },
  {
   "cell_type": "code",
   "execution_count": 17,
   "id": "afc115e2-f415-4e84-823d-34acb36f9fd8",
   "metadata": {},
   "outputs": [
    {
     "name": "stdout",
     "output_type": "stream",
     "text": [
      "75\n"
     ]
    }
   ],
   "source": [
    "x = 75\n",
    "def myfunc():\n",
    "    #x = x + 1\n",
    "    #print(x)\n",
    "    pass\n",
    "myfunc()\n",
    "print(x)"
   ]
  },
  {
   "cell_type": "code",
   "execution_count": 23,
   "id": "8205e33a-cfe2-4bf2-b72a-25d4c75d010e",
   "metadata": {},
   "outputs": [
    {
     "ename": "NameError",
     "evalue": "name 'z' is not defined",
     "output_type": "error",
     "traceback": [
      "\u001b[1;31m---------------------------------------------------------------------------\u001b[0m",
      "\u001b[1;31mNameError\u001b[0m                                 Traceback (most recent call last)",
      "Cell \u001b[1;32mIn[23], line 5\u001b[0m\n\u001b[0;32m      3\u001b[0m     \u001b[38;5;28;01mreturn\u001b[39;00m z\n\u001b[0;32m      4\u001b[0m func1()\n\u001b[1;32m----> 5\u001b[0m \u001b[38;5;28mprint\u001b[39m(z)\n",
      "\u001b[1;31mNameError\u001b[0m: name 'z' is not defined"
     ]
    }
   ],
   "source": [
    "def func1():\n",
    "    z = 50\n",
    "    return z\n",
    "func1()\n",
    "print(z)"
   ]
  },
  {
   "cell_type": "code",
   "execution_count": 24,
   "id": "1ca3cbe3-70de-47af-810d-d3e955fcbde3",
   "metadata": {},
   "outputs": [
    {
     "name": "stdout",
     "output_type": "stream",
     "text": [
      "{'b', 'c'}\n"
     ]
    }
   ],
   "source": [
    "x = {\"a\", \"b\", \"c\"}\n",
    "y = {\"b\", \"c\", \"d\"}\n",
    "z = x & y\n",
    "print(z)"
   ]
  },
  {
   "cell_type": "code",
   "execution_count": 25,
   "id": "221911d2-a774-46a3-898d-27bddcb8e59e",
   "metadata": {},
   "outputs": [
    {
     "name": "stdout",
     "output_type": "stream",
     "text": [
      "(1, 2, [5, 4])\n"
     ]
    }
   ],
   "source": [
    "x = (1, 2, [3, 4])\n",
    "x[2][0] = 5\n",
    "print(x)"
   ]
  },
  {
   "cell_type": "code",
   "execution_count": 26,
   "id": "0261a017-162c-431d-8fca-d5695fb8db74",
   "metadata": {},
   "outputs": [
    {
     "ename": "KeyError",
     "evalue": "'address'",
     "output_type": "error",
     "traceback": [
      "\u001b[1;31m---------------------------------------------------------------------------\u001b[0m",
      "\u001b[1;31mKeyError\u001b[0m                                  Traceback (most recent call last)",
      "Cell \u001b[1;32mIn[26], line 2\u001b[0m\n\u001b[0;32m      1\u001b[0m x \u001b[38;5;241m=\u001b[39m {\u001b[38;5;124m\"\u001b[39m\u001b[38;5;124mname\u001b[39m\u001b[38;5;124m\"\u001b[39m: \u001b[38;5;124m\"\u001b[39m\u001b[38;5;124mJohn\u001b[39m\u001b[38;5;124m\"\u001b[39m, \u001b[38;5;124m\"\u001b[39m\u001b[38;5;124mage\u001b[39m\u001b[38;5;124m\"\u001b[39m: \u001b[38;5;241m30\u001b[39m}\n\u001b[1;32m----> 2\u001b[0m \u001b[38;5;28mprint\u001b[39m(x[\u001b[38;5;124m\"\u001b[39m\u001b[38;5;124maddress\u001b[39m\u001b[38;5;124m\"\u001b[39m])\n",
      "\u001b[1;31mKeyError\u001b[0m: 'address'"
     ]
    }
   ],
   "source": [
    "x = {\"name\": \"John\", \"age\": 30}\n",
    "print(x[\"address\"])"
   ]
  },
  {
   "cell_type": "code",
   "execution_count": 27,
   "id": "29ffb91c-6555-464e-8fe3-bb6dab165006",
   "metadata": {},
   "outputs": [],
   "source": [
    "x = {\"apple\", \"banana\", \"cherry\"}\n",
    "y = x.pop()"
   ]
  },
  {
   "cell_type": "code",
   "execution_count": 28,
   "id": "196b351b-b119-4fdc-b808-00f168f90d39",
   "metadata": {},
   "outputs": [
    {
     "data": {
      "text/plain": [
       "'banana'"
      ]
     },
     "execution_count": 28,
     "metadata": {},
     "output_type": "execute_result"
    }
   ],
   "source": [
    "y"
   ]
  },
  {
   "cell_type": "code",
   "execution_count": 29,
   "id": "a0b60645-1737-40ee-8702-5dea1d85c224",
   "metadata": {},
   "outputs": [
    {
     "name": "stdout",
     "output_type": "stream",
     "text": [
      "Popped element: 1\n",
      "Updated set: {2, 3, 4, 5}\n"
     ]
    }
   ],
   "source": [
    "my_set = {1, 2, 3, 4, 5}\n",
    "popped_element = my_set.pop()\n",
    "print(f\"Popped element: {popped_element}\")\n",
    "print(f\"Updated set: {my_set}\")\n"
   ]
  },
  {
   "cell_type": "code",
   "execution_count": 30,
   "id": "8d2e8cdf-c5eb-432c-8645-2ed09904a9ef",
   "metadata": {},
   "outputs": [
    {
     "name": "stdout",
     "output_type": "stream",
     "text": [
      "{'c', 'a'}\n"
     ]
    }
   ],
   "source": [
    "x = {\"a\", \"b\", \"c\"}\n",
    "y = x - {\"b\"}\n",
    "print(y)"
   ]
  },
  {
   "cell_type": "code",
   "execution_count": null,
   "id": "8e241d92-e91a-4dce-8d01-28a178402886",
   "metadata": {},
   "outputs": [],
   "source": []
  }
 ],
 "metadata": {
  "kernelspec": {
   "display_name": "Python 3 (ipykernel)",
   "language": "python",
   "name": "python3"
  },
  "language_info": {
   "codemirror_mode": {
    "name": "ipython",
    "version": 3
   },
   "file_extension": ".py",
   "mimetype": "text/x-python",
   "name": "python",
   "nbconvert_exporter": "python",
   "pygments_lexer": "ipython3",
   "version": "3.12.7"
  }
 },
 "nbformat": 4,
 "nbformat_minor": 5
}
