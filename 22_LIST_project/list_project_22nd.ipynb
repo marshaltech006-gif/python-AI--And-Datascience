{
 "cells": [
  {
   "cell_type": "code",
   "execution_count": 1,
   "id": "dc84f6be-eb99-416e-aa08-674a4716fda2",
   "metadata": {},
   "outputs": [],
   "source": [
    "txt=\"   abc def ghi    \""
   ]
  },
  {
   "cell_type": "code",
   "execution_count": 2,
   "id": "1d55239e-2270-4b78-9407-1168e8352388",
   "metadata": {},
   "outputs": [
    {
     "data": {
      "text/plain": [
       "'abc def ghi    '"
      ]
     },
     "execution_count": 2,
     "metadata": {},
     "output_type": "execute_result"
    }
   ],
   "source": [
    "txt.lstrip()"
   ]
  },
  {
   "cell_type": "code",
   "execution_count": 3,
   "id": "58f305cf-6310-4012-b636-505729b5bbff",
   "metadata": {},
   "outputs": [
    {
     "data": {
      "text/plain": [
       "'   abc def ghi'"
      ]
     },
     "execution_count": 3,
     "metadata": {},
     "output_type": "execute_result"
    }
   ],
   "source": [
    "txt.rstrip()"
   ]
  },
  {
   "cell_type": "code",
   "execution_count": 4,
   "id": "4be89c4b-ab94-4e18-ba3d-8cdcfc9b88cb",
   "metadata": {},
   "outputs": [
    {
     "data": {
      "text/plain": [
       "'abc def ghi'"
      ]
     },
     "execution_count": 4,
     "metadata": {},
     "output_type": "execute_result"
    }
   ],
   "source": [
    "txt.strip()"
   ]
  },
  {
   "cell_type": "code",
   "execution_count": 5,
   "id": "f25a37d6-59fc-4c09-a40f-b9559a02e06b",
   "metadata": {},
   "outputs": [
    {
     "data": {
      "text/plain": [
       "'   abc def ghi    '"
      ]
     },
     "execution_count": 5,
     "metadata": {},
     "output_type": "execute_result"
    }
   ],
   "source": [
    "txt"
   ]
  },
  {
   "cell_type": "markdown",
   "id": "892cf64d-54b1-4674-9f59-5d030f94db12",
   "metadata": {},
   "source": [
    "**Using Escape Character**"
   ]
  },
  {
   "cell_type": "code",
   "execution_count": 6,
   "id": "f9164c3e-0a3d-48c3-a6e1-b77a275d7248",
   "metadata": {},
   "outputs": [
    {
     "ename": "SyntaxError",
     "evalue": "invalid syntax (451131313.py, line 2)",
     "output_type": "error",
     "traceback": [
      "\u001b[1;36m  Cell \u001b[1;32mIn[6], line 2\u001b[1;36m\u001b[0m\n\u001b[1;33m    mystr=\"my favourite TV show is \"Game of thrones\"\"\u001b[0m\n\u001b[1;37m                                    ^\u001b[0m\n\u001b[1;31mSyntaxError\u001b[0m\u001b[1;31m:\u001b[0m invalid syntax\n"
     ]
    }
   ],
   "source": [
    "# using double quotes is not allowed in string \n",
    "mystr=\"my favourite TV show is \"Game of thrones\"\""
   ]
  },
  {
   "cell_type": "code",
   "execution_count": 9,
   "id": "2d8669c2-8993-4667-9d85-3d5ffa4943f5",
   "metadata": {},
   "outputs": [
    {
     "data": {
      "text/plain": [
       "'my favourite TV show is \"Game of Thrones\"'"
      ]
     },
     "execution_count": 9,
     "metadata": {},
     "output_type": "execute_result"
    }
   ],
   "source": [
    "mystr = \"my favourite TV show is \\\"Game of Thrones\\\"\"\n",
    "mystr"
   ]
  },
  {
   "cell_type": "markdown",
   "id": "572bfcac-66ac-4210-8005-940a855c1121",
   "metadata": {},
   "source": [
    "**LIST**"
   ]
  },
  {
   "cell_type": "markdown",
   "id": "b41862a4-d83a-4375-ba50-af211dd4ee6b",
   "metadata": {},
   "source": [
    "1) list is an orderd sequense of items\n",
    "2) we can have different types of data types under list (like int ,float, str are in same list)"
   ]
  },
  {
   "cell_type": "markdown",
   "id": "64708929-3050-4b34-8274-39bd53d3fb48",
   "metadata": {},
   "source": [
    "***LIST Creation***"
   ]
  },
  {
   "cell_type": "code",
   "execution_count": 12,
   "id": "3a1d3252-1014-40d0-9650-68922789b287",
   "metadata": {},
   "outputs": [
    {
     "name": "stdout",
     "output_type": "stream",
     "text": [
      "<class 'list'>\n"
     ]
    }
   ],
   "source": [
    "list1=[] #Empty list \n",
    "print(type(list1))"
   ]
  },
  {
   "cell_type": "code",
   "execution_count": 13,
   "id": "6c0d4a31-a9ca-4666-807a-8ed6bfffac5c",
   "metadata": {},
   "outputs": [
    {
     "data": {
      "text/plain": [
       "[10, 30, 60]"
      ]
     },
     "execution_count": 13,
     "metadata": {},
     "output_type": "execute_result"
    }
   ],
   "source": [
    "list2=[10,30,60] ## list with with integer value \n",
    "list2"
   ]
  },
  {
   "cell_type": "code",
   "execution_count": 16,
   "id": "97ab38bf-bf27-445c-9b66-206184f59179",
   "metadata": {},
   "outputs": [],
   "source": [
    "list3=[10.66,30,66,60.89] # list with float value "
   ]
  },
  {
   "cell_type": "code",
   "execution_count": 17,
   "id": "c2cecdb8-2e9e-4be1-9fa8-dd2ef9a449ae",
   "metadata": {},
   "outputs": [
    {
     "data": {
      "text/plain": [
       "[10.66, 30, 66, 60.89]"
      ]
     },
     "execution_count": 17,
     "metadata": {},
     "output_type": "execute_result"
    }
   ],
   "source": [
    "list3"
   ]
  },
  {
   "cell_type": "code",
   "execution_count": 18,
   "id": "8902b6b1-4841-412f-a614-336f8c580a20",
   "metadata": {},
   "outputs": [],
   "source": [
    "list4=['one','two', 'three'] #list with String "
   ]
  },
  {
   "cell_type": "code",
   "execution_count": 19,
   "id": "7c51c1a2-bf9d-4c0b-a6e1-d5f56f030c75",
   "metadata": {},
   "outputs": [
    {
     "data": {
      "text/plain": [
       "['one', 'two', 'three']"
      ]
     },
     "execution_count": 19,
     "metadata": {},
     "output_type": "execute_result"
    }
   ],
   "source": [
    "list4\n"
   ]
  },
  {
   "cell_type": "code",
   "execution_count": 20,
   "id": "46cbd91b-24c5-47ea-b270-bf86201d6f56",
   "metadata": {},
   "outputs": [],
   "source": [
    "list5=[\"Rupesh\", 25,[50,100],[150,90]] # nested list "
   ]
  },
  {
   "cell_type": "code",
   "execution_count": 21,
   "id": "a9d06ef8-3dfa-45ad-bdfb-582e5cb35b9a",
   "metadata": {},
   "outputs": [
    {
     "data": {
      "text/plain": [
       "['Rupesh', 25, [50, 100], [150, 90]]"
      ]
     },
     "execution_count": 21,
     "metadata": {},
     "output_type": "execute_result"
    }
   ],
   "source": [
    "list5"
   ]
  },
  {
   "cell_type": "code",
   "execution_count": 22,
   "id": "b2f17573-7e1e-45a7-94c2-a45b11a32d25",
   "metadata": {},
   "outputs": [
    {
     "data": {
      "text/plain": [
       "[100, 'Asif', 17.765]"
      ]
     },
     "execution_count": 22,
     "metadata": {},
     "output_type": "execute_result"
    }
   ],
   "source": [
    "list6=[100,'Asif',17.765] # mixed Data type\n",
    "list6"
   ]
  },
  {
   "cell_type": "code",
   "execution_count": 23,
   "id": "04835b55-ac13-4fb3-b700-5a851cb0be2f",
   "metadata": {},
   "outputs": [
    {
     "data": {
      "text/plain": [
       "['Asif', 25, [50, 100], [150, 90], {'David', 'john'}]"
      ]
     },
     "execution_count": 23,
     "metadata": {},
     "output_type": "execute_result"
    }
   ],
   "source": [
    "list7=['Asif',25,[50,100],[150,90],{'john','David'}]\n",
    "list7"
   ]
  },
  {
   "cell_type": "code",
   "execution_count": 24,
   "id": "6a9db2b4-cb3e-4285-9374-454b4b805ee8",
   "metadata": {},
   "outputs": [
    {
     "data": {
      "text/plain": [
       "5"
      ]
     },
     "execution_count": 24,
     "metadata": {},
     "output_type": "execute_result"
    }
   ],
   "source": [
    "len(list7)"
   ]
  },
  {
   "cell_type": "markdown",
   "id": "73c11170-3001-49a6-a10e-30aaf36e156b",
   "metadata": {},
   "source": [
    "**list Indexing**"
   ]
  },
  {
   "cell_type": "code",
   "execution_count": 25,
   "id": "1ace4d99-067b-4a97-9480-9e89676d89ac",
   "metadata": {},
   "outputs": [
    {
     "data": {
      "text/plain": [
       "10"
      ]
     },
     "execution_count": 25,
     "metadata": {},
     "output_type": "execute_result"
    }
   ],
   "source": [
    "list2[0]"
   ]
  },
  {
   "cell_type": "code",
   "execution_count": 26,
   "id": "5fd257a3-8b14-4b3a-a30d-eb337086fa51",
   "metadata": {},
   "outputs": [
    {
     "data": {
      "text/plain": [
       "list[4]"
      ]
     },
     "execution_count": 26,
     "metadata": {},
     "output_type": "execute_result"
    }
   ],
   "source": [
    "list[4]"
   ]
  },
  {
   "cell_type": "code",
   "execution_count": 27,
   "id": "d809c215-6daf-44f6-a461-f10142039980",
   "metadata": {},
   "outputs": [
    {
     "data": {
      "text/plain": [
       "'one'"
      ]
     },
     "execution_count": 27,
     "metadata": {},
     "output_type": "execute_result"
    }
   ],
   "source": [
    "list4[0]"
   ]
  },
  {
   "cell_type": "code",
   "execution_count": 28,
   "id": "8ac3e5a7-29db-4845-a246-358535e097c1",
   "metadata": {},
   "outputs": [
    {
     "data": {
      "text/plain": [
       "['one', 'two', 'three']"
      ]
     },
     "execution_count": 28,
     "metadata": {},
     "output_type": "execute_result"
    }
   ],
   "source": [
    "list4"
   ]
  },
  {
   "cell_type": "code",
   "execution_count": 31,
   "id": "4586b3fc-375f-425f-9417-486c9c63c657",
   "metadata": {},
   "outputs": [
    {
     "data": {
      "text/plain": [
       "'o'"
      ]
     },
     "execution_count": 31,
     "metadata": {},
     "output_type": "execute_result"
    }
   ],
   "source": [
    "list4[0][0]"
   ]
  },
  {
   "cell_type": "code",
   "execution_count": 32,
   "id": "041763a6-03d0-4ae9-9360-d8fa13ab5b10",
   "metadata": {},
   "outputs": [
    {
     "data": {
      "text/plain": [
       "'three'"
      ]
     },
     "execution_count": 32,
     "metadata": {},
     "output_type": "execute_result"
    }
   ],
   "source": [
    "list4[-1]"
   ]
  },
  {
   "cell_type": "code",
   "execution_count": 33,
   "id": "9f4380ce-45d9-4347-9baa-10cfcb659bd5",
   "metadata": {},
   "outputs": [
    {
     "data": {
      "text/plain": [
       "['Rupesh', 25, [50, 100], [150, 90]]"
      ]
     },
     "execution_count": 33,
     "metadata": {},
     "output_type": "execute_result"
    }
   ],
   "source": [
    "list5"
   ]
  },
  {
   "cell_type": "code",
   "execution_count": 35,
   "id": "b307203b-c036-4eb0-89f5-e552c222a04c",
   "metadata": {},
   "outputs": [
    {
     "data": {
      "text/plain": [
       "[150, 90]"
      ]
     },
     "execution_count": 35,
     "metadata": {},
     "output_type": "execute_result"
    }
   ],
   "source": [
    "list5[-1]"
   ]
  },
  {
   "cell_type": "markdown",
   "id": "262b4713-58f6-4e21-a5e6-88f7d508b6b6",
   "metadata": {},
   "source": [
    "***LIST SLICING***"
   ]
  },
  {
   "cell_type": "code",
   "execution_count": 38,
   "id": "ec728688-0a2f-41ea-80be-a14defb18a80",
   "metadata": {},
   "outputs": [],
   "source": [
    "mylist=['one', 'two', 'three','four','five','six','seven','eight']"
   ]
  },
  {
   "cell_type": "code",
   "execution_count": 39,
   "id": "cee1144a-0aef-40f4-856e-a2c95e37d081",
   "metadata": {},
   "outputs": [
    {
     "data": {
      "text/plain": [
       "['one', 'two', 'three', 'four', 'five', 'six', 'seven', 'eight']"
      ]
     },
     "execution_count": 39,
     "metadata": {},
     "output_type": "execute_result"
    }
   ],
   "source": [
    "mylist"
   ]
  },
  {
   "cell_type": "code",
   "execution_count": 44,
   "id": "daddb8c8-0320-47d9-a303-720379b8878f",
   "metadata": {},
   "outputs": [
    {
     "data": {
      "text/plain": [
       "['one', 'two', 'three']"
      ]
     },
     "execution_count": 44,
     "metadata": {},
     "output_type": "execute_result"
    }
   ],
   "source": [
    "mylist[0:3] # 0th index to 2nd will print because last one is n-1"
   ]
  },
  {
   "cell_type": "code",
   "execution_count": 41,
   "id": "3af36f38-a7af-402f-820e-2e4b17d96903",
   "metadata": {},
   "outputs": [
    {
     "data": {
      "text/plain": [
       "['three', 'four', 'five']"
      ]
     },
     "execution_count": 41,
     "metadata": {},
     "output_type": "execute_result"
    }
   ],
   "source": [
    "mylist[2:5] # this will print from 2 to 4 "
   ]
  },
  {
   "cell_type": "code",
   "execution_count": 42,
   "id": "59631007-cd34-4b05-a2d8-c9361f9fdf62",
   "metadata": {},
   "outputs": [
    {
     "data": {
      "text/plain": [
       "['one', 'two', 'three']"
      ]
     },
     "execution_count": 42,
     "metadata": {},
     "output_type": "execute_result"
    }
   ],
   "source": [
    "mylist[:3] # from starting to till 2 index it will print "
   ]
  },
  {
   "cell_type": "code",
   "execution_count": 45,
   "id": "9182df37-3c3b-4c5e-8c11-f2996647670d",
   "metadata": {},
   "outputs": [
    {
     "data": {
      "text/plain": [
       "['six', 'seven', 'eight']"
      ]
     },
     "execution_count": 45,
     "metadata": {},
     "output_type": "execute_result"
    }
   ],
   "source": [
    "mylist[-3:] # print last three element (Due to negative indexing we have followed )"
   ]
  },
  {
   "cell_type": "code",
   "execution_count": 46,
   "id": "b21db3dd-a635-4109-9eca-d3b7dcfcc86c",
   "metadata": {},
   "outputs": [
    {
     "data": {
      "text/plain": [
       "['seven', 'eight']"
      ]
     },
     "execution_count": 46,
     "metadata": {},
     "output_type": "execute_result"
    }
   ],
   "source": [
    "mylist[-2:] # last two index"
   ]
  },
  {
   "cell_type": "code",
   "execution_count": 47,
   "id": "069c26c4-e7fc-4a12-b22f-c84905bc3d27",
   "metadata": {},
   "outputs": [
    {
     "data": {
      "text/plain": [
       "'eight'"
      ]
     },
     "execution_count": 47,
     "metadata": {},
     "output_type": "execute_result"
    }
   ],
   "source": [
    "mylist[-1]"
   ]
  },
  {
   "cell_type": "code",
   "execution_count": 48,
   "id": "6bd6f2b3-871b-4f87-846a-a0726fe597f5",
   "metadata": {},
   "outputs": [
    {
     "data": {
      "text/plain": [
       "['one', 'two', 'three', 'four', 'five', 'six', 'seven', 'eight']"
      ]
     },
     "execution_count": 48,
     "metadata": {},
     "output_type": "execute_result"
    }
   ],
   "source": [
    "mylist[:] # returen all value "
   ]
  },
  {
   "cell_type": "code",
   "execution_count": 51,
   "id": "7972d310-429d-47bd-ba7b-8fe973e88d08",
   "metadata": {},
   "outputs": [],
   "source": [
    "mylist.sort()"
   ]
  },
  {
   "cell_type": "code",
   "execution_count": 52,
   "id": "80127d21-1478-4648-8162-a782d3e5b5f0",
   "metadata": {},
   "outputs": [
    {
     "data": {
      "text/plain": [
       "['eight', 'five', 'four', 'one', 'seven', 'six', 'three', 'two']"
      ]
     },
     "execution_count": 52,
     "metadata": {},
     "output_type": "execute_result"
    }
   ],
   "source": [
    "mylist"
   ]
  },
  {
   "cell_type": "code",
   "execution_count": 53,
   "id": "96ec147c-8879-4923-865e-945e1b1a9e40",
   "metadata": {},
   "outputs": [
    {
     "data": {
      "text/plain": [
       "['eight', 'five', 'four', 'one', 'seven', 'six', 'three', 'two']"
      ]
     },
     "execution_count": 53,
     "metadata": {},
     "output_type": "execute_result"
    }
   ],
   "source": [
    "mylist"
   ]
  },
  {
   "cell_type": "code",
   "execution_count": 57,
   "id": "999a8c75-0e45-4af1-bb7a-cc4ddd671ae3",
   "metadata": {},
   "outputs": [],
   "source": [
    "mylist.sort(reverse=False)"
   ]
  },
  {
   "cell_type": "code",
   "execution_count": 58,
   "id": "f3079f74-2cd7-4e52-8240-29ccd7bce36b",
   "metadata": {},
   "outputs": [
    {
     "data": {
      "text/plain": [
       "['eight', 'five', 'four', 'one', 'seven', 'six', 'three', 'two']"
      ]
     },
     "execution_count": 58,
     "metadata": {},
     "output_type": "execute_result"
    }
   ],
   "source": [
    "mylist"
   ]
  },
  {
   "cell_type": "code",
   "execution_count": 59,
   "id": "53924f4b-2eee-42a4-8839-65975b81ce6e",
   "metadata": {},
   "outputs": [],
   "source": [
    "mylist=['one', 'two', 'three', 'four', 'five', 'six', 'seven', 'eight']"
   ]
  },
  {
   "cell_type": "code",
   "execution_count": 60,
   "id": "b305929e-badc-4395-b866-f9b98b4c7bb1",
   "metadata": {},
   "outputs": [
    {
     "data": {
      "text/plain": [
       "['one', 'two', 'three', 'four', 'five', 'six', 'seven', 'eight']"
      ]
     },
     "execution_count": 60,
     "metadata": {},
     "output_type": "execute_result"
    }
   ],
   "source": [
    "mylist\n"
   ]
  },
  {
   "cell_type": "markdown",
   "id": "872447a9-2e2f-4367-874a-e2f01699a841",
   "metadata": {},
   "source": [
    "**ADD REMOVE & Change Items**"
   ]
  },
  {
   "cell_type": "code",
   "execution_count": 61,
   "id": "bd250024-98bd-4297-979e-4113b3550421",
   "metadata": {},
   "outputs": [
    {
     "data": {
      "text/plain": [
       "['one', 'two', 'three', 'four', 'five', 'six', 'seven', 'eight']"
      ]
     },
     "execution_count": 61,
     "metadata": {},
     "output_type": "execute_result"
    }
   ],
   "source": [
    "mylist"
   ]
  },
  {
   "cell_type": "code",
   "execution_count": 62,
   "id": "c121e8ef-46ed-4d6e-826d-4d7a98d88f6f",
   "metadata": {},
   "outputs": [],
   "source": [
    "mylist.append('nine')"
   ]
  },
  {
   "cell_type": "code",
   "execution_count": 63,
   "id": "f17de42c-df61-455c-8ed6-efe4f2187808",
   "metadata": {},
   "outputs": [
    {
     "data": {
      "text/plain": [
       "['one', 'two', 'three', 'four', 'five', 'six', 'seven', 'eight', 'nine']"
      ]
     },
     "execution_count": 63,
     "metadata": {},
     "output_type": "execute_result"
    }
   ],
   "source": [
    "mylist"
   ]
  },
  {
   "cell_type": "code",
   "execution_count": 64,
   "id": "66a6bdcc-9f71-453d-9612-23750b3785ce",
   "metadata": {},
   "outputs": [],
   "source": [
    "mylist.insert(9,'ten')"
   ]
  },
  {
   "cell_type": "code",
   "execution_count": 65,
   "id": "61e6e202-c6e6-4b04-a0ed-d3aaf74fa14f",
   "metadata": {},
   "outputs": [
    {
     "data": {
      "text/plain": [
       "['one', 'two', 'three', 'four', 'five', 'six', 'seven', 'eight', 'nine', 'ten']"
      ]
     },
     "execution_count": 65,
     "metadata": {},
     "output_type": "execute_result"
    }
   ],
   "source": [
    "mylist"
   ]
  },
  {
   "cell_type": "code",
   "execution_count": 66,
   "id": "4b9b6fcb-b583-4bc1-8dda-3c23322bb16d",
   "metadata": {},
   "outputs": [],
   "source": [
    "mylist.insert(1,'ONE')"
   ]
  },
  {
   "cell_type": "code",
   "execution_count": 67,
   "id": "1e5a497c-3448-421a-b5b0-fb8f208977c4",
   "metadata": {},
   "outputs": [
    {
     "data": {
      "text/plain": [
       "['one',\n",
       " 'ONE',\n",
       " 'two',\n",
       " 'three',\n",
       " 'four',\n",
       " 'five',\n",
       " 'six',\n",
       " 'seven',\n",
       " 'eight',\n",
       " 'nine',\n",
       " 'ten']"
      ]
     },
     "execution_count": 67,
     "metadata": {},
     "output_type": "execute_result"
    }
   ],
   "source": [
    "mylist"
   ]
  },
  {
   "cell_type": "code",
   "execution_count": 68,
   "id": "e726adb4-9e44-44d0-b09f-d6908ec400e9",
   "metadata": {},
   "outputs": [],
   "source": [
    "mylist.remove('ONE') # removing \"ONE\" from list"
   ]
  },
  {
   "cell_type": "code",
   "execution_count": 69,
   "id": "0e0ecaf3-0f7e-4f3c-88e5-6347530507c1",
   "metadata": {},
   "outputs": [
    {
     "data": {
      "text/plain": [
       "['one', 'two', 'three', 'four', 'five', 'six', 'seven', 'eight', 'nine', 'ten']"
      ]
     },
     "execution_count": 69,
     "metadata": {},
     "output_type": "execute_result"
    }
   ],
   "source": [
    "mylist"
   ]
  },
  {
   "cell_type": "code",
   "execution_count": 70,
   "id": "29f02e55-462d-4016-b5dc-9b273138a6d1",
   "metadata": {},
   "outputs": [
    {
     "data": {
      "text/plain": [
       "'ten'"
      ]
     },
     "execution_count": 70,
     "metadata": {},
     "output_type": "execute_result"
    }
   ],
   "source": [
    "mylist.pop() # this will last element from list and return"
   ]
  },
  {
   "cell_type": "code",
   "execution_count": 71,
   "id": "118acc5c-88c8-4150-8331-2913acb73104",
   "metadata": {},
   "outputs": [
    {
     "data": {
      "text/plain": [
       "['one', 'two', 'three', 'four', 'five', 'six', 'seven', 'eight', 'nine']"
      ]
     },
     "execution_count": 71,
     "metadata": {},
     "output_type": "execute_result"
    }
   ],
   "source": [
    "mylist"
   ]
  },
  {
   "cell_type": "code",
   "execution_count": 72,
   "id": "b2c056e3-46b4-4a16-82e3-c5ae8d463701",
   "metadata": {},
   "outputs": [
    {
     "data": {
      "text/plain": [
       "'nine'"
      ]
     },
     "execution_count": 72,
     "metadata": {},
     "output_type": "execute_result"
    }
   ],
   "source": [
    "mylist.pop(8) # remove item from index 8"
   ]
  },
  {
   "cell_type": "code",
   "execution_count": 73,
   "id": "8eaea754-13e3-4923-9029-a7865042e199",
   "metadata": {},
   "outputs": [
    {
     "data": {
      "text/plain": [
       "['one', 'two', 'three', 'four', 'five', 'six', 'seven', 'eight']"
      ]
     },
     "execution_count": 73,
     "metadata": {},
     "output_type": "execute_result"
    }
   ],
   "source": [
    "mylist"
   ]
  },
  {
   "cell_type": "code",
   "execution_count": 74,
   "id": "8977ff92-990a-4d77-a49c-3e4d9ddabaaa",
   "metadata": {},
   "outputs": [],
   "source": [
    "del mylist[7] # this will delete the element at that respective index position in list (index 7)"
   ]
  },
  {
   "cell_type": "code",
   "execution_count": 75,
   "id": "a792a898-c93c-4f5e-a4bc-a544efe4dd90",
   "metadata": {},
   "outputs": [
    {
     "data": {
      "text/plain": [
       "['one', 'two', 'three', 'four', 'five', 'six', 'seven']"
      ]
     },
     "execution_count": 75,
     "metadata": {},
     "output_type": "execute_result"
    }
   ],
   "source": [
    "mylist"
   ]
  },
  {
   "cell_type": "markdown",
   "id": "95b8d013-1110-41cc-99df-9a73068eb1b8",
   "metadata": {},
   "source": [
    "**Chnage the Value from String from number**"
   ]
  },
  {
   "cell_type": "code",
   "execution_count": 76,
   "id": "eb25cedb-f500-4a7a-a72a-e40f8f1dc37d",
   "metadata": {},
   "outputs": [],
   "source": [
    "mylist[0]=1\n",
    "mylist[1]=2\n",
    "mylist[2]=3\n"
   ]
  },
  {
   "cell_type": "code",
   "execution_count": 77,
   "id": "c93db2b7-dcf4-411f-b84d-e3b0c5089103",
   "metadata": {},
   "outputs": [
    {
     "data": {
      "text/plain": [
       "[1, 2, 3, 'four', 'five', 'six', 'seven']"
      ]
     },
     "execution_count": 77,
     "metadata": {},
     "output_type": "execute_result"
    }
   ],
   "source": [
    "mylist"
   ]
  },
  {
   "cell_type": "code",
   "execution_count": 78,
   "id": "3fa229c3-e5d3-4617-a7c9-fd9b826f461a",
   "metadata": {},
   "outputs": [],
   "source": [
    "mylist.clear() #Empty list/Del all the element from the list"
   ]
  },
  {
   "cell_type": "code",
   "execution_count": 79,
   "id": "d8494a0f-36fe-46e5-9e78-698eacf9e847",
   "metadata": {},
   "outputs": [
    {
     "data": {
      "text/plain": [
       "[]"
      ]
     },
     "execution_count": 79,
     "metadata": {},
     "output_type": "execute_result"
    }
   ],
   "source": [
    "mylist"
   ]
  },
  {
   "cell_type": "code",
   "execution_count": 80,
   "id": "85391369-788b-42a4-8504-591afd15dd6f",
   "metadata": {},
   "outputs": [],
   "source": [
    "del mylist # this will del whole list if we tried to call this will thorow and error Nameerror  mylist is not defined \n"
   ]
  },
  {
   "cell_type": "code",
   "execution_count": 81,
   "id": "81e96eb7-953e-4650-9ea9-cb5450fc0bf6",
   "metadata": {},
   "outputs": [
    {
     "ename": "NameError",
     "evalue": "name 'mylist' is not defined",
     "output_type": "error",
     "traceback": [
      "\u001b[1;31m---------------------------------------------------------------------------\u001b[0m",
      "\u001b[1;31mNameError\u001b[0m                                 Traceback (most recent call last)",
      "Cell \u001b[1;32mIn[81], line 1\u001b[0m\n\u001b[1;32m----> 1\u001b[0m mylist\n",
      "\u001b[1;31mNameError\u001b[0m: name 'mylist' is not defined"
     ]
    }
   ],
   "source": [
    "mylist"
   ]
  },
  {
   "cell_type": "code",
   "execution_count": 82,
   "id": "8b8f0f5e-2992-418b-aec0-2e778072e4e5",
   "metadata": {},
   "outputs": [],
   "source": [
    "mylist=['one', 'two', 'three', 'four', 'five', 'six', 'seven', 'eight', 'nine']"
   ]
  },
  {
   "cell_type": "code",
   "execution_count": 83,
   "id": "728b8b52-de9f-4b1e-94ce-9560391d6c03",
   "metadata": {},
   "outputs": [
    {
     "data": {
      "text/plain": [
       "['one', 'two', 'three', 'four', 'five', 'six', 'seven', 'eight', 'nine']"
      ]
     },
     "execution_count": 83,
     "metadata": {},
     "output_type": "execute_result"
    }
   ],
   "source": [
    "mylist"
   ]
  },
  {
   "cell_type": "markdown",
   "id": "dbf5b36b-5b24-418a-833d-2ab3d166c584",
   "metadata": {},
   "source": [
    "** Copy LIST**"
   ]
  },
  {
   "cell_type": "code",
   "execution_count": 84,
   "id": "afb4578c-33b5-4658-ab5d-460feadf6626",
   "metadata": {},
   "outputs": [],
   "source": [
    "mylist1=mylist.copy()"
   ]
  },
  {
   "cell_type": "code",
   "execution_count": 85,
   "id": "be8d150a-f002-4e12-b9a2-e8e6467c2733",
   "metadata": {},
   "outputs": [
    {
     "data": {
      "text/plain": [
       "True"
      ]
     },
     "execution_count": 85,
     "metadata": {},
     "output_type": "execute_result"
    }
   ],
   "source": [
    "mylist1==mylist"
   ]
  },
  {
   "cell_type": "code",
   "execution_count": 86,
   "id": "d9b3f411-3773-4220-a8a6-96925e102c72",
   "metadata": {},
   "outputs": [
    {
     "name": "stdout",
     "output_type": "stream",
     "text": [
      "1937034389824 1937034180480\n"
     ]
    }
   ],
   "source": [
    "print(id(mylist),id(mylist1)) # the Adress of both list will be same "
   ]
  },
  {
   "cell_type": "code",
   "execution_count": 87,
   "id": "ca9a80d7-69e0-4032-9e1c-a2bda7fee11b",
   "metadata": {},
   "outputs": [
    {
     "data": {
      "text/plain": [
       "['one', 'two', 'three', 'four', 'five', 'six', 'seven', 'eight', 'nine']"
      ]
     },
     "execution_count": 87,
     "metadata": {},
     "output_type": "execute_result"
    }
   ],
   "source": [
    "mylist2=mylist.copy() # creating a copy of list\n",
    "mylist2"
   ]
  },
  {
   "cell_type": "code",
   "execution_count": 88,
   "id": "f7beee0e-28c9-4959-89f9-6c2c4205e7ad",
   "metadata": {},
   "outputs": [
    {
     "data": {
      "text/plain": [
       "1937034275840"
      ]
     },
     "execution_count": 88,
     "metadata": {},
     "output_type": "execute_result"
    }
   ],
   "source": [
    "id(mylist2)"
   ]
  },
  {
   "cell_type": "code",
   "execution_count": 89,
   "id": "026a679b-24a1-4a22-acf3-2964da14e18c",
   "metadata": {},
   "outputs": [],
   "source": [
    "mylist[0]=1"
   ]
  },
  {
   "cell_type": "code",
   "execution_count": 90,
   "id": "a7cd1d46-3a04-4b61-83fa-57a1c727b799",
   "metadata": {},
   "outputs": [
    {
     "data": {
      "text/plain": [
       "[1, 'two', 'three', 'four', 'five', 'six', 'seven', 'eight', 'nine']"
      ]
     },
     "execution_count": 90,
     "metadata": {},
     "output_type": "execute_result"
    }
   ],
   "source": [
    "mylist"
   ]
  },
  {
   "cell_type": "code",
   "execution_count": 91,
   "id": "e0c01a35-e32c-48b0-bbbc-637df4edc513",
   "metadata": {},
   "outputs": [
    {
     "data": {
      "text/plain": [
       "['one', 'two', 'three', 'four', 'five', 'six', 'seven', 'eight', 'nine']"
      ]
     },
     "execution_count": 91,
     "metadata": {},
     "output_type": "execute_result"
    }
   ],
   "source": [
    "mylist1"
   ]
  },
  {
   "cell_type": "code",
   "execution_count": 92,
   "id": "b8bc2b45-a0c9-4ae0-9dc6-80136c149a4a",
   "metadata": {},
   "outputs": [],
   "source": [
    "mylist[0]='one'"
   ]
  },
  {
   "cell_type": "code",
   "execution_count": 93,
   "id": "84651e8a-0ef7-4afc-9d71-d12e882adfe7",
   "metadata": {},
   "outputs": [
    {
     "data": {
      "text/plain": [
       "['one', 'two', 'three', 'four', 'five', 'six', 'seven', 'eight', 'nine']"
      ]
     },
     "execution_count": 93,
     "metadata": {},
     "output_type": "execute_result"
    }
   ],
   "source": [
    "mylist"
   ]
  },
  {
   "cell_type": "code",
   "execution_count": 94,
   "id": "7dd1978b-cf69-4009-9a30-24d009e79588",
   "metadata": {},
   "outputs": [],
   "source": [
    "mylist=mylist1"
   ]
  },
  {
   "cell_type": "code",
   "execution_count": 95,
   "id": "f236ac8f-1978-48e6-8a6c-a0b6bb552903",
   "metadata": {},
   "outputs": [
    {
     "data": {
      "text/plain": [
       "['one', 'two', 'three', 'four', 'five', 'six', 'seven', 'eight', 'nine']"
      ]
     },
     "execution_count": 95,
     "metadata": {},
     "output_type": "execute_result"
    }
   ],
   "source": [
    "mylist1"
   ]
  },
  {
   "cell_type": "code",
   "execution_count": 96,
   "id": "626243aa-eb54-4217-a2cc-0f4ca1f64274",
   "metadata": {},
   "outputs": [
    {
     "data": {
      "text/plain": [
       "1937034180480"
      ]
     },
     "execution_count": 96,
     "metadata": {},
     "output_type": "execute_result"
    }
   ],
   "source": [
    "id(mylist)"
   ]
  },
  {
   "cell_type": "code",
   "execution_count": 97,
   "id": "bead7037-a620-405d-a912-3d7957bb4b86",
   "metadata": {},
   "outputs": [
    {
     "data": {
      "text/plain": [
       "1937034180480"
      ]
     },
     "execution_count": 97,
     "metadata": {},
     "output_type": "execute_result"
    }
   ],
   "source": [
    "id(mylist1)"
   ]
  },
  {
   "cell_type": "code",
   "execution_count": 98,
   "id": "c520f96d-a154-45e8-95ec-0e54241e0e35",
   "metadata": {},
   "outputs": [],
   "source": [
    "# now we use copy command \n",
    "\n",
    "mylist2=mylist1.copy() # this will change the address of mylis1 1 and mylist2\n"
   ]
  },
  {
   "cell_type": "code",
   "execution_count": 99,
   "id": "91c377ea-0dcf-4316-aa53-45ff48a1cff7",
   "metadata": {},
   "outputs": [
    {
     "data": {
      "text/plain": [
       "['one', 'two', 'three', 'four', 'five', 'six', 'seven', 'eight', 'nine']"
      ]
     },
     "execution_count": 99,
     "metadata": {},
     "output_type": "execute_result"
    }
   ],
   "source": [
    "mylist2"
   ]
  },
  {
   "cell_type": "code",
   "execution_count": 100,
   "id": "24eceeaf-143e-41f6-982e-a721d6a18874",
   "metadata": {},
   "outputs": [],
   "source": [
    "# is we perform any activity in mylist it will impact mylist2 as well \n",
    "mylist[0]=1"
   ]
  },
  {
   "cell_type": "code",
   "execution_count": 101,
   "id": "adc3659a-f185-41ea-a468-75d882d12f68",
   "metadata": {},
   "outputs": [
    {
     "data": {
      "text/plain": [
       "[1, 'two', 'three', 'four', 'five', 'six', 'seven', 'eight', 'nine']"
      ]
     },
     "execution_count": 101,
     "metadata": {},
     "output_type": "execute_result"
    }
   ],
   "source": [
    "mylist"
   ]
  },
  {
   "cell_type": "code",
   "execution_count": 103,
   "id": "2b9e7fc3-fd31-493c-a4e8-3c1c12c06246",
   "metadata": {},
   "outputs": [
    {
     "data": {
      "text/plain": [
       "[1, 'two', 'three', 'four', 'five', 'six', 'seven', 'eight', 'nine']"
      ]
     },
     "execution_count": 103,
     "metadata": {},
     "output_type": "execute_result"
    }
   ],
   "source": [
    "mylist1"
   ]
  },
  {
   "cell_type": "code",
   "execution_count": 104,
   "id": "62b4ec00-7a9e-48c5-a50e-6d42698b4497",
   "metadata": {},
   "outputs": [
    {
     "data": {
      "text/plain": [
       "['one', 'two', 'three', 'four', 'five', 'six', 'seven', 'eight', 'nine']"
      ]
     },
     "execution_count": 104,
     "metadata": {},
     "output_type": "execute_result"
    }
   ],
   "source": [
    "mylist2"
   ]
  },
  {
   "cell_type": "code",
   "execution_count": 105,
   "id": "d6a7c1f4-41b8-43dc-bd30-127c7149cd85",
   "metadata": {},
   "outputs": [],
   "source": [
    "###Copy list won't be impact "
   ]
  },
  {
   "cell_type": "markdown",
   "id": "bf40127b-72de-4408-918b-854c19796728",
   "metadata": {},
   "source": [
    "---------------------------------------------------------------------------------\n",
    "***JOIN the LIST***"
   ]
  },
  {
   "cell_type": "code",
   "execution_count": 109,
   "id": "62feb9b8-dff4-4283-ac7b-46433ce494fa",
   "metadata": {},
   "outputs": [],
   "source": [
    "list1=['one','two','three','four']\n",
    "list2=['five','six','seven', 'eight']"
   ]
  },
  {
   "cell_type": "code",
   "execution_count": 110,
   "id": "0be712c5-9ea9-43d7-b621-2b6d95f9ba96",
   "metadata": {},
   "outputs": [],
   "source": [
    "list3=list1+list2"
   ]
  },
  {
   "cell_type": "code",
   "execution_count": 111,
   "id": "eda9faf9-94b8-477c-b5b5-973f06cb653a",
   "metadata": {},
   "outputs": [
    {
     "data": {
      "text/plain": [
       "['one', 'two', 'three', 'four', 'five', 'six', 'seven', 'eight']"
      ]
     },
     "execution_count": 111,
     "metadata": {},
     "output_type": "execute_result"
    }
   ],
   "source": [
    "list3"
   ]
  },
  {
   "cell_type": "markdown",
   "id": "5f9d2620-23b6-4905-99da-9a02973c98b9",
   "metadata": {},
   "source": [
    "**Using extend Function**"
   ]
  },
  {
   "cell_type": "code",
   "execution_count": 117,
   "id": "e7d58e04-8297-4155-84ff-1e052190c057",
   "metadata": {},
   "outputs": [],
   "source": [
    "list1.extend(list2) # Appending the list2 with list1 "
   ]
  },
  {
   "cell_type": "code",
   "execution_count": 119,
   "id": "05885cdb-0d61-41ef-ba8c-c0e93203eb4f",
   "metadata": {},
   "outputs": [
    {
     "data": {
      "text/plain": [
       "'eight'"
      ]
     },
     "execution_count": 119,
     "metadata": {},
     "output_type": "execute_result"
    }
   ],
   "source": [
    "list1.pop()"
   ]
  },
  {
   "cell_type": "code",
   "execution_count": 120,
   "id": "f69cc0f9-feab-479c-85e4-2dc4d6ca1002",
   "metadata": {},
   "outputs": [
    {
     "data": {
      "text/plain": [
       "['one',\n",
       " 'two',\n",
       " 'three',\n",
       " 'four',\n",
       " 'five',\n",
       " 'six',\n",
       " 'seven',\n",
       " 'eight',\n",
       " 'five',\n",
       " 'six',\n",
       " 'seven',\n",
       " 'eight',\n",
       " 'five',\n",
       " 'six',\n",
       " 'seven']"
      ]
     },
     "execution_count": 120,
     "metadata": {},
     "output_type": "execute_result"
    }
   ],
   "source": [
    "list1"
   ]
  },
  {
   "cell_type": "code",
   "execution_count": 121,
   "id": "5d9ae04f-f543-4ae9-806a-a83ee740bd2f",
   "metadata": {},
   "outputs": [
    {
     "data": {
      "text/plain": [
       "'seven'"
      ]
     },
     "execution_count": 121,
     "metadata": {},
     "output_type": "execute_result"
    }
   ],
   "source": [
    "list1.pop()\n",
    "list1.pop()\n",
    "list1.pop()\n",
    "list1.pop()\n",
    "list1.pop()"
   ]
  },
  {
   "cell_type": "code",
   "execution_count": 122,
   "id": "e00a9c6e-c6d5-4449-949a-7997e40e9049",
   "metadata": {},
   "outputs": [
    {
     "data": {
      "text/plain": [
       "'six'"
      ]
     },
     "execution_count": 122,
     "metadata": {},
     "output_type": "execute_result"
    }
   ],
   "source": [
    "list1.pop()\n"
   ]
  },
  {
   "cell_type": "code",
   "execution_count": 123,
   "id": "94dd88f6-0182-4c11-8abe-ea8799c55cc5",
   "metadata": {},
   "outputs": [
    {
     "data": {
      "text/plain": [
       "'five'"
      ]
     },
     "execution_count": 123,
     "metadata": {},
     "output_type": "execute_result"
    }
   ],
   "source": [
    "list1.pop()"
   ]
  },
  {
   "cell_type": "code",
   "execution_count": 124,
   "id": "85695acf-99df-466c-99ae-6cf595978ccb",
   "metadata": {},
   "outputs": [
    {
     "data": {
      "text/plain": [
       "'eight'"
      ]
     },
     "execution_count": 124,
     "metadata": {},
     "output_type": "execute_result"
    }
   ],
   "source": [
    "list1.pop()"
   ]
  },
  {
   "cell_type": "code",
   "execution_count": 125,
   "id": "646db1ad-4bd2-4d43-b5cb-33a62701ef4a",
   "metadata": {},
   "outputs": [
    {
     "data": {
      "text/plain": [
       "['one', 'two', 'three', 'four', 'five', 'six', 'seven']"
      ]
     },
     "execution_count": 125,
     "metadata": {},
     "output_type": "execute_result"
    }
   ],
   "source": [
    "list1"
   ]
  },
  {
   "cell_type": "code",
   "execution_count": 126,
   "id": "eb1e55ee-b5f5-456c-a36a-16cfd28f4755",
   "metadata": {},
   "outputs": [],
   "source": [
    "list1.append('eight')"
   ]
  },
  {
   "cell_type": "code",
   "execution_count": 127,
   "id": "307534a5-2b89-44e7-afbc-f8e0b7cc4f8a",
   "metadata": {},
   "outputs": [
    {
     "data": {
      "text/plain": [
       "['one', 'two', 'three', 'four', 'five', 'six', 'seven', 'eight']"
      ]
     },
     "execution_count": 127,
     "metadata": {},
     "output_type": "execute_result"
    }
   ],
   "source": [
    "list1"
   ]
  },
  {
   "cell_type": "markdown",
   "id": "9f8d7823-70c7-427e-8a28-5952c6a9eb0c",
   "metadata": {},
   "source": [
    "**LIST Membership**"
   ]
  },
  {
   "cell_type": "code",
   "execution_count": 128,
   "id": "2e9f9a82-77f9-490f-ba83-f0e5dfc2eea7",
   "metadata": {},
   "outputs": [
    {
     "data": {
      "text/plain": [
       "['one', 'two', 'three', 'four', 'five', 'six', 'seven', 'eight']"
      ]
     },
     "execution_count": 128,
     "metadata": {},
     "output_type": "execute_result"
    }
   ],
   "source": [
    "list1"
   ]
  },
  {
   "cell_type": "code",
   "execution_count": 129,
   "id": "6ed3f3c6-b716-4020-83b0-208c3a1303e2",
   "metadata": {},
   "outputs": [
    {
     "data": {
      "text/plain": [
       "True"
      ]
     },
     "execution_count": 129,
     "metadata": {},
     "output_type": "execute_result"
    }
   ],
   "source": [
    "'one' in list1 # this will check one is exist in list or not is yes return TRUE esle FALSE"
   ]
  },
  {
   "cell_type": "code",
   "execution_count": 130,
   "id": "1c2cf135-dbd1-478f-aee4-5a12c18cd5a7",
   "metadata": {},
   "outputs": [
    {
     "data": {
      "text/plain": [
       "False"
      ]
     },
     "execution_count": 130,
     "metadata": {},
     "output_type": "execute_result"
    }
   ],
   "source": [
    "'ten' in list1"
   ]
  },
  {
   "cell_type": "code",
   "execution_count": 131,
   "id": "53550798-1555-41c5-add5-41a9d4ed18ce",
   "metadata": {},
   "outputs": [
    {
     "name": "stdout",
     "output_type": "stream",
     "text": [
      "yes three is present in this elements \n"
     ]
    }
   ],
   "source": [
    "if 'three' in list1:\n",
    "    print('yes three is present in this elements ')\n",
    "else:\n",
    "    Print('three is not present in list')"
   ]
  },
  {
   "cell_type": "code",
   "execution_count": 132,
   "id": "89fc24aa-2544-454d-9dbc-8b2f2d869b84",
   "metadata": {},
   "outputs": [
    {
     "name": "stdout",
     "output_type": "stream",
     "text": [
      "eleven is not present in list\n"
     ]
    }
   ],
   "source": [
    "if 'eleven' in list1:\n",
    "    print('yes eleven in list')\n",
    "else:\n",
    "    print('eleven is not present in list')"
   ]
  },
  {
   "cell_type": "markdown",
   "id": "fbafb437-7227-4437-b4c9-ff963c1dfcd5",
   "metadata": {},
   "source": [
    "***Reverse and Sort the list***"
   ]
  },
  {
   "cell_type": "markdown",
   "id": "556e4fb1-ed4f-4ae8-ad13-994c48a931f2",
   "metadata": {},
   "source": [
    "***-------------------------------------------------------------------------------------------------***"
   ]
  },
  {
   "cell_type": "code",
   "execution_count": 133,
   "id": "360d36a4-df87-4cb9-aae9-8f0966a50ee2",
   "metadata": {},
   "outputs": [],
   "source": [
    "mylist3=[9,5,2,99,12,88,34]\n"
   ]
  },
  {
   "cell_type": "code",
   "execution_count": 134,
   "id": "8803b727-530d-48f8-adab-ad0cbb7073c8",
   "metadata": {},
   "outputs": [],
   "source": [
    "mylist3.sort() # this will assign this value in assending order "
   ]
  },
  {
   "cell_type": "code",
   "execution_count": 135,
   "id": "8e960991-6e02-4187-81c6-390be44c5fba",
   "metadata": {},
   "outputs": [
    {
     "data": {
      "text/plain": [
       "[2, 5, 9, 12, 34, 88, 99]"
      ]
     },
     "execution_count": 135,
     "metadata": {},
     "output_type": "execute_result"
    }
   ],
   "source": [
    "mylist3"
   ]
  },
  {
   "cell_type": "code",
   "execution_count": 137,
   "id": "133c1e66-58a4-4167-99ce-b3037f71f342",
   "metadata": {},
   "outputs": [
    {
     "data": {
      "text/plain": [
       "[99, 88, 34, 12, 9, 5, 2]"
      ]
     },
     "execution_count": 137,
     "metadata": {},
     "output_type": "execute_result"
    }
   ],
   "source": [
    "mylist3=[9,5,2,99,12,88,34]\n",
    "mylist3.sort(reverse=True)\n",
    "mylist3"
   ]
  },
  {
   "cell_type": "code",
   "execution_count": 138,
   "id": "401c0b19-b4b1-4b76-b07b-77848fa75fba",
   "metadata": {},
   "outputs": [],
   "source": [
    "mylist4=[88,65,33,21,11,98]\n",
    "m=sorted(mylist4)"
   ]
  },
  {
   "cell_type": "code",
   "execution_count": 139,
   "id": "d707a4f8-ebfe-4421-b3e7-a678a154267f",
   "metadata": {},
   "outputs": [
    {
     "data": {
      "text/plain": [
       "[11, 21, 33, 65, 88, 98]"
      ]
     },
     "execution_count": 139,
     "metadata": {},
     "output_type": "execute_result"
    }
   ],
   "source": [
    "m"
   ]
  },
  {
   "cell_type": "code",
   "execution_count": 140,
   "id": "8692efe1-e0d4-4177-962d-c43e5b854282",
   "metadata": {},
   "outputs": [
    {
     "data": {
      "text/plain": [
       "[88, 65, 33, 21, 11, 98]"
      ]
     },
     "execution_count": 140,
     "metadata": {},
     "output_type": "execute_result"
    }
   ],
   "source": [
    "mylist4  # Sorted function will not impact the original list "
   ]
  },
  {
   "cell_type": "markdown",
   "id": "a1f82f4b-5fd1-43de-bc04-c0dc4a3f2d97",
   "metadata": {},
   "source": [
    "______________________________________________________________________________________________________________\n",
    "***Loop through a list***"
   ]
  },
  {
   "cell_type": "code",
   "execution_count": 141,
   "id": "70e2c169-38d6-423a-a32f-ca6550a6503f",
   "metadata": {},
   "outputs": [
    {
     "data": {
      "text/plain": [
       "['one', 'two', 'three', 'four', 'five', 'six', 'seven', 'eight']"
      ]
     },
     "execution_count": 141,
     "metadata": {},
     "output_type": "execute_result"
    }
   ],
   "source": [
    "list1"
   ]
  },
  {
   "cell_type": "code",
   "execution_count": 143,
   "id": "cfa4de3c-af36-4d76-9358-69e13978f75d",
   "metadata": {},
   "outputs": [
    {
     "name": "stdout",
     "output_type": "stream",
     "text": [
      "one\n",
      "two\n",
      "three\n",
      "four\n",
      "five\n",
      "six\n",
      "seven\n",
      "eight\n"
     ]
    }
   ],
   "source": [
    "for i in list1:\n",
    "    print (i)"
   ]
  },
  {
   "cell_type": "code",
   "execution_count": 144,
   "id": "437820c5-3445-457a-a27d-dc1a8d3dbccf",
   "metadata": {},
   "outputs": [
    {
     "name": "stdout",
     "output_type": "stream",
     "text": [
      "(0, 'one')\n",
      "(1, 'two')\n",
      "(2, 'three')\n",
      "(3, 'four')\n",
      "(4, 'five')\n",
      "(5, 'six')\n",
      "(6, 'seven')\n",
      "(7, 'eight')\n"
     ]
    }
   ],
   "source": [
    "for i in enumerate(list1):\n",
    "    print(i)"
   ]
  },
  {
   "cell_type": "markdown",
   "id": "c36e4476-56ea-4987-a7f9-33504dddd5bb",
   "metadata": {},
   "source": [
    "------------------------------------------------------------------------------------------------------------\n",
    "\n",
    "***COUNT***"
   ]
  },
  {
   "cell_type": "code",
   "execution_count": 146,
   "id": "271111bb-927c-47c7-9db6-3a4774cd1028",
   "metadata": {},
   "outputs": [],
   "source": [
    "list10=['one', 'two', 'three', 'four','one', 'two', 'three', 'four']\n"
   ]
  },
  {
   "cell_type": "code",
   "execution_count": 147,
   "id": "e02aada1-f641-4c06-a635-e4bd8b8cabfe",
   "metadata": {},
   "outputs": [
    {
     "data": {
      "text/plain": [
       "['one', 'two', 'three', 'four', 'one', 'two', 'three', 'four']"
      ]
     },
     "execution_count": 147,
     "metadata": {},
     "output_type": "execute_result"
    }
   ],
   "source": [
    "list10"
   ]
  },
  {
   "cell_type": "code",
   "execution_count": 148,
   "id": "926710a7-a080-4c9c-8651-67b5cbb33e19",
   "metadata": {},
   "outputs": [
    {
     "data": {
      "text/plain": [
       "2"
      ]
     },
     "execution_count": 148,
     "metadata": {},
     "output_type": "execute_result"
    }
   ],
   "source": [
    "list10.count('one')"
   ]
  },
  {
   "cell_type": "code",
   "execution_count": 149,
   "id": "26a69ed8-e059-437a-8e04-6ed3ccc61f6e",
   "metadata": {},
   "outputs": [
    {
     "data": {
      "text/plain": [
       "2"
      ]
     },
     "execution_count": 149,
     "metadata": {},
     "output_type": "execute_result"
    }
   ],
   "source": [
    "list10.count('two')"
   ]
  },
  {
   "cell_type": "code",
   "execution_count": 150,
   "id": "fcaad0c5-50eb-49fe-980a-2ca68eacf003",
   "metadata": {},
   "outputs": [
    {
     "data": {
      "text/plain": [
       "2"
      ]
     },
     "execution_count": 150,
     "metadata": {},
     "output_type": "execute_result"
    }
   ],
   "source": [
    "list10.count('three')"
   ]
  },
  {
   "cell_type": "code",
   "execution_count": 151,
   "id": "fba21e1f-894c-48e4-828e-5176653f1507",
   "metadata": {},
   "outputs": [
    {
     "data": {
      "text/plain": [
       "2"
      ]
     },
     "execution_count": 151,
     "metadata": {},
     "output_type": "execute_result"
    }
   ],
   "source": [
    "list10.count('four')"
   ]
  },
  {
   "cell_type": "markdown",
   "id": "ce81875e-9cfe-483d-bd61-fd7cfdf5f51b",
   "metadata": {},
   "source": [
    "-----------------------------------------------------------------------------------------------\n",
    "***ALL/ANY***\n",
    "-----------------------------------------------------------------------------------------"
   ]
  },
  {
   "cell_type": "markdown",
   "id": "31d22678-38b2-49b8-97b1-ba8cf988bc2a",
   "metadata": {},
   "source": [
    "**the all() method returns:\n",
    "    .True= if all element of the list is true\n",
    "    .False = if any elemnt in list is false**"
   ]
  },
  {
   "cell_type": "markdown",
   "id": "504a7517-fe72-4cbe-a20f-b495c668af3d",
   "metadata": {},
   "source": [
    "** The ANY() function return true if any element in the list is true, if not , (ANY) return false**"
   ]
  },
  {
   "cell_type": "code",
   "execution_count": 157,
   "id": "e385ac5a-7e9a-4e51-9dd9-10560465a1fb",
   "metadata": {},
   "outputs": [],
   "source": [
    "l1=[1,2,3,4,0] ## this means all value need to be true (value 0 is false )\n",
    "\n"
   ]
  },
  {
   "cell_type": "code",
   "execution_count": 158,
   "id": "a1a19af6-f414-46b5-b083-0b2482113df6",
   "metadata": {},
   "outputs": [
    {
     "data": {
      "text/plain": [
       "False"
      ]
     },
     "execution_count": 158,
     "metadata": {},
     "output_type": "execute_result"
    }
   ],
   "source": [
    "all(l1)\n"
   ]
  },
  {
   "cell_type": "code",
   "execution_count": 160,
   "id": "e2b0f239-44aa-419f-8dd1-af271122f4b3",
   "metadata": {},
   "outputs": [
    {
     "data": {
      "text/plain": [
       "True"
      ]
     },
     "execution_count": 160,
     "metadata": {},
     "output_type": "execute_result"
    }
   ],
   "source": [
    "any(l1)"
   ]
  },
  {
   "cell_type": "code",
   "execution_count": 161,
   "id": "5dea229b-647e-463d-91da-16a9a07855b6",
   "metadata": {},
   "outputs": [],
   "source": [
    "l2=[1,2,3,4,True,False] # here also one value is false this means \"all\" will return FALSE  and \"any\" will return TRUE "
   ]
  },
  {
   "cell_type": "code",
   "execution_count": 162,
   "id": "b9727ccf-a417-4331-91b7-3a3ff7add64c",
   "metadata": {},
   "outputs": [
    {
     "data": {
      "text/plain": [
       "False"
      ]
     },
     "execution_count": 162,
     "metadata": {},
     "output_type": "execute_result"
    }
   ],
   "source": [
    "all(l2)"
   ]
  },
  {
   "cell_type": "code",
   "execution_count": 163,
   "id": "f83e5408-472f-4e93-bd2d-3bd42253b1a2",
   "metadata": {},
   "outputs": [
    {
     "data": {
      "text/plain": [
       "True"
      ]
     },
     "execution_count": 163,
     "metadata": {},
     "output_type": "execute_result"
    }
   ],
   "source": [
    "any(l2)"
   ]
  },
  {
   "cell_type": "code",
   "execution_count": null,
   "id": "f5ccf0a5-f159-440d-8e4c-c7958e01c16e",
   "metadata": {},
   "outputs": [],
   "source": [
    "l3=[1,2,3,True]"
   ]
  }
 ],
 "metadata": {
  "kernelspec": {
   "display_name": "Python 3 (ipykernel)",
   "language": "python",
   "name": "python3"
  },
  "language_info": {
   "codemirror_mode": {
    "name": "ipython",
    "version": 3
   },
   "file_extension": ".py",
   "mimetype": "text/x-python",
   "name": "python",
   "nbconvert_exporter": "python",
   "pygments_lexer": "ipython3",
   "version": "3.12.7"
  }
 },
 "nbformat": 4,
 "nbformat_minor": 5
}
