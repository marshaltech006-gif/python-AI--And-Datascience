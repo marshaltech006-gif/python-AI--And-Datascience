{
 "cells": [
  {
   "cell_type": "markdown",
   "id": "7bbed85d-328c-4407-af41-14ad5f86bdc2",
   "metadata": {},
   "source": [
    "***Python PRINT_STATEMENT***"
   ]
  },
  {
   "cell_type": "code",
   "execution_count": 1,
   "id": "ab67d442-e56a-4928-b83a-88d7eb180cd7",
   "metadata": {},
   "outputs": [
    {
     "data": {
      "text/plain": [
       "20"
      ]
     },
     "execution_count": 1,
     "metadata": {},
     "output_type": "execute_result"
    }
   ],
   "source": [
    "#Print is us for Answer\n",
    "a=10\n",
    "b=20\n",
    "a\n",
    "b"
   ]
  },
  {
   "cell_type": "code",
   "execution_count": 2,
   "id": "dab3d4a7-892e-470c-8339-d8460eb6e5ad",
   "metadata": {},
   "outputs": [
    {
     "name": "stdout",
     "output_type": "stream",
     "text": [
      "10\n",
      "20\n"
     ]
    }
   ],
   "source": [
    "# Similar example with print \n",
    "a=10\n",
    "b=20\n",
    "print(a)\n",
    "print(b)\n"
   ]
  },
  {
   "cell_type": "code",
   "execution_count": 3,
   "id": "bfb138b6-18b2-45a0-8088-299422cae910",
   "metadata": {},
   "outputs": [
    {
     "name": "stdout",
     "output_type": "stream",
     "text": [
      "10\n"
     ]
    }
   ],
   "source": [
    " print(10)"
   ]
  },
  {
   "cell_type": "code",
   "execution_count": 4,
   "id": "b0742c52-a338-4a41-bffe-e0b4a61da688",
   "metadata": {},
   "outputs": [
    {
     "name": "stdout",
     "output_type": "stream",
     "text": [
      "10\n"
     ]
    }
   ],
   "source": [
    "        print(10)"
   ]
  },
  {
   "cell_type": "code",
   "execution_count": 5,
   "id": "071f1791-7d68-4f7a-a6bc-84240f6e964f",
   "metadata": {},
   "outputs": [
    {
     "name": "stdout",
     "output_type": "stream",
     "text": [
      "10\n",
      "10 20\n",
      "python\n",
      "10 20 python\n"
     ]
    }
   ],
   "source": [
    "print(10)\n",
    "print(10,20)\n",
    "print('python')\n",
    "print(10,20,'python')"
   ]
  },
  {
   "cell_type": "code",
   "execution_count": 6,
   "id": "4c1ca9fa-238d-4749-b795-68484c84bebd",
   "metadata": {},
   "outputs": [
    {
     "name": "stdout",
     "output_type": "stream",
     "text": [
      "50\n"
     ]
    }
   ],
   "source": [
    "num1=20\n",
    "num2=30\n",
    "add=num1+num2\n",
    "print(add)"
   ]
  },
  {
   "cell_type": "markdown",
   "id": "1814a84b-b700-4ec8-b80d-8905fc45c329",
   "metadata": {},
   "source": [
    "**PRINT result With String**"
   ]
  },
  {
   "cell_type": "code",
   "execution_count": 8,
   "id": "14775410-c7b3-4cd1-bbef-81236ba09436",
   "metadata": {},
   "outputs": [
    {
     "name": "stdout",
     "output_type": "stream",
     "text": [
      "the sum of 20 and 30 is : 50\n"
     ]
    }
   ],
   "source": [
    "num1=20\n",
    "num2=30\n",
    "add=num1+num2\n",
    "print(\"the sum of {} and {} is : {}\".format(num1,num2,add ))"
   ]
  },
  {
   "cell_type": "code",
   "execution_count": 10,
   "id": "d16afbf0-e97e-413c-aaaa-0892d971df60",
   "metadata": {},
   "outputs": [
    {
     "name": "stdout",
     "output_type": "stream",
     "text": [
      "The avrage of 100, 25, and 333 is= 152.66666666666666 or 152.67\n"
     ]
    }
   ],
   "source": [
    "num1=100\n",
    "num2=25\n",
    "num3=333\n",
    "avg=(num1+num2+num3)/3 # or we can use avg=round(num1+num2+num3)/3,2)\n",
    "avg1=round((num1+num2+num3)/3,2) # 2 indicate the how many percentage u want to put.\n",
    "# The avrage of num1,num2,num3 is = avg\n",
    "print('The avrage of {}, {}, and {} is= {} or {}'.format(num1,num2,num3, avg,avg1))"
   ]
  },
  {
   "cell_type": "code",
   "execution_count": 11,
   "id": "85466232-bfca-48ce-8095-93a76250898c",
   "metadata": {},
   "outputs": [
    {
     "data": {
      "text/plain": [
       "152.67"
      ]
     },
     "execution_count": 11,
     "metadata": {},
     "output_type": "execute_result"
    }
   ],
   "source": [
    "round(avg,2)"
   ]
  },
  {
   "cell_type": "markdown",
   "id": "e8832a77-3b21-4969-b9af-7a278e3eb312",
   "metadata": {},
   "source": [
    "**For short format method (f string )**\n",
    ".variable  Should be a curly braces\n",
    ".write every thing in quote''\n",
    ".At srating simple add f\n"
   ]
  },
  {
   "cell_type": "code",
   "execution_count": 16,
   "id": "9144d927-0d69-4a37-994b-fdf2ab559d3e",
   "metadata": {},
   "outputs": [
    {
     "name": "stdout",
     "output_type": "stream",
     "text": [
      "The sum of 20 and 30 == 50\n"
     ]
    }
   ],
   "source": [
    "num1=20\n",
    "num2=30\n",
    "add=num1+num2\n",
    "print(f'The sum of {num1} and {num2} == {add}')"
   ]
  },
  {
   "cell_type": "code",
   "execution_count": 20,
   "id": "77720924-18df-4309-b8ac-37ea38ef56f8",
   "metadata": {},
   "outputs": [
    {
     "name": "stdout",
     "output_type": "stream",
     "text": [
      "hello my name is Python and i am 20 year old, i am from hyd.\n",
      "hello my name is Python and i am 20 year old,i am from hyd.\n"
     ]
    }
   ],
   "source": [
    "name='Python' \n",
    "age=20\n",
    "city='hyd'\n",
    "#hellow my name is python and i am 10 year old from hydrabad\n",
    "print(f\"hello my name is {name} and i am {age} year old, i am from {city}.\")\n",
    "print(\"hello my name is {} and i am {} year old,i am from {}.\".format(name,age,city))"
   ]
  },
  {
   "cell_type": "code",
   "execution_count": 27,
   "id": "182b9455-0ca3-4060-8843-19ac55d3bdcd",
   "metadata": {},
   "outputs": [
    {
     "name": "stdout",
     "output_type": "stream",
     "text": [
      "Rajesh Mahato\n",
      "Rajesh Mahato\n"
     ]
    }
   ],
   "source": [
    "First_name='Rajesh'\n",
    "Last_name='Mahato'\n",
    "print(First_name ,end=' ')\n",
    "print(Last_name)\n",
    "print(First_name + \" \"+ Last_name)"
   ]
  },
  {
   "cell_type": "markdown",
   "id": "d7fc2b51-a575-42e2-97ca-29e068a13b74",
   "metadata": {},
   "source": [
    "**Seperation**"
   ]
  },
  {
   "cell_type": "code",
   "execution_count": 29,
   "id": "8ba51412-ef1f-481d-aafc-2313b5e809d1",
   "metadata": {},
   "outputs": [
    {
     "data": {
      "text/plain": [
       "('Rajesh', 'Mahato')"
      ]
     },
     "execution_count": 29,
     "metadata": {},
     "output_type": "execute_result"
    }
   ],
   "source": [
    "name =\"Rajesh\", \"Mahato\"\n",
    "name"
   ]
  },
  {
   "cell_type": "code",
   "execution_count": 33,
   "id": "cfe0ba55-e29b-4057-99de-3586dd487eaa",
   "metadata": {},
   "outputs": [
    {
     "name": "stdout",
     "output_type": "stream",
     "text": [
      "rajesh----mahato\n"
     ]
    }
   ],
   "source": [
    "print(\"rajesh\",\"mahato\",sep=\"----\")"
   ]
  },
  {
   "cell_type": "code",
   "execution_count": 34,
   "id": "f1633d4e-c89f-42e7-9982-9d4de7dc4348",
   "metadata": {},
   "outputs": [
    {
     "name": "stdout",
     "output_type": "stream",
     "text": [
      "rajesh&mahato\n"
     ]
    }
   ],
   "source": [
    "print(\"rajesh\",\"mahato\",sep=\"&\")"
   ]
  },
  {
   "cell_type": "code",
   "execution_count": 35,
   "id": "ade12031-6ef7-4ad0-ba52-0a1a998a81c9",
   "metadata": {},
   "outputs": [
    {
     "name": "stdout",
     "output_type": "stream",
     "text": [
      "rajesh@mahato\n"
     ]
    }
   ],
   "source": [
    "print(\"rajesh\",\"mahato\",sep=\"@\")"
   ]
  },
  {
   "cell_type": "code",
   "execution_count": 36,
   "id": "2e24ea4e-7eff-4adb-9168-bab0b66a3b15",
   "metadata": {},
   "outputs": [
    {
     "name": "stdout",
     "output_type": "stream",
     "text": [
      "rajesh.mahato\n"
     ]
    }
   ],
   "source": [
    "print(\"rajesh\",\"mahato\",sep=\".\")"
   ]
  },
  {
   "cell_type": "code",
   "execution_count": 37,
   "id": "3b5ed457-feca-458b-be1d-540a03d2d2d6",
   "metadata": {},
   "outputs": [
    {
     "name": "stdout",
     "output_type": "stream",
     "text": [
      "3 .\n"
     ]
    }
   ],
   "source": [
    "print(3,'.') # . is far from 3 so here we will use sep method"
   ]
  },
  {
   "cell_type": "code",
   "execution_count": 41,
   "id": "60b296a0-41bd-42d4-bb61-aa230551c0c2",
   "metadata": {},
   "outputs": [
    {
     "name": "stdout",
     "output_type": "stream",
     "text": [
      "3.\n"
     ]
    }
   ],
   "source": [
    "print(3,'.',sep=\"\") # . is far from 3 so here we will use sep method"
   ]
  },
  {
   "cell_type": "code",
   "execution_count": 42,
   "id": "e32cd02e-44fd-49b9-b1b4-837168942b68",
   "metadata": {},
   "outputs": [
    {
     "name": "stdout",
     "output_type": "stream",
     "text": [
      "1 23.\n"
     ]
    }
   ],
   "source": [
    "print(1,2,end='')\n",
    "print(3,'.',sep='')"
   ]
  },
  {
   "cell_type": "code",
   "execution_count": null,
   "id": "1af987a2-7a21-458c-8e90-d55102f61258",
   "metadata": {},
   "outputs": [],
   "source": []
  }
 ],
 "metadata": {
  "kernelspec": {
   "display_name": "Python 3 (ipykernel)",
   "language": "python",
   "name": "python3"
  },
  "language_info": {
   "codemirror_mode": {
    "name": "ipython",
    "version": 3
   },
   "file_extension": ".py",
   "mimetype": "text/x-python",
   "name": "python",
   "nbconvert_exporter": "python",
   "pygments_lexer": "ipython3",
   "version": "3.12.7"
  }
 },
 "nbformat": 4,
 "nbformat_minor": 5
}
