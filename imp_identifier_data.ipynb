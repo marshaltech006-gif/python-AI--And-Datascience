{
 "cells": [
  {
   "cell_type": "markdown",
   "id": "9c0f2de9-4215-454a-82f9-45dd483a795d",
   "metadata": {},
   "source": [
    "Python Tutorial"
   ]
  },
  {
   "cell_type": "code",
   "execution_count": 5,
   "id": "1f8a39ea-a8bc-4e31-998b-6265b176713b",
   "metadata": {},
   "outputs": [],
   "source": [
    "import sys"
   ]
  },
  {
   "cell_type": "code",
   "execution_count": 6,
   "id": "c70d71c9-9b6d-4450-9349-1492480563e0",
   "metadata": {},
   "outputs": [],
   "source": [
    "import keyword"
   ]
  },
  {
   "cell_type": "code",
   "execution_count": 7,
   "id": "93cae6c7-d802-44df-bd51-1cb61e126c94",
   "metadata": {},
   "outputs": [],
   "source": [
    "from datetime import datetime "
   ]
  },
  {
   "cell_type": "code",
   "execution_count": 8,
   "id": "c32a7e7e-7ee2-44a5-98cd-6fb7c0ef33b5",
   "metadata": {},
   "outputs": [],
   "source": [
    "import os"
   ]
  },
  {
   "cell_type": "code",
   "execution_count": 9,
   "id": "c2adbbed-b362-4689-b833-d1195c2bcebe",
   "metadata": {},
   "outputs": [
    {
     "name": "stdout",
     "output_type": "stream",
     "text": [
      "['False', 'None', 'True', 'and', 'as', 'assert', 'async', 'await', 'break', 'class', 'continue', 'def', 'del', 'elif', 'else', 'except', 'finally', 'for', 'from', 'global', 'if', 'import', 'in', 'is', 'lambda', 'nonlocal', 'not', 'or', 'pass', 'raise', 'return', 'try', 'while', 'with', 'yield']\n"
     ]
    }
   ],
   "source": [
    "print(keyword.kwlist)"
   ]
  },
  {
   "cell_type": "code",
   "execution_count": 10,
   "id": "b8ac0005-f772-4cbb-9e3f-014051031fba",
   "metadata": {},
   "outputs": [
    {
     "data": {
      "text/plain": [
       "35"
      ]
     },
     "execution_count": 10,
     "metadata": {},
     "output_type": "execute_result"
    }
   ],
   "source": [
    "len(keyword.kwlist)"
   ]
  },
  {
   "cell_type": "markdown",
   "id": "4405658e-b918-4dc1-bc79-b274a4d619c1",
   "metadata": {},
   "source": [
    "**Identifier:- An identifier given to entire like class ,function, variable, etc it help to differentiate one entity from another**"
   ]
  },
  {
   "cell_type": "code",
   "execution_count": 11,
   "id": "d69c11b2-1256-4328-ae43-82398be0b068",
   "metadata": {},
   "outputs": [
    {
     "ename": "SyntaxError",
     "evalue": "invalid decimal literal (3965731398.py, line 1)",
     "output_type": "error",
     "traceback": [
      "\u001b[1;36m  Cell \u001b[1;32mIn[11], line 1\u001b[1;36m\u001b[0m\n\u001b[1;33m    1var=10 # identifier can't be start with a digit\u001b[0m\n\u001b[1;37m    ^\u001b[0m\n\u001b[1;31mSyntaxError\u001b[0m\u001b[1;31m:\u001b[0m invalid decimal literal\n"
     ]
    }
   ],
   "source": [
    "1var=10 # identifier can't be start with a digit"
   ]
  },
  {
   "cell_type": "code",
   "execution_count": 12,
   "id": "7480a2d7-19b4-4033-80b4-a09b6cad2656",
   "metadata": {},
   "outputs": [
    {
     "ename": "NameError",
     "evalue": "name 'val1' is not defined",
     "output_type": "error",
     "traceback": [
      "\u001b[1;31m---------------------------------------------------------------------------\u001b[0m",
      "\u001b[1;31mNameError\u001b[0m                                 Traceback (most recent call last)",
      "Cell \u001b[1;32mIn[12], line 1\u001b[0m\n\u001b[1;32m----> 1\u001b[0m val1\u001b[38;5;241m@\u001b[39m\u001b[38;5;241m=\u001b[39m\u001b[38;5;241m12\u001b[39m\n",
      "\u001b[1;31mNameError\u001b[0m: name 'val1' is not defined"
     ]
    }
   ],
   "source": [
    "val1@=12 # identifier Doesn't contain Special charecter "
   ]
  },
  {
   "cell_type": "code",
   "execution_count": 13,
   "id": "278f5306-ea38-4f75-ad2b-a911b679d410",
   "metadata": {},
   "outputs": [
    {
     "ename": "SyntaxError",
     "evalue": "invalid syntax (1855174366.py, line 1)",
     "output_type": "error",
     "traceback": [
      "\u001b[1;36m  Cell \u001b[1;32mIn[13], line 1\u001b[1;36m\u001b[0m\n\u001b[1;33m    import=24  # key cannot be identifier\u001b[0m\n\u001b[1;37m          ^\u001b[0m\n\u001b[1;31mSyntaxError\u001b[0m\u001b[1;31m:\u001b[0m invalid syntax\n"
     ]
    }
   ],
   "source": [
    "import=24  # key cannot be identifier "
   ]
  },
  {
   "cell_type": "code",
   "execution_count": 15,
   "id": "20473a7d-bbde-4452-96f1-53866f404ad2",
   "metadata": {},
   "outputs": [],
   "source": [
    "\"\"\" correct way to identify the identifer\n",
    "(identifier can be a combination of lower case and (atoz) or uppercase\n",
    "\"\"\"\n",
    "var=10"
   ]
  },
  {
   "cell_type": "code",
   "execution_count": 16,
   "id": "ae70b729-357d-4115-bf74-4f93b0fc0189",
   "metadata": {},
   "outputs": [],
   "source": [
    "val_=99"
   ]
  },
  {
   "cell_type": "markdown",
   "id": "14d11e49-b1df-4782-8a68-da32eeae0013",
   "metadata": {},
   "source": [
    "**** Comment in python ****"
   ]
  },
  {
   "cell_type": "code",
   "execution_count": 17,
   "id": "359e9375-5cfe-42cd-a045-5112427a9fb2",
   "metadata": {},
   "outputs": [],
   "source": [
    "#Single line Comment \n",
    "Val10=10"
   ]
  },
  {
   "cell_type": "code",
   "execution_count": 19,
   "id": "5cc5df29-db16-4f61-9f07-ec9265e3f110",
   "metadata": {},
   "outputs": [],
   "source": [
    "#Multiple\n",
    "#line\n",
    "#comment\n",
    "val1=10"
   ]
  },
  {
   "cell_type": "code",
   "execution_count": 20,
   "id": "ee9de04d-0634-432a-bb33-b264954f5cb6",
   "metadata": {},
   "outputs": [],
   "source": [
    "''' Multi\n",
    "line\n",
    "string\n",
    "'''\n",
    "val1=10"
   ]
  },
  {
   "cell_type": "markdown",
   "id": "eb1a2408-b67a-443f-9ebe-f7de6f192efa",
   "metadata": {},
   "source": [
    "**Statements**"
   ]
  },
  {
   "cell_type": "markdown",
   "id": "e3daca48-cca9-423f-955d-f229f5a40254",
   "metadata": {},
   "source": [
    "introduction that a python interpreter can execute."
   ]
  },
  {
   "cell_type": "code",
   "execution_count": 21,
   "id": "48931bb3-9082-4155-9765-454c3473b24e",
   "metadata": {},
   "outputs": [
    {
     "data": {
      "text/plain": [
       "(20, int, '0x7ff8b0f32c18')"
      ]
     },
     "execution_count": 21,
     "metadata": {},
     "output_type": "execute_result"
    }
   ],
   "source": [
    "p=20\n",
    "q=20\n",
    "r=q\n",
    "p,type(p), hex(id(q))"
   ]
  },
  {
   "cell_type": "code",
   "execution_count": 22,
   "id": "9cb2be89-58c7-488b-bf08-aa60254a8468",
   "metadata": {},
   "outputs": [
    {
     "data": {
      "text/plain": [
       "30"
      ]
     },
     "execution_count": 22,
     "metadata": {},
     "output_type": "execute_result"
    }
   ],
   "source": [
    "p=20\n",
    "p=p+10 # variable Overwriting\n",
    "p"
   ]
  },
  {
   "cell_type": "markdown",
   "id": "3eae4048-5de3-42c6-8961-aca9458b8359",
   "metadata": {},
   "source": [
    "**variable Assignment**"
   ]
  },
  {
   "cell_type": "code",
   "execution_count": 25,
   "id": "2ca990f9-94f6-409e-877c-50239663508d",
   "metadata": {},
   "outputs": [
    {
     "name": "stdout",
     "output_type": "stream",
     "text": [
      "10\n",
      "2.57\n",
      "Python Language\n"
     ]
    }
   ],
   "source": [
    "intvar=10 # interger value\n",
    "floatvar=2.57# Float variable\n",
    "Strvar=\"Python Language\" # String variable\n",
    "\n",
    "print(intvar)\n",
    "print(floatvar)\n",
    "print(Strvar)"
   ]
  },
  {
   "cell_type": "markdown",
   "id": "f131ca4a-2142-4db5-87b8-d43ff59737fc",
   "metadata": {},
   "source": [
    "** Multi Assignment **"
   ]
  },
  {
   "cell_type": "code",
   "execution_count": 26,
   "id": "75d3b417-8928-4553-ae93-dfca66078ab0",
   "metadata": {},
   "outputs": [
    {
     "name": "stdout",
     "output_type": "stream",
     "text": [
      "10\n",
      "10.2\n",
      "Rupesh\n"
     ]
    }
   ],
   "source": [
    "a,b,c=10,10.2,\"Rupesh\"\n",
    "print(a)\n",
    "print(b)\n",
    "print(c)"
   ]
  },
  {
   "cell_type": "code",
   "execution_count": 27,
   "id": "535c6272-c061-452c-aeb3-98ae2d8afb0e",
   "metadata": {},
   "outputs": [
    {
     "name": "stdout",
     "output_type": "stream",
     "text": [
      "44 44 44 44\n"
     ]
    }
   ],
   "source": [
    "p1=p2=p3=p4=44\n",
    "print(p1,p2,p3,p4)"
   ]
  },
  {
   "cell_type": "markdown",
   "id": "e304ed0e-b409-45a8-ab21-97abadf62efb",
   "metadata": {},
   "source": [
    "**Data Types**"
   ]
  },
  {
   "cell_type": "raw",
   "id": "6d3eb70b-4a71-4794-95ca-9e1d1fae9bc0",
   "metadata": {},
   "source": [
    "Numeric"
   ]
  },
  {
   "cell_type": "code",
   "execution_count": 35,
   "id": "420a3e0d-39b0-4af2-bbf8-d39f20cbd256",
   "metadata": {},
   "outputs": [
    {
     "name": "stdout",
     "output_type": "stream",
     "text": [
      "10\n",
      "<class 'int'>\n",
      "28\n",
      "10 is interger? True\n"
     ]
    }
   ],
   "source": [
    "val1=10# interger data type\n",
    "print(val1)\n",
    "print(type(val1))# type of object      \n",
    "print(sys.getsizeof(val1) ) # size of the int object in bytes\n",
    "print(val1, \"is interger?\",isinstance(val1,int)) # val1 is the instance of the int\n",
    "      "
   ]
  },
  {
   "cell_type": "code",
   "execution_count": 36,
   "id": "33f8765d-a185-4b55-b5b3-2936903f3411",
   "metadata": {},
   "outputs": [
    {
     "name": "stdout",
     "output_type": "stream",
     "text": [
      "92.78\n",
      "<class 'float'>\n",
      "24\n",
      "92.78 is float? True\n"
     ]
    }
   ],
   "source": [
    "val2=92.78# interger data type\n",
    "print(val2)\n",
    "print(type(val2))# type of object      \n",
    "print(sys.getsizeof(val2) )# Size of the float obejct in byte\n",
    "print(val2, \"is float?\",isinstance(val2,float)) # val1 is the instance of the int"
   ]
  },
  {
   "cell_type": "code",
   "execution_count": 37,
   "id": "45217dea-7710-4e3b-9169-b02a7eab7d8e",
   "metadata": {},
   "outputs": [
    {
     "name": "stdout",
     "output_type": "stream",
     "text": [
      "(1+2j)\n",
      "<class 'complex'>\n",
      "32\n",
      "(1+2j) is complex? True\n"
     ]
    }
   ],
   "source": [
    "val3=1+2j# interger data type\n",
    "print(val3)\n",
    "print(type(val3))# type of object      \n",
    "print(sys.getsizeof(val3) )# Size of the complex obejct in byte\n",
    "print(val3, \"is complex?\",isinstance(val3,complex)) # val1 is the instance of the int"
   ]
  },
  {
   "cell_type": "code",
   "execution_count": 38,
   "id": "85bea690-9c45-4c60-92da-19e6ef2d16a1",
   "metadata": {},
   "outputs": [
    {
     "data": {
      "text/plain": [
       "28"
      ]
     },
     "execution_count": 38,
     "metadata": {},
     "output_type": "execute_result"
    }
   ],
   "source": [
    "sys.getsizeof(int())# Size of int object in bytes"
   ]
  },
  {
   "cell_type": "code",
   "execution_count": 39,
   "id": "edaec36c-d001-4c77-9382-bebc481f5735",
   "metadata": {},
   "outputs": [
    {
     "data": {
      "text/plain": [
       "24"
      ]
     },
     "execution_count": 39,
     "metadata": {},
     "output_type": "execute_result"
    }
   ],
   "source": [
    "sys.getsizeof(float())# Size of float object in bytes"
   ]
  },
  {
   "cell_type": "code",
   "execution_count": 40,
   "id": "244ac937-6cd0-4e1e-8f8b-ad135fe19726",
   "metadata": {},
   "outputs": [
    {
     "data": {
      "text/plain": [
       "32"
      ]
     },
     "execution_count": 40,
     "metadata": {},
     "output_type": "execute_result"
    }
   ],
   "source": [
    "sys.getsizeof(complex())# Size of Complex object in bytes"
   ]
  },
  {
   "cell_type": "markdown",
   "id": "9504a345-8e42-4425-9924-dedcbd57bb7d",
   "metadata": {},
   "source": [
    "**Boolean**"
   ]
  },
  {
   "cell_type": "markdown",
   "id": "88feb496-35b3-4395-b3fd-faf62a0b8d72",
   "metadata": {},
   "source": [
    "****Boolean Datatypes having only two posibility either true of false****"
   ]
  },
  {
   "cell_type": "code",
   "execution_count": 41,
   "id": "0ac01b6c-9143-4e88-a91f-fe15407f39a8",
   "metadata": {},
   "outputs": [],
   "source": [
    "bool1=True"
   ]
  },
  {
   "cell_type": "code",
   "execution_count": 42,
   "id": "5f2e386b-95c1-4dfe-80f0-cce56ea683ec",
   "metadata": {},
   "outputs": [],
   "source": [
    "bool2=False"
   ]
  },
  {
   "cell_type": "code",
   "execution_count": 44,
   "id": "2d1568bf-bc9c-4785-aa90-a098a51688f5",
   "metadata": {},
   "outputs": [
    {
     "name": "stdout",
     "output_type": "stream",
     "text": [
      "<class 'bool'>\n"
     ]
    }
   ],
   "source": [
    "print(type(bool1))"
   ]
  },
  {
   "cell_type": "code",
   "execution_count": 45,
   "id": "351d86cd-b6f6-44ee-b064-6441f7e60535",
   "metadata": {},
   "outputs": [
    {
     "name": "stdout",
     "output_type": "stream",
     "text": [
      "<class 'bool'>\n"
     ]
    }
   ],
   "source": [
    "print(type(bool2))"
   ]
  },
  {
   "cell_type": "code",
   "execution_count": 46,
   "id": "ebf2998e-7d04-438d-92d2-8d94b2692843",
   "metadata": {},
   "outputs": [
    {
     "data": {
      "text/plain": [
       "True"
      ]
     },
     "execution_count": 46,
     "metadata": {},
     "output_type": "execute_result"
    }
   ],
   "source": [
    "isinstance(bool1,bool)"
   ]
  },
  {
   "cell_type": "code",
   "execution_count": 47,
   "id": "aa721a54-54a5-4c20-8463-f1cb9a5e24ae",
   "metadata": {},
   "outputs": [
    {
     "data": {
      "text/plain": [
       "True"
      ]
     },
     "execution_count": 47,
     "metadata": {},
     "output_type": "execute_result"
    }
   ],
   "source": [
    "isinstance(bool2,bool)"
   ]
  },
  {
   "cell_type": "code",
   "execution_count": 48,
   "id": "fa9c4be5-76ad-4ba5-be06-58ee56b267d8",
   "metadata": {},
   "outputs": [
    {
     "data": {
      "text/plain": [
       "False"
      ]
     },
     "execution_count": 48,
     "metadata": {},
     "output_type": "execute_result"
    }
   ],
   "source": [
    "bool(0)"
   ]
  },
  {
   "cell_type": "code",
   "execution_count": 49,
   "id": "b006f5f0-e55e-4928-badb-4ac3de24e752",
   "metadata": {},
   "outputs": [
    {
     "data": {
      "text/plain": [
       "True"
      ]
     },
     "execution_count": 49,
     "metadata": {},
     "output_type": "execute_result"
    }
   ],
   "source": [
    "bool(1)"
   ]
  },
  {
   "cell_type": "code",
   "execution_count": 50,
   "id": "18f59d4c-5acf-4539-8e16-8c307169b125",
   "metadata": {},
   "outputs": [
    {
     "data": {
      "text/plain": [
       "True"
      ]
     },
     "execution_count": 50,
     "metadata": {},
     "output_type": "execute_result"
    }
   ],
   "source": [
    "bool(2)"
   ]
  },
  {
   "cell_type": "code",
   "execution_count": 51,
   "id": "57cca688-e517-4495-bbc9-1941e5222f2b",
   "metadata": {},
   "outputs": [
    {
     "data": {
      "text/plain": [
       "False"
      ]
     },
     "execution_count": 51,
     "metadata": {},
     "output_type": "execute_result"
    }
   ],
   "source": [
    "bool(None)"
   ]
  },
  {
   "cell_type": "code",
   "execution_count": 52,
   "id": "800d154c-c13c-4bb1-a34d-bb34a2e0c641",
   "metadata": {},
   "outputs": [
    {
     "data": {
      "text/plain": [
       "False"
      ]
     },
     "execution_count": 52,
     "metadata": {},
     "output_type": "execute_result"
    }
   ],
   "source": [
    "bool(False)"
   ]
  },
  {
   "cell_type": "markdown",
   "id": "042a1723-5e45-4dbd-a65b-e9ebb40d0bcb",
   "metadata": {},
   "source": [
    "**Strings**"
   ]
  },
  {
   "cell_type": "code",
   "execution_count": 53,
   "id": "2468fc8a-6624-484e-b97d-24040d98d144",
   "metadata": {},
   "outputs": [
    {
     "name": "stdout",
     "output_type": "stream",
     "text": [
      "HELLO PYTHON\n"
     ]
    }
   ],
   "source": [
    "str1=\"HELLO PYTHON\"\n",
    "print(str1)"
   ]
  },
  {
   "cell_type": "code",
   "execution_count": 54,
   "id": "03096489-c292-441f-9df5-9b3dff6c7525",
   "metadata": {},
   "outputs": [
    {
     "name": "stdout",
     "output_type": "stream",
     "text": [
      "Hello World\n"
     ]
    }
   ],
   "source": [
    "mystr='Hello World'\n",
    "print(mystr)"
   ]
  },
  {
   "cell_type": "code",
   "execution_count": 55,
   "id": "2b31f19b-c70f-437d-b349-7ba668d45f44",
   "metadata": {},
   "outputs": [
    {
     "name": "stdout",
     "output_type": "stream",
     "text": [
      " hello\n",
      "            world\n"
     ]
    }
   ],
   "source": [
    "## Define string as a triple qoute \n",
    "mystr=''' hello\n",
    "            world'''\n",
    "print(mystr)"
   ]
  },
  {
   "cell_type": "code",
   "execution_count": 56,
   "id": "4e7cea22-4655-48a8-8b44-78f5899e9ed7",
   "metadata": {},
   "outputs": [
    {
     "name": "stdout",
     "output_type": "stream",
     "text": [
      " hello\n",
      "            world\n"
     ]
    }
   ],
   "source": [
    "mystr=\"\"\" hello\n",
    "            world\"\"\"\n",
    "print(mystr)"
   ]
  },
  {
   "cell_type": "code",
   "execution_count": 58,
   "id": "a066d73d-687a-40bd-b24d-62d95454af4a",
   "metadata": {},
   "outputs": [
    {
     "name": "stdout",
     "output_type": "stream",
     "text": [
      "happy sunday everyone \n"
     ]
    }
   ],
   "source": [
    "mystr=('happy '\n",
    "       'sunday '\n",
    "       'everyone ')\n",
    "print(mystr)"
   ]
  },
  {
   "cell_type": "code",
   "execution_count": 60,
   "id": "4ce782a5-4279-445b-aa19-e03ee108aa6c",
   "metadata": {},
   "outputs": [
    {
     "data": {
      "text/plain": [
       "'Whoooo Whoooo Whoooo Whoooo Whoooo '"
      ]
     },
     "execution_count": 60,
     "metadata": {},
     "output_type": "execute_result"
    }
   ],
   "source": [
    "mystr='Whoooo '\n",
    "mystr=mystr*5\n",
    "mystr"
   ]
  },
  {
   "cell_type": "markdown",
   "id": "fc92604f-9264-4bdc-bf23-d42165ea6ece",
   "metadata": {},
   "source": [
    "**String Indexing**"
   ]
  },
  {
   "cell_type": "code",
   "execution_count": 61,
   "id": "36c082a2-4d63-407a-a318-ca388e6734a6",
   "metadata": {},
   "outputs": [
    {
     "data": {
      "text/plain": [
       "'HELLO PYTHON'"
      ]
     },
     "execution_count": 61,
     "metadata": {},
     "output_type": "execute_result"
    }
   ],
   "source": [
    "str1"
   ]
  },
  {
   "cell_type": "code",
   "execution_count": 62,
   "id": "de62929d-1303-4022-b573-14fc30cd9e3e",
   "metadata": {},
   "outputs": [
    {
     "data": {
      "text/plain": [
       "'H'"
      ]
     },
     "execution_count": 62,
     "metadata": {},
     "output_type": "execute_result"
    }
   ],
   "source": [
    "str1[0]"
   ]
  },
  {
   "cell_type": "code",
   "execution_count": 65,
   "id": "a2245e9b-0359-45b1-9c1b-92d0ece62617",
   "metadata": {},
   "outputs": [
    {
     "data": {
      "text/plain": [
       "'N'"
      ]
     },
     "execution_count": 65,
     "metadata": {},
     "output_type": "execute_result"
    }
   ],
   "source": [
    "str1[len(str1)-1] # last charcter of the string"
   ]
  },
  {
   "cell_type": "code",
   "execution_count": 66,
   "id": "02502d2e-131d-45a8-925d-d17dafc432b8",
   "metadata": {},
   "outputs": [
    {
     "data": {
      "text/plain": [
       "'N'"
      ]
     },
     "execution_count": 66,
     "metadata": {},
     "output_type": "execute_result"
    }
   ],
   "source": [
    "str1[-1] # last char in this string"
   ]
  },
  {
   "cell_type": "code",
   "execution_count": 67,
   "id": "093999db-57ad-4909-85a2-2e79f1cdb4bb",
   "metadata": {},
   "outputs": [
    {
     "data": {
      "text/plain": [
       "'P'"
      ]
     },
     "execution_count": 67,
     "metadata": {},
     "output_type": "execute_result"
    }
   ],
   "source": [
    "str1[6] # fetch 7th place in this given string "
   ]
  },
  {
   "cell_type": "code",
   "execution_count": 68,
   "id": "ab44c13d-8dac-452e-aa16-2cf553a33f08",
   "metadata": {},
   "outputs": [
    {
     "data": {
      "text/plain": [
       "' '"
      ]
     },
     "execution_count": 68,
     "metadata": {},
     "output_type": "execute_result"
    }
   ],
   "source": [
    "str1[5]"
   ]
  },
  {
   "cell_type": "markdown",
   "id": "7b3f353b-732f-4758-a8d2-a122c1ad460d",
   "metadata": {},
   "source": [
    "**Python Slicing**"
   ]
  },
  {
   "cell_type": "code",
   "execution_count": 69,
   "id": "2a7a70a3-7359-4f5b-82bd-0ea74f6d0287",
   "metadata": {},
   "outputs": [
    {
     "data": {
      "text/plain": [
       "'HELLO'"
      ]
     },
     "execution_count": 69,
     "metadata": {},
     "output_type": "execute_result"
    }
   ],
   "source": [
    "str1[0:5]"
   ]
  },
  {
   "cell_type": "code",
   "execution_count": 70,
   "id": "0a27f31c-7378-4940-90a7-43e9adecf21d",
   "metadata": {},
   "outputs": [
    {
     "data": {
      "text/plain": [
       "'PYTHON'"
      ]
     },
     "execution_count": 70,
     "metadata": {},
     "output_type": "execute_result"
    }
   ],
   "source": [
    "str1[6:12]"
   ]
  },
  {
   "cell_type": "code",
   "execution_count": 72,
   "id": "e421d0ec-e2b1-49a3-90cc-012098e3a9bb",
   "metadata": {},
   "outputs": [
    {
     "data": {
      "text/plain": [
       "'THON'"
      ]
     },
     "execution_count": 72,
     "metadata": {},
     "output_type": "execute_result"
    }
   ],
   "source": [
    "str1[-4:]"
   ]
  },
  {
   "cell_type": "code",
   "execution_count": 73,
   "id": "a94dadd3-fc6c-4817-bcc0-c7458bcdb40b",
   "metadata": {},
   "outputs": [
    {
     "data": {
      "text/plain": [
       "'PYTHON'"
      ]
     },
     "execution_count": 73,
     "metadata": {},
     "output_type": "execute_result"
    }
   ],
   "source": [
    "str1[-6:]"
   ]
  },
  {
   "cell_type": "markdown",
   "id": "bca70e5f-e291-4b68-b88b-589e3da626c0",
   "metadata": {},
   "source": [
    "**Update & Delete**"
   ]
  },
  {
   "cell_type": "code",
   "execution_count": 74,
   "id": "acabd3b3-282d-4e8c-80c8-79951798424f",
   "metadata": {},
   "outputs": [
    {
     "data": {
      "text/plain": [
       "'HELLO PYTHON'"
      ]
     },
     "execution_count": 74,
     "metadata": {},
     "output_type": "execute_result"
    }
   ],
   "source": [
    "str1"
   ]
  },
  {
   "cell_type": "code",
   "execution_count": 75,
   "id": "f1e8fd31-4a8a-4da0-a5fc-0adfb8bc24ec",
   "metadata": {},
   "outputs": [
    {
     "ename": "TypeError",
     "evalue": "'str' object does not support item assignment",
     "output_type": "error",
     "traceback": [
      "\u001b[1;31m---------------------------------------------------------------------------\u001b[0m",
      "\u001b[1;31mTypeError\u001b[0m                                 Traceback (most recent call last)",
      "Cell \u001b[1;32mIn[75], line 3\u001b[0m\n\u001b[0;32m      1\u001b[0m \u001b[38;5;66;03m# String is immutable this cannot be change \u001b[39;00m\n\u001b[0;32m      2\u001b[0m \u001b[38;5;66;03m#for Example\u001b[39;00m\n\u001b[1;32m----> 3\u001b[0m str1[\u001b[38;5;241m0\u001b[39m:\u001b[38;5;241m5\u001b[39m]\u001b[38;5;241m=\u001b[39m\u001b[38;5;124m'\u001b[39m\u001b[38;5;124mHolla\u001b[39m\u001b[38;5;124m'\u001b[39m\n",
      "\u001b[1;31mTypeError\u001b[0m: 'str' object does not support item assignment"
     ]
    }
   ],
   "source": [
    "# String is immutable this cannot be change \n",
    "#for Example\n",
    "str1[0:5]='Holla'"
   ]
  },
  {
   "cell_type": "code",
   "execution_count": 76,
   "id": "9575b38a-266d-49b0-a4d2-65f4af72c5ed",
   "metadata": {},
   "outputs": [
    {
     "ename": "NameError",
     "evalue": "name 'str1' is not defined",
     "output_type": "error",
     "traceback": [
      "\u001b[1;31m---------------------------------------------------------------------------\u001b[0m",
      "\u001b[1;31mNameError\u001b[0m                                 Traceback (most recent call last)",
      "Cell \u001b[1;32mIn[76], line 3\u001b[0m\n\u001b[0;32m      1\u001b[0m \u001b[38;5;66;03m## trying to del the String\u001b[39;00m\n\u001b[0;32m      2\u001b[0m \u001b[38;5;28;01mdel\u001b[39;00m str1 \u001b[38;5;66;03m# deleting a string\u001b[39;00m\n\u001b[1;32m----> 3\u001b[0m \u001b[38;5;28mprint\u001b[39m(str1)\n",
      "\u001b[1;31mNameError\u001b[0m: name 'str1' is not defined"
     ]
    }
   ],
   "source": [
    "## trying to del the String\n",
    "del str1 # deleting a string\n",
    "print(str1)"
   ]
  },
  {
   "cell_type": "code",
   "execution_count": 77,
   "id": "12c2150f-cd83-4104-a037-197af088e50f",
   "metadata": {},
   "outputs": [
    {
     "ename": "NameError",
     "evalue": "name 'str1' is not defined",
     "output_type": "error",
     "traceback": [
      "\u001b[1;31m---------------------------------------------------------------------------\u001b[0m",
      "\u001b[1;31mNameError\u001b[0m                                 Traceback (most recent call last)",
      "Cell \u001b[1;32mIn[77], line 1\u001b[0m\n\u001b[1;32m----> 1\u001b[0m str1\n",
      "\u001b[1;31mNameError\u001b[0m: name 'str1' is not defined"
     ]
    }
   ],
   "source": [
    "str1"
   ]
  },
  {
   "cell_type": "markdown",
   "id": "bb952b93-8564-45ca-9db5-45b4db50c403",
   "metadata": {},
   "source": [
    "**string Concatination**"
   ]
  },
  {
   "cell_type": "code",
   "execution_count": null,
   "id": "0d76b701-e369-4a10-b6e6-43dad0f015ed",
   "metadata": {},
   "outputs": [],
   "source": [
    "s1='Rupesh'\n",
    "s2='R"
   ]
  }
 ],
 "metadata": {
  "kernelspec": {
   "display_name": "Python 3 (ipykernel)",
   "language": "python",
   "name": "python3"
  },
  "language_info": {
   "codemirror_mode": {
    "name": "ipython",
    "version": 3
   },
   "file_extension": ".py",
   "mimetype": "text/x-python",
   "name": "python",
   "nbconvert_exporter": "python",
   "pygments_lexer": "ipython3",
   "version": "3.12.7"
  }
 },
 "nbformat": 4,
 "nbformat_minor": 5
}
