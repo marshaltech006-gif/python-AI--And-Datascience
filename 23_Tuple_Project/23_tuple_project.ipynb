{
 "cells": [
  {
   "cell_type": "markdown",
   "id": "aedae559-6b11-46d4-bc83-4d1c333872d8",
   "metadata": {},
   "source": [
    "-------------------------------------\n",
    "**Tuple Creation**\n",
    "-----------------------------------------"
   ]
  },
  {
   "cell_type": "code",
   "execution_count": 1,
   "id": "f44913f9-24c4-4b66-b3aa-7b607d4042e4",
   "metadata": {},
   "outputs": [],
   "source": [
    "tup1=() #empty tuple"
   ]
  },
  {
   "cell_type": "code",
   "execution_count": 2,
   "id": "44217d34-26dc-4845-8e15-20985d54c54a",
   "metadata": {},
   "outputs": [],
   "source": [
    "tup2=(10,30,60) # tuple of integer number \n"
   ]
  },
  {
   "cell_type": "code",
   "execution_count": 3,
   "id": "1e2c19d4-d5f3-45ab-b106-ef70c1397c00",
   "metadata": {},
   "outputs": [],
   "source": [
    "tup3=(10.77,30.66,60.89) # tuple with float numbers "
   ]
  },
  {
   "cell_type": "code",
   "execution_count": 4,
   "id": "29b4bfe3-dc54-49fe-95a9-fb9706482665",
   "metadata": {},
   "outputs": [],
   "source": [
    "tup4=('one','two','three')# tuple in strings\n"
   ]
  },
  {
   "cell_type": "code",
   "execution_count": 9,
   "id": "44e16efd-f530-452c-a0d4-1f88707be1d4",
   "metadata": {},
   "outputs": [],
   "source": [
    "tup5=('Asif',25,(50,100),(150,90))# nested tuple\n",
    "      "
   ]
  },
  {
   "cell_type": "code",
   "execution_count": 11,
   "id": "cae6d896-946c-4940-8631-a21a858166e2",
   "metadata": {},
   "outputs": [],
   "source": [
    "tup6=('100','Asif',17.765) # tuple in mix data types"
   ]
  },
  {
   "cell_type": "code",
   "execution_count": 12,
   "id": "0cc5ecf8-f763-4981-94fb-99a9baff6d43",
   "metadata": {},
   "outputs": [],
   "source": [
    "tup7=('Asif',25,[50,100],[150,90],{'john', 'David'},(99,22,33))"
   ]
  },
  {
   "cell_type": "code",
   "execution_count": 14,
   "id": "2674560d-fd35-4d53-b785-f057d9201901",
   "metadata": {},
   "outputs": [
    {
     "data": {
      "text/plain": [
       "6"
      ]
     },
     "execution_count": 14,
     "metadata": {},
     "output_type": "execute_result"
    }
   ],
   "source": [
    "len(tup7) # lenth of the list"
   ]
  },
  {
   "cell_type": "markdown",
   "id": "bc1b442a-2567-4414-bb47-b4c6c7edf463",
   "metadata": {},
   "source": [
    "**tuple Indexing**\n",
    "-------------------------------------------------------------------------"
   ]
  },
  {
   "cell_type": "code",
   "execution_count": 17,
   "id": "71b56e60-51cc-4636-a752-59796e79bf23",
   "metadata": {},
   "outputs": [
    {
     "data": {
      "text/plain": [
       "10"
      ]
     },
     "execution_count": 17,
     "metadata": {},
     "output_type": "execute_result"
    }
   ],
   "source": [
    "tup2[0]# retrive the first element of thr tuple "
   ]
  },
  {
   "cell_type": "code",
   "execution_count": 18,
   "id": "b9183a4b-4eed-4762-8518-21532a0699bc",
   "metadata": {},
   "outputs": [
    {
     "data": {
      "text/plain": [
       "'one'"
      ]
     },
     "execution_count": 18,
     "metadata": {},
     "output_type": "execute_result"
    }
   ],
   "source": [
    "tup4[0]#retrive the first element of thr tuple "
   ]
  },
  {
   "cell_type": "code",
   "execution_count": 20,
   "id": "8a026ed7-3b1b-4c89-a1ce-c16265876584",
   "metadata": {},
   "outputs": [
    {
     "data": {
      "text/plain": [
       "'o'"
      ]
     },
     "execution_count": 20,
     "metadata": {},
     "output_type": "execute_result"
    }
   ],
   "source": [
    "tup4[0][0]"
   ]
  },
  {
   "cell_type": "code",
   "execution_count": 21,
   "id": "65380a51-1bd4-4c69-b4a4-9dbc31dc7c80",
   "metadata": {},
   "outputs": [
    {
     "data": {
      "text/plain": [
       "'three'"
      ]
     },
     "execution_count": 21,
     "metadata": {},
     "output_type": "execute_result"
    }
   ],
   "source": [
    "tup4[-1]"
   ]
  },
  {
   "cell_type": "code",
   "execution_count": 22,
   "id": "537c0267-df8c-4152-af8d-3456e51edef2",
   "metadata": {},
   "outputs": [
    {
     "data": {
      "text/plain": [
       "(150, 90)"
      ]
     },
     "execution_count": 22,
     "metadata": {},
     "output_type": "execute_result"
    }
   ],
   "source": [
    "tup5[-1]# last item of the tuple"
   ]
  },
  {
   "cell_type": "markdown",
   "id": "23966c74-0400-41e7-b1cd-ba3a83a4becc",
   "metadata": {},
   "source": [
    "**Tuple Slicing**\n",
    "------------------------"
   ]
  },
  {
   "cell_type": "code",
   "execution_count": 23,
   "id": "91672952-e6ad-48f1-be39-42d4c73635e6",
   "metadata": {},
   "outputs": [],
   "source": [
    "mytuple=('one', 'two', 'three', 'four', 'five', 'six', 'seven', 'eight')"
   ]
  },
  {
   "cell_type": "code",
   "execution_count": 24,
   "id": "642f5747-8733-46da-add8-68cbb4f6e65f",
   "metadata": {},
   "outputs": [
    {
     "data": {
      "text/plain": [
       "('one', 'two', 'three', 'four', 'five', 'six', 'seven', 'eight')"
      ]
     },
     "execution_count": 24,
     "metadata": {},
     "output_type": "execute_result"
    }
   ],
   "source": [
    "mytuple"
   ]
  },
  {
   "cell_type": "code",
   "execution_count": 25,
   "id": "a620a170-c358-4109-bbe0-71e149294a2b",
   "metadata": {},
   "outputs": [
    {
     "data": {
      "text/plain": [
       "('one', 'two', 'three')"
      ]
     },
     "execution_count": 25,
     "metadata": {},
     "output_type": "execute_result"
    }
   ],
   "source": [
    "mytuple[0:3]"
   ]
  },
  {
   "cell_type": "code",
   "execution_count": 26,
   "id": "5e6e5ed4-ed0c-4bfc-ab5d-09dcd91bc7b3",
   "metadata": {},
   "outputs": [
    {
     "data": {
      "text/plain": [
       "('three', 'four', 'five')"
      ]
     },
     "execution_count": 26,
     "metadata": {},
     "output_type": "execute_result"
    }
   ],
   "source": [
    "mytuple[2:5]"
   ]
  },
  {
   "cell_type": "code",
   "execution_count": 27,
   "id": "d311911b-efd9-439e-b9a4-5637560b2674",
   "metadata": {},
   "outputs": [
    {
     "data": {
      "text/plain": [
       "('one', 'two', 'three')"
      ]
     },
     "execution_count": 27,
     "metadata": {},
     "output_type": "execute_result"
    }
   ],
   "source": [
    "mytuple[:3]"
   ]
  },
  {
   "cell_type": "code",
   "execution_count": 29,
   "id": "084c3be4-caa9-4d0b-93c1-ee7f00db7867",
   "metadata": {},
   "outputs": [
    {
     "data": {
      "text/plain": [
       "('six', 'seven', 'eight')"
      ]
     },
     "execution_count": 29,
     "metadata": {},
     "output_type": "execute_result"
    }
   ],
   "source": [
    "mytuple[-3:]# return last three item"
   ]
  },
  {
   "cell_type": "code",
   "execution_count": 30,
   "id": "a54541dc-7c2e-40ac-8c13-5918a706a1d3",
   "metadata": {},
   "outputs": [
    {
     "data": {
      "text/plain": [
       "('seven', 'eight')"
      ]
     },
     "execution_count": 30,
     "metadata": {},
     "output_type": "execute_result"
    }
   ],
   "source": [
    "mytuple[-2:]# return last 2 item "
   ]
  },
  {
   "cell_type": "code",
   "execution_count": 32,
   "id": "0b4c6360-75b9-477f-bfa8-99d8b7ccf644",
   "metadata": {},
   "outputs": [
    {
     "data": {
      "text/plain": [
       "'eight'"
      ]
     },
     "execution_count": 32,
     "metadata": {},
     "output_type": "execute_result"
    }
   ],
   "source": [
    "mytuple[-1]# return last item"
   ]
  },
  {
   "cell_type": "code",
   "execution_count": 33,
   "id": "328744b6-8adb-4255-a3e8-5e77608434b1",
   "metadata": {},
   "outputs": [
    {
     "data": {
      "text/plain": [
       "('one', 'two', 'three', 'four', 'five', 'six', 'seven', 'eight')"
      ]
     },
     "execution_count": 33,
     "metadata": {},
     "output_type": "execute_result"
    }
   ],
   "source": [
    "mytuple[:]#return whole tuple "
   ]
  },
  {
   "cell_type": "markdown",
   "id": "d4b23eb6-327b-4576-afcb-2407dab1ba03",
   "metadata": {},
   "source": [
    "**Remove & Change Items**\n",
    "---------------------------"
   ]
  },
  {
   "cell_type": "code",
   "execution_count": 34,
   "id": "dff0f71e-ad27-449b-83fb-98977d032cd6",
   "metadata": {},
   "outputs": [
    {
     "data": {
      "text/plain": [
       "('one', 'two', 'three', 'four', 'five', 'six', 'seven', 'eight')"
      ]
     },
     "execution_count": 34,
     "metadata": {},
     "output_type": "execute_result"
    }
   ],
   "source": [
    "mytuple"
   ]
  },
  {
   "cell_type": "code",
   "execution_count": 36,
   "id": "d816ee5a-965a-4637-9c3b-a912895b7782",
   "metadata": {},
   "outputs": [
    {
     "ename": "TypeError",
     "evalue": "'tuple' object doesn't support item deletion",
     "output_type": "error",
     "traceback": [
      "\u001b[1;31m---------------------------------------------------------------------------\u001b[0m",
      "\u001b[1;31mTypeError\u001b[0m                                 Traceback (most recent call last)",
      "Cell \u001b[1;32mIn[36], line 1\u001b[0m\n\u001b[1;32m----> 1\u001b[0m \u001b[38;5;28;01mdel\u001b[39;00m mytuple[\u001b[38;5;241m0\u001b[39m]\n",
      "\u001b[1;31mTypeError\u001b[0m: 'tuple' object doesn't support item deletion"
     ]
    }
   ],
   "source": [
    "del mytuple[0] #tuple is immutable so we cannot Delete \n"
   ]
  },
  {
   "cell_type": "code",
   "execution_count": 37,
   "id": "b0462450-fa36-41b7-962e-a1173f6cccfd",
   "metadata": {},
   "outputs": [
    {
     "ename": "TypeError",
     "evalue": "'tuple' object does not support item assignment",
     "output_type": "error",
     "traceback": [
      "\u001b[1;31m---------------------------------------------------------------------------\u001b[0m",
      "\u001b[1;31mTypeError\u001b[0m                                 Traceback (most recent call last)",
      "Cell \u001b[1;32mIn[37], line 1\u001b[0m\n\u001b[1;32m----> 1\u001b[0m mytuple[\u001b[38;5;241m0\u001b[39m]\u001b[38;5;241m=\u001b[39m\u001b[38;5;241m1\u001b[39m\n",
      "\u001b[1;31mTypeError\u001b[0m: 'tuple' object does not support item assignment"
     ]
    }
   ],
   "source": [
    "mytuple[0]=1 # tuple is immutable this means we cannot change the value "
   ]
  },
  {
   "cell_type": "code",
   "execution_count": 38,
   "id": "fe2b1d28-dd76-468b-a44f-4ed121029a52",
   "metadata": {},
   "outputs": [],
   "source": [
    "del mytuple # deleting entire tuple is possible "
   ]
  },
  {
   "cell_type": "code",
   "execution_count": 39,
   "id": "7975086f-2c8b-445d-9cff-4b769cc3a29c",
   "metadata": {},
   "outputs": [
    {
     "ename": "NameError",
     "evalue": "name 'mytuple' is not defined",
     "output_type": "error",
     "traceback": [
      "\u001b[1;31m---------------------------------------------------------------------------\u001b[0m",
      "\u001b[1;31mNameError\u001b[0m                                 Traceback (most recent call last)",
      "Cell \u001b[1;32mIn[39], line 1\u001b[0m\n\u001b[1;32m----> 1\u001b[0m mytuple\n",
      "\u001b[1;31mNameError\u001b[0m: name 'mytuple' is not defined"
     ]
    }
   ],
   "source": [
    "mytuple"
   ]
  },
  {
   "cell_type": "markdown",
   "id": "9095bfc5-ef56-4a40-917b-94cd37db4575",
   "metadata": {},
   "source": [
    "**Loop through a Tuple**\n",
    "---------------------------\n"
   ]
  },
  {
   "cell_type": "code",
   "execution_count": 42,
   "id": "71a08bed-244a-461f-a87b-cde601115f64",
   "metadata": {},
   "outputs": [],
   "source": [
    "mytuple=('one', 'two', 'three', 'four', 'five', 'six', 'seven', 'eight')"
   ]
  },
  {
   "cell_type": "code",
   "execution_count": 43,
   "id": "1327c42e-55e6-4680-88ec-ba10da1723cf",
   "metadata": {},
   "outputs": [
    {
     "data": {
      "text/plain": [
       "('one', 'two', 'three', 'four', 'five', 'six', 'seven', 'eight')"
      ]
     },
     "execution_count": 43,
     "metadata": {},
     "output_type": "execute_result"
    }
   ],
   "source": [
    "mytuple"
   ]
  },
  {
   "cell_type": "code",
   "execution_count": 44,
   "id": "ee08b948-de59-4e37-961b-db51ee56fdda",
   "metadata": {},
   "outputs": [
    {
     "name": "stdout",
     "output_type": "stream",
     "text": [
      "one\n",
      "two\n",
      "three\n",
      "four\n",
      "five\n",
      "six\n",
      "seven\n",
      "eight\n"
     ]
    }
   ],
   "source": [
    "for i in mytuple:\n",
    "    print(i)"
   ]
  },
  {
   "cell_type": "code",
   "execution_count": 45,
   "id": "6a43b873-7e9d-49a4-818d-2a2d8d7a61a7",
   "metadata": {},
   "outputs": [
    {
     "name": "stdout",
     "output_type": "stream",
     "text": [
      "(0, 'one')\n",
      "(1, 'two')\n",
      "(2, 'three')\n",
      "(3, 'four')\n",
      "(4, 'five')\n",
      "(5, 'six')\n",
      "(6, 'seven')\n",
      "(7, 'eight')\n"
     ]
    }
   ],
   "source": [
    "for i in enumerate(mytuple):   ## this will returen index and value \n",
    "    print(i)"
   ]
  },
  {
   "cell_type": "markdown",
   "id": "9cc2209d-512d-4ab7-874d-fc9ab2d9a67b",
   "metadata": {},
   "source": [
    "**check if element is availabe in loop**"
   ]
  },
  {
   "cell_type": "code",
   "execution_count": 46,
   "id": "64ee9560-1796-4c47-bf3c-3f7fb9093daf",
   "metadata": {},
   "outputs": [
    {
     "data": {
      "text/plain": [
       "('one', 'two', 'three', 'four', 'five', 'six', 'seven', 'eight')"
      ]
     },
     "execution_count": 46,
     "metadata": {},
     "output_type": "execute_result"
    }
   ],
   "source": [
    "mytuple\n"
   ]
  },
  {
   "cell_type": "code",
   "execution_count": 48,
   "id": "895dacae-9b41-4778-8762-45729b4b1f4d",
   "metadata": {},
   "outputs": [
    {
     "data": {
      "text/plain": [
       "True"
      ]
     },
     "execution_count": 48,
     "metadata": {},
     "output_type": "execute_result"
    }
   ],
   "source": [
    "'one' in mytuple ## check the element will returen boolean value "
   ]
  },
  {
   "cell_type": "code",
   "execution_count": 49,
   "id": "e2a50df0-6203-4520-88ed-1c69a8329d71",
   "metadata": {},
   "outputs": [
    {
     "data": {
      "text/plain": [
       "False"
      ]
     },
     "execution_count": 49,
     "metadata": {},
     "output_type": "execute_result"
    }
   ],
   "source": [
    "'ten' in mytuple"
   ]
  },
  {
   "cell_type": "code",
   "execution_count": 50,
   "id": "4b6d3f35-aac9-43a7-a3da-66825a389607",
   "metadata": {},
   "outputs": [
    {
     "name": "stdout",
     "output_type": "stream",
     "text": [
      "yes three is present in Tuple\n"
     ]
    }
   ],
   "source": [
    "if 'three' in mytuple:\n",
    "    print(\"yes three is present in Tuple\")\n",
    "else:\n",
    "    print(\"value is not present \")"
   ]
  },
  {
   "cell_type": "code",
   "execution_count": 51,
   "id": "dbe879f0-4422-4202-ba9e-3d4a7bd191c4",
   "metadata": {},
   "outputs": [
    {
     "name": "stdout",
     "output_type": "stream",
     "text": [
      "value is not present \n"
     ]
    }
   ],
   "source": [
    "if 'eleven' in mytuple:\n",
    "    print(\"yes three is present in Tuple\")\n",
    "else:\n",
    "    print(\"value is not present \")"
   ]
  },
  {
   "cell_type": "markdown",
   "id": "ce21c31b-b9fb-4553-8263-74e78dad9a2d",
   "metadata": {},
   "source": [
    "**Index Position**\n",
    "--------------------------"
   ]
  },
  {
   "cell_type": "code",
   "execution_count": 52,
   "id": "3ba0e12b-6757-4691-8612-3260ee16c2ab",
   "metadata": {},
   "outputs": [
    {
     "data": {
      "text/plain": [
       "('one', 'two', 'three', 'four', 'five', 'six', 'seven', 'eight')"
      ]
     },
     "execution_count": 52,
     "metadata": {},
     "output_type": "execute_result"
    }
   ],
   "source": [
    "mytuple"
   ]
  },
  {
   "cell_type": "code",
   "execution_count": 54,
   "id": "8b6684af-582a-421f-b55b-cb944ce77f88",
   "metadata": {},
   "outputs": [
    {
     "data": {
      "text/plain": [
       "0"
      ]
     },
     "execution_count": 54,
     "metadata": {},
     "output_type": "execute_result"
    }
   ],
   "source": [
    "mytuple.index('one')"
   ]
  },
  {
   "cell_type": "code",
   "execution_count": 55,
   "id": "384ef56c-dd7e-4027-a82a-16d312c6fc15",
   "metadata": {},
   "outputs": [
    {
     "data": {
      "text/plain": [
       "4"
      ]
     },
     "execution_count": 55,
     "metadata": {},
     "output_type": "execute_result"
    }
   ],
   "source": [
    "mytuple.index('five')"
   ]
  },
  {
   "cell_type": "code",
   "execution_count": 56,
   "id": "e83fd400-a8a5-4bfc-b0cf-f3391d641505",
   "metadata": {},
   "outputs": [],
   "source": [
    "mytuple1=('one', 'two', 'three','one', 'two', 'three')"
   ]
  },
  {
   "cell_type": "code",
   "execution_count": 57,
   "id": "b842beaa-f9d4-4cc6-824a-e6fb4c3794bb",
   "metadata": {},
   "outputs": [
    {
     "data": {
      "text/plain": [
       "('one', 'two', 'three', 'one', 'two', 'three')"
      ]
     },
     "execution_count": 57,
     "metadata": {},
     "output_type": "execute_result"
    }
   ],
   "source": [
    "mytuple1"
   ]
  },
  {
   "cell_type": "code",
   "execution_count": 62,
   "id": "82a2cde9-f58c-40ae-91e2-52e2ecc40f03",
   "metadata": {},
   "outputs": [
    {
     "data": {
      "text/plain": [
       "2"
      ]
     },
     "execution_count": 62,
     "metadata": {},
     "output_type": "execute_result"
    }
   ],
   "source": [
    "mytuple1.count('one')"
   ]
  },
  {
   "cell_type": "code",
   "execution_count": 63,
   "id": "73f421ac-2095-42b0-b3f3-6ad7dd1b15b3",
   "metadata": {},
   "outputs": [
    {
     "data": {
      "text/plain": [
       "2"
      ]
     },
     "execution_count": 63,
     "metadata": {},
     "output_type": "execute_result"
    }
   ],
   "source": [
    "mytuple1.count('three')"
   ]
  },
  {
   "cell_type": "markdown",
   "id": "f66ff818-e1bf-4f46-a96a-99e9faf828b0",
   "metadata": {},
   "source": [
    "**Sorting**\n",
    "-----------------"
   ]
  },
  {
   "cell_type": "code",
   "execution_count": 64,
   "id": "86ea94d6-bf27-4a1e-abef-22f3ebf3a968",
   "metadata": {},
   "outputs": [],
   "source": [
    "mytuple2=(43,67,99,12,6,90,67)\n"
   ]
  },
  {
   "cell_type": "code",
   "execution_count": 66,
   "id": "eaea96ec-371f-40b0-a4a5-09b024eae738",
   "metadata": {},
   "outputs": [
    {
     "data": {
      "text/plain": [
       "(43, 67, 99, 12, 6, 90, 67)"
      ]
     },
     "execution_count": 66,
     "metadata": {},
     "output_type": "execute_result"
    }
   ],
   "source": [
    "mytuple2"
   ]
  },
  {
   "cell_type": "code",
   "execution_count": 71,
   "id": "21b47258-5ff0-410f-b4a1-8ab9d46d85ec",
   "metadata": {},
   "outputs": [
    {
     "data": {
      "text/plain": [
       "[6, 12, 43, 67, 67, 90, 99]"
      ]
     },
     "execution_count": 71,
     "metadata": {},
     "output_type": "execute_result"
    }
   ],
   "source": [
    "sorted(mytuple2) ## Sorted in Assending order "
   ]
  },
  {
   "cell_type": "code",
   "execution_count": 68,
   "id": "a978ff06-b7de-42ff-927f-f32a2e1e8c72",
   "metadata": {},
   "outputs": [
    {
     "data": {
      "text/plain": [
       "(43, 67, 99, 12, 6, 90, 67)"
      ]
     },
     "execution_count": 68,
     "metadata": {},
     "output_type": "execute_result"
    }
   ],
   "source": [
    "mytuple2"
   ]
  },
  {
   "cell_type": "code",
   "execution_count": 70,
   "id": "e86097b1-8b41-4b07-b3f6-0e416cc30648",
   "metadata": {},
   "outputs": [
    {
     "data": {
      "text/plain": [
       "[99, 90, 67, 67, 43, 12, 6]"
      ]
     },
     "execution_count": 70,
     "metadata": {},
     "output_type": "execute_result"
    }
   ],
   "source": [
    "sorted(mytuple2,reverse=True) ## Shorted in desending Order "
   ]
  },
  {
   "cell_type": "code",
   "execution_count": null,
   "id": "79fe9493-2925-4182-ab8d-5f93c383262a",
   "metadata": {},
   "outputs": [],
   "source": []
  }
 ],
 "metadata": {
  "kernelspec": {
   "display_name": "Python 3 (ipykernel)",
   "language": "python",
   "name": "python3"
  },
  "language_info": {
   "codemirror_mode": {
    "name": "ipython",
    "version": 3
   },
   "file_extension": ".py",
   "mimetype": "text/x-python",
   "name": "python",
   "nbconvert_exporter": "python",
   "pygments_lexer": "ipython3",
   "version": "3.12.7"
  }
 },
 "nbformat": 4,
 "nbformat_minor": 5
}
