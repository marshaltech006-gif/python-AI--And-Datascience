{
  "nbformat": 4,
  "nbformat_minor": 0,
  "metadata": {
    "colab": {
      "provenance": []
    },
    "kernelspec": {
      "name": "python3",
      "display_name": "Python 3"
    },
    "language_info": {
      "name": "python"
    }
  },
  "cells": [
    {
      "cell_type": "code",
      "source": [
        "#1. What is the input() function in Python used for?\n",
        "#Ans: The input() function in Python is used to take input from the user.\n",
        "# It reads a line from input, converts it into a string (stripping a trailing newline),\n",
        "# and returns that string. The function can also take an optional prompt string as an argument,\n",
        "# which is displayed to the user before taking input.\n"
      ],
      "metadata": {
        "id": "sWxcRKx-NAjL"
      },
      "execution_count": null,
      "outputs": []
    },
    {
      "cell_type": "code",
      "source": [
        "#2. How can you accept an integer as input from the user using input()?\n",
        "#Ans: To accept an integer as input from the user using the input() function,\n",
        "#int(input()) can be used. This converts the string input from the user into an integer."
      ],
      "metadata": {
        "id": "06YbFIedNAWs"
      },
      "execution_count": null,
      "outputs": []
    },
    {
      "cell_type": "code",
      "source": [
        "#3.How do you accept a float input from the user?\n",
        "#Ans: To accept a float input from the user, you can use the float() function in combination with input().\n",
        "# For example: float(input(\"Enter a float number: \")). This will convert the string input into a float."
      ],
      "metadata": {
        "id": "5Vy1yTh8NAJJ"
      },
      "execution_count": null,
      "outputs": []
    },
    {
      "cell_type": "code",
      "source": [
        "#4.How can you take multiple space-separated values as input?\n",
        "#values = input(\"Enter multiple space-separated values: \").split()\n",
        "#print(values)  # Output will be a list of values\n",
        "#Enter multiple space-separated values: 10 20 30 40\n",
        "#Output: ['10', '20', '30', '40']"
      ],
      "metadata": {
        "id": "DsH9w2reM_4w"
      },
      "execution_count": null,
      "outputs": []
    },
    {
      "cell_type": "code",
      "source": [
        "#5.How do you check if a number entered by the user is positive, negative, or zero?\n",
        "num=int(input(\"Enter a number: \"))\n",
        "\n",
        "if num>0:\n",
        "    print(\"The number is positive.\")\n",
        "elif num<0:\n",
        "    print(\"this number is negative.\")\n",
        "else:\n",
        "    print(\"The number is zero.\")"
      ],
      "metadata": {
        "id": "mk5gLYFxM_sw"
      },
      "execution_count": null,
      "outputs": []
    },
    {
      "cell_type": "code",
      "source": [
        "#6. How do you convert user input to a list of integers?\n",
        "#Ans: You can convert user input to a list of integers by using the split() method to separate the input string into individual elements,\n",
        "#and then using a list comprehension or the map() function to convert each element to an integer."
      ],
      "metadata": {
        "id": "slQ9kCvaM_Nl"
      },
      "execution_count": null,
      "outputs": []
    },
    {
      "cell_type": "code",
      "source": [
        "#7. How do you accept a string input and print it in uppercase?\n",
        "#Ans: You can accept a string input and print it in uppercase using the upper() method."
      ],
      "metadata": {
        "id": "BV9nPgElM_B2"
      },
      "execution_count": null,
      "outputs": []
    },
    {
      "cell_type": "code",
      "source": [
        "#8. Write a Python program that accepts a string and prints the number of vowels in it.\n",
        "user_input = input(\"Enter a string: \")\n",
        "vowels = \"aeiouAEIOU\"\n",
        "count = 0\n",
        "for char in user_input:\n",
        "    if char in vowels:\n",
        "        count+=1"
      ],
      "metadata": {
        "id": "kCiOjxWNM-3L"
      },
      "execution_count": null,
      "outputs": []
    },
    {
      "cell_type": "code",
      "source": [
        "#9.Write a program that takes a number as input and checks if it is even or odd.\n",
        "\n",
        "user_input=int(input(\"Please enter your number\"))\n",
        "if user_input%2==0:\n",
        "  print(\"Even number\")\n",
        "else:\n",
        "  print(\"Odd number\")"
      ],
      "metadata": {
        "id": "xMgBOcvFM-ru"
      },
      "execution_count": null,
      "outputs": []
    },
    {
      "cell_type": "code",
      "source": [
        "#10How would you check if a string is a palindrome using input()?\n",
        "\n",
        "name=str(input(\"Enter the name\").lower())\n",
        "if name==name[::-1]:\n",
        "  print('palendrom')\n",
        "else:\n",
        "  print('not palendrom')"
      ],
      "metadata": {
        "id": "9bNAVLA0M-gQ"
      },
      "execution_count": null,
      "outputs": []
    },
    {
      "cell_type": "code",
      "source": [
        "#11 Write a program that takes a number as input and prints its square.\n",
        "\n",
        "num=int(input(\"Enterthe number\"))\n",
        "Square=num**2\n",
        "print(Square)\n",
        "\n",
        "\n",
        "#print(int(input(\"Enter the number\"))**2)\n",
        "\n",
        "#print(\"Square:\",num**2)"
      ],
      "metadata": {
        "id": "5GPNsyVAM-UD"
      },
      "execution_count": null,
      "outputs": []
    },
    {
      "cell_type": "code",
      "source": [
        "#12Write a program that asks for a number and prints whether it is divisible by 3.\n",
        "\n",
        "num1=int(input(\"enter the number\"))\n",
        "if num1%3==0:\n",
        "  print(\"Divisible by 3\")\n",
        "else:\n",
        "  print(\"Not divisible by 3\")"
      ],
      "metadata": {
        "id": "j-DFhZ31M9uU"
      },
      "execution_count": null,
      "outputs": []
    },
    {
      "cell_type": "code",
      "source": [
        "#13How would you check if a number is divisible by both 3 and 7?\n",
        "\n",
        "num1=int(input(\"enter the number\"))\n",
        "if num1%3==0 and num1%7==0:\n",
        "  print(\"Divisible by both 3 and 7\")\n",
        "else:\n",
        "  print(\"Not divisible by both 3 and 7\")"
      ],
      "metadata": {
        "id": "mBqboU0BM9gR"
      },
      "execution_count": null,
      "outputs": []
    },
    {
      "cell_type": "code",
      "source": [
        "#14 How do you accept a list of comma-separated values as input?\n",
        "\n",
        "values=input(\"Enter the name:\").split(',')\n",
        "print(values)"
      ],
      "metadata": {
        "id": "bReD4FxcM9TQ"
      },
      "execution_count": null,
      "outputs": []
    },
    {
      "cell_type": "code",
      "source": [
        "#15Write a Python program that takes two numbers as input and prints their product.\n",
        "\n",
        "values1=int(input(\"Enter the 1st number:\"))\n",
        "values2=int(input(\"Enter the 2nd number:\"))\n",
        "print(f\"Product of{values1} and {values2}is = {values1*values2} \")"
      ],
      "metadata": {
        "id": "Wr8h65q0M737"
      },
      "execution_count": null,
      "outputs": []
    },
    {
      "cell_type": "code",
      "execution_count": null,
      "metadata": {
        "colab": {
          "base_uri": "https://localhost:8080/"
        },
        "id": "thVLbO5Y_M8Y",
        "outputId": "dd550fdc-048d-4f73-d555-aac9ec393cc1"
      },
      "outputs": [
        {
          "output_type": "stream",
          "name": "stdout",
          "text": [
            "Enter a number: 3\n",
            "3 is a prime number\n"
          ]
        }
      ],
      "source": [
        "#16. Write a program that checks if the input number is a prime number.\n",
        "num = int(input(\"Enter a number: \"))\n",
        "if num>1:\n",
        "  if num%2==0:\n",
        "    print(num,\"is not a prime number\")\n",
        "  else:\n",
        "    print(num,\"is a prime number\")\n",
        "else:\n",
        "  print(num,\"is not a prime number\")\n"
      ]
    },
    {
      "cell_type": "code",
      "source": [
        "# 17How can you accept a boolean value (True/False) from the user?\n",
        "name =(input(\"please enter true of false:\").lower()==\"true\")\n",
        "print(name)\n"
      ],
      "metadata": {
        "colab": {
          "base_uri": "https://localhost:8080/"
        },
        "id": "Ahv82PdP_19N",
        "outputId": "9b2a7dcd-ff3e-48a2-8a22-14c055b6f5bb"
      },
      "execution_count": null,
      "outputs": [
        {
          "output_type": "stream",
          "name": "stdout",
          "text": [
            "please enter true of false:false\n",
            "False\n"
          ]
        }
      ]
    },
    {
      "cell_type": "code",
      "source": [
        "#18. Write a program that accepts a string and prints the reverse of that string.\n",
        "name=input(\"Enter the name\")\n",
        "print(name[::-1])"
      ],
      "metadata": {
        "colab": {
          "base_uri": "https://localhost:8080/"
        },
        "id": "4QR0kBA7CzgA",
        "outputId": "4268df96-836e-460d-d77b-6f1f3f4c9e13"
      },
      "execution_count": null,
      "outputs": [
        {
          "output_type": "stream",
          "name": "stdout",
          "text": [
            "Enter the nameRupesh\n",
            "hsepuR\n"
          ]
        }
      ]
    },
    {
      "cell_type": "code",
      "source": [
        "#19 Write a program that asks for a user's name and age and prints a message.\n",
        "name=input(\"Enter your name \")\n",
        "age=int(input(\"enter your age\"))\n",
        "print(f'your name is {name} and your age is {age}')"
      ],
      "metadata": {
        "colab": {
          "base_uri": "https://localhost:8080/"
        },
        "id": "clPVDN0tEqg8",
        "outputId": "dcf8febf-f8df-40a3-eef3-8cc7a093aba6"
      },
      "execution_count": null,
      "outputs": [
        {
          "output_type": "stream",
          "name": "stdout",
          "text": [
            "Enter your name rupesh\n",
            "enter your age39\n",
            "your name is rupesh and your age is 39\n"
          ]
        }
      ]
    },
    {
      "cell_type": "code",
      "source": [
        "#20. Write a program to calculate the factorial of a number using input().\n",
        "num=int(input(\"Enter the number\"))\n",
        "factorial=1\n",
        "for i in range(1,num+1):\n",
        "  factorial=factorial*i\n",
        "print(factorial)"
      ],
      "metadata": {
        "id": "2Qb025MLFbYU"
      },
      "execution_count": null,
      "outputs": []
    },
    {
      "cell_type": "code",
      "source": [
        "#21How do you prevent a user from entering an empty string?\n",
        "\n",
        "userinput=input(\"Enter the number\").strip()\n",
        "if not userinput:\n",
        "  print(\"value cann't be empty\")\n",
        "else:\n",
        "  print(\"username :\",userinput)"
      ],
      "metadata": {
        "colab": {
          "base_uri": "https://localhost:8080/"
        },
        "id": "7xJ3Wo59VUZC",
        "outputId": "2c02e3d1-af40-4c28-a870-3fbd799a924f"
      },
      "execution_count": null,
      "outputs": [
        {
          "output_type": "stream",
          "name": "stdout",
          "text": [
            "Enter the numberrupesh\n",
            "username : rupesh\n"
          ]
        }
      ]
    },
    {
      "cell_type": "code",
      "source": [
        " #22 Write a program to check if the entered number is a perfect square.\n",
        "import math\n",
        "num=int(input(\"Enter the number\"))\n",
        "if math.sqrt(num)**2==num:\n",
        "  print(\"perfect square\")\n",
        "else:\n",
        "  print(\"not a perfect square\")\n"
      ],
      "metadata": {
        "colab": {
          "base_uri": "https://localhost:8080/"
        },
        "id": "E_8RXrLPX1bV",
        "outputId": "75dbe117-50df-4ed5-a205-52ef93015378"
      },
      "execution_count": null,
      "outputs": [
        {
          "name": "stdout",
          "output_type": "stream",
          "text": [
            "Enter the number12\n"
          ]
        }
      ]
    },
    {
      "cell_type": "code",
      "source": [
        "#23.Write a program that asks for a year and determines if it's a leap year.\n",
        "year=int(input(\"Enter the year\"))\n",
        "if (year%4==0 and year%100!=0) or(year%400==0):\n",
        "  print(\"leap year\")\n",
        "else:\n",
        "  print(\"not a leap year\")"
      ],
      "metadata": {
        "colab": {
          "base_uri": "https://localhost:8080/"
        },
        "id": "pAhtu-VMmUE2",
        "outputId": "bb752f62-61d6-4726-c12c-1add2073c9df"
      },
      "execution_count": null,
      "outputs": [
        {
          "output_type": "stream",
          "name": "stdout",
          "text": [
            "Enter the year1900\n",
            "not a leap year\n"
          ]
        }
      ]
    },
    {
      "cell_type": "code",
      "source": [
        "#24. How can you remove leading and trailing spaces from a string input?\n",
        "name=input(\"Enter the name\")\n",
        "print(name.strip())"
      ],
      "metadata": {
        "colab": {
          "base_uri": "https://localhost:8080/"
        },
        "id": "tCFJQlM8rA18",
        "outputId": "7649ac39-76b5-414a-8813-2c771736bbe3"
      },
      "execution_count": null,
      "outputs": [
        {
          "output_type": "stream",
          "name": "stdout",
          "text": [
            "Enter the name      rupesh    \n",
            "rupesh\n"
          ]
        }
      ]
    },
    {
      "cell_type": "code",
      "source": [
        "#25 How do you handle incorrect inputs when you expect an integer using input()?\n",
        "try:\n",
        "  num=int(input(\"Enter the number\"))\n",
        "  print(num)\n",
        "except ValueError:\n",
        "  print(\"invalid input .please enter valid number \")\n",
        "\n",
        "\n"
      ],
      "metadata": {
        "colab": {
          "base_uri": "https://localhost:8080/"
        },
        "id": "UhCWr0D2rW9x",
        "outputId": "7f53f999-a6d0-4220-d71f-80c2b3943865"
      },
      "execution_count": null,
      "outputs": [
        {
          "output_type": "stream",
          "name": "stdout",
          "text": [
            "Enter the number12\n",
            "12\n"
          ]
        }
      ]
    },
    {
      "cell_type": "code",
      "source": [
        "# 26Write a program that accepts a string and counts the occurrence of a particular character.\n",
        "name=input(\"Enter the name\").lower()\n",
        "char=input(\"Enter the character\").lower()\n",
        "print(f'Occurence of {char} is {name.count(char)}')\n"
      ],
      "metadata": {
        "colab": {
          "base_uri": "https://localhost:8080/"
        },
        "id": "TBbXGjhetKMn",
        "outputId": "766a061e-302f-44f6-ca18-46e7b05d990e"
      },
      "execution_count": null,
      "outputs": [
        {
          "output_type": "stream",
          "name": "stdout",
          "text": [
            "Enter the nameram ram ram \n",
            "Enter the characterr\n",
            "Occurence of r is3\n"
          ]
        }
      ]
    },
    {
      "cell_type": "code",
      "source": [
        "#27  How would you convert user input to lowercase using input()?\n",
        "n=input(\"Enter the name\").lower()\n",
        "print(n)\n"
      ],
      "metadata": {
        "colab": {
          "base_uri": "https://localhost:8080/"
        },
        "id": "5tLm4mR6vQoj",
        "outputId": "9351567d-7f44-485b-82f7-fed4a96d65be"
      },
      "execution_count": null,
      "outputs": [
        {
          "output_type": "stream",
          "name": "stdout",
          "text": [
            "Enter the nameRUPESH\n",
            "rupesh\n"
          ]
        }
      ]
    },
    {
      "cell_type": "code",
      "source": [
        "#28 Write a program that accepts a number and prints whether it is a multiple of 10.\n",
        "num=int(input(\"enter the number\"))\n",
        "if num%10==0:\n",
        "  print(\"mutiple of 10\")\n",
        "else:\n",
        "  print(\"not a multiple of 10\")\n"
      ],
      "metadata": {
        "colab": {
          "base_uri": "https://localhost:8080/"
        },
        "id": "OtK26AKuxAMP",
        "outputId": "0c3ca1a7-643b-4df2-e3f1-450cc340a889"
      },
      "execution_count": null,
      "outputs": [
        {
          "output_type": "stream",
          "name": "stdout",
          "text": [
            "enter the number12\n",
            "not a multiple of 10\n"
          ]
        }
      ]
    },
    {
      "cell_type": "code",
      "source": [
        "#29.How would you check if a string entered by the user contains only alphabets using input()?\n",
        "value=input(\"Enter the String\").isalpha()=='true'\n",
        "print(value)\n"
      ],
      "metadata": {
        "colab": {
          "base_uri": "https://localhost:8080/"
        },
        "id": "18s_uJbDxt0K",
        "outputId": "d2994159-4a44-4829-97f2-7a4710da047f"
      },
      "execution_count": null,
      "outputs": [
        {
          "output_type": "stream",
          "name": "stdout",
          "text": [
            "Enter the String123\n",
            "False\n"
          ]
        }
      ]
    },
    {
      "cell_type": "code",
      "source": [
        "\n",
        "#29 ANOTHER WAY\n",
        "value=input(\"Enter the String\")\n",
        "if value.isalpha():\n",
        "  print(\"only Alphabets\")\n",
        "else:\n",
        "  print(\"not only alphabets\")\n"
      ],
      "metadata": {
        "colab": {
          "base_uri": "https://localhost:8080/"
        },
        "id": "HwAYKgSAyVKT",
        "outputId": "99ec5f9a-7c95-4bc7-ac0d-b1b5b094aec0"
      },
      "execution_count": null,
      "outputs": [
        {
          "output_type": "stream",
          "name": "stdout",
          "text": [
            "Enter the StringRupesh\n",
            "only Alphabets\n"
          ]
        }
      ]
    },
    {
      "cell_type": "code",
      "source": [
        "#30 Write a program to count the number of words in a sentence entered by the user.\n",
        "sentence=input(\"Enter the sentence\")\n",
        "split=sentence.split()\n",
        "print(len(split))\n",
        "#print(f'number of word in sentence:=len(sentence.split()))"
      ],
      "metadata": {
        "colab": {
          "base_uri": "https://localhost:8080/"
        },
        "id": "9sl8Ghrxy8r5",
        "outputId": "a70b332c-0c4b-4bbc-a9d0-5788079875a7"
      },
      "execution_count": null,
      "outputs": [
        {
          "output_type": "stream",
          "name": "stdout",
          "text": [
            "Enter the sentencei l u \n",
            "3\n"
          ]
        }
      ]
    },
    {
      "cell_type": "code",
      "source": [
        "#31. How would you accept a date input from the user in Python?\n",
        "from datetime import datetime\n",
        "date_str=input(\"Enter the date(yyyy-mm-dd):\")\n",
        "date_obj=datetime.strptime(date_str,\"%Y-%m-%d\")\n",
        "print(date_obj)"
      ],
      "metadata": {
        "colab": {
          "base_uri": "https://localhost:8080/"
        },
        "id": "m1O4xcg7z8iz",
        "outputId": "b77ff1d6-7ea8-4abc-e108-19ffe9b791f8"
      },
      "execution_count": null,
      "outputs": [
        {
          "output_type": "stream",
          "name": "stdout",
          "text": [
            "Enter the date(yyyy-mm-dd):2245-12-12\n",
            "2245-12-12 00:00:00\n"
          ]
        }
      ]
    },
    {
      "cell_type": "code",
      "source": [
        "#32. Write a program that checks if the entered number is divisible by both 3 and 5.\n",
        "n=int(input(\"Enter the number\"))\n",
        "if n%3==0 and n%5==0:\n",
        "  print(\"Divisible by both 3 and 5\")\n",
        "else:\n",
        "  print(\"Not divisible by both 3 and 5\")"
      ],
      "metadata": {
        "colab": {
          "base_uri": "https://localhost:8080/"
        },
        "id": "AorPFhmi13N4",
        "outputId": "3e3df1a7-900e-4fd8-a5b0-a8b67a4e9fd2"
      },
      "execution_count": null,
      "outputs": [
        {
          "output_type": "stream",
          "name": "stdout",
          "text": [
            "Enter the number21\n",
            "Not divisible by both 3 and 5\n"
          ]
        }
      ]
    },
    {
      "cell_type": "code",
      "source": [
        "#33 Write a program to swap the values of two variables using input().\n",
        "n1=int(input(\"enter the 1st number\"))\n",
        "n2=int(input(\"enter the 2nd number\"))\n",
        "print(\"before swapping the numbers are\",n1,n2)\n",
        "n1,n2=n2,n1\n",
        "print(\"after swapping the numbers are\",n1,n2)"
      ],
      "metadata": {
        "colab": {
          "base_uri": "https://localhost:8080/"
        },
        "id": "gq2VPRqb3la_",
        "outputId": "913c3bca-aaf0-4745-c63e-fa62d98f5de1"
      },
      "execution_count": null,
      "outputs": [
        {
          "output_type": "stream",
          "name": "stdout",
          "text": [
            "enter the 1st number2\n",
            "enter the 2nd number3\n",
            "before swapping the numbers are 2 3\n",
            "after swapping the numbers are 3 2\n"
          ]
        }
      ]
    },
    {
      "cell_type": "code",
      "source": [
        "#34. Write a program to take user input and print it without spaces between words.\n",
        "name=input(\"Enter the name\")\n",
        "print(name.replace(\" \",\"\"))\n",
        "\n",
        "\n"
      ],
      "metadata": {
        "id": "T6WAykSg5ChA",
        "colab": {
          "base_uri": "https://localhost:8080/"
        },
        "outputId": "8624a2bd-babc-4592-a139-7fa9f2ac5887"
      },
      "execution_count": null,
      "outputs": [
        {
          "output_type": "stream",
          "name": "stdout",
          "text": [
            "Enter the nameRupesh kumar\n",
            "Rupeshkumar\n"
          ]
        }
      ]
    },
    {
      "cell_type": "code",
      "source": [
        "#35. How do you validate if an entered input is a valid email address?\n",
        "import re\n",
        "email=input(\"Enter the email\")\n",
        "if re.match(r\"[^@]+@[^@]+\\.[^@]+\",email)\n",
        "  print(\"valid email\")\n",
        "else:\n",
        "  print(\"invalid email\")"
      ],
      "metadata": {
        "colab": {
          "base_uri": "https://localhost:8080/"
        },
        "id": "KzPux-BpFBgI",
        "outputId": "d2ff841c-1514-4c88-d322-54dd3e8cae65"
      },
      "execution_count": null,
      "outputs": [
        {
          "output_type": "stream",
          "name": "stdout",
          "text": [
            "Enter the emaila@123\n",
            "invalid email\n"
          ]
        }
      ]
    },
    {
      "cell_type": "code",
      "source": [
        "#36 Write a program that accepts a number and prints its cube.\n",
        "n=int(input(\"Enter the number\"))\n",
        "print(n**3)\n"
      ],
      "metadata": {
        "colab": {
          "base_uri": "https://localhost:8080/"
        },
        "id": "5JLwm5UuG5N7",
        "outputId": "bef91e16-07a8-454b-af01-2c30af01f484"
      },
      "execution_count": null,
      "outputs": [
        {
          "output_type": "stream",
          "name": "stdout",
          "text": [
            "Enter the number2\n",
            "8\n"
          ]
        }
      ]
    },
    {
      "cell_type": "code",
      "source": [
        " #37.How would you accept and store multiple names from the user?\n",
        "name=input('Enter the names').split(',')\n",
        "print(name)\n"
      ],
      "metadata": {
        "colab": {
          "base_uri": "https://localhost:8080/"
        },
        "id": "HSUAEeX_Jqvh",
        "outputId": "a4b8b969-8913-4196-b546-53963244f0d8"
      },
      "execution_count": null,
      "outputs": [
        {
          "output_type": "stream",
          "name": "stdout",
          "text": [
            "Enter the namesRupesh kumar\n",
            "['Rupesh kumar']\n"
          ]
        }
      ]
    },
    {
      "cell_type": "code",
      "source": [
        "#38How would you extract numbers from a string entered by the user?\n",
        "import re\n",
        "text=input(\"Enter the text\")\n",
        "numbers=re.findall(r'\\d+',text)\n",
        "print(numbers)"
      ],
      "metadata": {
        "colab": {
          "base_uri": "https://localhost:8080/"
        },
        "id": "q0l_zOuKK5Fv",
        "outputId": "20bb9237-4ac2-42ff-d1b7-6d31fbdb7dd3"
      },
      "execution_count": null,
      "outputs": [
        {
          "output_type": "stream",
          "name": "stdout",
          "text": [
            "Enter the textmy name is love with 123 and 145\n",
            "['123', '145']\n"
          ]
        }
      ]
    },
    {
      "cell_type": "code",
      "source": [
        "#39. How do you find the maximum number from a list of integers entered by the user?\n",
        "num=list(map(int,input(\"Enter the numbers\").split(',')))\n",
        "print(max(num))"
      ],
      "metadata": {
        "colab": {
          "base_uri": "https://localhost:8080/"
        },
        "id": "Ys5gKA6gN4Mu",
        "outputId": "8947738b-c718-461d-f072-abe90bbedac7"
      },
      "execution_count": null,
      "outputs": [
        {
          "output_type": "stream",
          "name": "stdout",
          "text": [
            "Enter the numbers10,20,30\n",
            "30\n"
          ]
        }
      ]
    },
    {
      "cell_type": "code",
      "source": [
        "#40. How would you prompt the user for input until they enter a valid number?\n",
        "while True:\n",
        "  try:\n",
        "    num=int(input('enter valid number :'))\n",
        "    break\n",
        "  except ValueError:\n",
        "    print(\"invalid input.please enter a valid number\")\n"
      ],
      "metadata": {
        "colab": {
          "base_uri": "https://localhost:8080/"
        },
        "id": "t2yimmmkPlhT",
        "outputId": "7c772c8e-3b76-4ba5-f4c3-3271b0f2f5e5"
      },
      "execution_count": null,
      "outputs": [
        {
          "name": "stdout",
          "output_type": "stream",
          "text": [
            "enter valid number :qw\n",
            "invalid input.please enter a valid number\n",
            "enter valid number :12\n"
          ]
        }
      ]
    },
    {
      "cell_type": "code",
      "source": [
        "#41. Write a program to check if the entered string has digits.\n",
        "user_input=input(\"Enter the latter\")\n",
        "if any(char.isdigit() for char in user_input):\n",
        "  print(\"contain digit\")\n",
        "else:\n",
        "  print(\"not contain digit\")\n",
        "\n",
        "\n",
        "\n"
      ],
      "metadata": {
        "id": "OQHcjEWpQqxE",
        "colab": {
          "base_uri": "https://localhost:8080/",
          "height": 0
        },
        "outputId": "8a950232-0394-490e-f515-2f3e5bd0342b"
      },
      "execution_count": 9,
      "outputs": [
        {
          "output_type": "stream",
          "name": "stdout",
          "text": [
            "Enter the latterpappu\n",
            "not contain digit\n"
          ]
        }
      ]
    },
    {
      "cell_type": "code",
      "source": [
        "#42. Write a program to check if the entered string has only whitespace character\n",
        "text=input(\"Enter the text\")\n",
        "if text.isspace():\n",
        "  print(\"only whitespace character\")\n",
        "else:\n",
        "  print(\"not only whitespace character\")\n"
      ],
      "metadata": {
        "colab": {
          "base_uri": "https://localhost:8080/",
          "height": 0
        },
        "id": "GYslguXxe10q",
        "outputId": "4fed5bf0-45aa-415c-fa93-910892901b30"
      },
      "execution_count": 13,
      "outputs": [
        {
          "output_type": "stream",
          "name": "stdout",
          "text": [
            "Enter the text                 gy\n",
            "not only whitespace character\n"
          ]
        }
      ]
    },
    {
      "cell_type": "code",
      "source": [
        "# 43. Write a program to find the sum of all digits in a string entered by the\n",
        "\n",
        "text=input(\"Enter the text\")\n",
        "sum=0\n",
        "for char in text:\n",
        "  if char.isdigit():\n",
        "    sum+=int(char)\n",
        "print(sum)"
      ],
      "metadata": {
        "colab": {
          "base_uri": "https://localhost:8080/",
          "height": 0
        },
        "id": "HBqVwXDcnqzZ",
        "outputId": "a51c04aa-96a5-479c-d1bb-b040979a3ecc"
      },
      "execution_count": 14,
      "outputs": [
        {
          "output_type": "stream",
          "name": "stdout",
          "text": [
            "Enter the text123bh\n",
            "6\n"
          ]
        }
      ]
    },
    {
      "cell_type": "code",
      "source": [
        "#44. Write a program that accepts a number and prints its absolute value.\n",
        "num=int(input(\"enter the number\"))\n",
        "print(abs(num))\n"
      ],
      "metadata": {
        "colab": {
          "base_uri": "https://localhost:8080/",
          "height": 0
        },
        "id": "QnFikVemnvva",
        "outputId": "44baf03c-0495-4285-c50e-ba3d0018a3ac"
      },
      "execution_count": 2,
      "outputs": [
        {
          "output_type": "stream",
          "name": "stdout",
          "text": [
            "enter the number5\n",
            "5\n"
          ]
        }
      ]
    },
    {
      "cell_type": "code",
      "source": [
        "#45. How would you check if a string entered by the user contains any uppercase letters?\n",
        "text=input(\"enter the number \")\n",
        "if any(char.isupper() for char in text):\n",
        "    print(\"contain uppercase\")\n",
        "else:\n",
        "    print(\"Not contain upper case in string\")"
      ],
      "metadata": {
        "colab": {
          "base_uri": "https://localhost:8080/",
          "height": 0
        },
        "id": "zp_9zvAs9J_q",
        "outputId": "968964a3-646c-4500-9745-131802904231"
      },
      "execution_count": 4,
      "outputs": [
        {
          "output_type": "stream",
          "name": "stdout",
          "text": [
            "enter the number Rupesh\n",
            "contain uppercase\n"
          ]
        }
      ]
    },
    {
      "cell_type": "code",
      "source": [
        "#46Write a program that converts Celsius to Fahrenheit.\n",
        "celcius=int(input(\"Enter the celcius value\"))\n",
        "F=(celcius*9/5)+32\n",
        "print(F)"
      ],
      "metadata": {
        "colab": {
          "base_uri": "https://localhost:8080/",
          "height": 0
        },
        "id": "2qzqMQHl_2M2",
        "outputId": "f803f777-e873-4f5a-c58a-c0d2b4422b10"
      },
      "execution_count": 6,
      "outputs": [
        {
          "output_type": "stream",
          "name": "stdout",
          "text": [
            "Enter the celcius value3\n",
            "37.4\n"
          ]
        }
      ]
    },
    {
      "cell_type": "code",
      "source": [
        "#47.Write a program to find the average of a list of numbers entered by the user.\n",
        "num=list(map(int,input(\"enter the number\").split(',')))\n",
        "print(sum(num)/len(num))"
      ],
      "metadata": {
        "colab": {
          "base_uri": "https://localhost:8080/",
          "height": 0
        },
        "id": "uu4cNWQAA1E8",
        "outputId": "6a35c4d2-2260-4bc2-f386-8a2d8f9751b0"
      },
      "execution_count": 11,
      "outputs": [
        {
          "output_type": "stream",
          "name": "stdout",
          "text": [
            "enter the number12,23,45\n",
            "26.666666666666668\n"
          ]
        }
      ]
    },
    {
      "cell_type": "code",
      "source": [
        "#48. Write a program to count the number of consonants in a string entered by the user.\n",
        "user_input=input(\"enter the text\").lower()\n",
        "count=0\n",
        "for char in user_input:\n",
        "  if char not in 'aeiou':\n",
        "    count+=1\n",
        "print(count)"
      ],
      "metadata": {
        "colab": {
          "base_uri": "https://localhost:8080/",
          "height": 0
        },
        "id": "9XCNlUdiCQx2",
        "outputId": "75e98d15-8345-41a4-887d-2527ccb6e865"
      },
      "execution_count": 16,
      "outputs": [
        {
          "output_type": "stream",
          "name": "stdout",
          "text": [
            "enter the textRupesh\n",
            "4\n"
          ]
        }
      ]
    },
    {
      "cell_type": "code",
      "source": [
        "#49. How do you check if a string entered by the user contains any punctuation?\n",
        "import string\n",
        "user_input=input(\"enter the text\")\n",
        "if any(char in string.punctuation for char in user_input):\n",
        "  print(\"contain punctuation\")\n",
        "else:\n",
        "  print(\"not contain Punctuation\")"
      ],
      "metadata": {
        "colab": {
          "base_uri": "https://localhost:8080/",
          "height": 0
        },
        "id": "wqMrMHB1CdqW",
        "outputId": "fb6957a0-84a2-4aee-8f05-6aec131c4651"
      },
      "execution_count": 20,
      "outputs": [
        {
          "output_type": "stream",
          "name": "stdout",
          "text": [
            "enter the textI love coding.\n",
            "contain punctuation\n"
          ]
        }
      ]
    },
    {
      "cell_type": "code",
      "source": [
        "#50.Write a program that accepts a sentence and prints the longest word.\n",
        "sentence=input(\"Enter the sentence\").split()\n",
        "longest_word=max(sentence,key=len)\n",
        "print(longest_word)\n",
        "\n",
        "\n",
        "\n"
      ],
      "metadata": {
        "colab": {
          "base_uri": "https://localhost:8080/",
          "height": 0
        },
        "id": "PGHeGBhsIpo8",
        "outputId": "9e28b7d6-e389-4301-f3c2-31373882fc8c"
      },
      "execution_count": 21,
      "outputs": [
        {
          "output_type": "stream",
          "name": "stdout",
          "text": [
            "Enter the sentenceram aaaaaam kata hai\n",
            "aaaaaam\n"
          ]
        }
      ]
    }
  ]
}