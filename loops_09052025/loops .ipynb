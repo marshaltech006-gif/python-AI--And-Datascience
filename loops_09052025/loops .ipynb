{
 "cells": [
  {
   "cell_type": "markdown",
   "id": "214fa7f1-c98c-4b01-bb87-a92888ddc875",
   "metadata": {},
   "source": [
    "# LOOPS IN PYTHON"
   ]
  },
  {
   "cell_type": "code",
   "execution_count": 1,
   "id": "7fbd4410-2ddd-4dd9-ac10-f28e1e40c934",
   "metadata": {},
   "outputs": [
    {
     "name": "stdout",
     "output_type": "stream",
     "text": [
      "data science\n",
      "data science\n",
      "data science\n",
      "data science\n",
      "data science\n"
     ]
    }
   ],
   "source": [
    "print('data science')\n",
    "print('data science')\n",
    "print('data science')\n",
    "print('data science')\n",
    "print('data science')"
   ]
  },
  {
   "cell_type": "code",
   "execution_count": 2,
   "id": "b00a1475-8d83-4f05-9d78-2b4735d1877b",
   "metadata": {},
   "outputs": [
    {
     "name": "stdout",
     "output_type": "stream",
     "text": [
      "data science\n",
      "data science\n",
      "data science\n",
      "data science\n",
      "data science\n"
     ]
    }
   ],
   "source": [
    "i=1 #initializing\n",
    "while i<=5:\n",
    "    print('data science')\n",
    "    i=i+1 #incriment\n",
    "\n",
    "    "
   ]
  },
  {
   "cell_type": "code",
   "execution_count": 3,
   "id": "9803ca3c-4fe2-4eb4-bfd6-f88fb7739460",
   "metadata": {},
   "outputs": [
    {
     "name": "stdout",
     "output_type": "stream",
     "text": [
      "data science\n",
      "data science\n",
      "data science\n",
      "data science\n",
      "data science\n"
     ]
    }
   ],
   "source": [
    "i=5 \n",
    "while i>=1:\n",
    "    print('data science')\n",
    "    i=i-1"
   ]
  },
  {
   "cell_type": "code",
   "execution_count": 4,
   "id": "6e674a6e-649a-4130-9ea5-b8210b5423e1",
   "metadata": {},
   "outputs": [
    {
     "name": "stdout",
     "output_type": "stream",
     "text": [
      "data science\n",
      "technology\n",
      "technology\n",
      "technology\n",
      "technology\n",
      "\n",
      "data science\n",
      "technology\n",
      "technology\n",
      "technology\n",
      "technology\n",
      "\n",
      "data science\n",
      "technology\n",
      "technology\n",
      "technology\n",
      "technology\n",
      "\n",
      "data science\n",
      "technology\n",
      "technology\n",
      "technology\n",
      "technology\n",
      "\n",
      "data science\n",
      "technology\n",
      "technology\n",
      "technology\n",
      "technology\n",
      "\n"
     ]
    }
   ],
   "source": [
    "i= 1\n",
    "while i<=5:\n",
    "    print('data science')\n",
    "    j=1\n",
    "    while j<=4:\n",
    "        print('technology')\n",
    "        j=j+1\n",
    "    i=i+1\n",
    "    print()\n",
    "    "
   ]
  },
  {
   "cell_type": "code",
   "execution_count": 5,
   "id": "1ca4189f-4564-4176-a211-0e2e49425bbd",
   "metadata": {},
   "outputs": [
    {
     "name": "stdout",
     "output_type": "stream",
     "text": [
      "data sciencetechnologytechnologytechnologytechnology\n",
      "data sciencetechnologytechnologytechnologytechnology\n",
      "data sciencetechnologytechnologytechnologytechnology\n",
      "data sciencetechnologytechnologytechnologytechnology\n",
      "data sciencetechnologytechnologytechnologytechnology\n"
     ]
    }
   ],
   "source": [
    "i=1\n",
    "while i<=5:\n",
    "    print('data science',end =\"\")\n",
    "    j=1\n",
    "    while j<=4:\n",
    "        print('technology',end=\"\")\n",
    "        j=j+1\n",
    "    i=i+1\n",
    "    print()"
   ]
  },
  {
   "cell_type": "code",
   "execution_count": 6,
   "id": "157f59cb-d8f4-4fcb-9e55-08cfa68d2575",
   "metadata": {},
   "outputs": [
    {
     "name": "stdout",
     "output_type": "stream",
     "text": [
      "0123\n",
      "0246\n",
      "0369\n",
      "04812\n"
     ]
    }
   ],
   "source": [
    "# lets use while loop using some numbers\n",
    "i=1\n",
    "while i<=4:\n",
    "    j=0\n",
    "    while j<=3:\n",
    "        print(i*j,end=\"\")\n",
    "        j+=1\n",
    "    print()\n",
    "    i+=1"
   ]
  },
  {
   "cell_type": "code",
   "execution_count": 7,
   "id": "5b143bcd-2622-4a4c-ad75-557238db7df5",
   "metadata": {},
   "outputs": [
    {
     "name": "stdout",
     "output_type": "stream",
     "text": [
      "n\n",
      "i\n",
      "t\n"
     ]
    }
   ],
   "source": [
    "name = 'nit'\n",
    "for i in name:\n",
    "    print(i)"
   ]
  },
  {
   "cell_type": "code",
   "execution_count": 8,
   "id": "419d3f8f-c37d-4b6a-9256-8e8100072c5c",
   "metadata": {},
   "outputs": [
    {
     "name": "stdout",
     "output_type": "stream",
     "text": [
      "1\n",
      "2.3\n",
      "5\n",
      "hello\n"
     ]
    }
   ],
   "source": [
    "name1=[1,2.3,5,'hello']\n",
    "for i in name1:\n",
    "    print(i)\n",
    "    "
   ]
  },
  {
   "cell_type": "code",
   "execution_count": 9,
   "id": "c448dba2-9fbf-4de3-8856-c1d4581d6186",
   "metadata": {},
   "outputs": [
    {
     "name": "stdout",
     "output_type": "stream",
     "text": [
      "2\n",
      "3\n",
      "7.8\n",
      "hiii\n"
     ]
    }
   ],
   "source": [
    "for i in [2,3,7.8,'hiii']:\n",
    "    print(i)"
   ]
  },
  {
   "cell_type": "code",
   "execution_count": 10,
   "id": "d63460c3-9317-48fb-968c-a09aa7d89563",
   "metadata": {},
   "outputs": [
    {
     "name": "stdout",
     "output_type": "stream",
     "text": [
      "0\n",
      "1\n",
      "2\n",
      "3\n",
      "4\n"
     ]
    }
   ],
   "source": [
    "for i in range (5):\n",
    "    print(i)"
   ]
  },
  {
   "cell_type": "code",
   "execution_count": 11,
   "id": "bcfa1207-1314-4907-b740-d3eb1c22683a",
   "metadata": {},
   "outputs": [
    {
     "name": "stdout",
     "output_type": "stream",
     "text": [
      "1\n",
      "4\n",
      "7\n"
     ]
    }
   ],
   "source": [
    "for i in range(1,10,3):\n",
    "        print(i)\n",
    "        "
   ]
  },
  {
   "cell_type": "code",
   "execution_count": 12,
   "id": "37c4429f-020c-4db4-a3da-f443055a046a",
   "metadata": {},
   "outputs": [
    {
     "name": "stdout",
     "output_type": "stream",
     "text": [
      "5\n",
      "10\n",
      "15\n",
      "20\n",
      "25\n",
      "30\n",
      "35\n",
      "40\n",
      "45\n",
      "50\n"
     ]
    }
   ],
   "source": [
    "for i in range(1,51):\n",
    "    if i%5==0:\n",
    "        print(i)"
   ]
  },
  {
   "cell_type": "code",
   "execution_count": 13,
   "id": "83262c2b-6d98-457f-ac1a-b25451fca73b",
   "metadata": {},
   "outputs": [
    {
     "name": "stdout",
     "output_type": "stream",
     "text": [
      "1\n",
      "2\n",
      "3\n",
      "4\n",
      "6\n",
      "7\n",
      "8\n",
      "9\n",
      "11\n",
      "12\n",
      "13\n",
      "14\n",
      "16\n",
      "17\n",
      "18\n",
      "19\n",
      "21\n",
      "22\n",
      "23\n",
      "24\n",
      "26\n",
      "27\n",
      "28\n",
      "29\n",
      "31\n",
      "32\n",
      "33\n",
      "34\n",
      "36\n",
      "37\n",
      "38\n",
      "39\n",
      "41\n",
      "42\n",
      "43\n",
      "44\n",
      "46\n",
      "47\n",
      "48\n",
      "49\n"
     ]
    }
   ],
   "source": [
    "for i in range (1,51):\n",
    "    if i%5!=0:\n",
    "        print(i)"
   ]
  },
  {
   "cell_type": "code",
   "execution_count": 14,
   "id": "180dcc91-6f7e-488e-8230-0e8e09cc215c",
   "metadata": {},
   "outputs": [
    {
     "name": "stdout",
     "output_type": "stream",
     "text": [
      "1\n",
      "2\n",
      "3\n",
      "4\n",
      "5\n",
      "6\n",
      "7\n",
      "8\n",
      "9\n",
      "10\n"
     ]
    }
   ],
   "source": [
    "for i in range (1,11):\n",
    "    print(i)\n"
   ]
  },
  {
   "cell_type": "code",
   "execution_count": 16,
   "id": "518c1752-fad0-4620-8c42-013ac3fa5b2b",
   "metadata": {},
   "outputs": [
    {
     "name": "stdout",
     "output_type": "stream",
     "text": [
      "1\n",
      "2\n",
      "3\n",
      "4\n"
     ]
    }
   ],
   "source": [
    "for i in range (1,11):\n",
    "    if i == 5:\n",
    "        break\n",
    "    print(i)"
   ]
  },
  {
   "cell_type": "code",
   "execution_count": 17,
   "id": "ba67dc0b-985b-406e-9304-61a26e5b42f8",
   "metadata": {},
   "outputs": [
    {
     "name": "stdout",
     "output_type": "stream",
     "text": [
      "1\n",
      "2\n",
      "3\n",
      "4\n",
      "5\n",
      "6\n"
     ]
    }
   ],
   "source": [
    "for i in range (1,11):\n",
    "    if i == 7:\n",
    "        break\n",
    "    print(i)"
   ]
  },
  {
   "cell_type": "code",
   "execution_count": 18,
   "id": "b678190d-729a-47ed-87ba-0897e716ddf6",
   "metadata": {},
   "outputs": [
    {
     "name": "stdout",
     "output_type": "stream",
     "text": [
      "1\n",
      "2\n",
      "3\n",
      "4\n",
      "5\n",
      "6\n",
      "8\n",
      "9\n",
      "10\n"
     ]
    }
   ],
   "source": [
    "for i in range (1,11):\n",
    "    if i == 7:\n",
    "        continue\n",
    "    print(i)"
   ]
  },
  {
   "cell_type": "code",
   "execution_count": 19,
   "id": "2e5c11b2-3812-45c5-86d9-fbc7ca4047f5",
   "metadata": {},
   "outputs": [
    {
     "name": "stdout",
     "output_type": "stream",
     "text": [
      "1 hello\n",
      "2 hello\n",
      "3 hello\n",
      "4 hello\n",
      "5 hello\n",
      "6 hello\n",
      "8 hello\n",
      "9 hello\n",
      "10 hello\n"
     ]
    }
   ],
   "source": [
    "for i in range (1,11):\n",
    "    if i == 7:\n",
    "        continue\n",
    "    print(i,'hello')"
   ]
  },
  {
   "cell_type": "code",
   "execution_count": 20,
   "id": "07e755ea-1f5b-4686-95a2-7f275aa66d9a",
   "metadata": {},
   "outputs": [],
   "source": [
    "for i in range (1,11):\n",
    "    pass\n",
    "    "
   ]
  },
  {
   "cell_type": "code",
   "execution_count": 21,
   "id": "9168982d-66cc-4a1b-8351-1169c5f5fb2c",
   "metadata": {},
   "outputs": [
    {
     "name": "stdout",
     "output_type": "stream",
     "text": [
      "end\n",
      "end\n",
      "3\n",
      "end\n",
      "end\n",
      "end\n",
      "6\n",
      "end\n",
      "end\n",
      "end\n",
      "9\n",
      "end\n",
      "end\n",
      "end\n",
      "12\n",
      "end\n",
      "end\n",
      "end\n",
      "15\n",
      "end\n",
      "end\n",
      "end\n",
      "18\n",
      "end\n",
      "end\n",
      "end\n",
      "21\n",
      "end\n",
      "end\n",
      "end\n",
      "24\n",
      "end\n",
      "end\n",
      "end\n",
      "27\n",
      "end\n",
      "end\n",
      "end\n",
      "30\n",
      "end\n",
      "end\n",
      "end\n",
      "33\n",
      "end\n",
      "end\n",
      "end\n",
      "36\n",
      "end\n",
      "end\n",
      "end\n",
      "39\n",
      "end\n",
      "end\n",
      "end\n",
      "42\n",
      "end\n",
      "end\n",
      "end\n",
      "45\n",
      "end\n",
      "end\n",
      "end\n",
      "48\n",
      "end\n",
      "end\n",
      "end\n"
     ]
    }
   ],
   "source": [
    "for i in range (1,51):\n",
    "    if i%3==0:\n",
    "        print(i)\n",
    "    print('end')"
   ]
  },
  {
   "cell_type": "code",
   "execution_count": 22,
   "id": "35bd738a-6a1b-48be-a4fa-d1d40146bc84",
   "metadata": {},
   "outputs": [
    {
     "name": "stdout",
     "output_type": "stream",
     "text": [
      "1\n",
      "2\n",
      "4\n",
      "5\n",
      "7\n",
      "8\n",
      "10\n",
      "11\n",
      "13\n",
      "14\n",
      "16\n",
      "17\n",
      "19\n",
      "20\n",
      "22\n",
      "23\n",
      "25\n",
      "26\n",
      "28\n",
      "29\n",
      "31\n",
      "32\n",
      "34\n",
      "35\n",
      "37\n",
      "38\n",
      "40\n",
      "41\n",
      "43\n",
      "44\n",
      "46\n",
      "47\n",
      "49\n",
      "end\n"
     ]
    }
   ],
   "source": [
    "for i in range(1,50):\n",
    "    if i%3==0:\n",
    "        continue\n",
    "    print(i)\n",
    "print('end')"
   ]
  },
  {
   "cell_type": "code",
   "execution_count": 23,
   "id": "c3a0e7b0-b471-4e1c-9886-3778b0a562dd",
   "metadata": {},
   "outputs": [
    {
     "name": "stdout",
     "output_type": "stream",
     "text": [
      "1\n",
      "2\n",
      "4\n",
      "7\n",
      "8\n",
      "11\n",
      "13\n",
      "14\n",
      "16\n",
      "17\n",
      "19\n",
      "22\n",
      "23\n",
      "26\n",
      "28\n",
      "29\n",
      "31\n",
      "32\n",
      "34\n",
      "37\n",
      "38\n",
      "41\n",
      "43\n",
      "44\n",
      "46\n",
      "47\n",
      "49\n",
      "end\n"
     ]
    }
   ],
   "source": [
    "for i in range (1,51):\n",
    "    if i%3==0 or i%5==0:\n",
    "        continue \n",
    "    print(i)\n",
    "print('end')"
   ]
  },
  {
   "cell_type": "code",
   "execution_count": 24,
   "id": "1cfcb50b-bd51-4975-9292-bd7d6ddc0204",
   "metadata": {},
   "outputs": [
    {
     "name": "stdout",
     "output_type": "stream",
     "text": [
      "1\n",
      "2\n",
      "3\n",
      "4\n",
      "5\n",
      "6\n",
      "7\n",
      "8\n",
      "9\n",
      "10\n",
      "11\n",
      "12\n",
      "13\n",
      "14\n",
      "16\n",
      "17\n",
      "18\n",
      "19\n",
      "20\n",
      "21\n",
      "22\n",
      "23\n",
      "24\n",
      "25\n",
      "26\n",
      "27\n",
      "28\n",
      "29\n",
      "31\n",
      "32\n",
      "33\n",
      "34\n",
      "35\n",
      "36\n",
      "37\n",
      "38\n",
      "39\n",
      "40\n",
      "41\n",
      "42\n",
      "43\n",
      "44\n",
      "46\n",
      "47\n",
      "48\n",
      "49\n",
      "50\n",
      "end\n"
     ]
    }
   ],
   "source": [
    "for i in range (1,51):\n",
    "    if i%3==0 and i%5==0:\n",
    "        continue\n",
    "    print(i)\n",
    "print('end')"
   ]
  },
  {
   "cell_type": "code",
   "execution_count": 25,
   "id": "700155a2-95d5-462a-b407-d97714f32f9d",
   "metadata": {},
   "outputs": [
    {
     "name": "stdout",
     "output_type": "stream",
     "text": [
      "1\n",
      "3\n",
      "5\n",
      "7\n",
      "9\n",
      "11\n",
      "13\n",
      "15\n",
      "17\n",
      "19\n",
      "21\n",
      "23\n",
      "25\n",
      "27\n",
      "29\n",
      "31\n",
      "33\n",
      "35\n",
      "37\n",
      "39\n",
      "41\n",
      "43\n",
      "45\n",
      "47\n",
      "49\n",
      "bye\n"
     ]
    }
   ],
   "source": [
    "for i in range (1,50):\n",
    "    if (i%2==0):\n",
    "        pass\n",
    "    else:\n",
    "        print(i)\n",
    "print('bye')"
   ]
  },
  {
   "cell_type": "code",
   "execution_count": 26,
   "id": "8b1db384-8a6d-4892-834f-05a7d0cce2c9",
   "metadata": {},
   "outputs": [
    {
     "name": "stdout",
     "output_type": "stream",
     "text": [
      "# # # #\n",
      "# # # #\n",
      "# # # #\n",
      "# # # #\n"
     ]
    }
   ],
   "source": [
    "print('# # # #')\n",
    "print('# # # #')\n",
    "print('# # # #')\n",
    "print('# # # #')"
   ]
  },
  {
   "cell_type": "code",
   "execution_count": 27,
   "id": "4500be8b-11cb-4b5e-a74c-6ef0357df832",
   "metadata": {},
   "outputs": [
    {
     "name": "stdout",
     "output_type": "stream",
     "text": [
      "####"
     ]
    }
   ],
   "source": [
    "for j in range(4):\n",
    "    print('#',end=\"\")"
   ]
  },
  {
   "cell_type": "code",
   "execution_count": 28,
   "id": "2b0a8751-d3e8-4cb6-89f6-29085457ffc1",
   "metadata": {},
   "outputs": [
    {
     "name": "stdout",
     "output_type": "stream",
     "text": [
      "####\n",
      "####"
     ]
    }
   ],
   "source": [
    "for j in range(4):\n",
    "    print('#',end=\"\")\n",
    "print()\n",
    "for j in range(4):\n",
    "    print('#',end=\"\")"
   ]
  },
  {
   "cell_type": "code",
   "execution_count": 29,
   "id": "f330cbc2-806e-4907-836a-59c073bf4de7",
   "metadata": {},
   "outputs": [
    {
     "name": "stdout",
     "output_type": "stream",
     "text": [
      "####\n",
      "########\n",
      "####"
     ]
    }
   ],
   "source": [
    "for j in range(4):\n",
    "    print('#',end=\"\")\n",
    "print()\n",
    "for j in range(4):\n",
    "    print('#',end=\"\")\n",
    "\n",
    "for j in range(4):\n",
    "    print('#',end=\"\")\n",
    "print()\n",
    "for j in range(4):\n",
    "    print('#',end=\"\")"
   ]
  },
  {
   "cell_type": "code",
   "execution_count": 30,
   "id": "7a1e5feb-b278-466f-9488-8470b438fff1",
   "metadata": {},
   "outputs": [
    {
     "name": "stdout",
     "output_type": "stream",
     "text": [
      "####\n",
      "####\n",
      "####\n",
      "####\n"
     ]
    }
   ],
   "source": [
    "for i in range (4):\n",
    "    for j in range(4):\n",
    "        print('#',end=\"\")\n",
    "    print()"
   ]
  },
  {
   "cell_type": "code",
   "execution_count": null,
   "id": "daa16d01-6e9f-40e5-aa55-a851e52007b8",
   "metadata": {},
   "outputs": [],
   "source": []
  }
 ],
 "metadata": {
  "kernelspec": {
   "display_name": "Python 3 (ipykernel)",
   "language": "python",
   "name": "python3"
  },
  "language_info": {
   "codemirror_mode": {
    "name": "ipython",
    "version": 3
   },
   "file_extension": ".py",
   "mimetype": "text/x-python",
   "name": "python",
   "nbconvert_exporter": "python",
   "pygments_lexer": "ipython3",
   "version": "3.12.7"
  }
 },
 "nbformat": 4,
 "nbformat_minor": 5
}
